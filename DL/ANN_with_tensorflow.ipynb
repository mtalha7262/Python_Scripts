{
  "nbformat": 4,
  "nbformat_minor": 0,
  "metadata": {
    "colab": {
      "provenance": []
    },
    "kernelspec": {
      "name": "python3",
      "display_name": "Python 3"
    },
    "language_info": {
      "name": "python"
    }
  },
  "cells": [
    {
      "cell_type": "code",
      "execution_count": 2,
      "metadata": {
        "id": "QFxw4R88HVaS"
      },
      "outputs": [],
      "source": [
        "import numpy as np\n",
        "import pandas as pd\n",
        "from keras.datasets import mnist\n",
        "from keras.utils import to_categorical\n",
        "import matplotlib.pyplot as plt\n",
        "from keras.models import Sequential\n",
        "from keras.layers import Dense"
      ]
    },
    {
      "cell_type": "code",
      "source": [
        "(train_images,train_labels), (test_images,test_labels) = mnist.load_data()"
      ],
      "metadata": {
        "id": "l2ejIMWJHtgL"
      },
      "execution_count": 9,
      "outputs": []
    },
    {
      "cell_type": "code",
      "source": [
        "print('Training Dataset: ',train_images.shape,test_labels.shape)\n",
        "print('Testing Dataset: ',test_images.shape,test_labels.shape)\n",
        "print(train_labels[0:20])"
      ],
      "metadata": {
        "colab": {
          "base_uri": "https://localhost:8080/"
        },
        "id": "uod7JDt-I8ty",
        "outputId": "b6a7fc3e-8bd2-4d4d-8300-d3aa3142b472"
      },
      "execution_count": 11,
      "outputs": [
        {
          "output_type": "stream",
          "name": "stdout",
          "text": [
            "Training Dataset:  (60000, 28, 28) (10000,)\n",
            "Testing Dataset:  (10000, 28, 28) (10000,)\n",
            "[5 0 4 1 9 2 1 3 1 4 3 5 3 6 1 7 2 8 6 9]\n"
          ]
        }
      ]
    },
    {
      "cell_type": "code",
      "source": [
        "total_classes = np.unique(train_labels)\n",
        "number_of_total_classes = len(total_classes)\n",
        "print(\"Total Number of Output Classes : \",number_of_total_classes)\n",
        "print('All Output Classes : ',total_classes)"
      ],
      "metadata": {
        "colab": {
          "base_uri": "https://localhost:8080/"
        },
        "id": "LuJm6R1ZKO6e",
        "outputId": "696ab156-01e3-490b-f9a0-80c91a317361"
      },
      "execution_count": 24,
      "outputs": [
        {
          "output_type": "stream",
          "name": "stdout",
          "text": [
            "Total Number of Output Classes :  10\n",
            "All Output Classes :  [0 1 2 3 4 5 6 7 8 9]\n"
          ]
        }
      ]
    },
    {
      "cell_type": "code",
      "source": [
        "plt.figure(figsize = [10,10])\n",
        "plt.subplot(122)\n",
        "plt.imshow(test_images[7,:,:],cmap = 'gray')\n",
        "plt.title('Label: {}'.format(test_labels[7]))"
      ],
      "metadata": {
        "colab": {
          "base_uri": "https://localhost:8080/",
          "height": 452
        },
        "id": "CMoDjK01LWhk",
        "outputId": "b33b7233-b0cc-453f-a0d4-d5bc0d4af4c9"
      },
      "execution_count": 28,
      "outputs": [
        {
          "output_type": "execute_result",
          "data": {
            "text/plain": [
              "Text(0.5, 1.0, 'Label: 9')"
            ]
          },
          "metadata": {},
          "execution_count": 28
        },
        {
          "output_type": "display_data",
          "data": {
            "text/plain": [
              "<Figure size 1000x1000 with 1 Axes>"
            ],
            "image/png": "[encoded data removed]"
          },
          "metadata": {}
        }
      ]
    },
    {
      "cell_type": "code",
      "source": [
        "newdimensionData = np.prod(train_images.shape[1:])\n",
        "train_data = train_images.reshape(train_images.shape[0],newdimensionData)\n",
        "test_data = test_images.reshape(test_images.shape[0],newdimensionData)\n",
        "print(train_data.shape)\n",
        "print(test_data.shape)"
      ],
      "metadata": {
        "colab": {
          "base_uri": "https://localhost:8080/"
        },
        "id": "i-wbY7PwMQan",
        "outputId": "e7cf7542-1ff1-4c98-f697-623ad7965231"
      },
      "execution_count": 16,
      "outputs": [
        {
          "output_type": "stream",
          "name": "stdout",
          "text": [
            "(60000, 784)\n",
            "(10000, 784)\n"
          ]
        }
      ]
    },
    {
      "cell_type": "code",
      "source": [
        "train_data = train_data.astype('float32')\n",
        "test_data = test_data.astype('float32')"
      ],
      "metadata": {
        "id": "EuLARSUXOHsV"
      },
      "execution_count": 19,
      "outputs": []
    },
    {
      "cell_type": "code",
      "source": [
        "\n",
        "train_data /= 255\n",
        "test_data /= 255"
      ],
      "metadata": {
        "id": "mLEVsVozPXeq"
      },
      "execution_count": 20,
      "outputs": []
    },
    {
      "cell_type": "code",
      "source": [
        "train_labels_one_hot = to_categorical(train_labels)\n",
        "test_labels_one_hot = to_categorical(test_labels)"
      ],
      "metadata": {
        "id": "sCFkU1cuPjFu"
      },
      "execution_count": 21,
      "outputs": []
    },
    {
      "cell_type": "code",
      "source": [
        "print('Orignal label 6 : ',train_labels)\n",
        "print('After Conversion To Categorical (One-hot) : ',train_labels_one_hot[10])"
      ],
      "metadata": {
        "colab": {
          "base_uri": "https://localhost:8080/"
        },
        "id": "hdAYuMVcP8pw",
        "outputId": "d153992d-3cf7-474e-8f1d-c9a25b2cdc8b"
      },
      "execution_count": 29,
      "outputs": [
        {
          "output_type": "stream",
          "name": "stdout",
          "text": [
            "Orignal label 6 :  [5 0 4 ... 5 6 8]\n",
            "After Conversion To Categorical (One-hot) :  [0. 0. 0. 1. 0. 0. 0. 0. 0. 0.]\n"
          ]
        }
      ]
    },
    {
      "cell_type": "code",
      "source": [
        "model = Sequential()\n",
        "model.add(Dense(512,activation='relu',input_shape=(newdimensionData,)))\n",
        "model.add(Dense(512,activation='relu'))\n",
        "model.add(Dense(number_of_total_classes,activation='softmax'))"
      ],
      "metadata": {
        "colab": {
          "base_uri": "https://localhost:8080/"
        },
        "id": "PpzQKDdESuBe",
        "outputId": "9a828c53-51a6-4222-f4e3-2306869ccec0"
      },
      "execution_count": 30,
      "outputs": [
        {
          "output_type": "stream",
          "name": "stderr",
          "text": [
            "/usr/local/lib/python3.10/dist-packages/keras/src/layers/core/dense.py:87: UserWarning: Do not pass an `input_shape`/`input_dim` argument to a layer. When using Sequential models, prefer using an `Input(shape)` object as the first layer in the model instead.\n",
            "  super().__init__(activity_regularizer=activity_regularizer, **kwargs)\n"
          ]
        }
      ]
    },
    {
      "cell_type": "code",
      "source": [
        "model.compile(optimizer='SGD',loss='categorical_crossentropy',metrics= ['accuracy'])"
      ],
      "metadata": {
        "id": "5x0DRNr-Un2E"
      },
      "execution_count": 31,
      "outputs": []
    },
    {
      "cell_type": "code",
      "source": [
        "histroy = model.fit(train_data,train_labels_one_hot,batch_size= 256,epochs=10,verbose =1,validation_data=(test_data, test_labels_one_hot))\n"
      ],
      "metadata": {
        "colab": {
          "base_uri": "https://localhost:8080/"
        },
        "id": "n4-BU1WbWhcb",
        "outputId": "116c1129-65c0-46ff-d186-29cb12b4d464"
      },
      "execution_count": 36,
      "outputs": [
        {
          "output_type": "stream",
          "name": "stdout",
          "text": [
            "Epoch 1/10\n",
            "\u001b[1m235/235\u001b[0m \u001b[32m━━━━━━━━━━━━━━━━━━━━\u001b[0m\u001b[37m\u001b[0m \u001b[1m8s\u001b[0m 30ms/step - accuracy: 0.4787 - loss: 1.9275 - val_accuracy: 0.8256 - val_loss: 0.8977\n",
            "Epoch 2/10\n",
            "\u001b[1m235/235\u001b[0m \u001b[32m━━━━━━━━━━━━━━━━━━━━\u001b[0m\u001b[37m\u001b[0m \u001b[1m8s\u001b[0m 23ms/step - accuracy: 0.8377 - loss: 0.7843 - val_accuracy: 0.8739 - val_loss: 0.5297\n",
            "Epoch 3/10\n",
            "\u001b[1m235/235\u001b[0m \u001b[32m━━━━━━━━━━━━━━━━━━━━\u001b[0m\u001b[37m\u001b[0m \u001b[1m6s\u001b[0m 26ms/step - accuracy: 0.8743 - loss: 0.5135 - val_accuracy: 0.8906 - val_loss: 0.4233\n",
            "Epoch 4/10\n",
            "\u001b[1m235/235\u001b[0m \u001b[32m━━━━━━━━━━━━━━━━━━━━\u001b[0m\u001b[37m\u001b[0m \u001b[1m5s\u001b[0m 21ms/step - accuracy: 0.8886 - loss: 0.4232 - val_accuracy: 0.9016 - val_loss: 0.3713\n",
            "Epoch 5/10\n",
            "\u001b[1m235/235\u001b[0m \u001b[32m━━━━━━━━━━━━━━━━━━━━\u001b[0m\u001b[37m\u001b[0m \u001b[1m7s\u001b[0m 28ms/step - accuracy: 0.8967 - loss: 0.3830 - val_accuracy: 0.9081 - val_loss: 0.3402\n",
            "Epoch 6/10\n",
            "\u001b[1m235/235\u001b[0m \u001b[32m━━━━━━━━━━━━━━━━━━━━\u001b[0m\u001b[37m\u001b[0m \u001b[1m9s\u001b[0m 23ms/step - accuracy: 0.9053 - loss: 0.3460 - val_accuracy: 0.9133 - val_loss: 0.3205\n",
            "Epoch 7/10\n",
            "\u001b[1m235/235\u001b[0m \u001b[32m━━━━━━━━━━━━━━━━━━━━\u001b[0m\u001b[37m\u001b[0m \u001b[1m7s\u001b[0m 28ms/step - accuracy: 0.9096 - loss: 0.3283 - val_accuracy: 0.9171 - val_loss: 0.3043\n",
            "Epoch 8/10\n",
            "\u001b[1m235/235\u001b[0m \u001b[32m━━━━━━━━━━━━━━━━━━━━\u001b[0m\u001b[37m\u001b[0m \u001b[1m5s\u001b[0m 23ms/step - accuracy: 0.9124 - loss: 0.3120 - val_accuracy: 0.9198 - val_loss: 0.2921\n",
            "Epoch 9/10\n",
            "\u001b[1m235/235\u001b[0m \u001b[32m━━━━━━━━━━━━━━━━━━━━\u001b[0m\u001b[37m\u001b[0m \u001b[1m10s\u001b[0m 22ms/step - accuracy: 0.9162 - loss: 0.2989 - val_accuracy: 0.9231 - val_loss: 0.2818\n",
            "Epoch 10/10\n",
            "\u001b[1m235/235\u001b[0m \u001b[32m━━━━━━━━━━━━━━━━━━━━\u001b[0m\u001b[37m\u001b[0m \u001b[1m10s\u001b[0m 23ms/step - accuracy: 0.9184 - loss: 0.2939 - val_accuracy: 0.9253 - val_loss: 0.2722\n"
          ]
        }
      ]
    },
    {
      "cell_type": "code",
      "source": [
        "[test_loss,test_acc] = model.evaluate(test_data,test_labels_one_hot)\n",
        "print(\"Evaluation Results : Loss = {}, accuracy = {} \".format(test_loss,test_acc))"
      ],
      "metadata": {
        "colab": {
          "base_uri": "https://localhost:8080/"
        },
        "id": "78aXb6ipXC9R",
        "outputId": "e280c504-5c1b-4f1a-fc85-b1d6872a089e"
      },
      "execution_count": 37,
      "outputs": [
        {
          "output_type": "stream",
          "name": "stdout",
          "text": [
            "\u001b[1m313/313\u001b[0m \u001b[32m━━━━━━━━━━━━━━━━━━━━\u001b[0m\u001b[37m\u001b[0m \u001b[1m2s\u001b[0m 6ms/step - accuracy: 0.9120 - loss: 0.3170\n",
            "Evaluation Results : Loss = 0.27224913239479065, accuracy = 0.9253000020980835 \n"
          ]
        }
      ]
    },
    {
      "cell_type": "code",
      "source": [
        "y_pred = model.predict(test_data)"
      ],
      "metadata": {
        "colab": {
          "base_uri": "https://localhost:8080/"
        },
        "id": "wdzhwqHsbjqe",
        "outputId": "ce0445b9-aae1-4c9c-ef15-f52798c9b96e"
      },
      "execution_count": 38,
      "outputs": [
        {
          "output_type": "stream",
          "name": "stdout",
          "text": [
            "\u001b[1m313/313\u001b[0m \u001b[32m━━━━━━━━━━━━━━━━━━━━\u001b[0m\u001b[37m\u001b[0m \u001b[1m2s\u001b[0m 5ms/step\n"
          ]
        }
      ]
    },
    {
      "cell_type": "code",
      "source": [
        "y_pred_labels = np.argmax(y_pred,axis=1)"
      ],
      "metadata": {
        "id": "xjupTX6_b_xX"
      },
      "execution_count": 39,
      "outputs": []
    },
    {
      "cell_type": "code",
      "source": [
        "y_pred_labels"
      ],
      "metadata": {
        "colab": {
          "base_uri": "https://localhost:8080/"
        },
        "id": "3aRXmF9LcNy8",
        "outputId": "7aa5ae76-6477-4749-bb0d-64772f65b7c8"
      },
      "execution_count": 41,
      "outputs": [
        {
          "output_type": "execute_result",
          "data": {
            "text/plain": [
              "array([7, 2, 1, ..., 4, 5, 6])"
            ]
          },
          "metadata": {},
          "execution_count": 41
        }
      ]
    },
    {
      "cell_type": "code",
      "source": [
        "from sklearn.metrics import confusion_matrix\n",
        "confusion_matrix(y_pred_labels,test_labels)"
      ],
      "metadata": {
        "colab": {
          "base_uri": "https://localhost:8080/"
        },
        "id": "zPGBAJr0cQBU",
        "outputId": "007612b4-5b0e-484b-a4b4-40f146465493"
      },
      "execution_count": 44,
      "outputs": [
        {
          "output_type": "execute_result",
          "data": {
            "text/plain": [
              "array([[ 957,    0,   10,    3,    1,    9,   11,    3,    9,   14],\n",
              "       [   0, 1110,    3,    0,    2,    3,    3,   10,    6,    6],\n",
              "       [   1,    2,  929,   18,    3,    6,    5,   27,   11,    3],\n",
              "       [   2,    2,   14,  936,    1,   44,    1,    6,   30,   12],\n",
              "       [   0,    1,   14,    0,  918,    7,   12,   10,   10,   37],\n",
              "       [   5,    2,    1,   17,    0,  773,    9,    0,   20,    6],\n",
              "       [  11,    4,   14,    2,   14,   15,  915,    0,   12,    0],\n",
              "       [   1,    1,   15,   11,    2,    5,    1,  941,    8,   10],\n",
              "       [   3,   13,   27,   14,    4,   23,    1,    2,  857,    4],\n",
              "       [   0,    0,    5,    9,   37,    7,    0,   29,   11,  917]])"
            ]
          },
          "metadata": {},
          "execution_count": 44
        }
      ]
    },
    {
      "cell_type": "code",
      "source": [
        "plt.plot(range(len(test_labels))[:30],test_labels[:30], color='r', label='Ground Truth', linestyle='-',marker='o');\n",
        "plt.plot(range(len(test_labels))[:30], y_pred_labels[:30], color='b', label='Predicated', linestyle='-',marker='x');"
      ],
      "metadata": {
        "colab": {
          "base_uri": "https://localhost:8080/",
          "height": 430
        },
        "id": "0R6lAWP9dYzc",
        "outputId": "2b479612-8538-4096-ea6c-bb94e4852031"
      },
      "execution_count": 46,
      "outputs": [
        {
          "output_type": "display_data",
          "data": {
            "text/plain": [
              "<Figure size 640x480 with 1 Axes>"
            ],
            "image/png": "[encoded data removed]"
          },
          "metadata": {}
        }
      ]
    },
    {
      "cell_type": "code",
      "source": [],
      "metadata": {
        "id": "qbidfF4Xe2ej"
      },
      "execution_count": null,
      "outputs": []
    }
  ]
}