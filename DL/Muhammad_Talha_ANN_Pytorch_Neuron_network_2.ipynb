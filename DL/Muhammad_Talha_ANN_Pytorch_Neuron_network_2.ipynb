{
  "nbformat": 4,
  "nbformat_minor": 0,
  "metadata": {
    "colab": {
      "provenance": []
    },
    "kernelspec": {
      "name": "python3",
      "display_name": "Python 3"
    },
    "language_info": {
      "name": "python"
    }
  },
  "cells": [
    {
      "cell_type": "code",
      "execution_count": 18,
      "metadata": {
        "id": "kfRL_5FhPnks"
      },
      "outputs": [],
      "source": [
        "import numpy as np\n",
        "import pandas as pd\n",
        "import torch\n",
        "import torch.nn as nn\n",
        "import torch.optim as optim\n",
        "import matplotlib.pyplot as plt\n",
        "from torchvision import datasets, transforms\n",
        "from torch.utils.data import DataLoader\n",
        "from sklearn.metrics import confusion_matrix\n"
      ]
    },
    {
      "cell_type": "code",
      "source": [
        "transform = transforms.Compose([\n",
        "    transforms.ToTensor(),\n",
        "    transforms.Normalize((0.5,), (0.5,))  # Normalize to range [-1, 1]\n",
        "])"
      ],
      "metadata": {
        "id": "0kw4D2xI-D8k"
      },
      "execution_count": 19,
      "outputs": []
    },
    {
      "cell_type": "code",
      "source": [
        "train_dataset = torchvision.datasets.MNIST(root='./data', train=True, download=True, transform=transform)\n",
        "test_dataset = torchvision.datasets.MNIST(root='./data', train=False, download=True, transform=transform)\n"
      ],
      "metadata": {
        "id": "K2I0szQ24Uc7"
      },
      "execution_count": 20,
      "outputs": []
    },
    {
      "cell_type": "code",
      "source": [
        "train_loader = torch.utils.data.DataLoader(train_dataset, batch_size=64, shuffle=True)\n",
        "test_loader = torch.utils.data.DataLoader(test_dataset, batch_size=64, shuffle=False)\n"
      ],
      "metadata": {
        "id": "lH0DCRZs9wQ2"
      },
      "execution_count": 21,
      "outputs": []
    },
    {
      "cell_type": "code",
      "source": [
        "train_images, train_labels = next(iter(train_loader))\n",
        "test_images, test_labels = next(iter(test_loader))\n"
      ],
      "metadata": {
        "id": "oPOzo8M-96Jo"
      },
      "execution_count": 22,
      "outputs": []
    },
    {
      "cell_type": "code",
      "source": [
        "print('Training Dataset: ', train_images.size(), train_labels.size())\n",
        "print('Testing Dataset: ', test_images.size(), test_labels.size())\n",
        "print(train_labels[:20])"
      ],
      "metadata": {
        "colab": {
          "base_uri": "https://localhost:8080/"
        },
        "id": "eM4IpHpq99d8",
        "outputId": "9bd10365-9066-425c-ab6c-1f549e2a6b02"
      },
      "execution_count": 23,
      "outputs": [
        {
          "output_type": "stream",
          "name": "stdout",
          "text": [
            "Training Dataset:  torch.Size([64, 1, 28, 28]) torch.Size([64])\n",
            "Testing Dataset:  torch.Size([64, 1, 28, 28]) torch.Size([64])\n",
            "tensor([1, 8, 3, 4, 4, 6, 3, 5, 7, 3, 5, 2, 9, 6, 6, 4, 5, 9, 6, 7])\n"
          ]
        }
      ]
    },
    {
      "cell_type": "code",
      "source": [
        "total_classes = np.unique(train_labels.numpy())\n",
        "number_of_total_classes = len(total_classes)\n",
        "print(\"Total Number of Output Classes : \", number_of_total_classes)\n",
        "print('All Output Classes : ', total_classes)"
      ],
      "metadata": {
        "colab": {
          "base_uri": "https://localhost:8080/"
        },
        "id": "wJwZ3gU3-Ons",
        "outputId": "dbc7d1f7-e92f-4d62-d2bf-7c5390b70f8c"
      },
      "execution_count": 24,
      "outputs": [
        {
          "output_type": "stream",
          "name": "stdout",
          "text": [
            "Total Number of Output Classes :  10\n",
            "All Output Classes :  [0 1 2 3 4 5 6 7 8 9]\n"
          ]
        }
      ]
    },
    {
      "cell_type": "code",
      "source": [
        "plt.figure(figsize=(10, 10))\n",
        "plt.subplot(122)\n",
        "plt.imshow(train_images[8][0], cmap='gray')\n",
        "plt.title(f'Label: {train_labels[8].item()}')\n",
        "plt.show()"
      ],
      "metadata": {
        "colab": {
          "base_uri": "https://localhost:8080/",
          "height": 435
        },
        "id": "SFG9JbrA-ZFi",
        "outputId": "077ea1fe-84a7-4b90-e515-78d25504a5f0"
      },
      "execution_count": 25,
      "outputs": [
        {
          "output_type": "display_data",
          "data": {
            "text/plain": [
              "<Figure size 1000x1000 with 1 Axes>"
            ],
            "image/png": "[encoded data removed]"
          },
          "metadata": {}
        }
      ]
    },
    {
      "cell_type": "code",
      "source": [
        "newdimensionData = np.prod(train_images.shape[1:])\n",
        "\n",
        "train_images = train_images.view(-1, newdimensionData)\n",
        "test_images = test_images.view(-1, newdimensionData)"
      ],
      "metadata": {
        "id": "GcT5Gzzg-cFg"
      },
      "execution_count": 26,
      "outputs": []
    },
    {
      "cell_type": "code",
      "source": [
        "print('Train Data Shape:', train_images.shape)\n",
        "print('Test Data Shape:', test_images.shape)"
      ],
      "metadata": {
        "id": "Bfa6OqUHBUBN",
        "outputId": "c6d3b749-8323-4dbe-f806-c4a7d0e665cd",
        "colab": {
          "base_uri": "https://localhost:8080/"
        }
      },
      "execution_count": 27,
      "outputs": [
        {
          "output_type": "stream",
          "name": "stdout",
          "text": [
            "Train Data Shape: torch.Size([64, 784])\n",
            "Test Data Shape: torch.Size([64, 784])\n"
          ]
        }
      ]
    },
    {
      "cell_type": "code",
      "source": [
        "train_labels_one_hot = torch.nn.functional.one_hot(train_labels, num_classes=10).float()\n",
        "test_labels_one_hot = torch.nn.functional.one_hot(test_labels, num_classes=10).float()\n"
      ],
      "metadata": {
        "id": "QAQZt2MQBWI3"
      },
      "execution_count": 28,
      "outputs": []
    },
    {
      "cell_type": "code",
      "source": [
        "print('Original Label 6:', train_labels[:20])\n",
        "print('After Conversion To Categorical (One-hot):', train_labels_one_hot[:20])"
      ],
      "metadata": {
        "id": "bSU1VzHbBhLO",
        "outputId": "2ba60398-69b9-47dc-a134-f29289b8104f",
        "colab": {
          "base_uri": "https://localhost:8080/"
        }
      },
      "execution_count": 29,
      "outputs": [
        {
          "output_type": "stream",
          "name": "stdout",
          "text": [
            "Original Label 6: tensor([1, 8, 3, 4, 4, 6, 3, 5, 7, 3, 5, 2, 9, 6, 6, 4, 5, 9, 6, 7])\n",
            "After Conversion To Categorical (One-hot): tensor([[0., 1., 0., 0., 0., 0., 0., 0., 0., 0.],\n",
            "        [0., 0., 0., 0., 0., 0., 0., 0., 1., 0.],\n",
            "        [0., 0., 0., 1., 0., 0., 0., 0., 0., 0.],\n",
            "        [0., 0., 0., 0., 1., 0., 0., 0., 0., 0.],\n",
            "        [0., 0., 0., 0., 1., 0., 0., 0., 0., 0.],\n",
            "        [0., 0., 0., 0., 0., 0., 1., 0., 0., 0.],\n",
            "        [0., 0., 0., 1., 0., 0., 0., 0., 0., 0.],\n",
            "        [0., 0., 0., 0., 0., 1., 0., 0., 0., 0.],\n",
            "        [0., 0., 0., 0., 0., 0., 0., 1., 0., 0.],\n",
            "        [0., 0., 0., 1., 0., 0., 0., 0., 0., 0.],\n",
            "        [0., 0., 0., 0., 0., 1., 0., 0., 0., 0.],\n",
            "        [0., 0., 1., 0., 0., 0., 0., 0., 0., 0.],\n",
            "        [0., 0., 0., 0., 0., 0., 0., 0., 0., 1.],\n",
            "        [0., 0., 0., 0., 0., 0., 1., 0., 0., 0.],\n",
            "        [0., 0., 0., 0., 0., 0., 1., 0., 0., 0.],\n",
            "        [0., 0., 0., 0., 1., 0., 0., 0., 0., 0.],\n",
            "        [0., 0., 0., 0., 0., 1., 0., 0., 0., 0.],\n",
            "        [0., 0., 0., 0., 0., 0., 0., 0., 0., 1.],\n",
            "        [0., 0., 0., 0., 0., 0., 1., 0., 0., 0.],\n",
            "        [0., 0., 0., 0., 0., 0., 0., 1., 0., 0.]])\n"
          ]
        }
      ]
    },
    {
      "cell_type": "code",
      "source": [
        "class MLP(nn.Module):\n",
        "    def __init__(self, input_size, hidden_size, num_classes):\n",
        "        super(MLP, self).__init__()\n",
        "        self.fc1 = nn.Linear(input_size, hidden_size)\n",
        "        self.fc2 = nn.Linear(hidden_size, hidden_size)\n",
        "        self.fc3 = nn.Linear(hidden_size, num_classes)\n",
        "        self.relu = nn.ReLU()\n",
        "\n",
        "    def forward(self, x):\n",
        "        out = self.fc1(x)\n",
        "        out = self.relu(out)\n",
        "        out = self.fc2(out)\n",
        "        out = self.relu(out)\n",
        "        out = self.fc3(out)\n",
        "        return out\n",
        "\n",
        "input_size = newdimensionData\n",
        "hidden_size = 512\n",
        "num_classes = 10\n",
        "\n",
        "model = MLP(input_size, hidden_size, num_classes)\n"
      ],
      "metadata": {
        "id": "zFs9uR3sBhuc"
      },
      "execution_count": 30,
      "outputs": []
    },
    {
      "cell_type": "code",
      "source": [
        "criterion = nn.CrossEntropyLoss()\n",
        "optimizer = optim.SGD(model.parameters(), lr=0.01)\n",
        "\n",
        "num_epochs = 10\n",
        "for epoch in range(num_epochs):\n",
        "    model.train()\n",
        "    for images, labels in train_loader:\n",
        "        images = images.view(-1, newdimensionData)  # Flatten the image\n",
        "\n",
        "        outputs = model(images)\n",
        "        loss = criterion(outputs, labels)\n",
        "\n",
        "        optimizer.zero_grad()\n",
        "        loss.backward()\n",
        "        optimizer.step()\n",
        "\n",
        "    print(f'Epoch [{epoch+1}/{num_epochs}], Loss: {loss.item():.4f}')\n"
      ],
      "metadata": {
        "id": "ZWuAbGqmB8Ek",
        "outputId": "a93d361e-68d1-4d12-a4b0-25f787004f1b",
        "colab": {
          "base_uri": "https://localhost:8080/"
        }
      },
      "execution_count": 31,
      "outputs": [
        {
          "output_type": "stream",
          "name": "stdout",
          "text": [
            "Epoch [1/10], Loss: 0.5243\n",
            "Epoch [2/10], Loss: 0.1903\n",
            "Epoch [3/10], Loss: 0.1152\n",
            "Epoch [4/10], Loss: 0.1429\n",
            "Epoch [5/10], Loss: 0.1980\n",
            "Epoch [6/10], Loss: 0.2888\n",
            "Epoch [7/10], Loss: 0.0579\n",
            "Epoch [8/10], Loss: 0.1257\n",
            "Epoch [9/10], Loss: 0.0247\n",
            "Epoch [10/10], Loss: 0.1126\n"
          ]
        }
      ]
    },
    {
      "cell_type": "code",
      "source": [
        "model.eval()\n",
        "with torch.no_grad():\n",
        "    correct = 0\n",
        "    total = 0\n",
        "    all_preds = []\n",
        "    all_labels = []\n",
        "    for images, labels in test_loader:\n",
        "        images = images.view(-1, newdimensionData)\n",
        "        outputs = model(images)\n",
        "        _, predicted = torch.max(outputs.data, 1)\n",
        "        total += labels.size(0)\n",
        "        correct += (predicted == labels).sum().item()\n",
        "\n",
        "        all_preds.extend(predicted.numpy())\n",
        "        all_labels.extend(labels.numpy())\n",
        "\n",
        "    print(f'Test Accuracy: {100 * correct / total:.2f}%')\n"
      ],
      "metadata": {
        "id": "zTBJ3u4OB90p",
        "outputId": "8e38cd9d-58e8-41cb-990c-e0d2cc3fc35a",
        "colab": {
          "base_uri": "https://localhost:8080/"
        }
      },
      "execution_count": 32,
      "outputs": [
        {
          "output_type": "stream",
          "name": "stdout",
          "text": [
            "Test Accuracy: 95.64%\n"
          ]
        }
      ]
    },
    {
      "cell_type": "code",
      "source": [
        "# Confusion Matrix\n",
        "conf_matrix = confusion_matrix(all_labels, all_preds)\n",
        "print('Confusion Matrix:')\n",
        "print(conf_matrix)\n",
        "\n",
        "\n"
      ],
      "metadata": {
        "id": "dPFsrJq1B_zG",
        "outputId": "493bc36e-95dd-48a1-a3dd-e32493410c8b",
        "colab": {
          "base_uri": "https://localhost:8080/"
        }
      },
      "execution_count": 33,
      "outputs": [
        {
          "output_type": "stream",
          "name": "stdout",
          "text": [
            "Confusion Matrix:\n",
            "[[ 962    0    1    1    0    6    5    1    3    1]\n",
            " [   0 1119    2    2    0    1    3    2    6    0]\n",
            " [   7    4  985    8    6    0    3    8   11    0]\n",
            " [   0    1    6  971    1    9    0   12    7    3]\n",
            " [   1    1    6    0  947    0    5    2    4   16]\n",
            " [   7    2    0    9    4  845    8    1   10    6]\n",
            " [  10    3    1    0   11   10  918    0    5    0]\n",
            " [   1   11   17    5    3    1    0  975    2   13]\n",
            " [   5    4    4   13    8    7    6   10  914    3]\n",
            " [   8    9    1   10   32    6    1    7    7  928]]\n"
          ]
        }
      ]
    },
    {
      "cell_type": "code",
      "source": [
        "# Plot predictions and ground truth for first 30 samples\n",
        "plt.plot(range(30), all_labels[:30], color='r', label='Ground Truth', linestyle='-', marker='o')\n",
        "plt.plot(range(30), all_preds[:30], color='b', label='Predicted', linestyle='-', marker='x')\n",
        "plt.legend()\n",
        "plt.show()"
      ],
      "metadata": {
        "id": "aZws79cyCCym",
        "outputId": "20f66be0-f9cf-48e6-bfbf-b03090eb047d",
        "colab": {
          "base_uri": "https://localhost:8080/",
          "height": 430
        }
      },
      "execution_count": 34,
      "outputs": [
        {
          "output_type": "display_data",
          "data": {
            "text/plain": [
              "<Figure size 640x480 with 1 Axes>"
            ],
            "image/png": "[encoded data removed]"
          },
          "metadata": {}
        }
      ]
    },
    {
      "cell_type": "code",
      "source": [],
      "metadata": {
        "id": "sNabqtynCEV_"
      },
      "execution_count": null,
      "outputs": []
    }
  ]
}