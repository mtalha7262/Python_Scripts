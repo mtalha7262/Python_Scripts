{
 "cells": [
  {
   "cell_type": "code",
   "execution_count": null,
   "metadata": {
    "id": "YAvC8k1FKC6i"
   },
   "outputs": [],
   "source": [
    "import numpy as np"
   ]
  },
  {
   "cell_type": "markdown",
   "metadata": {
    "id": "z-ttfWOCWYAD"
   },
   "source": [
    "### Basic Array Creation"
   ]
  },
  {
   "cell_type": "markdown",
   "metadata": {
    "id": "ZksDKlwjHvFV"
   },
   "source": [
    "# Creatation of List\n",
    "How to create Lists in python?"
   ]
  },
  {
   "cell_type": "code",
   "execution_count": 4,
   "metadata": {
    "id": "mCgQsxXkF3nb"
   },
   "outputs": [
    {
     "name": "stdout",
     "output_type": "stream",
     "text": [
      "[1, 2, 3, 4, 5]\n",
      "['apple', 'banana', 'cherry']\n",
      "[1, 'apple', 3.5, True]\n"
     ]
    }
   ],
   "source": [
    "numbers = [1, 2, 3, 4, 5]\n",
    "strings = [\"apple\", \"banana\", \"cherry\"]\n",
    "mixed = [1, \"apple\", 3.5, True]\n",
    "print(numbers) \n",
    "print(strings)  \n",
    "print(mixed) "
   ]
  },
  {
   "cell_type": "markdown",
   "metadata": {
    "id": "EUmihvpDIAzW"
   },
   "source": [
    "# Type\n",
    "Accuire type of list in python."
   ]
  },
  {
   "cell_type": "code",
   "execution_count": 5,
   "metadata": {
    "id": "Aw_RtHvuRkDi"
   },
   "outputs": [
    {
     "name": "stdout",
     "output_type": "stream",
     "text": [
      "<class 'list'>\n",
      "<class 'tuple'>\n",
      "<class 'dict'>\n"
     ]
    }
   ],
   "source": [
    "list1 = [1, 2, 3, 4, 5]\n",
    "list_type = type(list1)\n",
    "print(list_type)\n",
    "\n",
    "tuple_data = (1, 2, 3)\n",
    "dictionary = {\"key\": \"value\"}\n",
    "\n",
    "tuple_type = type(tuple_data)\n",
    "dictionary_type = type(dictionary)\n",
    "print(tuple_type)        \n",
    "print(dictionary_type) "
   ]
  },
  {
   "cell_type": "markdown",
   "metadata": {
    "id": "M2TOiuioIc6M"
   },
   "source": [
    "# Creatation of Arrays\n",
    "1.Simple array creation\n",
    "\n",
    "2.Checking array \"TYPE\"\n",
    "\n",
    "3.Numeric \"TYPE\" of array elements\n",
    "\n",
    "4.Array dim\n",
    "\n",
    "5.Array Shape\n",
    "\n",
    "6.Bytes per element\n",
    "\n",
    "7.BYTES OF MEMORY USED, How many bytes for one array element\n",
    "\n",
    "8.Total bytes in an Array"
   ]
  },
  {
   "cell_type": "code",
   "execution_count": 6,
   "metadata": {
    "id": "uy_hPIW4A4uM"
   },
   "outputs": [
    {
     "name": "stdout",
     "output_type": "stream",
     "text": [
      "\n",
      "Question # 1\n",
      "[1 2 5 6 8]\n",
      "\n",
      "Question # 2\n",
      "<class 'numpy.ndarray'>\n",
      "\n",
      "Question # 3\n",
      "int32\n",
      "\n",
      "Question # 4\n",
      "1\n",
      "\n",
      "Question # 5\n",
      "(5,)\n",
      "\n",
      "Question # 6\n",
      "4\n",
      "\n",
      "Question # 7\n",
      "bytes per array element is  4\n",
      "\n",
      "Question # 8\n",
      "20\n"
     ]
    }
   ],
   "source": [
    "# Int array\n",
    "import numpy as np\n",
    "\n",
    " #1\n",
    "print(\"\\nQuestion # 1\")\n",
    "a = np.array([1,2,5,6,8])\n",
    "print(a)\n",
    "#2\n",
    "print(\"\\nQuestion # 2\")\n",
    "array_type = type(a)\n",
    "print( array_type)\n",
    "#3\n",
    "print(\"\\nQuestion # 3\")\n",
    "print(a.dtype)\n",
    "#4\n",
    "print(\"\\nQuestion # 4\")\n",
    "print(a.ndim)\n",
    "#5\n",
    "print(\"\\nQuestion # 5\")\n",
    "print(a.shape)\n",
    "#6\n",
    "print(\"\\nQuestion # 6\")\n",
    "print(a.itemsize)\n",
    "#7\n",
    "print(\"\\nQuestion # 7\")\n",
    "print(\"bytes per array element is \",a.itemsize)\n",
    "#8\n",
    "print(\"\\nQuestion # 8\")\n",
    "print(a.nbytes)"
   ]
  },
  {
   "cell_type": "code",
   "execution_count": 7,
   "metadata": {
    "id": "tf9pmYpYLuEu"
   },
   "outputs": [
    {
     "name": "stdout",
     "output_type": "stream",
     "text": [
      "\n",
      "Question # 1\n",
      "[1.1 2.2 3.3 4.4 5.5]\n",
      "\n",
      "Question # 2\n",
      "<class 'numpy.ndarray'>\n",
      "\n",
      "Question # 3\n",
      "float64\n",
      "\n",
      "Question # 4\n",
      "1\n",
      "\n",
      "Question # 5\n",
      "(5,)\n",
      "\n",
      "Question # 6\n",
      "8\n",
      "\n",
      "Question # 7\n",
      "bytes per array element is  8\n",
      "\n",
      "Question # 8\n",
      "40\n"
     ]
    }
   ],
   "source": [
    "# Decimal array\n",
    "#1\n",
    "print(\"\\nQuestion # 1\")\n",
    "b =  np.array([1.1, 2.2, 3.3, 4.4, 5.5])\n",
    "print(b)\n",
    "#2\n",
    "print(\"\\nQuestion # 2\")\n",
    "array_type = type(b)\n",
    "print( array_type)\n",
    "#3\n",
    "print(\"\\nQuestion # 3\")\n",
    "print(b.dtype)\n",
    "#4\n",
    "print(\"\\nQuestion # 4\")\n",
    "print(b.ndim)\n",
    "#5\n",
    "print(\"\\nQuestion # 5\")\n",
    "print(b.shape)\n",
    "#6\n",
    "print(\"\\nQuestion # 6\")\n",
    "print(b.itemsize)\n",
    "#7\n",
    "print(\"\\nQuestion # 7\")\n",
    "print(\"bytes per array element is \",b.itemsize)\n",
    "#8\n",
    "print(\"\\nQuestion # 8\")\n",
    "print(b.nbytes)"
   ]
  },
  {
   "cell_type": "markdown",
   "metadata": {
    "id": "czi-ntWzFJ0M"
   },
   "source": [
    "9.Try to assign a float into an int32\n",
    "\n",
    "10.Use .fill function # fill has the same behavior\n"
   ]
  },
  {
   "cell_type": "code",
   "execution_count": 8,
   "metadata": {
    "id": "5r2iCLhHFq_-"
   },
   "outputs": [
    {
     "name": "stdout",
     "output_type": "stream",
     "text": [
      "\n",
      "Question # 9\n",
      "[1 2 3 4 5]\n",
      "[1.1 2.2 3.3 4.4 5.5]\n",
      "\n",
      "Question # 10\n",
      "[7 7 7 7 7]\n",
      "[7.7 7.7 7.7 7.7 7.7]\n"
     ]
    }
   ],
   "source": [
    "#9\n",
    "print(\"\\nQuestion # 9\")\n",
    "int_array = np.array([1, 2, 3, 4, 5], dtype=np.int32)\n",
    "print(int_array)\n",
    "float_array = np.array([1.1, 2.2, 3.3, 4.4, 5.5], dtype=np.float64)\n",
    "print(float_array)\n",
    "#10\n",
    "print(\"\\nQuestion # 10\")\n",
    "int_array.fill(7)\n",
    "print(int_array)\n",
    "float_array.fill(7.7)\n",
    "print(float_array)"
   ]
  },
  {
   "cell_type": "markdown",
   "metadata": {
    "id": "UK4-Grt0F8_k"
   },
   "source": [
    "11.Add two  arrays\n",
    "\n",
    "12.Multiple both arrays\n",
    "\n",
    "13.Use ** operator in array operation\n",
    "\n",
    "14.Create array from 0.0 to 11.0\n",
    "\n",
    "15.Multiply entire array with a scalar value\n",
    " c = (2.0 * np.pi)\n",
    "\n",
    "16.Use np.arrange function to create an array with step of 0.5 from 1.0 to 3.0"
   ]
  },
  {
   "cell_type": "code",
   "execution_count": 9,
   "metadata": {
    "id": "1cRgGYTdGayU"
   },
   "outputs": [
    {
     "name": "stdout",
     "output_type": "stream",
     "text": [
      "\n",
      "Question # 11\n",
      "[ 3 10  8 15]\n",
      "\n",
      "Question # 12\n",
      "[ 2 24 15 56]\n",
      "\n",
      "Question # 13\n",
      "[      1    1296     243 5764801]\n",
      "\n",
      "Question # 14\n",
      "[ 0  1  2  3  4  5  6  7  8  9 10]\n",
      "\n",
      "Question # 15\n",
      "c =  0.6283185307179586\n",
      "[0.         0.62831853 1.25663706 1.88495559 2.51327412 3.14159265\n",
      " 3.76991118 4.39822972 5.02654825 5.65486678 6.28318531]\n",
      "\n",
      "Question # 16\n",
      "[1.  1.5 2.  2.5 3. ]\n"
     ]
    }
   ],
   "source": [
    "g = np.array([1,6,3,7])\n",
    "h = np.array([2,4,5,8])\n",
    "#11\n",
    "print(\"\\nQuestion # 11\")\n",
    "print(g+h)\n",
    "#12\n",
    "print(\"\\nQuestion # 12\")\n",
    "print(g*h)\n",
    "#13\n",
    "print(\"\\nQuestion # 13\")\n",
    "print(g**h)\n",
    "#14\n",
    "print(\"\\nQuestion # 14\")\n",
    "x= np.arange(11)\n",
    "print(x)\n",
    "#15\n",
    "print(\"\\nQuestion # 15\")\n",
    "c = (2 * np.pi)/10\n",
    "print(\"c = \",c)\n",
    "print(x*c)\n",
    "#16\n",
    "print(\"\\nQuestion # 16\")\n",
    "step_array = np.arange(1.0, 3.5, 0.5)\n",
    "print(step_array)"
   ]
  },
  {
   "cell_type": "markdown",
   "metadata": {
    "id": "60fA9aHmI0g_"
   },
   "source": [
    "# Slicing\n",
    "var[lower:upper:step]\n",
    "• Extracts a portion of a sequence by specifying a lower and upper bound.\n",
    "\n",
    "• The lower-bound element is included, but the upper-bound element is not included.\n",
    "\n",
    "• Mathematically: [lower, upper). The step value specifies the stride between elements.\n",
    "\n",
    "1. Etract array indices from 1 to 3:\n",
    "2. Use negative indices as well\n",
    "3. Omitted boundaries are assumed to be the beginning (or end) of the array grab first three elements\n",
    "4. Grab last two elements\n",
    "5. Grab every other element\n",
    "6. slicing the last two elements returns the data there\n",
    "7. Can we insert an iterable of length two? or a scalar value\n",
    "8.Arrays created by slicing share data with the originating array. Changing values in a slice also changes the original array.\n",
    "For example create a slice containing two elements of a changing b changed a! Have an experiment\n",
    "9. if an array a = [[0, 1, 2, 3, 4],[1, 2, 3, 4, 5]] extract values from row 3 to onward and from col 0, 2 and 5\n",
    "10. Perform some masking on a = np.arange(0,36).reshape(6,6)\n",
    "with mask = np.array([1, 0, 1, 0, 0, 1])\n"
   ]
  },
  {
   "cell_type": "code",
   "execution_count": 15,
   "metadata": {
    "id": "CVqexfEBMB-w"
   },
   "outputs": [
    {
     "name": "stdout",
     "output_type": "stream",
     "text": [
      "\n",
      "Question # 1\n",
      "[1 2 3]\n",
      "\n",
      "Question # 2\n",
      "[1 2 3]\n",
      "\n",
      "Question # 3\n",
      "[0 1 2]\n",
      "\n",
      "Question # 4\n",
      "[4 5]\n",
      "\n",
      "Question # 5\n",
      "[0 2 4]\n",
      "\n",
      "Question # 6\n",
      "[4 5]\n",
      "\n",
      "Question # 7\n",
      "[[ 0  1  2  3  4]\n",
      " [10 10 10 10 10]]\n",
      "\n",
      "Question # 8\n",
      "[[0 1 2 3 4]\n",
      " [1 2 3 4 5]]\n",
      "[[ 0 10 10  3  4]\n",
      " [ 1  2  3  4  5]]\n",
      "\n",
      "Question # 9\n",
      "[[1 3 5]]\n",
      "\n",
      "Question # 10\n",
      "[[0 1 2 3 4]\n",
      " [1 2 3 4 5]]\n",
      "[[ 0  1  2  3  4  5]\n",
      " [12 13 14 15 16 17]\n",
      " [30 31 32 33 34 35]]\n"
     ]
    }
   ],
   "source": [
    "#1\n",
    "print(\"\\nQuestion # 1\")\n",
    "arr = np.array([0, 1, 2, 3, 4, 5])\n",
    "\n",
    "print(arr[1:4])\n",
    "#2\n",
    "print(\"\\nQuestion # 2\")\n",
    "\n",
    "print(arr[-5:-2])\n",
    "#3\n",
    "print(\"\\nQuestion # 3\")\n",
    "print(arr[:3])\n",
    "#4\n",
    "print(\"\\nQuestion # 4\")\n",
    "print(arr[-2:])\n",
    "#5\n",
    "print(\"\\nQuestion # 5\")\n",
    "print(arr[::2])\n",
    "#6\n",
    "print(\"\\nQuestion # 6\")\n",
    "print(arr[-2:])\n",
    "#7\n",
    "print(\"\\nQuestion # 7\")\n",
    "b = a[1:3]\n",
    "b[0] = 10\n",
    "print(a)\n",
    "#8\n",
    "print(\"\\nQuestion # 8\")\n",
    "a= np.array([[0, 1, 2, 3, 4],\n",
    "              [1, 2, 3, 4, 5]])\n",
    "print(a)\n",
    "b = a[0, 1:3]\n",
    "b[:] = 10\n",
    "print(a)\n",
    "#9\n",
    "print(\"\\nQuestion # 9\")\n",
    "extracted_values = a[1:, [0, 2, 4]]\n",
    "print(extracted_values)\n",
    "\n",
    "#10\n",
    "print(\"\\nQuestion # 10\")\n",
    "a = np.array([[0, 1, 2, 3, 4],\n",
    "              [1, 2, 3, 4, 5]])\n",
    "print(a)\n",
    "a = np.arange(0, 36).reshape(6,6 )\n",
    "mask = np.array([1, 0, 1, 0, 0, 1])\n",
    "masked_array = a[mask.astype(bool)]\n",
    "print(masked_array)"
   ]
  },
  {
   "cell_type": "markdown",
   "metadata": {
    "id": "WSHrRcoQN0Mu"
   },
   "source": [
    "# Array Functions\n",
    "1.Arange([start,] stop[, step],dtype=None)\n",
    "Nearly identical to Python’s range(). Creates an array of values in the range [start,stop) with the specified step value. Allows non-integer values for start, stop, and step. Default dtype is derived from the start, stop, and step values. create an array with arange.\n",
    "\n",
    "2.Create arrays with ONES, ZEROS, shape is a number or sequence specifying the dimensions of the array. If dtype is not specified, it defaults to float64.\n",
    "\n",
    "3.Generate an n by n identity array. The default dtype is float64.\n",
    "\n",
    "4.use empty, full, and fill, max, min, std, mean, var, argmax, linspace\n",
    "\n",
    "5.\n",
    "\n",
    "  Rule 1:\n",
    "  Operations between multiple array objects are first checked for proper shape match.\n",
    "\n",
    "  Rule 2:\n",
    "  Mathematical operators (+ - * / exp, log, ...) apply element by element, on the values.\n",
    "\n",
    "  Rule 3:\n",
    "  Reduction operations (mean, std, skew, kurt, sum, prod, ...) apply to the whole array, unless an axis is specified.\n",
    "\n",
    "  Rule 4:\n",
    "  Missing values propagate unless explicitly ignored (nanmean, nansum, ...).\n",
    "\n",
    "6.\n",
    "Create the array below with\n",
    "                  a = np.arange(-15, 15).reshape(5, 6) ** 2\n",
    "1. The maximum of each row\n",
    "2. The mean of each column\n",
    "3. The position of the overall minimum\n"
   ]
  },
  {
   "cell_type": "code",
   "execution_count": 11,
   "metadata": {
    "id": "-JEUK-2BU_L2"
   },
   "outputs": [
    {
     "name": "stdout",
     "output_type": "stream",
     "text": [
      "\n",
      "Question # 1\n",
      "[1 3 5 7 9]\n",
      "\n",
      "Question # 2\n",
      "\n",
      "ones_array :  [[1. 1.]\n",
      " [1. 1.]\n",
      " [1. 1.]]\n",
      "\n",
      "zeros_array :  [[0. 0. 0. 0.]\n",
      " [0. 0. 0. 0.]]\n",
      "\n",
      "Question # 3\n",
      "\n",
      "identity_array :  [[1. 0. 0.]\n",
      " [0. 1. 0.]\n",
      " [0. 0. 1.]]\n",
      "\n",
      "Question # 5\n",
      "\n",
      "Empty Array:  [[1. 1. 1.]\n",
      " [1. 1. 1.]]\n",
      "\n",
      "Full Array:  [[5. 5.]\n",
      " [5. 5.]]\n",
      "\n",
      "Array after fill:  [[10 10 10]\n",
      " [10 10 10]]\n",
      "\n",
      "Maximum value: 5\n",
      "\n",
      "Minimum value: 1\n",
      "\n",
      "Standard deviation: 1.4142135623730951\n",
      "\n",
      "Mean: 3.0\n",
      "\n",
      "Variance: 2.0\n",
      "\n",
      "Index of maximum value: 3\n",
      "\n",
      "Array created with linspace: [ 1.  2.  3.  4.  5.  6.  7.  8.  9. 10.]\n",
      "\n",
      "Question # 5\n",
      "\n",
      "Shape Matching :  [5 7 9]\n",
      "\n",
      "Element-wise operators :  [1 4 9]\n",
      "\n",
      "mean_all :  2.5 \tmean_axis0 :  [2. 3.] \tmean_axis1 :  [1.5 3.5]\n",
      "\n",
      "Handling Missing Values :  3.0\n",
      "\n",
      "Question # 6\n",
      "\n",
      "Maximum of each row:  [225  81   9  64 196]\n",
      "\n",
      "Mean of each column:  [81. 76. 73. 72. 73. 76.]\n",
      "\n",
      "Position of the overall minimum value:  (2, 3)\n"
     ]
    }
   ],
   "source": [
    "\n",
    "#1\n",
    "print(\"\\nQuestion # 1\")\n",
    "\n",
    "arr = np.arange(1, 10, 2) \n",
    "print(arr)\n",
    "\n",
    "#2\n",
    "print(\"\\nQuestion # 2\")\n",
    "\n",
    "ones_array = np.ones((3, 2))\n",
    "print(\"\\nones_array : \",ones_array)\n",
    "\n",
    "zeros_array = np.zeros((2, 4))\n",
    "print(\"\\nzeros_array : \",zeros_array)\n",
    "\n",
    "#3\n",
    "print(\"\\nQuestion # 3\")\n",
    "\n",
    "identity_array = np.eye(3)\n",
    "print(\"\\nidentity_array : \",identity_array)\n",
    "\n",
    "#4\n",
    "print(\"\\nQuestion # 5\")\n",
    "\n",
    "empty_array = np.empty((2, 3))\n",
    "print(\"\\nEmpty Array: \",empty_array)\n",
    "\n",
    "full_array = np.full((2, 2), 5.0)\n",
    "print(\"\\nFull Array: \",full_array)\n",
    "\n",
    "arr = np.array([[1, 2, 3], [4, 5, 6]])\n",
    "arr.fill(10)\n",
    "print(\"\\nArray after fill: \",arr)\n",
    "\n",
    "arr = np.array([1, 3, 2, 5, 4])\n",
    "max_value = np.max(arr)\n",
    "print(\"\\nMaximum value:\", max_value)\n",
    "\n",
    "min_value = np.min(arr)\n",
    "print(\"\\nMinimum value:\", min_value)\n",
    "\n",
    "std_dev = np.std(arr)\n",
    "print(\"\\nStandard deviation:\", std_dev)\n",
    "\n",
    "mean_value = np.mean(arr)\n",
    "print(\"\\nMean:\", mean_value)\n",
    "\n",
    "variance = np.var(arr)\n",
    "print(\"\\nVariance:\", variance)\n",
    "\n",
    "argmax_index = np.argmax(arr)\n",
    "print(\"\\nIndex of maximum value:\", argmax_index)\n",
    "\n",
    "linspace_array = np.linspace(1, 10, 10)\n",
    "print(\"\\nArray created with linspace:\",linspace_array)\n",
    "\n",
    "#5\n",
    "print(\"\\nQuestion # 5\")\n",
    "\n",
    "#Rule 1 Shape Matching\n",
    "a = np.array([1, 2, 3])\n",
    "b = np.array([4, 5, 6])\n",
    "c = a + b \n",
    "print(\"\\nShape Matching : \",c)\n",
    "\n",
    "#Rule 2 Element-wise Operators\n",
    "arr = np.array([1, 2, 3])\n",
    "result = arr ** 2 \n",
    "print(\"\\nElement-wise operators : \",result)\n",
    "\n",
    "#Rule 3 Reduction Operation\n",
    "arr = np.array([[1, 2], [3, 4]])\n",
    "mean_all = np.mean(arr)\n",
    "mean_axis0 = np.mean(arr, axis=0)  \n",
    "mean_axis1 = np.mean(arr, axis=1)\n",
    "print(\"\\nmean_all : \",mean_all ,\"\\tmean_axis0 : \",mean_axis0,\"\\tmean_axis1 : \", mean_axis1)\n",
    "\n",
    "#Rule 4 Handling Missing Values\n",
    "arr = np.array([1, 2, np.nan, 4, 5])\n",
    "mean_without_nan = np.nanmean(arr)\n",
    "print(\"\\nHandling Missing Values : \",mean_without_nan)\n",
    "\n",
    "#6\n",
    "print(\"\\nQuestion # 6\")\n",
    "\n",
    "a = np.arange(-15, 15).reshape(5, 6) ** 2\n",
    "\n",
    "max_each_row = np.max(a, axis=1)\n",
    "print(\"\\nMaximum of each row: \", max_each_row)\n",
    "\n",
    "mean_each_column = np.mean(a, axis=0)\n",
    "print(\"\\nMean of each column: \",mean_each_column)\n",
    "\n",
    "min_position = np.unravel_index(np.argmin(a), a.shape)\n",
    "print(\"\\nPosition of the overall minimum value: \",min_position)\n"
   ]
  },
  {
   "cell_type": "markdown",
   "metadata": {
    "id": "uO-B0OXYWl7A"
   },
   "source": [
    "### Zip Operations on Numpy Arrays\n",
    "Use a zip function on two arrys.\n",
    "\n",
    "Create another array which would be the sum of corresponding elements of two arrays using for loop."
   ]
  },
  {
   "cell_type": "code",
   "execution_count": 12,
   "metadata": {
    "id": "QWAhbiOXHEc9"
   },
   "outputs": [
    {
     "name": "stdout",
     "output_type": "stream",
     "text": [
      "1 2\n",
      "2 3\n",
      "3 4\n",
      "4 5\n"
     ]
    }
   ],
   "source": [
    "a = [1, 2, 3, 4]\n",
    "b = [2, 3, 4, 5]\n",
    "\n",
    "for x, y in zip(a, b):\n",
    "    print(x, y)\n"
   ]
  },
  {
   "cell_type": "code",
   "execution_count": 13,
   "metadata": {
    "id": "ePXox_XHMQTr"
   },
   "outputs": [
    {
     "name": "stdout",
     "output_type": "stream",
     "text": [
      "Sum of corresponding elements: [3 5 7 9]\n"
     ]
    }
   ],
   "source": [
    "#For loop to add corresponding elements in two lists\n",
    "\n",
    "s_array = np.array([x + y for x, y in zip(a, b)])\n",
    "\n",
    "print(\"Sum of corresponding elements:\", s_array)\n"
   ]
  },
  {
   "cell_type": "code",
   "execution_count": null,
   "metadata": {},
   "outputs": [],
   "source": []
  },
  {
   "cell_type": "code",
   "execution_count": null,
   "metadata": {},
   "outputs": [],
   "source": []
  }
 ],
 "metadata": {
  "colab": {
   "provenance": []
  },
  "kernelspec": {
   "display_name": "Python 3 (ipykernel)",
   "language": "python",
   "name": "python3"
  },
  "language_info": {
   "codemirror_mode": {
    "name": "ipython",
    "version": 3
   },
   "file_extension": ".py",
   "mimetype": "text/x-python",
   "name": "python",
   "nbconvert_exporter": "python",
   "pygments_lexer": "ipython3",
   "version": "3.9.7"
  }
 },
 "nbformat": 4,
 "nbformat_minor": 1
}
