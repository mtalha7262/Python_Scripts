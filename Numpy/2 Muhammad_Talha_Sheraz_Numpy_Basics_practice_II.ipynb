{
 "cells": [
  {
   "cell_type": "markdown",
   "metadata": {
    "id": "YmwKgUrAkbfG"
   },
   "source": [
    "# Numpy Basics Exercises\n",
    "\n",
    "Please complete the following exercises **using numpy only**."
   ]
  },
  {
   "cell_type": "markdown",
   "metadata": {
    "id": "oWtZzrvXjxVl"
   },
   "source": [
    "# Array Broadcasting\n",
    "NumPy arrays of different dimensionality can be combined in the same expression. Arrays with smaller dimension are broadcasted to match the larger arrays, without copying data.\n",
    "\n",
    "Broadcasting has two rules.\n",
    "\n",
    "RULE 1: PREPEND ONES TO SMALLER ARRAY'S SHAPE\n",
    "\n",
    "RULE 2: DIMENSIONS OF SIZE 1 ARE REPEATED WITHOUT COPYING"
   ]
  },
  {
   "cell_type": "code",
   "execution_count": 2,
   "metadata": {},
   "outputs": [],
   "source": [
    "import numpy as np\n"
   ]
  },
  {
   "cell_type": "code",
   "execution_count": 3,
   "metadata": {
    "id": "7vrTvmEWjwtY"
   },
   "outputs": [
    {
     "name": "stdout",
     "output_type": "stream",
     "text": [
      "[[ 0  1  2  3  4]\n",
      " [ 5  6  7  8  9]\n",
      " [10 11 12 13 14]]\n",
      "\n",
      " [1 2 3 4 5] \n",
      "\n",
      "[[ 1  3  5  7  9]\n",
      " [ 6  8 10 12 14]\n",
      " [11 13 15 17 19]]\n"
     ]
    }
   ],
   "source": [
    "a = np.arange(15).reshape(3, 5)\n",
    "print(a)\n",
    "\n",
    "\n",
    "b = np.array([1, 2, 3, 4, 5])\n",
    "print(\"\\n\",b,\"\\n\")\n",
    "\n",
    "result = a + b\n",
    "print(result)"
   ]
  },
  {
   "cell_type": "markdown",
   "metadata": {
    "id": "Qp9UkMByj5Il"
   },
   "source": [
    "1.Use reduce() operation on an array to reduec it into a single meaningful value. You. can also use a specific axis to apply reduce operation.\n",
    "\n",
    "2.accumulate() creates a new array containing the intermediate results of the reduce operation at each element in a.\n"
   ]
  },
  {
   "cell_type": "code",
   "execution_count": 4,
   "metadata": {
    "id": "nmLsvmTZj626"
   },
   "outputs": [
    {
     "name": "stdout",
     "output_type": "stream",
     "text": [
      "[[1 2 3]\n",
      " [4 5 6]\n",
      " [7 8 9]]\n",
      "\n",
      " [12 15 18] \n",
      "\n",
      "[ 6 15 24] \n",
      "\n",
      "[12 15 18] \n",
      "\n",
      "\n",
      " [[ 1  2  3]\n",
      " [ 5  7  9]\n",
      " [12 15 18]] \n",
      "\n",
      "[[ 1  3  6]\n",
      " [ 4  9 15]\n",
      " [ 7 15 24]] \n",
      "\n",
      "[[ 1  2  3]\n",
      " [ 5  7  9]\n",
      " [12 15 18]] \n",
      "\n"
     ]
    }
   ],
   "source": [
    "#Reduced\n",
    "a = np.arange(1, 10).reshape(3, 3)\n",
    "print(a)\n",
    "value = np.add.reduce(a)\n",
    "print(\"\\n\",value,\"\\n\")\n",
    "value_row = np.add.reduce(a,axis=1)\n",
    "print(value_row,\"\\n\")\n",
    "value_col = np.add.reduce(a,axis =0)\n",
    "print(value_col,\"\\n\")\n",
    "#Acumulate\n",
    "\n",
    "value = np.add.accumulate(a)\n",
    "print(\"\\n\",value,\"\\n\")\n",
    "value_row = np.add.accumulate(a,axis=1)\n",
    "print(value_row,\"\\n\")\n",
    "value_col = np.add.accumulate(a,axis =0)\n",
    "print(value_col,\"\\n\")"
   ]
  },
  {
   "cell_type": "markdown",
   "metadata": {
    "id": "Oork_pTdXsin"
   },
   "source": [
    "### Create a 2-D array where the first row goes from 10 to 80 exclusive with steps of 5 and 2nd row goes from 5 to 47 exclusive with steps of 3"
   ]
  },
  {
   "cell_type": "code",
   "execution_count": 5,
   "metadata": {
    "id": "JJs0sRQ7YKgF"
   },
   "outputs": [
    {
     "name": "stdout",
     "output_type": "stream",
     "text": [
      "[10 15 20 25 30 35 40 45 50 55 60 65 70 75] \n",
      "\n",
      "[ 5  8 11 14 17 20 23 26 29 32 35 38 41 44] \n",
      "\n",
      "Required Array : \n",
      " [[10 15 20 25 30 35 40 45 50 55 60 65 70 75]\n",
      " [ 5  8 11 14 17 20 23 26 29 32 35 38 41 44]]\n"
     ]
    }
   ],
   "source": [
    "a = np.arange(10,80,5)\n",
    "print(a,\"\\n\")\n",
    "b = np.arange(5,47,3)\n",
    "print(b,\"\\n\")\n",
    "array = np.vstack((a,b))\n",
    "print(\"Required Array : \\n\",array)"
   ]
  },
  {
   "cell_type": "markdown",
   "metadata": {
    "id": "eBGU-aEqYM16"
   },
   "source": [
    "### Now use indexing to select the 5th 7th and 11th columns"
   ]
  },
  {
   "cell_type": "code",
   "execution_count": 22,
   "metadata": {
    "id": "-xAT9OukYNKx"
   },
   "outputs": [
    {
     "name": "stdout",
     "output_type": "stream",
     "text": [
      "[[30 40 60]\n",
      " [17 23 35]]\n"
     ]
    }
   ],
   "source": [
    "selected_columns = array[:,[4,6,10]]\n",
    "print(selected_columns)"
   ]
  },
  {
   "cell_type": "markdown",
   "metadata": {
    "id": "wu3J-12UZl2I"
   },
   "source": [
    "### Select the 2nd row and fourth-last to second-last columns"
   ]
  },
  {
   "cell_type": "code",
   "execution_count": 30,
   "metadata": {
    "id": "YPAaA_BKZl-N"
   },
   "outputs": [
    {
     "name": "stdout",
     "output_type": "stream",
     "text": [
      "[ 5  8 11 14 17 20 23 26 29 32 35 38 41 44] \n",
      "\n",
      "[35 38 41]\n"
     ]
    }
   ],
   "source": [
    "selected_row = array[1,:]\n",
    "print(selected_row,\"\\n\")\n",
    "\n",
    "selected_columns = selected_row[-4:-1] \n",
    "print(selected_columns)"
   ]
  },
  {
   "cell_type": "markdown",
   "metadata": {
    "id": "kCgDP3J_ZmF8"
   },
   "source": [
    "### Select 3rd to 3rd last columns skipping every second column"
   ]
  },
  {
   "cell_type": "code",
   "execution_count": 31,
   "metadata": {
    "id": "YqRY90S0ZmNW"
   },
   "outputs": [
    {
     "name": "stdout",
     "output_type": "stream",
     "text": [
      "[[20 30 40 50 60]\n",
      " [11 17 23 29 35]]\n"
     ]
    }
   ],
   "source": [
    "selected_columns = array[:,2:-2:2]\n",
    "print(selected_columns)"
   ]
  },
  {
   "cell_type": "markdown",
   "metadata": {
    "id": "x21_4u7SZmUx"
   },
   "source": [
    "###  Select 3rd to 3rd last columns skipping every second column but in reverse order"
   ]
  },
  {
   "cell_type": "code",
   "execution_count": 39,
   "metadata": {
    "id": "oEQws0mAZmcU"
   },
   "outputs": [
    {
     "name": "stdout",
     "output_type": "stream",
     "text": [
      "[[20 30 40 50 60]\n",
      " [11 17 23 29 35]]\n",
      "\n",
      " [[60 50 40 30 20]\n",
      " [35 29 23 17 11]]\n"
     ]
    }
   ],
   "source": [
    "selected_columns = array[:,2:-2:2]\n",
    "print(selected_columns)\n",
    "\n",
    "reversed_columns = selected_columns[:,::-1]\n",
    "\n",
    "print(\"\\n\",reversed_columns)"
   ]
  },
  {
   "cell_type": "markdown",
   "metadata": {
    "id": "bqVyb4DKZmkR"
   },
   "source": [
    "### We will work with the following array:"
   ]
  },
  {
   "cell_type": "code",
   "execution_count": 60,
   "metadata": {
    "colab": {
     "base_uri": "https://localhost:8080/"
    },
    "id": "Iz86eeTWZmsK",
    "outputId": "657f8c8d-0a3b-44b8-e0fe-6de9614c11c1"
   },
   "outputs": [
    {
     "data": {
      "text/plain": [
       "array([[ 0,  1,  2,  3,  4],\n",
       "       [ 5,  6,  7,  8,  9],\n",
       "       [10, 11, 12, 13, 14],\n",
       "       [15, 16, 17, 18, 19],\n",
       "       [20, 21, 22, 23, 24]])"
      ]
     },
     "execution_count": 60,
     "metadata": {},
     "output_type": "execute_result"
    }
   ],
   "source": [
    "a = np.arange(25).reshape(5, 5)\n",
    "a"
   ]
  },
  {
   "cell_type": "markdown",
   "metadata": {
    "id": "OdjK0hqobWGp"
   },
   "source": [
    "### Use slicing only to select 3rd and last row along with 2nd and last columns"
   ]
  },
  {
   "cell_type": "code",
   "execution_count": 43,
   "metadata": {
    "id": "-iw2ciaibUHU"
   },
   "outputs": [
    {
     "name": "stdout",
     "output_type": "stream",
     "text": [
      "[[11 14]\n",
      " [21 24]]\n"
     ]
    }
   ],
   "source": [
    "select = a[[2,-1]][:,[1,-1]]\n",
    "print(select)"
   ]
  },
  {
   "cell_type": "markdown",
   "metadata": {
    "id": "5PtInLvEb7Am"
   },
   "source": [
    "### Extract the following sub-array: [[2, 3], [12, 13], [22, 23]]"
   ]
  },
  {
   "cell_type": "code",
   "execution_count": 47,
   "metadata": {
    "id": "lVi9eV2rb6hz"
   },
   "outputs": [
    {
     "name": "stdout",
     "output_type": "stream",
     "text": [
      "[[ 2  3]\n",
      " [12 13]\n",
      " [22 23]]\n"
     ]
    }
   ],
   "source": [
    "sub_array = a[[0,2,4]][:,[2,3]]\n",
    "print(sub_array)"
   ]
  },
  {
   "cell_type": "markdown",
   "metadata": {
    "id": "mHN-ADlNcRE7"
   },
   "source": [
    "### Combine fancy/location indexing with slicing to extract the following sub-array: [[6, 8], [16, 18], [21, 23]]"
   ]
  },
  {
   "cell_type": "code",
   "execution_count": 53,
   "metadata": {
    "id": "e_R0tbMHcNGy"
   },
   "outputs": [
    {
     "name": "stdout",
     "output_type": "stream",
     "text": [
      "[[[ 6  8]]\n",
      "\n",
      " [[16 18]]\n",
      "\n",
      " [[21 23]]]\n"
     ]
    }
   ],
   "source": [
    "row = [1,3,4]\n",
    "col = [1,3]\n",
    "\n",
    "sub_array = a[row][:,[col]]\n",
    "print(sub_array)"
   ]
  },
  {
   "cell_type": "markdown",
   "metadata": {
    "id": "gRle44JLc8oL"
   },
   "source": [
    "### Change the values 1, 10, 19 and 22 in the array to -2"
   ]
  },
  {
   "cell_type": "code",
   "execution_count": 56,
   "metadata": {
    "id": "MnIs-SBzdMPv"
   },
   "outputs": [
    {
     "name": "stdout",
     "output_type": "stream",
     "text": [
      "[[ 0 -2  2  3  4]\n",
      " [ 5  6  7  8  9]\n",
      " [-2 11 12 13 14]\n",
      " [15 16 17 18 -2]\n",
      " [20 21 -2 23 24]]\n"
     ]
    }
   ],
   "source": [
    "values= [1,10,19,22]\n",
    "new_change = -2 \n",
    "a[np.isin(a,values)]=new_change\n",
    "print(a)"
   ]
  },
  {
   "cell_type": "markdown",
   "metadata": {
    "id": "tWSQO5e3dZxf"
   },
   "source": [
    "### Repeat above using boolean indexing"
   ]
  },
  {
   "cell_type": "code",
   "execution_count": 57,
   "metadata": {
    "id": "zytB7nrMdYfT"
   },
   "outputs": [
    {
     "name": "stdout",
     "output_type": "stream",
     "text": [
      "[[ 0 -2  2  3  4]\n",
      " [ 5  6  7  8  9]\n",
      " [-2 11 12 13 14]\n",
      " [15 16 17 18 -2]\n",
      " [20 21 -2 23 24]]\n"
     ]
    }
   ],
   "source": [
    "values= [1,10,19,22]\n",
    "new_change = -2 \n",
    "mask = np.isin(a,values)\n",
    "a[mask]=new_change\n",
    "print(a)"
   ]
  },
  {
   "cell_type": "markdown",
   "metadata": {
    "id": "2i_7lkqpdhtx"
   },
   "source": [
    "### Combine slicing in the column dimension and boolean indexing in row dimension to extract the following sub-array: [[0, 3], [10, 13], [15, 18]]"
   ]
  },
  {
   "cell_type": "code",
   "execution_count": 61,
   "metadata": {
    "id": "O8683ef2dYng"
   },
   "outputs": [
    {
     "name": "stdout",
     "output_type": "stream",
     "text": [
      "[[ 0  3]\n",
      " [10 13]\n",
      " [15 18]]\n"
     ]
    }
   ],
   "source": [
    "row = [0, 2, 3]\n",
    "col = [0, 3]\n",
    "sub_array = a[row][:, col]\n",
    "print(sub_array)"
   ]
  },
  {
   "cell_type": "markdown",
   "metadata": {
    "id": "BLH29N-KLDEJ"
   },
   "source": [
    "### Calculating the sum, min and max of all diagonal values"
   ]
  },
  {
   "cell_type": "code",
   "execution_count": 62,
   "metadata": {
    "id": "ARzj6VP9LCPz"
   },
   "outputs": [
    {
     "name": "stdout",
     "output_type": "stream",
     "text": [
      "[ 0  6 12 18 24]\n",
      "\n",
      "Sum : 60\n",
      "\n",
      "Min :  0\n",
      "\n",
      "Max :  24\n"
     ]
    }
   ],
   "source": [
    "diagonal_values = np.diag(a)\n",
    "print( diagonal_values)\n",
    "\n",
    "sum_diagonal = np.sum(diagonal_values)\n",
    "print(\"\\nSum :\", sum_diagonal)\n",
    "\n",
    "min_diagonal = np.min(diagonal_values)\n",
    "print(\"\\nMin : \", min_diagonal)\n",
    "\n",
    "max_diagonal = np.max(diagonal_values)\n",
    "print(\"\\nMax : \", max_diagonal)"
   ]
  },
  {
   "cell_type": "markdown",
   "metadata": {
    "id": "IIL3aHfpMQpr"
   },
   "source": [
    "### Calculate the sum of differences between the 2nd row and 2nd last column"
   ]
  },
  {
   "cell_type": "code",
   "execution_count": 65,
   "metadata": {
    "id": "mNyxI8d0Mcvz"
   },
   "outputs": [
    {
     "name": "stdout",
     "output_type": "stream",
     "text": [
      "2nd Row: \n",
      " [5 6 7 8 9]\n",
      "\n",
      "2nd Last Column: \n",
      " [ 3  8 13 18 23]\n",
      "\n",
      "Differences: \n",
      " [  2  -2  -6 -10 -14]\n",
      "\n",
      "Sum of Differences: \n",
      " -30\n"
     ]
    }
   ],
   "source": [
    "second_row = a[1, :]\n",
    "print(\"2nd Row: \\n\", second_row)\n",
    "\n",
    "second_last_column = a[:, -2]\n",
    "print(\"\\n2nd Last Column: \\n\", second_last_column)\n",
    "\n",
    "differences = second_row - second_last_column\n",
    "print(\"\\nDifferences: \\n\", differences)\n",
    "\n",
    "sum_of_differences = np.sum(differences)\n",
    "print(\"\\nSum of Differences: \\n\", sum_of_differences)"
   ]
  },
  {
   "cell_type": "markdown",
   "metadata": {
    "id": "jEo7E6YNNIU5"
   },
   "source": [
    "### Create a new array that is the sum of even rows and odd rows"
   ]
  },
  {
   "cell_type": "code",
   "execution_count": 68,
   "metadata": {
    "id": "UEwbxwAPNikT"
   },
   "outputs": [
    {
     "name": "stdout",
     "output_type": "stream",
     "text": [
      "Even Rows Sum: \n",
      " [30 33 36 39 42]\n",
      "\n",
      " Odd Rows Sum: \n",
      " [20 22 24 26 28]\n",
      "\n",
      "New Array: \n",
      " [[30 33 36 39 42]\n",
      " [20 22 24 26 28]]\n"
     ]
    }
   ],
   "source": [
    "even_rows = a[::2, :]\n",
    "odd_rows = a[1::2, :]\n",
    "sum_even_rows = np.sum(even_rows, axis=0)\n",
    "sum_odd_rows = np.sum(odd_rows, axis=0)\n",
    "sum_array = np.array([sum_even_rows, sum_odd_rows])\n",
    "\n",
    "print(\"Even Rows Sum: \\n\", sum_even_rows)\n",
    "print(\"\\n Odd Rows Sum: \\n\", sum_odd_rows)\n",
    "print(\"\\nNew Array: \\n\",sum_array)"
   ]
  },
  {
   "cell_type": "markdown",
   "metadata": {
    "id": "TaKXFf_5d67q"
   },
   "source": [
    "## You are done. Good job!"
   ]
  },
  {
   "cell_type": "code",
   "execution_count": null,
   "metadata": {
    "id": "PwdTR28zd6Ji"
   },
   "outputs": [],
   "source": []
  }
 ],
 "metadata": {
  "colab": {
   "provenance": []
  },
  "kernelspec": {
   "display_name": "Python 3 (ipykernel)",
   "language": "python",
   "name": "python3"
  },
  "language_info": {
   "codemirror_mode": {
    "name": "ipython",
    "version": 3
   },
   "file_extension": ".py",
   "mimetype": "text/x-python",
   "name": "python",
   "nbconvert_exporter": "python",
   "pygments_lexer": "ipython3",
   "version": "3.9.7"
  }
 },
 "nbformat": 4,
 "nbformat_minor": 1
}
