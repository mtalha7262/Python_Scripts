{
 "cells": [
  {
   "cell_type": "code",
   "execution_count": 3,
   "id": "2a8a0fa8-ceee-4b65-9739-39bdbf33d23c",
   "metadata": {
    "id": "2a8a0fa8-ceee-4b65-9739-39bdbf33d23c"
   },
   "outputs": [],
   "source": [
    "import numpy as np"
   ]
  },
  {
   "cell_type": "markdown",
   "id": "6cd94836-36bf-4eca-a68c-4d4afb52ef7d",
   "metadata": {
    "id": "6cd94836-36bf-4eca-a68c-4d4afb52ef7d"
   },
   "source": [
    "# Q1"
   ]
  },
  {
   "cell_type": "markdown",
   "id": "26a82645-942a-40ba-9d5b-a58c65d27817",
   "metadata": {
    "id": "26a82645-942a-40ba-9d5b-a58c65d27817"
   },
   "source": [
    "Statement: Given a 3D NumPy array arr of shape (2, 3, 4), write a code snippet to calculate the sum of all elements in the array.\n",
    "\n",
    "Sample Input:"
   ]
  },
  {
   "cell_type": "code",
   "execution_count": 6,
   "id": "dbf71bf2-1ac9-48f3-96fb-5f22ad767b29",
   "metadata": {
    "id": "dbf71bf2-1ac9-48f3-96fb-5f22ad767b29"
   },
   "outputs": [
    {
     "name": "stdout",
     "output_type": "stream",
     "text": [
      "Sum of all elements in the array:  276\n"
     ]
    }
   ],
   "source": [
    "a_3d = np.arange(24).reshape(2,3,4)\n",
    "total_sum = np.sum(a_3d)\n",
    "print(\"Sum of all elements in the array: \", total_sum)"
   ]
  },
  {
   "cell_type": "markdown",
   "id": "14bd52a2-86d8-4ef6-b1ee-de66e9703458",
   "metadata": {
    "id": "14bd52a2-86d8-4ef6-b1ee-de66e9703458"
   },
   "source": [
    "# Q2"
   ]
  },
  {
   "cell_type": "markdown",
   "id": "9a536e77-25c6-4b63-906b-7aa8eaaa073e",
   "metadata": {
    "id": "9a536e77-25c6-4b63-906b-7aa8eaaa073e"
   },
   "source": [
    "Statement: Write a NumPy code snippet to create a 4D array arr of shape (2, 3, 4, 5) filled with random integers ranging from 0 to 9.\n",
    "\n",
    "Sample Output:"
   ]
  },
  {
   "cell_type": "code",
   "execution_count": 9,
   "id": "5602b3f2-13e2-4585-9870-9bc07563c60e",
   "metadata": {
    "id": "5602b3f2-13e2-4585-9870-9bc07563c60e"
   },
   "outputs": [
    {
     "data": {
      "text/plain": [
       "array([[[[8, 3, 7, 1, 0],\n",
       "         [4, 0, 1, 0, 7],\n",
       "         [6, 8, 1, 7, 2],\n",
       "         [4, 5, 8, 0, 0]],\n",
       "\n",
       "        [[4, 0, 2, 5, 3],\n",
       "         [5, 2, 1, 1, 8],\n",
       "         [2, 4, 5, 6, 5],\n",
       "         [1, 5, 0, 6, 3]],\n",
       "\n",
       "        [[5, 6, 0, 1, 2],\n",
       "         [5, 6, 2, 7, 6],\n",
       "         [2, 5, 2, 1, 5],\n",
       "         [3, 1, 4, 8, 5]]],\n",
       "\n",
       "\n",
       "       [[[4, 7, 1, 6, 1],\n",
       "         [5, 3, 5, 0, 8],\n",
       "         [2, 2, 0, 5, 6],\n",
       "         [4, 4, 5, 7, 3]],\n",
       "\n",
       "        [[5, 8, 1, 4, 4],\n",
       "         [6, 7, 3, 0, 5],\n",
       "         [7, 4, 8, 1, 6],\n",
       "         [8, 3, 8, 0, 8]],\n",
       "\n",
       "        [[8, 3, 7, 0, 0],\n",
       "         [6, 8, 8, 1, 1],\n",
       "         [2, 0, 8, 8, 7],\n",
       "         [3, 0, 0, 0, 3]]]])"
      ]
     },
     "execution_count": 9,
     "metadata": {},
     "output_type": "execute_result"
    }
   ],
   "source": [
    "b = np.random.randint(0,9,(2,3,4,5))\n",
    "b"
   ]
  },
  {
   "cell_type": "markdown",
   "id": "540f8d57-6cc0-4e53-8744-787e868276a4",
   "metadata": {
    "id": "540f8d57-6cc0-4e53-8744-787e868276a4"
   },
   "source": [
    "# Q3"
   ]
  },
  {
   "cell_type": "markdown",
   "id": "37497bad-10e3-4c65-b4f6-65bb5ed0b00d",
   "metadata": {
    "id": "37497bad-10e3-4c65-b4f6-65bb5ed0b00d"
   },
   "source": [
    "Statement: Given a 4D NumPy array arr of shape (2, 3, 4, 5), write a code snippet to calculate the mean along the second axis.\n",
    "\n",
    "Sample Input:"
   ]
  },
  {
   "cell_type": "code",
   "execution_count": 10,
   "id": "84df3761-5341-4010-b541-6a79a1b74625",
   "metadata": {
    "id": "84df3761-5341-4010-b541-6a79a1b74625"
   },
   "outputs": [
    {
     "name": "stdout",
     "output_type": "stream",
     "text": [
      "[[[6.  5.  4.  3.5 0.5]\n",
      "  [4.5 1.5 3.  0.  7.5]\n",
      "  [4.  5.  0.5 6.  4. ]\n",
      "  [4.  4.5 6.5 3.5 1.5]]\n",
      "\n",
      " [[4.5 4.  1.5 4.5 3.5]\n",
      "  [5.5 4.5 2.  0.5 6.5]\n",
      "  [4.5 4.  6.5 3.5 5.5]\n",
      "  [4.5 4.  4.  3.  5.5]]\n",
      "\n",
      " [[6.5 4.5 3.5 0.5 1. ]\n",
      "  [5.5 7.  5.  4.  3.5]\n",
      "  [2.  2.5 5.  4.5 6. ]\n",
      "  [3.  0.5 2.  4.  4. ]]]\n"
     ]
    }
   ],
   "source": [
    "cal = np.mean(b,axis =0 )\n",
    "print(cal)"
   ]
  },
  {
   "cell_type": "markdown",
   "id": "9d4cd387-ca18-4951-a1ab-63a7a1f80a0d",
   "metadata": {
    "id": "9d4cd387-ca18-4951-a1ab-63a7a1f80a0d"
   },
   "source": [
    "# Q4"
   ]
  },
  {
   "cell_type": "markdown",
   "id": "768891f0-dd85-4a6b-a336-31061a30945f",
   "metadata": {
    "id": "768891f0-dd85-4a6b-a336-31061a30945f"
   },
   "source": [
    "Statement: You have collected data from a temperature sensor placed at different locations over a period of time. The recorded temperatures are stored in a 3D NumPy array temps of shape (7, 24, 60), where the dimensions represent the number of days, hours in a day, and minutes in an hour, respectively. Write a code snippet to calculate the average temperature for each day.\n",
    "\n",
    "Sample Input:"
   ]
  },
  {
   "cell_type": "code",
   "execution_count": 17,
   "id": "905df96f-ee7f-410f-adae-88758871af96",
   "metadata": {
    "id": "905df96f-ee7f-410f-adae-88758871af96"
   },
   "outputs": [
    {
     "name": "stdout",
     "output_type": "stream",
     "text": [
      "[[[18 15 19 ...  8 18 13]\n",
      "  [20 12 18 ... 10 17  8]\n",
      "  [12 19 24 ... 18 11 21]\n",
      "  ...\n",
      "  [12 21 16 ... 24 17 20]\n",
      "  [10 12 18 ...  9 23 14]\n",
      "  [ 7 18  7 ... 17 15 20]]\n",
      "\n",
      " [[20  7  8 ... 11 23  8]\n",
      "  [ 7  9  9 ... 22 13 24]\n",
      "  [ 9 24 18 ... 19 24 13]\n",
      "  ...\n",
      "  [ 7 19 11 ... 20 12 10]\n",
      "  [11 15 12 ...  7 17 15]\n",
      "  [16 12 24 ... 17 18 21]]\n",
      "\n",
      " [[11  8 20 ... 21 19  9]\n",
      "  [ 9 20  8 ... 19 19 24]\n",
      "  [10 13  7 ... 20 15  8]\n",
      "  ...\n",
      "  [17 17 10 ... 14 18 23]\n",
      "  [11 19  9 ...  9 10 16]\n",
      "  [18 18 16 ... 19 13 11]]\n",
      "\n",
      " ...\n",
      "\n",
      " [[ 7 13 17 ... 16 10 23]\n",
      "  [13 17 22 ... 10 24 19]\n",
      "  [24 19 21 ... 14 19 17]\n",
      "  ...\n",
      "  [20 23 17 ... 22 16 10]\n",
      "  [23 10 16 ... 11 24 12]\n",
      "  [ 8 20 14 ...  9 19 11]]\n",
      "\n",
      " [[12 12 15 ... 10  9 17]\n",
      "  [17 20 13 ... 17 22 20]\n",
      "  [13 15 24 ... 23 21  7]\n",
      "  ...\n",
      "  [ 9 14 18 ...  8  8 23]\n",
      "  [16 11 24 ... 18 11 24]\n",
      "  [13 23 17 ... 17 19 23]]\n",
      "\n",
      " [[22  7 16 ...  8 21 22]\n",
      "  [23 17 14 ...  7  8 11]\n",
      "  [17 18 12 ... 19 12 15]\n",
      "  ...\n",
      "  [ 9 21 19 ...  9 17 16]\n",
      "  [14 15 23 ... 11  9 24]\n",
      "  [10 23 16 ... 11 20 23]]] \n",
      "\n",
      "[15.66875    15.40069444 15.18958333 15.40972222 15.37986111 15.40208333\n",
      " 15.54375   ]\n"
     ]
    }
   ],
   "source": [
    "\n",
    "temp = np.random.randint(7,25,(7,24,60))\n",
    "print(temp,\"\\n\")\n",
    "avg_temp = np.mean(temp,axis=(1,2))\n",
    "print(avg_temp)\n"
   ]
  },
  {
   "cell_type": "markdown",
   "id": "f8913844-39a1-4d9b-a434-7af478336f20",
   "metadata": {
    "id": "f8913844-39a1-4d9b-a434-7af478336f20"
   },
   "source": [
    "Sample Output:\n",
    "\n",
    "array([27.43864059, 26.99643944, 27.10398301, 27.43854821, 26.81072977,\n",
    "       26.76581481, 27.07946152])"
   ]
  },
  {
   "cell_type": "markdown",
   "id": "55a224ca-01c9-4b13-8bc9-1db7269a35d5",
   "metadata": {
    "id": "55a224ca-01c9-4b13-8bc9-1db7269a35d5"
   },
   "source": [
    "# Q5"
   ]
  },
  {
   "cell_type": "markdown",
   "id": "af5efd9b-ff4f-4ae1-af9a-da9bf621d3bd",
   "metadata": {
    "id": "af5efd9b-ff4f-4ae1-af9a-da9bf621d3bd"
   },
   "source": [
    "Statement: You have collected data from multiple sensors placed in different rooms of a building. The sensor readings are stored in a 4D NumPy array readings of shape (4, 7, 24, 60), where the dimensions represent the number of sensors, number of days, hours in a day, and minutes in an hour, respectively. Write a code snippet to calculate the maximum reading for each sensor across all days."
   ]
  },
  {
   "cell_type": "code",
   "execution_count": 18,
   "id": "79873e69-35ad-4bde-ba48-cf33218b1dc2",
   "metadata": {
    "id": "79873e69-35ad-4bde-ba48-cf33218b1dc2"
   },
   "outputs": [
    {
     "name": "stdout",
     "output_type": "stream",
     "text": [
      "Maximum readings for each sensor: [0.99993137 0.9999365  0.99963259 0.9999586 ]\n"
     ]
    }
   ],
   "source": [
    "import numpy as np\n",
    "readings = np.random.rand(4, 7, 24, 60)\n",
    "max_read = np.max(readings, axis=(1, 2, 3))\n",
    "\n",
    "print(\"Maximum readings for each sensor:\", max_read)\n"
   ]
  },
  {
   "cell_type": "markdown",
   "id": "e8ca2836-0977-4b11-a214-a93630131927",
   "metadata": {
    "id": "e8ca2836-0977-4b11-a214-a93630131927"
   },
   "source": [
    "# Q6"
   ]
  },
  {
   "cell_type": "markdown",
   "id": "b324cb33-b481-4cf8-a148-9292ec382a8c",
   "metadata": {
    "id": "b324cb33-b481-4cf8-a148-9292ec382a8c"
   },
   "source": [
    "Statement: You have collected data from a 3D printer that measures the dimensions of printed objects. The recorded dimensions are stored in a 3D NumPy array dimensions of shape (100, 50, 3), where the dimensions represent the number of printed objects, number of measurements for each object, and the three dimensions (length, width, height), respectively. Write a code snippet to calculate the average length, width, and height across all objects.\n",
    "\n",
    "Sample Inpumt:"
   ]
  },
  {
   "cell_type": "code",
   "execution_count": 20,
   "id": "d1199cf1-5f47-45f5-a090-615021490d8e",
   "metadata": {
    "id": "d1199cf1-5f47-45f5-a090-615021490d8e"
   },
   "outputs": [
    {
     "name": "stdout",
     "output_type": "stream",
     "text": [
      "Average dimensions (length, width, height): [0.5029743  0.50132233 0.5006288 ]\n"
     ]
    }
   ],
   "source": [
    "arr_dism =np.random.rand(100,50,3)\n",
    "average_dimensions = np.mean(arr_dism, axis=(0, 1))\n",
    "\n",
    "print(\"Average dimensions (length, width, height):\", average_dimensions)\n"
   ]
  },
  {
   "cell_type": "markdown",
   "id": "a3c20cfa-7ad6-437b-8837-1eabded47ac7",
   "metadata": {
    "id": "a3c20cfa-7ad6-437b-8837-1eabded47ac7"
   },
   "source": [
    "# Q7"
   ]
  },
  {
   "cell_type": "markdown",
   "id": "c5c5e835-2d6d-4bec-a700-4125e2ea7375",
   "metadata": {
    "id": "c5c5e835-2d6d-4bec-a700-4125e2ea7375"
   },
   "source": [
    "Statement: You are given a 3D NumPy array data of shape (5, 6, 7) representing the sensor readings from multiple sensors placed in different locations over a period of time. Each sensor provides measurements at different time points. Write a code snippet to calculate the following statistics for each sensor:\n",
    "\n",
    "Total number of measurements\n",
    "\n",
    "Average measurement value\n",
    "\n",
    "Standard deviation of measurements\n",
    "\n",
    "Minimum measurement value\n",
    "\n",
    "Maximum measurement value\n",
    "\n",
    "Sample Input:"
   ]
  },
  {
   "cell_type": "code",
   "execution_count": 21,
   "id": "46256376-8395-460c-a736-71a83252e47f",
   "metadata": {
    "id": "46256376-8395-460c-a736-71a83252e47f"
   },
   "outputs": [
    {
     "name": "stdout",
     "output_type": "stream",
     "text": [
      "Total number of measurements for each sensor: 42\n",
      "Average measurement value for each sensor: [0.53221842 0.56350146 0.55924706 0.4984795  0.50814282]\n",
      "Standard deviation of measurements for each sensor: [0.28633427 0.28411036 0.27391977 0.31115732 0.29163058]\n",
      "Minimum measurement value for each sensor: [0.0514297  0.06430669 0.07978697 0.02686596 0.0117299 ]\n",
      "Maximum measurement value for each sensor: [0.99636428 0.99754963 0.9802541  0.98676943 0.99717048]\n"
     ]
    }
   ],
   "source": [
    "data = np.random.rand(5, 6, 7)\n",
    "total_measurements = data.shape[1] * data.shape[2]\n",
    "average_measurement = np.mean(data, axis=(1, 2))\n",
    "std_deviation = np.std(data, axis=(1, 2))\n",
    "min_measurement = np.min(data, axis=(1, 2))\n",
    "max_measurement = np.max(data, axis=(1, 2))\n",
    "\n",
    "print(\"Total number of measurements for each sensor:\", total_measurements)\n",
    "print(\"Average measurement value for each sensor:\", average_measurement)\n",
    "print(\"Standard deviation of measurements for each sensor:\", std_deviation)\n",
    "print(\"Minimum measurement value for each sensor:\", min_measurement)\n",
    "print(\"Maximum measurement value for each sensor:\", max_measurement)\n",
    "\n"
   ]
  },
  {
   "cell_type": "code",
   "execution_count": null,
   "id": "87f085a1-fec3-40e5-90db-d535c0de01c0",
   "metadata": {
    "id": "87f085a1-fec3-40e5-90db-d535c0de01c0"
   },
   "outputs": [],
   "source": []
  }
 ],
 "metadata": {
  "colab": {
   "provenance": []
  },
  "kernelspec": {
   "display_name": "Python 3 (ipykernel)",
   "language": "python",
   "name": "python3"
  },
  "language_info": {
   "codemirror_mode": {
    "name": "ipython",
    "version": 3
   },
   "file_extension": ".py",
   "mimetype": "text/x-python",
   "name": "python",
   "nbconvert_exporter": "python",
   "pygments_lexer": "ipython3",
   "version": "3.9.7"
  }
 },
 "nbformat": 4,
 "nbformat_minor": 5
}
