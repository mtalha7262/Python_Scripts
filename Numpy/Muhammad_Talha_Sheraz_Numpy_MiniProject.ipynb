{
 "cells": [
  {
   "cell_type": "code",
   "execution_count": 61,
   "metadata": {
    "id": "QOepuiVEQmVL"
   },
   "outputs": [],
   "source": [
    "import numpy as np"
   ]
  },
  {
   "cell_type": "markdown",
   "metadata": {
    "id": "XJJVjthYIz6w"
   },
   "source": [
    "# Step 1 : Read the Data!"
   ]
  },
  {
   "cell_type": "code",
   "execution_count": 62,
   "metadata": {
    "id": "7xcB2zo-O0t-"
   },
   "outputs": [
    {
     "data": {
      "text/plain": [
       "'C:\\\\Users\\\\Muhammad_Talha\\\\Downloads\\\\COHORT 7\\\\Week 1\\\\Numpy\\\\Numpy Project\\\\makeSenseOfCensus.csv'"
      ]
     },
     "execution_count": 62,
     "metadata": {},
     "output_type": "execute_result"
    }
   ],
   "source": [
    "census = r\"C:\\Users\\Muhammad_Talha\\Downloads\\COHORT 7\\Week 1\\Numpy\\Numpy Project\\makeSenseOfCensus.csv\"\n",
    "census"
   ]
  },
  {
   "cell_type": "markdown",
   "metadata": {
    "id": "OiSJcx6GLcWT"
   },
   "source": [
    "# Loading the data"
   ]
  },
  {
   "cell_type": "markdown",
   "metadata": {
    "id": "VxJZY3U1nsPN"
   },
   "source": [
    "You have studied getfromtext in Numpy Classes, now is the time to put it into action :) Below is the half completed code, you have to substitute values for delimiter and skip_header in it for hte data to be properly read into a Data array. The output of the array has been shared with you guys followed by the code block"
   ]
  },
  {
   "cell_type": "code",
   "execution_count": 63,
   "metadata": {
    "colab": {
     "base_uri": "https://localhost:8080/"
    },
    "id": "Fjx-kQkxQD7q",
    "outputId": "ea8cff47-e15c-4ecd-bdb2-762c8cd2bc43"
   },
   "outputs": [
    {
     "name": "stdout",
     "output_type": "stream",
     "text": [
      "\n",
      "Data:\n",
      "\n",
      "  [[39. 13.  4. ...  0. 40.  0.]\n",
      " [50. 13.  4. ...  0. 13.  0.]\n",
      " [38.  9.  4. ...  0. 40.  0.]\n",
      " ...\n",
      " [48. 13.  4. ...  0. 58.  1.]\n",
      " [40. 10.  4. ...  0. 40.  0.]\n",
      " [39. 13.  4. ...  0. 50.  1.]]\n"
     ]
    }
   ],
   "source": [
    "census_array = np.genfromtxt(census, delimiter = \",\", skip_header = 1)\n",
    "print(\"\\nData:\\n\\n \", census_array)"
   ]
  },
  {
   "cell_type": "markdown",
   "metadata": {
    "id": "lLoQJxpdOCfA"
   },
   "source": [
    "# Printing the type of data"
   ]
  },
  {
   "cell_type": "code",
   "execution_count": 64,
   "metadata": {
    "colab": {
     "base_uri": "https://localhost:8080/"
    },
    "id": "xkPasCIhQ1qC",
    "outputId": "6f7ba658-4fd8-46de-fafe-84a0fe168d12"
   },
   "outputs": [
    {
     "name": "stdout",
     "output_type": "stream",
     "text": [
      "<class 'numpy.ndarray'>\n"
     ]
    }
   ],
   "source": [
    "print(type(census_array))"
   ]
  },
  {
   "cell_type": "markdown",
   "metadata": {
    "id": "QTSTCc7jVppG"
   },
   "source": [
    "# Step 2 : Append the Data"
   ]
  },
  {
   "cell_type": "markdown",
   "metadata": {
    "id": "-gz1eP4sfRpc"
   },
   "source": [
    "A new record [[50,9,4,1,0,0,40,0]] has been given to you. You are supposed to append this new record into the data using np.concatenate()"
   ]
  },
  {
   "cell_type": "code",
   "execution_count": 65,
   "metadata": {
    "id": "jokdR-EtS1dz"
   },
   "outputs": [],
   "source": [
    "new_record = [[50,9,4,1,0,0,40,0]]"
   ]
  },
  {
   "cell_type": "markdown",
   "metadata": {
    "id": "qVKX1_leVwqh"
   },
   "source": [
    "## Append 'new_record' (given) to 'data' using \"np.concatenate()\""
   ]
  },
  {
   "cell_type": "code",
   "execution_count": 66,
   "metadata": {
    "id": "V38I3c5rTJPQ"
   },
   "outputs": [],
   "source": [
    "new_record_np = np.array(new_record)\n",
    "census_array = np.concatenate((census_array, new_record_np), axis=0)"
   ]
  },
  {
   "cell_type": "code",
   "execution_count": 67,
   "metadata": {
    "colab": {
     "base_uri": "https://localhost:8080/"
    },
    "id": "QOWjaWI3TlP4",
    "outputId": "ec1ca23d-e2ab-4c83-84dc-9a63c7acbf16"
   },
   "outputs": [
    {
     "data": {
      "text/plain": [
       "array([[39., 13.,  4., ...,  0., 40.,  0.],\n",
       "       [50., 13.,  4., ...,  0., 13.,  0.],\n",
       "       [38.,  9.,  4., ...,  0., 40.,  0.],\n",
       "       ...,\n",
       "       [48., 13.,  4., ...,  0., 58.,  1.],\n",
       "       [40., 10.,  4., ...,  0., 40.,  0.],\n",
       "       [39., 13.,  4., ...,  0., 50.,  1.]])"
      ]
     },
     "execution_count": 67,
     "metadata": {},
     "output_type": "execute_result"
    }
   ],
   "source": [
    "#display after appending the new record at the end of the array.\n",
    "census_arr"
   ]
  },
  {
   "cell_type": "markdown",
   "metadata": {
    "id": "i_5WAJWYWHpL"
   },
   "source": [
    "# Step 3 : Check if it's a young country or old country"
   ]
  },
  {
   "cell_type": "markdown",
   "metadata": {
    "id": "_CqLiA9OWQPm"
   },
   "source": [
    " Create a new array called 'age' by taking only age column(age is the column with index 0) of 'census' array."
   ]
  },
  {
   "cell_type": "code",
   "execution_count": 68,
   "metadata": {
    "id": "u-v0CJlJf8XA"
   },
   "outputs": [],
   "source": [
    "age = census_arr[:, 0]"
   ]
  },
  {
   "cell_type": "markdown",
   "metadata": {
    "id": "_IyNXVKqWpPS"
   },
   "source": [
    "Find the max age and store it in a variable called 'max_age'.\n",
    "\n"
   ]
  },
  {
   "cell_type": "code",
   "execution_count": 69,
   "metadata": {
    "colab": {
     "base_uri": "https://localhost:8080/"
    },
    "id": "tczhOTFif33u",
    "outputId": "82165a07-6a58-471d-eb77-315d32786556"
   },
   "outputs": [
    {
     "name": "stdout",
     "output_type": "stream",
     "text": [
      "90.0\n"
     ]
    }
   ],
   "source": [
    "max_age = np.max(age)\n",
    "print(max_age)"
   ]
  },
  {
   "cell_type": "markdown",
   "metadata": {
    "id": "ywrTp3KTWu9z"
   },
   "source": [
    "Find the min age and store it in a variable called 'min_age'."
   ]
  },
  {
   "cell_type": "code",
   "execution_count": 70,
   "metadata": {
    "colab": {
     "base_uri": "https://localhost:8080/"
    },
    "id": "QJ1VfCH7f0RG",
    "outputId": "3e3836b1-7762-4e37-9b9a-d49a5c11db52"
   },
   "outputs": [
    {
     "name": "stdout",
     "output_type": "stream",
     "text": [
      "17.0\n"
     ]
    }
   ],
   "source": [
    "min_age = np.min(age)\n",
    "print(min_age)"
   ]
  },
  {
   "cell_type": "markdown",
   "metadata": {
    "id": "k6TqZMYQd8w1"
   },
   "source": [
    "Find the mean of the age and store it in a variable called 'age_mean'."
   ]
  },
  {
   "cell_type": "code",
   "execution_count": 71,
   "metadata": {
    "colab": {
     "base_uri": "https://localhost:8080/"
    },
    "id": "7dTC5eaIXs__",
    "outputId": "6a2ed056-373a-43de-fa9d-7c4e1dfcc0d6"
   },
   "outputs": [
    {
     "name": "stdout",
     "output_type": "stream",
     "text": [
      "38.051\n"
     ]
    }
   ],
   "source": [
    "age_mean = np.mean(age)\n",
    "print(age_mean)"
   ]
  },
  {
   "cell_type": "markdown",
   "metadata": {
    "id": "GEDv3kfSeF9p"
   },
   "source": [
    "Find the standard deviation of the age and store it in a variable called 'age_std'"
   ]
  },
  {
   "cell_type": "code",
   "execution_count": 72,
   "metadata": {
    "colab": {
     "base_uri": "https://localhost:8080/"
    },
    "id": "SF33E4XbX8Yi",
    "outputId": "1c65d0f8-9452-40d3-cafe-6de7cd68c194"
   },
   "outputs": [
    {
     "name": "stdout",
     "output_type": "stream",
     "text": [
      "13.342803266180612\n"
     ]
    }
   ],
   "source": [
    "age_std = np.std(age)\n",
    "print(age_std)"
   ]
  },
  {
   "cell_type": "markdown",
   "metadata": {
    "id": "zfJWcybQecKB"
   },
   "source": [
    "# Step 4: Let's check the country's race distribution to identify the minorities"
   ]
  },
  {
   "cell_type": "markdown",
   "metadata": {
    "id": "SrvNIFGvef4r"
   },
   "source": [
    "Create four different arrays by subsetting 'census' array by Race column(Race is the column with index 2) and save them in 'race_0','race_1', 'race_2', 'race_3' and 'race_4' respectively(Meaning: Store the array where 'race'column has value 0 in 'race_0', so on and so forth)"
   ]
  },
  {
   "cell_type": "code",
   "execution_count": 73,
   "metadata": {
    "id": "2iaIx6n6YHPh"
   },
   "outputs": [],
   "source": [
    "race_0 = census_arr[census_arr[:, 2] == 0]\n",
    "race_1 = census_arr[census_arr[:, 2] == 1]\n",
    "race_2 = census_arr[census_arr[:, 2] == 2]\n",
    "race_3 = census_arr[census_arr[:, 2] == 3]\n",
    "race_4 = census_arr[census_arr[:, 2] == 4]"
   ]
  },
  {
   "cell_type": "code",
   "execution_count": 74,
   "metadata": {
    "id": "0Rhpw5BKbTBV"
   },
   "outputs": [],
   "source": [
    "len_0 = len(race_0)\n",
    "len_1 = len(race_1)\n",
    "len_2 = len(race_2)\n",
    "len_3 = len(race_3)\n",
    "len_4 = len(race_4)"
   ]
  },
  {
   "cell_type": "markdown",
   "metadata": {
    "id": "thg4wOEQeo1x"
   },
   "source": [
    "Store the length of the above created arrays in 'len_0', 'len_1','len_2', 'len_3' and 'len_4' respectively"
   ]
  },
  {
   "cell_type": "code",
   "execution_count": 75,
   "metadata": {
    "colab": {
     "base_uri": "https://localhost:8080/"
    },
    "id": "6Nbz3CBkZHLY",
    "outputId": "5df22c9d-a116-4359-c514-4b1a101db44d"
   },
   "outputs": [
    {
     "data": {
      "text/plain": [
       "10"
      ]
     },
     "execution_count": 75,
     "metadata": {},
     "output_type": "execute_result"
    }
   ],
   "source": [
    "len_0"
   ]
  },
  {
   "cell_type": "code",
   "execution_count": 76,
   "metadata": {
    "colab": {
     "base_uri": "https://localhost:8080/"
    },
    "id": "Zm0CnpfHaWQ7",
    "outputId": "c57111b9-151a-4980-a132-b88dd9fe83ec"
   },
   "outputs": [
    {
     "data": {
      "text/plain": [
       "27"
      ]
     },
     "execution_count": 76,
     "metadata": {},
     "output_type": "execute_result"
    }
   ],
   "source": [
    "len_1"
   ]
  },
  {
   "cell_type": "code",
   "execution_count": 77,
   "metadata": {
    "colab": {
     "base_uri": "https://localhost:8080/"
    },
    "id": "BmTApcJTab3j",
    "outputId": "770e9f12-282e-4590-ab19-03c9fe051652"
   },
   "outputs": [
    {
     "data": {
      "text/plain": [
       "110"
      ]
     },
     "execution_count": 77,
     "metadata": {},
     "output_type": "execute_result"
    }
   ],
   "source": [
    "len_2"
   ]
  },
  {
   "cell_type": "code",
   "execution_count": 78,
   "metadata": {
    "colab": {
     "base_uri": "https://localhost:8080/"
    },
    "id": "O-SEHnv9afoQ",
    "outputId": "7caa8f99-be12-4622-fc24-f9a77ff20d7b"
   },
   "outputs": [
    {
     "data": {
      "text/plain": [
       "6"
      ]
     },
     "execution_count": 78,
     "metadata": {},
     "output_type": "execute_result"
    }
   ],
   "source": [
    "len_3"
   ]
  },
  {
   "cell_type": "code",
   "execution_count": 79,
   "metadata": {
    "colab": {
     "base_uri": "https://localhost:8080/"
    },
    "id": "HksygZJFaogo",
    "outputId": "761f69e9-bc7a-466c-b6e4-82eeddf1dfb8"
   },
   "outputs": [
    {
     "data": {
      "text/plain": [
       "847"
      ]
     },
     "execution_count": 79,
     "metadata": {},
     "output_type": "execute_result"
    }
   ],
   "source": [
    "len_4"
   ]
  },
  {
   "cell_type": "markdown",
   "metadata": {
    "id": "p57jTibJezYj"
   },
   "source": [
    "Find out which is the race with the minimum no. of citizens"
   ]
  },
  {
   "cell_type": "code",
   "execution_count": 80,
   "metadata": {
    "colab": {
     "base_uri": "https://localhost:8080/"
    },
    "id": "axqxJHRBdMQL",
    "outputId": "255cdb4a-0676-4347-9a36-a5dbcc2b38c5"
   },
   "outputs": [
    {
     "data": {
      "text/plain": [
       "('Race 3', 6)"
      ]
     },
     "execution_count": 80,
     "metadata": {},
     "output_type": "execute_result"
    }
   ],
   "source": [
    "length = [\n",
    "    ('Race 0', len_0),\n",
    "    ('Race 1', len_1),\n",
    "    ('Race 2', len_2),\n",
    "    ('Race 3', len_3),\n",
    "    ('Race 4', len_4)\n",
    "]\n",
    "min_citizens = min(length, key=lambda x: x[1])\n",
    "min_citizens"
   ]
  },
  {
   "cell_type": "markdown",
   "metadata": {
    "id": "OJmzGHoZfSHv"
   },
   "source": [
    "Store the number associated with the minority race in a variable called 'minority_race'(For eg: if \"len(race_5)\" is the minimum, store 5 in 'minority_race' because that is the index of the race having the least no. of citizens )"
   ]
  },
  {
   "cell_type": "code",
   "execution_count": 81,
   "metadata": {
    "colab": {
     "base_uri": "https://localhost:8080/"
    },
    "id": "xi96yzv9gmar",
    "outputId": "bc254bee-467e-43d1-d3ea-5f5588180879"
   },
   "outputs": [
    {
     "data": {
      "text/plain": [
       "3"
      ]
     },
     "execution_count": 81,
     "metadata": {},
     "output_type": "execute_result"
    }
   ],
   "source": [
    "minority_race_index = length.index(min(length, key=lambda x: x[1]))\n",
    "minority_race_index"
   ]
  },
  {
   "cell_type": "markdown",
   "metadata": {
    "id": "E1Rwgqxf9F9V"
   },
   "source": [
    "# Step 5: As per govt. records citizens above 60 should not work more than 25 hours a week. Let us check if the policy is in place"
   ]
  },
  {
   "cell_type": "markdown",
   "metadata": {
    "id": "XT4Jy_Wn9Vww"
   },
   "source": [
    "a.Create a new subset array called 'senior_citizens' by filtering 'census' according to age>60 (age is the column with index 0)"
   ]
  },
  {
   "cell_type": "markdown",
   "metadata": {
    "id": "6AEHuxcS-uGh"
   },
   "source": [
    "[Row,Columns]  :"
   ]
  },
  {
   "cell_type": "code",
   "execution_count": 82,
   "metadata": {
    "colab": {
     "base_uri": "https://localhost:8080/"
    },
    "id": "oX6E5VZv9Z4j",
    "outputId": "a9d5c5ec-b344-4b58-caff-e765e2bacea9"
   },
   "outputs": [
    {
     "data": {
      "text/plain": [
       "array([[7.9000e+01, 1.0000e+01, 4.0000e+00, 1.0000e+00, 0.0000e+00,\n",
       "        0.0000e+00, 2.0000e+01, 0.0000e+00],\n",
       "       [6.7000e+01, 6.0000e+00, 4.0000e+00, 1.0000e+00, 0.0000e+00,\n",
       "        0.0000e+00, 2.0000e+00, 0.0000e+00],\n",
       "       [7.6000e+01, 1.4000e+01, 4.0000e+00, 1.0000e+00, 0.0000e+00,\n",
       "        0.0000e+00, 4.0000e+01, 1.0000e+00],\n",
       "       [6.1000e+01, 9.0000e+00, 4.0000e+00, 1.0000e+00, 0.0000e+00,\n",
       "        0.0000e+00, 4.0000e+01, 0.0000e+00],\n",
       "       [7.0000e+01, 1.0000e+01, 4.0000e+00, 1.0000e+00, 0.0000e+00,\n",
       "        0.0000e+00, 4.0000e+01, 0.0000e+00],\n",
       "       [6.4000e+01, 7.0000e+00, 4.0000e+00, 1.0000e+00, 0.0000e+00,\n",
       "        2.1790e+03, 4.0000e+01, 0.0000e+00],\n",
       "       [7.1000e+01, 1.0000e+01, 2.0000e+00, 1.0000e+00, 0.0000e+00,\n",
       "        1.8160e+03, 2.0000e+00, 0.0000e+00],\n",
       "       [6.8000e+01, 2.0000e+00, 4.0000e+00, 0.0000e+00, 0.0000e+00,\n",
       "        0.0000e+00, 2.0000e+01, 0.0000e+00],\n",
       "       [6.6000e+01, 1.1000e+01, 4.0000e+00, 0.0000e+00, 0.0000e+00,\n",
       "        0.0000e+00, 2.0000e+01, 0.0000e+00],\n",
       "       [6.4000e+01, 2.0000e+00, 4.0000e+00, 1.0000e+00, 0.0000e+00,\n",
       "        0.0000e+00, 4.0000e+01, 0.0000e+00],\n",
       "       [9.0000e+01, 9.0000e+00, 2.0000e+00, 1.0000e+00, 0.0000e+00,\n",
       "        2.2060e+03, 4.0000e+01, 0.0000e+00],\n",
       "       [6.6000e+01, 9.0000e+00, 4.0000e+00, 1.0000e+00, 1.4090e+03,\n",
       "        0.0000e+00, 5.0000e+01, 0.0000e+00],\n",
       "       [7.5000e+01, 1.1000e+01, 4.0000e+00, 0.0000e+00, 0.0000e+00,\n",
       "        0.0000e+00, 2.0000e+01, 0.0000e+00],\n",
       "       [6.5000e+01, 9.0000e+00, 4.0000e+00, 0.0000e+00, 0.0000e+00,\n",
       "        0.0000e+00, 4.0000e+01, 0.0000e+00],\n",
       "       [6.4000e+01, 9.0000e+00, 4.0000e+00, 1.0000e+00, 0.0000e+00,\n",
       "        0.0000e+00, 4.0000e+01, 1.0000e+00],\n",
       "       [6.1000e+01, 9.0000e+00, 4.0000e+00, 1.0000e+00, 0.0000e+00,\n",
       "        0.0000e+00, 4.0000e+01, 1.0000e+00],\n",
       "       [6.5000e+01, 9.0000e+00, 4.0000e+00, 1.0000e+00, 0.0000e+00,\n",
       "        0.0000e+00, 1.6000e+01, 0.0000e+00],\n",
       "       [7.7000e+01, 1.0000e+01, 4.0000e+00, 1.0000e+00, 0.0000e+00,\n",
       "        0.0000e+00, 4.0000e+01, 0.0000e+00],\n",
       "       [6.2000e+01, 9.0000e+00, 4.0000e+00, 0.0000e+00, 0.0000e+00,\n",
       "        0.0000e+00, 2.4000e+01, 0.0000e+00],\n",
       "       [7.6000e+01, 1.4000e+01, 4.0000e+00, 1.0000e+00, 0.0000e+00,\n",
       "        0.0000e+00, 1.0000e+01, 0.0000e+00],\n",
       "       [6.3000e+01, 9.0000e+00, 4.0000e+00, 1.0000e+00, 0.0000e+00,\n",
       "        0.0000e+00, 4.5000e+01, 0.0000e+00],\n",
       "       [6.6000e+01, 9.0000e+00, 4.0000e+00, 1.0000e+00, 2.0500e+03,\n",
       "        0.0000e+00, 5.5000e+01, 0.0000e+00],\n",
       "       [6.7000e+01, 7.0000e+00, 4.0000e+00, 1.0000e+00, 0.0000e+00,\n",
       "        0.0000e+00, 8.0000e+00, 0.0000e+00],\n",
       "       [6.5000e+01, 7.0000e+00, 3.0000e+00, 1.0000e+00, 0.0000e+00,\n",
       "        0.0000e+00, 4.0000e+01, 0.0000e+00],\n",
       "       [6.2000e+01, 1.4000e+01, 4.0000e+00, 1.0000e+00, 0.0000e+00,\n",
       "        0.0000e+00, 4.0000e+01, 1.0000e+00],\n",
       "       [6.3000e+01, 9.0000e+00, 4.0000e+00, 1.0000e+00, 0.0000e+00,\n",
       "        0.0000e+00, 4.0000e+01, 1.0000e+00],\n",
       "       [8.0000e+01, 9.0000e+00, 4.0000e+00, 1.0000e+00, 0.0000e+00,\n",
       "        0.0000e+00, 2.4000e+01, 0.0000e+00],\n",
       "       [6.7000e+01, 1.1000e+01, 4.0000e+00, 0.0000e+00, 0.0000e+00,\n",
       "        0.0000e+00, 2.4000e+01, 0.0000e+00],\n",
       "       [6.3000e+01, 2.0000e+00, 4.0000e+00, 1.0000e+00, 0.0000e+00,\n",
       "        0.0000e+00, 3.5000e+01, 0.0000e+00],\n",
       "       [7.2000e+01, 9.0000e+00, 4.0000e+00, 1.0000e+00, 0.0000e+00,\n",
       "        0.0000e+00, 2.0000e+01, 0.0000e+00],\n",
       "       [6.2000e+01, 9.0000e+00, 4.0000e+00, 1.0000e+00, 0.0000e+00,\n",
       "        0.0000e+00, 4.0000e+01, 0.0000e+00],\n",
       "       [7.4000e+01, 1.0000e+01, 4.0000e+00, 0.0000e+00, 0.0000e+00,\n",
       "        0.0000e+00, 9.0000e+00, 0.0000e+00],\n",
       "       [6.7000e+01, 1.5000e+01, 4.0000e+00, 1.0000e+00, 2.0051e+04,\n",
       "        0.0000e+00, 4.8000e+01, 1.0000e+00],\n",
       "       [7.2000e+01, 7.0000e+00, 4.0000e+00, 0.0000e+00, 0.0000e+00,\n",
       "        0.0000e+00, 4.0000e+01, 0.0000e+00],\n",
       "       [6.9000e+01, 7.0000e+00, 4.0000e+00, 0.0000e+00, 0.0000e+00,\n",
       "        0.0000e+00, 4.0000e+01, 0.0000e+00],\n",
       "       [6.5000e+01, 1.0000e+01, 4.0000e+00, 1.0000e+00, 0.0000e+00,\n",
       "        0.0000e+00, 3.0000e+01, 1.0000e+00],\n",
       "       [6.5000e+01, 5.0000e+00, 2.0000e+00, 0.0000e+00, 0.0000e+00,\n",
       "        0.0000e+00, 2.4000e+01, 0.0000e+00],\n",
       "       [7.1000e+01, 9.0000e+00, 4.0000e+00, 1.0000e+00, 0.0000e+00,\n",
       "        0.0000e+00, 1.5000e+01, 0.0000e+00],\n",
       "       [7.0000e+01, 5.0000e+00, 4.0000e+00, 0.0000e+00, 1.1110e+03,\n",
       "        0.0000e+00, 1.5000e+01, 0.0000e+00],\n",
       "       [6.6000e+01, 4.0000e+00, 4.0000e+00, 1.0000e+00, 0.0000e+00,\n",
       "        0.0000e+00, 4.0000e+00, 0.0000e+00],\n",
       "       [6.5000e+01, 7.0000e+00, 4.0000e+00, 1.0000e+00, 9.3860e+03,\n",
       "        0.0000e+00, 5.9000e+01, 1.0000e+00],\n",
       "       [6.1000e+01, 9.0000e+00, 4.0000e+00, 1.0000e+00, 0.0000e+00,\n",
       "        2.3520e+03, 5.0000e+01, 0.0000e+00],\n",
       "       [6.1000e+01, 9.0000e+00, 4.0000e+00, 1.0000e+00, 0.0000e+00,\n",
       "        0.0000e+00, 4.0000e+01, 0.0000e+00],\n",
       "       [6.8000e+01, 7.0000e+00, 4.0000e+00, 1.0000e+00, 0.0000e+00,\n",
       "        0.0000e+00, 2.0000e+01, 0.0000e+00],\n",
       "       [6.4000e+01, 1.3000e+01, 4.0000e+00, 1.0000e+00, 0.0000e+00,\n",
       "        0.0000e+00, 4.0000e+01, 1.0000e+00],\n",
       "       [6.4000e+01, 9.0000e+00, 4.0000e+00, 1.0000e+00, 0.0000e+00,\n",
       "        0.0000e+00, 4.5000e+01, 0.0000e+00],\n",
       "       [6.2000e+01, 9.0000e+00, 4.0000e+00, 0.0000e+00, 0.0000e+00,\n",
       "        0.0000e+00, 4.0000e+01, 0.0000e+00],\n",
       "       [7.3000e+01, 9.0000e+00, 4.0000e+00, 1.0000e+00, 0.0000e+00,\n",
       "        0.0000e+00, 4.0000e+01, 0.0000e+00],\n",
       "       [7.2000e+01, 7.0000e+00, 4.0000e+00, 0.0000e+00, 0.0000e+00,\n",
       "        0.0000e+00, 2.4000e+01, 0.0000e+00],\n",
       "       [6.3000e+01, 9.0000e+00, 4.0000e+00, 1.0000e+00, 0.0000e+00,\n",
       "        0.0000e+00, 6.0000e+00, 0.0000e+00],\n",
       "       [6.2000e+01, 1.3000e+01, 4.0000e+00, 0.0000e+00, 0.0000e+00,\n",
       "        0.0000e+00, 4.8000e+01, 0.0000e+00],\n",
       "       [6.1000e+01, 1.4000e+01, 4.0000e+00, 0.0000e+00, 0.0000e+00,\n",
       "        0.0000e+00, 4.0000e+01, 1.0000e+00],\n",
       "       [7.1000e+01, 1.4000e+01, 4.0000e+00, 1.0000e+00, 1.0605e+04,\n",
       "        0.0000e+00, 4.0000e+01, 1.0000e+00],\n",
       "       [6.3000e+01, 1.0000e+01, 4.0000e+00, 1.0000e+00, 0.0000e+00,\n",
       "        0.0000e+00, 1.5000e+01, 0.0000e+00],\n",
       "       [6.3000e+01, 4.0000e+00, 4.0000e+00, 1.0000e+00, 0.0000e+00,\n",
       "        0.0000e+00, 5.5000e+01, 0.0000e+00],\n",
       "       [6.7000e+01, 9.0000e+00, 1.0000e+00, 1.0000e+00, 0.0000e+00,\n",
       "        0.0000e+00, 4.0000e+01, 1.0000e+00],\n",
       "       [8.1000e+01, 9.0000e+00, 4.0000e+00, 1.0000e+00, 0.0000e+00,\n",
       "        0.0000e+00, 3.0000e+01, 0.0000e+00],\n",
       "       [6.4000e+01, 9.0000e+00, 4.0000e+00, 1.0000e+00, 0.0000e+00,\n",
       "        0.0000e+00, 5.0000e+00, 0.0000e+00],\n",
       "       [6.7000e+01, 1.3000e+01, 4.0000e+00, 1.0000e+00, 0.0000e+00,\n",
       "        2.3920e+03, 4.0000e+01, 1.0000e+00],\n",
       "       [7.8000e+01, 9.0000e+00, 2.0000e+00, 0.0000e+00, 2.9640e+03,\n",
       "        0.0000e+00, 4.0000e+01, 0.0000e+00],\n",
       "       [6.3000e+01, 1.1000e+01, 4.0000e+00, 0.0000e+00, 0.0000e+00,\n",
       "        0.0000e+00, 2.0000e+01, 0.0000e+00]])"
      ]
     },
     "execution_count": 82,
     "metadata": {},
     "output_type": "execute_result"
    }
   ],
   "source": [
    "senior_citizens = census_arr[census_arr[:, 0] > 60]\n",
    "senior_citizens"
   ]
  },
  {
   "cell_type": "markdown",
   "metadata": {
    "id": "mDbsg8N0_K8b"
   },
   "source": [
    "b.Add all the working hours(working hours is the column with index 6) of 'senior_citizens' and store it in a variable called 'working_hours_sum'"
   ]
  },
  {
   "cell_type": "code",
   "execution_count": 83,
   "metadata": {
    "colab": {
     "base_uri": "https://localhost:8080/"
    },
    "id": "fYZTR7EMgupn",
    "outputId": "19ed6bfe-ed14-4b1c-8c12-c6aa81f51fe5"
   },
   "outputs": [
    {
     "data": {
      "text/plain": [
       "1917.0"
      ]
     },
     "execution_count": 83,
     "metadata": {},
     "output_type": "execute_result"
    }
   ],
   "source": [
    "w_h_sum = np.sum(senior_citizens[:, 6])\n",
    "w_h_sum"
   ]
  },
  {
   "cell_type": "markdown",
   "metadata": {
    "id": "l4h6_8DfBD9x"
   },
   "source": [
    "c.Find the length of 'senior_citizens' and store it in a variable called 'senior_citizens_len'"
   ]
  },
  {
   "cell_type": "code",
   "execution_count": 84,
   "metadata": {
    "colab": {
     "base_uri": "https://localhost:8080/"
    },
    "id": "pPExiV83gwaC",
    "outputId": "0d9f40f9-e2a0-4481-b680-2c48b0ee180e"
   },
   "outputs": [
    {
     "data": {
      "text/plain": [
       "61"
      ]
     },
     "execution_count": 84,
     "metadata": {},
     "output_type": "execute_result"
    }
   ],
   "source": [
    "senior_citizens_len = len(senior_citizens)\n",
    "senior_citizens_len"
   ]
  },
  {
   "cell_type": "markdown",
   "metadata": {
    "id": "-6mWgLiXBgAW"
   },
   "source": [
    "d. Finally find the average working hours of the senior citizens by dividing 'working_hours_sum' by 'senior_citizens_len' and store it in a variable called 'avg_working hours'."
   ]
  },
  {
   "cell_type": "code",
   "execution_count": 85,
   "metadata": {
    "id": "AOwajHabgy29"
   },
   "outputs": [],
   "source": [
    "avg_working_hours =  w_h_sum/senior_citizens_len"
   ]
  },
  {
   "cell_type": "markdown",
   "metadata": {
    "id": "VS382pv_CY1Q"
   },
   "source": [
    "e. Print 'avg_working_hours' and see if the govt. policy is followed."
   ]
  },
  {
   "cell_type": "code",
   "execution_count": 86,
   "metadata": {
    "colab": {
     "base_uri": "https://localhost:8080/"
    },
    "id": "NatAJ4JBgzr4",
    "outputId": "34c17b26-3a5a-49f3-e405-adc42b6a7fbe"
   },
   "outputs": [
    {
     "name": "stdout",
     "output_type": "stream",
     "text": [
      "Policy not followed as working hours are = 31.42622950819672\n"
     ]
    }
   ],
   "source": [
    "# As per govt. records citizens above 60 should not work more than 25 hours a\n",
    "if (avg_working_hours < 25):\n",
    "  print(\"Policy is followed\", avg_working_hours)\n",
    "else:\n",
    "  print(\"Policy not followed as working hours are =\", avg_working_hours)"
   ]
  },
  {
   "cell_type": "markdown",
   "metadata": {
    "id": "KRGhpDBKEIa-"
   },
   "source": [
    "# Step 6: Let's check that higher educated people have better pay in general."
   ]
  },
  {
   "cell_type": "markdown",
   "metadata": {
    "id": "-5rc9FarELwP"
   },
   "source": [
    "Create two new subset arrays called 'high' and 'low' by filtering 'census' according to education-num>10 and education-num<=10 (education-num is the column with index 1) respectively.\n",
    "\n"
   ]
  },
  {
   "cell_type": "code",
   "execution_count": 87,
   "metadata": {
    "id": "GVA3Dgp5g2Ui"
   },
   "outputs": [],
   "source": [
    "high = census_arr[census_arr[:, 0] > 10]\n",
    "low = census_arr[census_arr[:, 0] <= 10]"
   ]
  },
  {
   "cell_type": "markdown",
   "metadata": {
    "id": "I4MwXFEbFEjV"
   },
   "source": [
    "Find the mean of income column(income is the column with index 7) of 'high' array and store it in 'avg_pay_high'. Do the same for 'low' array and store it's mean in 'avg_pay_low'."
   ]
  },
  {
   "cell_type": "code",
   "execution_count": 88,
   "metadata": {
    "colab": {
     "base_uri": "https://localhost:8080/"
    },
    "id": "aaHfrQd1FItV",
    "outputId": "7f9e12c5-14d7-4e29-e981-9af3459de0e9"
   },
   "outputs": [
    {
     "name": "stdout",
     "output_type": "stream",
     "text": [
      "Average pay for high education: 0.232\n"
     ]
    }
   ],
   "source": [
    "if high.size != 0 :\n",
    "    avg_pay_high = np.mean(high[:, 7])\n",
    "else:\n",
    "    avg_pay_high = 0\n",
    "\n",
    "print(\"Average pay for high education:\", avg_pay_high)"
   ]
  },
  {
   "cell_type": "code",
   "execution_count": 90,
   "metadata": {
    "colab": {
     "base_uri": "https://localhost:8080/"
    },
    "id": "W4pJ8mhvHjlL",
    "outputId": "d91b1ac4-330f-4e0b-e4a8-5563adca0cee"
   },
   "outputs": [
    {
     "name": "stdout",
     "output_type": "stream",
     "text": [
      "Average pay for low education: 0\n"
     ]
    }
   ],
   "source": [
    "if low.size > 0:\n",
    "    avg_pay_low = np.mean(low[:, 7])\n",
    "else:\n",
    "    avg_pay_low = 0\n",
    "\n",
    "print(\"Average pay for low education:\", avg_pay_low)"
   ]
  },
  {
   "cell_type": "code",
   "execution_count": null,
   "metadata": {},
   "outputs": [],
   "source": []
  }
 ],
 "metadata": {
  "colab": {
   "provenance": []
  },
  "kernelspec": {
   "display_name": "Python 3 (ipykernel)",
   "language": "python",
   "name": "python3"
  },
  "language_info": {
   "codemirror_mode": {
    "name": "ipython",
    "version": 3
   },
   "file_extension": ".py",
   "mimetype": "text/x-python",
   "name": "python",
   "nbconvert_exporter": "python",
   "pygments_lexer": "ipython3",
   "version": "3.9.7"
  }
 },
 "nbformat": 4,
 "nbformat_minor": 1
}
