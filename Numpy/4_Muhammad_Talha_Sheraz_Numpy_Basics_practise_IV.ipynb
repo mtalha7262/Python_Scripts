{
 "cells": [
  {
   "cell_type": "code",
   "execution_count": 1,
   "metadata": {
    "id": "qQxFQvrEEKqm"
   },
   "outputs": [],
   "source": [
    "import numpy as np"
   ]
  },
  {
   "cell_type": "code",
   "execution_count": null,
   "metadata": {
    "colab": {
     "base_uri": "https://localhost:8080/"
    },
    "id": "n_ncJAFDEbs1",
    "outputId": "a09be9aa-5efa-45c6-b212-e9ebec9db71a"
   },
   "outputs": [
    {
     "name": "stdout",
     "output_type": "stream",
     "text": [
      "Mounted at /content/drive\n"
     ]
    }
   ],
   "source": [
    "from google.colab import drive\n",
    "drive.mount('/content/drive')"
   ]
  },
  {
   "cell_type": "markdown",
   "metadata": {
    "id": "5dL78wl-ElhS"
   },
   "source": [
    "# Q.1\n",
    "**Statement:** You are working with a retail store that needs to manage its inventory efficiently. They have provided you with a dataset containing information about products, their quantities in stock, and the number of units sold daily for the past week. Total number of products are 5. Your task is to calculate the following:\n",
    "\n",
    "\n",
    "\n",
    "1.The total sales for each product over the past week.\n",
    "\n",
    "2.The average daily sales for each product.\n",
    "\n",
    "3.The product with the highest sales.\n",
    "\n",
    "4.The product with the lowest sales.\n",
    "\n",
    "5.The total sales for all products combined.\n",
    "\n",
    "You are required to use NumPy for efficient data processing and calculations. Write code to solve this inventory management problem."
   ]
  },
  {
   "cell_type": "code",
   "execution_count": 1,
   "metadata": {
    "colab": {
     "base_uri": "https://localhost:8080/"
    },
    "id": "DxtXsLXRVpdW",
    "outputId": "41af5137-7b0e-4319-8193-353a56913748"
   },
   "outputs": [
    {
     "name": "stdout",
     "output_type": "stream",
     "text": [
      "Total Sales for Each Product:\n",
      " [ 8500 13800 14450 21500 18550 23600 30400]\n",
      "Average Daily Sales for Each Product:\n",
      " [25.         10.28571429 29.28571429 29.14285714 30.        ]\n",
      "Product with Highest Sales: Product G\n",
      "Product with Lowest Sales: Product A\n",
      "Total Sales Revenue for All Products: 130800\n"
     ]
    }
   ],
   "source": [
    "import numpy as np\n",
    "product_names = np.array(['Product A', 'Product B', 'Product C', 'Product D', 'Product E', 'Product F','Product G'])\n",
    "quantities_in_stock = np.array([100, 150, 200, 250, 50])\n",
    "daily_sales_data = np.array([[10, 15, 20, 25, 30, 35, 40],\n",
    "                             [5, 7, 8, 10, 12, 14, 16],\n",
    "                             [15, 20, 25, 30, 35, 40, 40],\n",
    "                             [12, 25, 20, 40, 20, 32, 55],\n",
    "                             [15, 20, 25, 30, 35, 40, 45]])\n",
    "total_sales_revenue = np.dot(quantities_in_stock, daily_sales_data)\n",
    "average_daily_sales = np.mean(daily_sales_data, axis=1)\n",
    "highest_sales_product = product_names[np.argmax(total_sales_revenue)]\n",
    "lowest_sales_product = product_names[np.argmin(total_sales_revenue)]\n",
    "total_sales_revenue_all_products = np.sum(total_sales_revenue)\n",
    "print(\"Total Sales for Each Product:\\n\", total_sales_revenue)\n",
    "print(\"Average Daily Sales for Each Product:\\n\", average_daily_sales)\n",
    "print(\"Product with Highest Sales:\", highest_sales_product)\n",
    "print(\"Product with Lowest Sales:\", lowest_sales_product)\n",
    "print(\"Total Sales Revenue for All Products:\", total_sales_revenue_all_products)\n"
   ]
  },
  {
   "cell_type": "markdown",
   "metadata": {
    "id": "ICk1qoQHVwDc"
   },
   "source": [
    "# Q.2\n",
    "**Statement:** Statement: You are working with a manufacturing plant that produces various components. They have provided you with data on the production rates of five different machines over the past month. Your task is to analyze the performance of these machines by calculating the following metrics:\n",
    "\n",
    "1.The total production output for each machine over the past month.\n",
    "\n",
    "2.The average daily production rate for each machine.\n",
    "\n",
    "3.The machine with the highest total production output.\n",
    "\n",
    "4.The machine with the lowest total production output.\n",
    "\n",
    "The overall production efficiency of the plant, which is defined as the ratio of the total production output to the total number of hours worked, and working hour for each day is 2 hours."
   ]
  },
  {
   "cell_type": "code",
   "execution_count": 2,
   "metadata": {
    "colab": {
     "base_uri": "https://localhost:8080/"
    },
    "id": "lIu6pfmgbUQd",
    "outputId": "a3f2ca82-c3d7-4d4d-eb6f-21b992c55049"
   },
   "outputs": [
    {
     "name": "stdout",
     "output_type": "stream",
     "text": [
      "Total Production Output for Each Machine:\n",
      " [856 795 755 695 624 792 737 814 805 767 714 699 739 850 754 856 657 744\n",
      " 727 729 866 778 780 765 695 822 814 772 687 814]\n",
      "\n",
      "Average Daily Production Rate for Each Machine:\n",
      " [156.53333333 152.86666667 152.66666667 155.76666667 145.56666667]\n",
      "\n",
      "Machine with Highest Total Production Output: 20\n",
      "Machine with Lowest Total Production Output: 4\n",
      "Overall Production Efficiency of the Plant: 381.7\n"
     ]
    }
   ],
   "source": [
    "\n",
    "production_rates = np.random.randint(100, 200,(5, 30))\n",
    "total_production_output = np.sum(production_rates, axis=0)\n",
    "\n",
    "average_daily_production = np.mean(production_rates, axis=1)\n",
    "\n",
    "highest_production_output_machine = np.argmax(total_production_output)\n",
    "lowest_production_output_machine = np.argmin(total_production_output)\n",
    "\n",
    "overall_production_efficiency = np.sum(total_production_output) / (2 * 30)\n",
    "\n",
    "print(\"Total Production Output for Each Machine:\\n\", total_production_output)\n",
    "print(\"\\nAverage Daily Production Rate for Each Machine:\\n\", average_daily_production)\n",
    "print(\"\\nMachine with Highest Total Production Output:\", highest_production_output_machine)\n",
    "print(\"Machine with Lowest Total Production Output:\", lowest_production_output_machine)\n",
    "print(\"Overall Production Efficiency of the Plant:\", overall_production_efficiency)\n"
   ]
  },
  {
   "cell_type": "markdown",
   "metadata": {
    "id": "Ayc9TG-vff7A"
   },
   "source": [
    "# Q3:\n",
    "\n",
    "**Statment**\n",
    "You are working on a project that involves simulating sensor data for a network of 10 sensors over a period of 15 days. Each sensor collects data once per hour. Your task is to generate a NumPy array named sensor_data to represent this simulated sensor data and perform following statistical analysis on it.\n",
    "\n",
    "Populate the sensor_data array with random floating-point values between 0.0 and 100.0\n",
    "The generated values should represent sensor readings collected once per hour.\n",
    "\n",
    "After generating the sensor_data array, perform the following statistical **calculations:**\n",
    "\n",
    "1.Calculate the mean (average) sensor reading for each sensor over the 15 days.\n",
    "\n",
    "2.Calculate the standard deviation of sensor readings for each sensor.\n",
    "\n",
    "3.Calculate the maximum sensor reading for each sensor.\n",
    "\n",
    "4.Calculate the minimum sensor reading for each sensor.\n",
    "\n",
    "5.Calculate the overall mean sensor reading for all sensors and all days.\n",
    "\n",
    "6.Calculate the overall standard deviation of sensor readings for all sensors an"
   ]
  },
  {
   "cell_type": "code",
   "execution_count": 3,
   "metadata": {
    "colab": {
     "base_uri": "https://localhost:8080/"
    },
    "id": "TWSK9GA1gfz0",
    "outputId": "2fca4363-284f-4582-be27-ab0c41e204b4"
   },
   "outputs": [
    {
     "name": "stdout",
     "output_type": "stream",
     "text": [
      "Sensor Data:\n",
      " [[1.36125488e+01 3.86097772e+01 5.89376563e+01 9.35887280e+00\n",
      "  5.36309992e+01 3.78879091e+00 8.87750770e+01 5.30436993e+01\n",
      "  5.77631026e+01 2.56116145e+01 3.20202760e+01 2.29402330e+01\n",
      "  6.76014373e+01 9.25822348e+01 3.33252026e+01]\n",
      " [9.63266057e+01 3.35645407e+01 7.55568056e+01 4.29012323e+01\n",
      "  7.01787684e+00 4.34866264e+00 1.40504216e+01 6.92689402e+01\n",
      "  9.49912259e+01 2.52339612e+01 2.13169855e+01 4.08653251e-02\n",
      "  7.99780707e+01 3.63667178e+01 2.76146329e+01]\n",
      " [1.67616234e+01 5.15031603e+01 9.37073429e+01 4.26900878e+01\n",
      "  4.50130919e+00 6.29792538e+01 1.58521306e+01 8.54122897e+01\n",
      "  5.06209947e+01 2.07306645e+01 3.46269103e+01 7.64274465e+01\n",
      "  7.33084451e+01 1.05238278e+01 8.05550575e+01]\n",
      " [5.95937885e+01 7.61990989e+01 3.68301901e+01 5.26189873e+01\n",
      "  8.85088885e+01 6.38805189e+01 8.96455714e+01 6.82273701e+01\n",
      "  1.05207744e+01 7.01764089e+01 6.25827391e+01 5.37073132e+01\n",
      "  3.03575782e+01 1.97455892e+01 7.52326188e+01]\n",
      " [1.99309100e+01 1.65473857e+01 8.97366810e+00 5.53226015e+01\n",
      "  4.51247773e+01 2.88032561e+01 5.11836129e+01 6.95033284e+01\n",
      "  4.04519624e+01 7.14797539e+01 4.81827225e+01 5.28715433e+01\n",
      "  5.09766986e+01 8.97742701e+01 1.22395425e+01]\n",
      " [2.77007728e+01 4.49360269e+01 8.12057978e+01 3.02513353e+00\n",
      "  8.98035975e+01 4.51414609e+01 8.59416398e+00 2.79955900e+01\n",
      "  6.84788580e+01 4.37607623e+01 5.61435803e+00 2.40624601e+01\n",
      "  5.35919192e+01 3.92815499e+01 2.60840979e+01]\n",
      " [5.49591546e+01 9.07089602e+01 3.21945482e+01 4.59446321e+01\n",
      "  2.85726012e+01 9.10003360e+01 6.86024449e+01 6.35213252e+01\n",
      "  1.41661358e+01 5.73106449e+01 1.53955704e+01 3.03308476e+01\n",
      "  7.40098399e+01 1.64414426e+01 6.36451251e+01]\n",
      " [3.39934211e+01 6.39952241e+01 2.66375851e+01 8.06595046e+00\n",
      "  3.95041278e+01 1.11295147e+01 7.75050517e+01 7.22326180e+01\n",
      "  4.57947589e+01 3.23804515e+01 3.64079297e+01 7.56875471e+01\n",
      "  8.29095753e+00 4.00727315e+01 3.43297797e+00]\n",
      " [7.64640437e+01 4.52119601e+01 2.65843931e+01 7.86051571e+01\n",
      "  9.65102647e+01 8.81645635e+01 8.13919470e+01 8.22800725e+01\n",
      "  3.47673753e+01 7.28745498e+01 7.17670202e+01 3.85084953e+01\n",
      "  8.72266240e+01 4.45408344e+01 6.33729445e+01]\n",
      " [2.95875139e+01 1.60912038e+01 1.05448535e+01 6.49582553e+01\n",
      "  3.26405115e+01 1.84955242e+01 4.74311203e+01 3.72061190e+00\n",
      "  2.69338391e+01 7.33242170e+01 4.04655671e+00 2.86368709e+01\n",
      "  8.16935384e+01 9.22977756e+01 1.54798497e+01]]\n",
      "\n",
      "1. Mean Sensor Reading for Each Sensor:\n",
      " [42.89303827 47.73673378 45.11728408 40.34909103 48.58149538 41.77318816\n",
      " 54.30315415 59.52058453 44.44890272 49.28830286 33.19610686 40.32136224\n",
      " 60.70351089 48.16269738 40.09820495]\n",
      "\n",
      "2. Standard Deviation of Sensor Readings for Each Sensor:\n",
      " [26.38402374 22.82066779 28.64122218 24.25462904 31.67891784 31.65084735\n",
      " 30.26389309 24.05386124 24.15323575 20.97220169 21.58252883 23.06448628\n",
      " 23.90026481 30.29779418 26.63075402]\n",
      "\n",
      "3. Maximum Sensor Reading for Each Sensor:\n",
      " [96.32660573 90.70896019 93.7073429  78.60515712 96.5102647  91.00033596\n",
      " 89.64557144 85.41228969 94.99122593 73.324217   71.76702021 76.42744653\n",
      " 87.22662396 92.58223483 80.55505752]\n",
      "\n",
      "4. Minimum Sensor Reading for Each Sensor:\n",
      " [13.61254882 16.09120379  8.9736681   3.02513353  4.50130919  3.78879091\n",
      "  8.59416398  3.7206119  10.52077436 20.73066447  4.04655671  0.04086533\n",
      "  8.29095753 10.52382784  3.43297797]\n",
      "\n",
      "5. Overall Mean Sensor Reading for All Sensors and All Days: 46.432910483215586\n",
      "\n",
      "6. Overall Standard Deviation of Sensor Readings for All Sensors and All Days: 27.238022234307284\n"
     ]
    }
   ],
   "source": [
    "import numpy as np\n",
    "\n",
    "num_sensors = 10\n",
    "num_days = 15\n",
    "hours_per_day = 24\n",
    "shape = (num_sensors, num_days * hours_per_day)\n",
    "\n",
    "sensor_data = np.random.uniform(0.0, 100.0, size=(num_sensors, num_days))\n",
    "\n",
    "print(\"Sensor Data:\\n\", sensor_data)\n",
    "\n",
    "mean_sensor_reading = np.mean(sensor_data, axis=0)\n",
    "print(\"\\n1. Mean Sensor Reading for Each Sensor:\\n\", mean_sensor_reading)\n",
    "\n",
    "std_sensor_reading = np.std(sensor_data, axis=0)\n",
    "print(\"\\n2. Standard Deviation of Sensor Readings for Each Sensor:\\n\", std_sensor_reading)\n",
    "\n",
    "max_sensor_reading = np.max(sensor_data, axis=0)\n",
    "print(\"\\n3. Maximum Sensor Reading for Each Sensor:\\n\", max_sensor_reading)\n",
    "\n",
    "min_sensor_reading = np.min(sensor_data, axis=0)\n",
    "print(\"\\n4. Minimum Sensor Reading for Each Sensor:\\n\", min_sensor_reading)\n",
    "\n",
    "overall_mean_sensor_reading = np.mean(sensor_data)\n",
    "print(\"\\n5. Overall Mean Sensor Reading for All Sensors and All Days:\", overall_mean_sensor_reading)\n",
    "\n",
    "overall_std_sensor_reading = np.std(sensor_data)\n",
    "print(\"\\n6. Overall Standard Deviation of Sensor Readings for All Sensors and All Days:\", overall_std_sensor_reading)\n",
    "\n"
   ]
  },
  {
   "cell_type": "markdown",
   "metadata": {
    "id": "IShr0NSyhcEc"
   },
   "source": [
    "# Q4:\n",
    "\n",
    "**Statement**: You are tasked with analyzing the exam scores of 30 students in a class over a period of 10 exams. The exam scores are represented as a NumPy, where each row corresponds to a different student, and each column represents their score in a specific exam.\n",
    "\n",
    "Populate the exam_scores array with random integer values between 50 and 100 to simulate students' exam performance.\n",
    "\n",
    "After generating the exam_scores array, perform the following tasks:\n",
    "\n",
    "1.Calculate the average score for each student over the 10 exams.\n",
    "\n",
    "2.Calculate the standard deviation of scores for each student.\n",
    "\n",
    "3.Identify students who have consistently performed well, defined as those whose average score is above 85.\n",
    "\n",
    "4.Identify students who may need additional support, defined as those whose average score is below 50.\n",
    "\n",
    "Write code to create and populate the exam_scores array and then perform the specified statistical analysis and performance evaluation tasks on the data.\n",
    "\n",
    "\n",
    "\n"
   ]
  },
  {
   "cell_type": "code",
   "execution_count": 4,
   "metadata": {
    "colab": {
     "base_uri": "https://localhost:8080/"
    },
    "id": "F3p_SMeoiT2o",
    "outputId": "074fd220-8c71-4d30-c500-8b3ebac00dd7"
   },
   "outputs": [
    {
     "name": "stdout",
     "output_type": "stream",
     "text": [
      "Exam Scores:\n",
      " [[ 81  93  88  98  60  53  78  81  72  97]\n",
      " [ 78 100  92  50  89  50  73  97  61  63]\n",
      " [ 87  90  98  58  82  51  67  68  97  88]\n",
      " [ 82  87 100  61  96  79  82  65  64  67]\n",
      " [ 52  60  78  63  92  77  68  98  74  74]\n",
      " [ 97  81  97  60  88  96  50  90  85  56]\n",
      " [ 97  51  94  58  52  85  92  71 100  91]\n",
      " [ 82  56  86  58  96  65  96  90  75  82]\n",
      " [ 72  64  50  50  81  72  89  99  98  91]\n",
      " [ 55 100  59  61  64  88  91  59  79  96]\n",
      " [ 79  56  52  60  59  74  78  67  88  64]\n",
      " [ 94  98  92  90  61  97  97  72  91  95]\n",
      " [ 66  68  51  99  63  82  69  97  69  66]\n",
      " [ 51  57  74  67  60  66  96  57  86  67]\n",
      " [ 95  72  95  88  98  63  55  52  97  50]\n",
      " [ 98  82  93  90  57  89  62  74  71  92]\n",
      " [ 86  64  67  93  83  94  92  88  61  96]\n",
      " [ 53  51  81  81  83  64  79  57  61  85]\n",
      " [ 51  65  75  56  80  66  91  53  52  52]\n",
      " [ 87  78 100  85  61  79  77  87  96  75]\n",
      " [100  64  78  94  56  64  59  73  96  57]\n",
      " [ 78  85  81  97  74  84  77  84  76  91]\n",
      " [ 74  99  51  66  94  71  58  83  59  93]\n",
      " [ 88  96  88  96  61  52  97  57  96  96]\n",
      " [ 96  52  98  96  62  99  75  79  55  95]\n",
      " [ 68  60  65  73  58  65  98  83  89  58]\n",
      " [ 50  51  83  62  84  91  89  99  53  85]\n",
      " [ 60  50  87  94  75  58  99  82  67  98]\n",
      " [ 51  58  69  79  99  92  66  55  66  83]\n",
      " [ 63  91  69  65  83  50  81  91  72  82]]\n",
      "\n",
      "1. Average Score for Each Student:\n",
      " [80.1 75.3 78.6 78.3 73.6 80.  79.1 78.6 76.6 75.2 67.7 88.7 73.  68.1\n",
      " 76.5 80.8 82.4 69.5 64.1 82.5 74.1 82.7 74.8 82.7 80.7 71.7 74.7 77.\n",
      " 71.8 74.7]\n",
      "\n",
      "2. Standard Deviation of Scores for Each Student:\n",
      " [14.3        17.87763967 15.647364   13.02344041 13.26800663 17.02938637\n",
      " 18.32184489 13.95134402 17.19418506 16.53964933 11.03675677 11.64517067\n",
      " 14.39444337 13.2094663  19.14810696 13.36263447 12.65859392 12.84717868\n",
      " 13.23971299 10.56645636 16.17065243  6.78306715 15.94866766 17.4416169\n",
      " 17.82161609 13.17611475 17.68078053 16.79880948 15.18420232 12.5463142 ]\n",
      "\n",
      "3. Students with Consistent Performance:\n",
      " [[94 98 92 90 61 97 97 72 91 95]]\n",
      "\n",
      "4. Students with Additional Support Needed:\n",
      " []\n"
     ]
    }
   ],
   "source": [
    "import numpy as np\n",
    "\n",
    "num_students = 30\n",
    "num_exams = 10\n",
    "\n",
    "exam_scores = np.random.randint(50, 101, size=(num_students, num_exams))\n",
    "\n",
    "print(\"Exam Scores:\\n\", exam_scores)\n",
    "\n",
    "average_scores = np.mean(exam_scores, axis=1)\n",
    "print(\"\\n1. Average Score for Each Student:\\n\", average_scores)\n",
    "\n",
    "std_scores = np.std(exam_scores, axis=1)\n",
    "print(\"\\n2. Standard Deviation of Scores for Each Student:\\n\", std_scores)\n",
    "\n",
    "consistent_students = exam_scores[average_scores > 85]\n",
    "print(\"\\n3. Students with Consistent Performance:\\n\", consistent_students)\n",
    "\n",
    "support_students = exam_scores[average_scores < 60]\n",
    "print(\"\\n4. Students with Additional Support Needed:\\n\", support_students)\n",
    "\n"
   ]
  },
  {
   "cell_type": "code",
   "execution_count": null,
   "metadata": {},
   "outputs": [],
   "source": []
  }
 ],
 "metadata": {
  "colab": {
   "provenance": []
  },
  "kernelspec": {
   "display_name": "Python 3 (ipykernel)",
   "language": "python",
   "name": "python3"
  },
  "language_info": {
   "codemirror_mode": {
    "name": "ipython",
    "version": 3
   },
   "file_extension": ".py",
   "mimetype": "text/x-python",
   "name": "python",
   "nbconvert_exporter": "python",
   "pygments_lexer": "ipython3",
   "version": "3.9.7"
  }
 },
 "nbformat": 4,
 "nbformat_minor": 1
}
