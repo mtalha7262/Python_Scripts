{
  "nbformat": 4,
  "nbformat_minor": 0,
  "metadata": {
    "colab": {
      "provenance": []
    },
    "kernelspec": {
      "name": "python3",
      "display_name": "Python 3"
    },
    "language_info": {
      "name": "python"
    }
  },
  "cells": [
    {
      "cell_type": "code",
      "execution_count": null,
      "metadata": {
        "id": "t0elmPg5U0wM"
      },
      "outputs": [],
      "source": [
        "# import libraries\n",
        "import numpy as np\n",
        "import pandas as pd\n",
        "import statsmodels.api as sm\n",
        "import matplotlib.pyplot as plt\n",
        "import seaborn as sns\n",
        "sns.set()\n",
        "from sklearn.cluster import KMeans"
      ]
    },
    {
      "cell_type": "code",
      "source": [
        "# This is the data you need to create dataFrame with the given entries and save in Countryclusters.csv\n",
        "Country,Latitude,Longitude,Language\n",
        "USA,44.97,-103.77,English\n",
        "Canada,62.4,-96.8,English\n",
        "France,46.75,2.4,French\n",
        "UK,54.01,-2.53,English\n",
        "Germany,51.15,10.4,German\n",
        "Australia,-25.45,133.11,English"
      ],
      "metadata": {
        "id": "0o9pqbbMaI4g"
      },
      "execution_count": null,
      "outputs": []
    },
    {
      "cell_type": "code",
      "source": [
        "# Load and visualize the data\n"
      ],
      "metadata": {
        "id": "wCxtNJ8_YTsS"
      },
      "execution_count": null,
      "outputs": []
    },
    {
      "cell_type": "code",
      "source": [
        "#Visualize the scatter plot of Longitude and Latitude\n"
      ],
      "metadata": {
        "id": "6dmPdfyYZVNZ"
      },
      "execution_count": null,
      "outputs": []
    },
    {
      "cell_type": "code",
      "source": [
        " # 1t for rows and second for columns\n"
      ],
      "metadata": {
        "id": "ofEowa5tZlrE"
      },
      "execution_count": null,
      "outputs": []
    },
    {
      "cell_type": "code",
      "source": [
        "# train Kmeans model on x\n"
      ],
      "metadata": {
        "id": "udjK0qfYZpnW"
      },
      "execution_count": null,
      "outputs": []
    },
    {
      "cell_type": "code",
      "source": [
        "# predict on x\n"
      ],
      "metadata": {
        "id": "trmp79iCZvKc"
      },
      "execution_count": null,
      "outputs": []
    },
    {
      "cell_type": "code",
      "source": [
        "#Visualize the scatter plot of Longitude and Latitude again but this time with clusters identification\n"
      ],
      "metadata": {
        "id": "Xqr7bSFHZ0Yd"
      },
      "execution_count": null,
      "outputs": []
    },
    {
      "cell_type": "code",
      "source": [
        "# perform an elbow method using multiple values of K on x-axis and WCSS (within cluster sum of square)\n",
        "wcss=[]\n"
      ],
      "metadata": {
        "id": "FJeKkFTwZ4X8"
      },
      "execution_count": null,
      "outputs": []
    },
    {
      "cell_type": "markdown",
      "source": [
        "# Part 2\n"
      ],
      "metadata": {
        "id": "h5ViHD1gdWWq"
      }
    },
    {
      "cell_type": "code",
      "source": [
        "# For example, here's several helpful packages to load in\n",
        "\n",
        "import numpy as np # linear algebra\n",
        "import pandas as pd # data processing, CSV file I/O (e.g. pd.read_csv)\n",
        "import matplotlib.pyplot as plt # for data visualization\n",
        "import seaborn as sns # for statistical data visualization\n",
        "%matplotlib inline\n"
      ],
      "metadata": {
        "id": "-dQX5z_6dVeE"
      },
      "execution_count": null,
      "outputs": []
    },
    {
      "cell_type": "code",
      "source": [
        "df = pd.read_csv(data)\n",
        "df.shape\n",
        "df.head()\n",
        "df.info()\n",
        "df.isnull().sum()"
      ],
      "metadata": {
        "id": "wBke1Q8xdiul"
      },
      "execution_count": null,
      "outputs": []
    },
    {
      "cell_type": "code",
      "source": [
        "# drop redundant columns\n",
        "df.drop(['Column1', 'Column2', 'Column3', 'Column4'], axis=1, inplace=True)\n",
        "df.info()\n",
        "df.describe()"
      ],
      "metadata": {
        "id": "NQwfn1Ghdxj3"
      },
      "execution_count": null,
      "outputs": []
    },
    {
      "cell_type": "code",
      "source": [
        "# view how many different types of variables are there\n",
        "\n",
        "# view the labels in the variable\n",
        "\n",
        "# view how many different types of variables are there\n",
        "\n",
        "# view the labels in the variable\n",
        "\n",
        "\n",
        "# view how many different types of variables are there\n",
        "\n"
      ],
      "metadata": {
        "id": "fUtOQQvQd3a4"
      },
      "execution_count": null,
      "outputs": []
    },
    {
      "cell_type": "code",
      "source": [],
      "metadata": {
        "id": "VvNPnyPTeFlE"
      },
      "execution_count": null,
      "outputs": []
    },
    {
      "cell_type": "code",
      "source": [
        "# declar features and target\n"
      ],
      "metadata": {
        "id": "AiYebujEeKqp"
      },
      "execution_count": null,
      "outputs": []
    },
    {
      "cell_type": "code",
      "source": [
        "# encode both features and labels\n",
        "\n",
        "\n",
        "# visualize\n"
      ],
      "metadata": {
        "id": "dkhnllmQecKv"
      },
      "execution_count": null,
      "outputs": []
    },
    {
      "cell_type": "code",
      "source": [
        "from sklearn.preprocessing import MinMaxScaler\n",
        "\n"
      ],
      "metadata": {
        "id": "l71yQiHtfEDg"
      },
      "execution_count": null,
      "outputs": []
    },
    {
      "cell_type": "code",
      "source": [],
      "metadata": {
        "id": "UWjN3zitfHax"
      },
      "execution_count": null,
      "outputs": []
    },
    {
      "cell_type": "code",
      "source": [
        "from sklearn.cluster import KMeans\n",
        "\n"
      ],
      "metadata": {
        "id": "ZGz7HbOTfPQR"
      },
      "execution_count": null,
      "outputs": []
    },
    {
      "cell_type": "code",
      "source": [
        "\n",
        "# check how many of the samples were correctly labeled\n",
        "\n"
      ],
      "metadata": {
        "id": "V8f2LcsHfjYI"
      },
      "execution_count": null,
      "outputs": []
    },
    {
      "cell_type": "code",
      "source": [],
      "metadata": {
        "id": "iu51TqvqfoOp"
      },
      "execution_count": null,
      "outputs": []
    },
    {
      "cell_type": "code",
      "source": [
        "# implement elbow method and plot the WCSS, print the accuracy and number of misclassified datapoints\n"
      ],
      "metadata": {
        "id": "UgkmgB-Xfz7b"
      },
      "execution_count": null,
      "outputs": []
    }
  ]
}