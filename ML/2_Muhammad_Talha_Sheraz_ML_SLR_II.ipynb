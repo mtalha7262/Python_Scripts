{
 "cells": [
  {
   "cell_type": "markdown",
   "metadata": {
    "id": "FvTeyYI8E4KR"
   },
   "source": [
    "# Lecture 10 - Spring 2024\n",
    "\n",
    "Data Science, Spring 2024"
   ]
  },
  {
   "cell_type": "code",
   "execution_count": 31,
   "metadata": {
    "id": "ONZtks9sE4KW",
    "tags": []
   },
   "outputs": [],
   "source": [
    "import numpy as np\n",
    "import pandas as pd\n",
    "import matplotlib.pyplot as plt\n",
    "%matplotlib inline\n",
    "import seaborn as sns\n",
    "import itertools\n",
    "from mpl_toolkits.mplot3d import Axes3D"
   ]
  },
  {
   "cell_type": "code",
   "execution_count": 32,
   "metadata": {
    "id": "EKyh4vO9E4KX",
    "tags": []
   },
   "outputs": [],
   "source": [
    "# Big font helper\n",
    "def adjust_fontsize(size=None):\n",
    "    SMALL_SIZE = 8\n",
    "    MEDIUM_SIZE = 10\n",
    "    BIGGER_SIZE = 12\n",
    "    if size != None:\n",
    "        SMALL_SIZE = MEDIUM_SIZE = BIGGER_SIZE = size\n",
    "\n",
    "    plt.rc('font', size=SMALL_SIZE)          # controls default text sizes\n",
    "    plt.rc('axes', titlesize=SMALL_SIZE)     # fontsize of the axes title\n",
    "    plt.rc('axes', labelsize=MEDIUM_SIZE)    # fontsize of the x and y labels\n",
    "    plt.rc('xtick', labelsize=SMALL_SIZE)    # fontsize of the tick labels\n",
    "    plt.rc('ytick', labelsize=SMALL_SIZE)    # fontsize of the tick labels\n",
    "    plt.rc('legend', fontsize=SMALL_SIZE)    # legend fontsize\n",
    "    plt.rc('figure', titlesize=BIGGER_SIZE)  # fontsize of the figure title"
   ]
  },
  {
   "cell_type": "code",
   "execution_count": 33,
   "metadata": {},
   "outputs": [
    {
     "data": {
      "text/html": [
       "<div>\n",
       "<style scoped>\n",
       "    .dataframe tbody tr th:only-of-type {\n",
       "        vertical-align: middle;\n",
       "    }\n",
       "\n",
       "    .dataframe tbody tr th {\n",
       "        vertical-align: top;\n",
       "    }\n",
       "\n",
       "    .dataframe thead th {\n",
       "        text-align: right;\n",
       "    }\n",
       "</style>\n",
       "<table border=\"1\" class=\"dataframe\">\n",
       "  <thead>\n",
       "    <tr style=\"text-align: right;\">\n",
       "      <th></th>\n",
       "      <th>area</th>\n",
       "      <th>price</th>\n",
       "    </tr>\n",
       "  </thead>\n",
       "  <tbody>\n",
       "    <tr>\n",
       "      <th>0</th>\n",
       "      <td>1360.0</td>\n",
       "      <td>75561.009869</td>\n",
       "    </tr>\n",
       "    <tr>\n",
       "      <th>1</th>\n",
       "      <td>4272.0</td>\n",
       "      <td>197449.640308</td>\n",
       "    </tr>\n",
       "    <tr>\n",
       "      <th>2</th>\n",
       "      <td>3592.0</td>\n",
       "      <td>180621.795096</td>\n",
       "    </tr>\n",
       "    <tr>\n",
       "      <th>3</th>\n",
       "      <td>966.0</td>\n",
       "      <td>45234.416477</td>\n",
       "    </tr>\n",
       "    <tr>\n",
       "      <th>4</th>\n",
       "      <td>4926.0</td>\n",
       "      <td>232342.452693</td>\n",
       "    </tr>\n",
       "    <tr>\n",
       "      <th>...</th>\n",
       "      <td>...</td>\n",
       "      <td>...</td>\n",
       "    </tr>\n",
       "    <tr>\n",
       "      <th>995</th>\n",
       "      <td>3261.0</td>\n",
       "      <td>164587.880099</td>\n",
       "    </tr>\n",
       "    <tr>\n",
       "      <th>996</th>\n",
       "      <td>3179.0</td>\n",
       "      <td>156818.403658</td>\n",
       "    </tr>\n",
       "    <tr>\n",
       "      <th>997</th>\n",
       "      <td>2606.0</td>\n",
       "      <td>135836.079275</td>\n",
       "    </tr>\n",
       "    <tr>\n",
       "      <th>998</th>\n",
       "      <td>4723.0</td>\n",
       "      <td>234621.268790</td>\n",
       "    </tr>\n",
       "    <tr>\n",
       "      <th>999</th>\n",
       "      <td>3268.0</td>\n",
       "      <td>NaN</td>\n",
       "    </tr>\n",
       "  </tbody>\n",
       "</table>\n",
       "<p>1000 rows × 2 columns</p>\n",
       "</div>"
      ],
      "text/plain": [
       "       area          price\n",
       "0    1360.0   75561.009869\n",
       "1    4272.0  197449.640308\n",
       "2    3592.0  180621.795096\n",
       "3     966.0   45234.416477\n",
       "4    4926.0  232342.452693\n",
       "..      ...            ...\n",
       "995  3261.0  164587.880099\n",
       "996  3179.0  156818.403658\n",
       "997  2606.0  135836.079275\n",
       "998  4723.0  234621.268790\n",
       "999  3268.0            NaN\n",
       "\n",
       "[1000 rows x 2 columns]"
      ]
     },
     "execution_count": 33,
     "metadata": {},
     "output_type": "execute_result"
    }
   ],
   "source": [
    "df=pd.read_csv(r'C:\\Users\\Muhammad_Talha\\Downloads\\COHORT 7\\Week 1 + 2 + 3\\Machine Learning\\SLR_house_prices.csv')\n",
    "df"
   ]
  },
  {
   "cell_type": "code",
   "execution_count": 34,
   "metadata": {},
   "outputs": [],
   "source": [
    "area_mean=df['area'].mean()\n",
    "price_mean=df['price'].mean()"
   ]
  },
  {
   "cell_type": "code",
   "execution_count": 35,
   "metadata": {},
   "outputs": [
    {
     "name": "stdout",
     "output_type": "stream",
     "text": [
      "<class 'pandas.core.frame.DataFrame'>\n",
      "RangeIndex: 1000 entries, 0 to 999\n",
      "Data columns (total 2 columns):\n",
      " #   Column  Non-Null Count  Dtype  \n",
      "---  ------  --------------  -----  \n",
      " 0   area    1000 non-null   float64\n",
      " 1   price   1000 non-null   float64\n",
      "dtypes: float64(2)\n",
      "memory usage: 15.8 KB\n"
     ]
    }
   ],
   "source": [
    "#method 1 to fill null values\n",
    "df['area']=np.where(df['area'].isnull(), area_mean, df['area'])\n",
    "\n",
    "#method 2 to fill null values (this one prefered)\n",
    "df['price']=df['price'].fillna(price_mean)\n",
    "\n",
    "df.info()"
   ]
  },
  {
   "cell_type": "markdown",
   "metadata": {
    "id": "G7D97WY8E4KY"
   },
   "source": [
    "# 1st Task\n",
    "\n",
    "We will first define some helper functions to calculate the regression line for us. Apply these helper funtions on house price dataset and compare with your previous model (you built using sklearn built-in funtions)."
   ]
  },
  {
   "cell_type": "code",
   "execution_count": 36,
   "metadata": {
    "id": "5tYC0myrE4KY",
    "tags": []
   },
   "outputs": [],
   "source": [
    "# Helper functions\n",
    "# define standard unit function\n",
    "def standard_units(x):\n",
    "    return (x - np.mean(x)) / np.std(x)\n",
    "\n",
    "# define correlation function\n",
    "def correlation(x, y):\n",
    "    return np.mean(standard_units(x) * standard_units(y))\n",
    "\n",
    "# define slope function\n",
    "def slope(x, y):\n",
    "    r = correlation(x, y)\n",
    "    return r * np.std(y) / np.std(x)\n",
    "\n",
    "# define intercept function\n",
    "def intercept(x, y):\n",
    "    return np.mean(y) - slope(x, y) * np.mean(x)\n",
    "\n",
    "# define fit_least_squares function\n",
    "def fit_least_squares(x, y):\n",
    "    theta_1 = slope(x, y)\n",
    "    theta_0 = intercept(x, y)\n",
    "    return theta_0, theta_1\n",
    "\n",
    "\n",
    "# define predict function\n",
    "def predict(x, theta_0, theta_1):\n",
    "    return theta_0 + theta_1 * x\n",
    "\n",
    "# define mse function\n",
    "def compute_mse(y, yhat):\n",
    "    return np.mean((y - yhat) ** 2)\n",
    "\n"
   ]
  },
  {
   "cell_type": "markdown",
   "metadata": {
    "id": "qQnKujRZE4Ka"
   },
   "source": [
    "# 2nd Task\n",
    "Let's look at four different datasets. Without visualizing the data, let's try fitting the simple linear regression model to these four datasets!"
   ]
  },
  {
   "cell_type": "code",
   "execution_count": 37,
   "metadata": {
    "id": "EHqiqbI4E4Ka"
   },
   "outputs": [],
   "source": [
    "# Load in four different datasets: I, II, III, IV\n",
    "x = [10, 8, 13, 9, 11, 14, 6, 4, 12, 7, 5]\n",
    "y1 = [8.04, 6.95, 7.58, 8.81, 8.33, 9.96, 7.24, 4.26, 10.84, 4.82, 5.68]\n",
    "y2 = [9.14, 8.14, 8.74, 8.77, 9.26, 8.10, 6.13, 3.10, 9.13, 7.26, 4.74]\n",
    "y3 = [7.46, 6.77, 12.74, 7.11, 7.81, 8.84, 6.08, 5.39, 8.15, 6.42, 5.73]\n",
    "x4 = [8, 8, 8, 8, 8, 8, 8, 19, 8, 8, 8]\n",
    "y4 = [6.58, 5.76, 7.71, 8.84, 8.47, 7.04, 5.25, 12.50, 5.56, 7.91, 6.89]\n",
    "\n",
    "# create dataframes\n",
    "df1 = pd.DataFrame({'x': x, 'y': y1})\n",
    "df2 = pd.DataFrame({'x': x, 'y': y2})\n",
    "df3 = pd.DataFrame({'x': x, 'y': y3})\n",
    "df4 = pd.DataFrame({'x': x4, 'y': y4})\n",
    "\n",
    "# apply SLR model on these four Datasets\n",
    "m1, c1 = fit_least_squares(df1['x'], df1['y'])\n",
    "m2, c2 = fit_least_squares(df2['x'], df2['y'])\n",
    "m3, c3 = fit_least_squares(df3['x'], df3['y'])\n",
    "m4, c4 = fit_least_squares(df4['x'], df4['y'])\n"
   ]
  },
  {
   "cell_type": "code",
   "execution_count": 38,
   "metadata": {
    "id": "jZjHF0MSE4Kb",
    "outputId": "e70793d2-8df0-48af-ba12-1173652eb75c"
   },
   "outputs": [
    {
     "name": "stdout",
     "output_type": "stream",
     "text": [
      "{'df1': {'theta_0': 3.000090909090911, 'theta_1': 0.500090909090909}, 'df2': {'theta_0': 3.000909090909091, 'theta_1': 0.49999999999999994}, 'df3': {'theta_0': 3.0024545454545457, 'theta_1': 0.49972727272727274}, 'df4': {'theta_0': 3.0017272727272744, 'theta_1': 0.4999090909090907}}\n"
     ]
    }
   ],
   "source": [
    "# print values of both parameters (slope, intercept) for all these Datasets\n",
    "datasets = {'df1': (x, y1), 'df2': (x, y2), 'df3': (x, y3), 'df4': (x4, y4)}\n",
    "\n",
    "# Apply SLR model on these four datasets\n",
    "results = {}\n",
    "\n",
    "for name, (x, y) in datasets.items():\n",
    "    theta_0, theta_1 = fit_least_squares(x, y)\n",
    "    results[name] = {'theta_0': theta_0, 'theta_1': theta_1}\n",
    "print(results)"
   ]
  },
  {
   "cell_type": "markdown",
   "metadata": {
    "id": "xj71fKUdE4Kc"
   },
   "source": [
    "Looks like all four datasets have exactly the same fit.\n",
    "\n",
    "In fact, all four of them have the same $\\bar x$, $\\bar y$, $\\sigma_x$, $\\sigma_y$, correlation $r$, and RMSE! If we only look at these statistics, we will probably be inclined to say that these datasets are similar."
   ]
  },
  {
   "cell_type": "code",
   "execution_count": 39,
   "metadata": {
    "id": "dZAR5Cs8E4Kc",
    "outputId": "54bba381-c70e-40ab-e33c-746430fec0e4"
   },
   "outputs": [
    {
     "name": "stdout",
     "output_type": "stream",
     "text": [
      ">>> Dataset df1:\n",
      "x_mean : 9.00, y_mean : 7.50\n",
      "x_stdev: 3.16, y_stdev: 1.94\n",
      "r = Correlation(x, y): 0.816\n",
      "theta_0: 3.00, theta_1: 0.50\n",
      "RMSE: 1.119\n",
      "\n",
      ">>> Dataset df2:\n",
      "x_mean : 9.00, y_mean : 7.50\n",
      "x_stdev: 3.16, y_stdev: 1.94\n",
      "r = Correlation(x, y): 0.816\n",
      "theta_0: 3.00, theta_1: 0.50\n",
      "RMSE: 1.119\n",
      "\n",
      ">>> Dataset df3:\n",
      "x_mean : 9.00, y_mean : 7.50\n",
      "x_stdev: 3.16, y_stdev: 1.94\n",
      "r = Correlation(x, y): 0.816\n",
      "theta_0: 3.00, theta_1: 0.50\n",
      "RMSE: 1.118\n",
      "\n",
      ">>> Dataset df4:\n",
      "x_mean : 9.00, y_mean : 7.50\n",
      "x_stdev: 3.16, y_stdev: 1.94\n",
      "r = Correlation(x, y): 0.817\n",
      "theta_0: 3.00, theta_1: 0.50\n",
      "RMSE: 1.118\n",
      "\n"
     ]
    }
   ],
   "source": [
    "def compute_rmse(y, yhat):\n",
    "    return np.sqrt(compute_mse(y, yhat))\n",
    "for name, (x, y) in datasets.items():\n",
    "    x = np.array(x)\n",
    "    y = np.array(y)\n",
    "    theta_0, theta_1 = fit_least_squares(x, y)\n",
    "    y_pred = predict(x, theta_0, theta_1)\n",
    "    rmse = compute_rmse(y, y_pred)\n",
    "    \n",
    "    \n",
    "    x_mean = np.mean(x)\n",
    "    y_mean = np.mean(y)\n",
    "    x_stdev = np.std(x)  \n",
    "    y_stdev = np.std(y)  \n",
    "    r = correlation(x, y)\n",
    "    \n",
    "    \n",
    "    print(f\">>> Dataset {name}:\")\n",
    "    print(f\"x_mean : {x_mean:.2f}, y_mean : {y_mean:.2f}\")\n",
    "    print(f\"x_stdev: {x_stdev:.2f}, y_stdev: {y_stdev:.2f}\")\n",
    "    print(f\"r = Correlation(x, y): {r:.3f}\")\n",
    "    print(f\"theta_0: {theta_0:.2f}, theta_1: {theta_1:.2f}\")\n",
    "    print(f\"RMSE: {rmse:.3f}\")\n",
    "    print()"
   ]
  },
  {
   "cell_type": "markdown",
   "metadata": {
    "id": "52W0yXeAE4Kd"
   },
   "source": [
    "However, it is only when we visualize the datasets that we realize only one of these four sets of data makes sense to model using SLR."
   ]
  },
  {
   "cell_type": "code",
   "execution_count": 51,
   "metadata": {
    "id": "ZQMxmhiLE4Kd",
    "outputId": "fe7f0397-13bb-490b-a504-b6b2a06af61f"
   },
   "outputs": [
    {
     "data": {
      "image/png": "[encoded data removed]",
      "text/plain": [
       "<Figure size 432x288 with 1 Axes>"
      ]
     },
     "metadata": {
      "needs_background": "light"
     },
     "output_type": "display_data"
    },
    {
     "data": {
      "image/png": "[encoded data removed]",
      "text/plain": [
       "<Figure size 432x288 with 1 Axes>"
      ]
     },
     "metadata": {
      "needs_background": "light"
     },
     "output_type": "display_data"
    },
    {
     "data": {
      "image/png": "[encoded data removed]",
      "text/plain": [
       "<Figure size 432x288 with 1 Axes>"
      ]
     },
     "metadata": {
      "needs_background": "light"
     },
     "output_type": "display_data"
    },
    {
     "data": {
      "image/png": "[encoded data removed]",
      "text/plain": [
       "<Figure size 432x288 with 1 Axes>"
      ]
     },
     "metadata": {
      "needs_background": "light"
     },
     "output_type": "display_data"
    }
   ],
   "source": [
    "# visualize all four datasets\n",
    "for name, (x, y) in datasets.items():\n",
    "    x = np.array(x)\n",
    "    y = np.array(y)\n",
    "    theta_0 = results[name]['theta_0']\n",
    "    theta_1 = results[name]['theta_1']\n",
    "    y_pred = predict(x, theta_0, theta_1)\n",
    "    \n",
    "    plt.figure(figsize=(6,4))\n",
    "    plt.scatter(x, y, label='Data points')\n",
    "    plt.title(f'Dataset {name}')\n",
    "    plt.xlabel('x')\n",
    "    plt.ylabel('y')\n",
    "    plt.legend()\n",
    "    plt.show()"
   ]
  },
  {
   "cell_type": "markdown",
   "metadata": {
    "id": "d05QbRldE4Kd"
   },
   "source": [
    "Checking the residuals will also shed light on the differences among these four datasets.\n",
    "\n",
    "If you remember from Data 8, \"the residual plot of a good regression shows no pattern\"."
   ]
  },
  {
   "cell_type": "code",
   "execution_count": 52,
   "metadata": {
    "id": "x5WkoUOiE4Kd",
    "outputId": "d1764df1-d258-4462-de57-0ac32bdc0036"
   },
   "outputs": [
    {
     "data": {
      "image/png": "[encoded data removed]",
      "text/plain": [
       "<Figure size 576x432 with 1 Axes>"
      ]
     },
     "metadata": {
      "needs_background": "light"
     },
     "output_type": "display_data"
    },
    {
     "data": {
      "image/png": "[encoded data removed]",
      "text/plain": [
       "<Figure size 576x432 with 1 Axes>"
      ]
     },
     "metadata": {
      "needs_background": "light"
     },
     "output_type": "display_data"
    },
    {
     "data": {
      "image/png": "[encoded data removed]",
      "text/plain": [
       "<Figure size 576x432 with 1 Axes>"
      ]
     },
     "metadata": {
      "needs_background": "light"
     },
     "output_type": "display_data"
    },
    {
     "data": {
      "image/png": "[encoded data removed]",
      "text/plain": [
       "<Figure size 576x432 with 1 Axes>"
      ]
     },
     "metadata": {
      "needs_background": "light"
     },
     "output_type": "display_data"
    }
   ],
   "source": [
    "# plot residual with respect to x for all four Datasets\n",
    "for name, (x, y) in datasets.items():\n",
    "    x = np.array(x)\n",
    "    y = np.array(y)\n",
    "    theta_0 = results[name]['theta_0']\n",
    "    theta_1 = results[name]['theta_1']\n",
    "    y_pred = predict(x, theta_0, theta_1)\n",
    "    residuals = y - y_pred\n",
    "    \n",
    "    plt.figure(figsize=(8, 6))\n",
    "    plt.scatter(x, residuals, label='Residuals')\n",
    "    plt.axhline(0, color='red', linestyle='--')\n",
    "    plt.title(f'Residuals Plot for Dataset {name}')\n",
    "    plt.xlabel('x')\n",
    "    plt.ylabel('Residuals')\n",
    "    plt.legend()\n",
    "    plt.show()"
   ]
  },
  {
   "cell_type": "markdown",
   "metadata": {
    "id": "bJbCKxFzE4Ke"
   },
   "source": [
    "The takeaway here is that you should always visualize your datasets before fitting any models to it!"
   ]
  }
 ],
 "metadata": {
  "colab": {
   "provenance": []
  },
  "kernelspec": {
   "display_name": "Python 3 (ipykernel)",
   "language": "python",
   "name": "python3"
  },
  "language_info": {
   "codemirror_mode": {
    "name": "ipython",
    "version": 3
   },
   "file_extension": ".py",
   "mimetype": "text/x-python",
   "name": "python",
   "nbconvert_exporter": "python",
   "pygments_lexer": "ipython3",
   "version": "3.9.7"
  }
 },
 "nbformat": 4,
 "nbformat_minor": 1
}
