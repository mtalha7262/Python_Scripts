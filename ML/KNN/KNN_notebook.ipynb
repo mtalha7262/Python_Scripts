{
  "cells": [
    {
      "cell_type": "code",
      "execution_count": 1,
      "metadata": {
        "id": "S1VuPPDQdGra"
      },
      "outputs": [],
      "source": [
        "#K Nearest Neighbors and decision tree with Python\n",
        "#Import Libraries\n",
        "\n",
        "import numpy as np\n",
        "import pandas as pd"
      ]
    },
    {
      "cell_type": "code",
      "execution_count": null,
      "metadata": {
        "id": "KMDljmwcdLVs"
      },
      "outputs": [],
      "source": [
        "#This data set has completely random columns with no context to anything just like any company would provide you with during an Interview\n",
        "#Load the Data Classified Data\n"
      ]
    },
    {
      "cell_type": "markdown",
      "metadata": {
        "id": "lct3YyU-dPXY"
      },
      "source": [
        "\n",
        "Because the **KNN** classifier predicts the class of a given test observation\n",
        "by identifying the observations that are nearest to it, the scale of the\n",
        "variables matters. Any variables that are on a large scale will have a much\n",
        "larger effect on the distance between the observations, and hence on the KNN\n",
        "classifier, than variables that are on a small scale."
      ]
    },
    {
      "cell_type": "code",
      "execution_count": null,
      "metadata": {
        "id": "0Fy99un7daW5"
      },
      "outputs": [],
      "source": [
        "from sklearn.preprocessing import StandardScaler\n",
        "#Standardize the input Variables, don't include TARGET CLASS in input dataframe\n"
      ]
    },
    {
      "cell_type": "code",
      "execution_count": null,
      "metadata": {
        "id": "G8f2ORpCdq0H"
      },
      "outputs": [],
      "source": [
        "#Train-Test Split\n"
      ]
    },
    {
      "cell_type": "code",
      "execution_count": null,
      "metadata": {
        "id": "ZjBigjJidus2"
      },
      "outputs": [],
      "source": [
        "## Using KNN\n",
        "#Remember that we are trying to come up with a model to predict class label for test observation. We'll start with k=1.\n"
      ]
    },
    {
      "cell_type": "code",
      "execution_count": null,
      "metadata": {
        "id": "F0ZlS6_4dyol"
      },
      "outputs": [],
      "source": []
    },
    {
      "cell_type": "code",
      "execution_count": null,
      "metadata": {
        "id": "rvnEUjEbd7wp"
      },
      "outputs": [],
      "source": [
        "#Predicting and evavluations\n",
        "#Let's evaluate our knn model.\n",
        "\n",
        "\n",
        "#[[125  18]\n",
        "# [ 13 144]]"
      ]
    },
    {
      "cell_type": "markdown",
      "metadata": {
        "id": "mE93G1JTeBBd"
      },
      "source": [
        "print(classification_report(y_test,pred))\n",
        "\n",
        "        precision    recall  f1-score   support\n",
        "\n",
        "         0       0.91      0.87      0.89       143\n",
        "         1       0.89      0.92      0.90       157\n",
        "         Total   0.90      0.90      0.90       300"
      ]
    },
    {
      "cell_type": "code",
      "execution_count": null,
      "metadata": {
        "id": "cGGDaV5Cenx7"
      },
      "outputs": [],
      "source": [
        "#Let's go ahead and use the elbow method to pick a good K Value:\n",
        "\n",
        "error_rate = []\n",
        "\n",
        "\n",
        "# Will take some time\n",
        "\n",
        "\n",
        "plt.figure(figsize=(10,6))\n",
        "\n",
        "plt.plot(range(1,40),error_rate, color='blue', linestyle='dashed', marker='o',markerfacecolor='red', markersize=10)\n",
        "\n",
        "plt.title('Error Rate vs. K Value')\n",
        "\n",
        "plt.xlabel('K')\n",
        "\n",
        "plt.ylabel('Error Rate')\n"
      ]
    },
    {
      "cell_type": "code",
      "execution_count": null,
      "metadata": {
        "id": "v4mo_Z2dfEZw"
      },
      "outputs": [],
      "source": [
        "# FIRST A QUICK COMPARISON TO OUR ORIGINAL K=1\n",
        "\n",
        "print('WITH K=1')\n",
        "print('\\n')\n",
        "print(confusion_matrix(y_test,pred))\n",
        "print('\\n')\n",
        "print(classification_report(y_test,pred))"
      ]
    },
    {
      "cell_type": "code",
      "execution_count": null,
      "metadata": {
        "id": "X5MhRTnjfNQj"
      },
      "outputs": [],
      "source": [
        "# NOW WITH K=23\n",
        "\n",
        "\n",
        "\n",
        "print('WITH K=23')\n",
        "print('\\n')\n",
        "print(confusion_matrix(y_test,pred))\n",
        "print('\\n')\n",
        "print(classification_report(y_test,pred))\n",
        "\n",
        "WITH K=23"
      ]
    }
  ],
  "metadata": {
    "colab": {
      "provenance": []
    },
    "kernelspec": {
      "display_name": "Python 3",
      "name": "python3"
    },
    "language_info": {
      "codemirror_mode": {
        "name": "ipython",
        "version": 3
      },
      "file_extension": ".py",
      "mimetype": "text/x-python",
      "name": "python",
      "nbconvert_exporter": "python",
      "pygments_lexer": "ipython3",
      "version": "3.12.3"
    }
  },
  "nbformat": 4,
  "nbformat_minor": 0
}
