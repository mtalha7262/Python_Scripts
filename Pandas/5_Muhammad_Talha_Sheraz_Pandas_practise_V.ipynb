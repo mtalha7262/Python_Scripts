{
 "cells": [
  {
   "cell_type": "markdown",
   "metadata": {
    "id": "NIjiNewjikKW"
   },
   "source": [
    "# Lecture 5 –Fall 2024\n",
    "\n",
    "A demonstration of advanced `pandas` syntax to accompany Lecture 4."
   ]
  },
  {
   "cell_type": "code",
   "execution_count": null,
   "metadata": {
    "id": "cgdnHZXjimq0"
   },
   "outputs": [],
   "source": [
    "from google.colab import drive\n",
    "drive.mount('/content/drive')"
   ]
  },
  {
   "cell_type": "code",
   "execution_count": 1,
   "metadata": {
    "id": "iMMkYGl7ikKa"
   },
   "outputs": [],
   "source": [
    "import numpy as np\n",
    "import pandas as pd\n",
    "import plotly.express as px"
   ]
  },
  {
   "cell_type": "markdown",
   "metadata": {
    "id": "iD2Qu34XikKi"
   },
   "source": [
    "## Dataset: California baby names\n",
    "\n",
    "In today's lecture, we'll work with the `babynames` dataset, which contains information about the names of infants born in California.\n",
    "\n",
    "The cell below pulls census data from a government website and then loads it into a usable form. The code shown here is outside of the scope of Data 100, but you're encouraged to dig into it if you are interested!"
   ]
  },
  {
   "cell_type": "code",
   "execution_count": 2,
   "metadata": {
    "colab": {
     "base_uri": "https://localhost:8080/",
     "height": 206
    },
    "id": "PXW2WryKikKi",
    "outputId": "f10843bb-d2d0-4a61-c59f-96cfba6825b3"
   },
   "outputs": [
    {
     "data": {
      "text/html": [
       "<div>\n",
       "<style scoped>\n",
       "    .dataframe tbody tr th:only-of-type {\n",
       "        vertical-align: middle;\n",
       "    }\n",
       "\n",
       "    .dataframe tbody tr th {\n",
       "        vertical-align: top;\n",
       "    }\n",
       "\n",
       "    .dataframe thead th {\n",
       "        text-align: right;\n",
       "    }\n",
       "</style>\n",
       "<table border=\"1\" class=\"dataframe\">\n",
       "  <thead>\n",
       "    <tr style=\"text-align: right;\">\n",
       "      <th></th>\n",
       "      <th>State</th>\n",
       "      <th>Sex</th>\n",
       "      <th>Year</th>\n",
       "      <th>Name</th>\n",
       "      <th>Count</th>\n",
       "    </tr>\n",
       "  </thead>\n",
       "  <tbody>\n",
       "    <tr>\n",
       "      <th>0</th>\n",
       "      <td>CA</td>\n",
       "      <td>F</td>\n",
       "      <td>1910</td>\n",
       "      <td>Mary</td>\n",
       "      <td>295</td>\n",
       "    </tr>\n",
       "    <tr>\n",
       "      <th>1</th>\n",
       "      <td>CA</td>\n",
       "      <td>F</td>\n",
       "      <td>1910</td>\n",
       "      <td>Helen</td>\n",
       "      <td>239</td>\n",
       "    </tr>\n",
       "    <tr>\n",
       "      <th>2</th>\n",
       "      <td>CA</td>\n",
       "      <td>F</td>\n",
       "      <td>1910</td>\n",
       "      <td>Dorothy</td>\n",
       "      <td>220</td>\n",
       "    </tr>\n",
       "    <tr>\n",
       "      <th>3</th>\n",
       "      <td>CA</td>\n",
       "      <td>F</td>\n",
       "      <td>1910</td>\n",
       "      <td>Margaret</td>\n",
       "      <td>163</td>\n",
       "    </tr>\n",
       "    <tr>\n",
       "      <th>4</th>\n",
       "      <td>CA</td>\n",
       "      <td>F</td>\n",
       "      <td>1910</td>\n",
       "      <td>Frances</td>\n",
       "      <td>134</td>\n",
       "    </tr>\n",
       "  </tbody>\n",
       "</table>\n",
       "</div>"
      ],
      "text/plain": [
       "  State Sex  Year      Name  Count\n",
       "0    CA   F  1910      Mary    295\n",
       "1    CA   F  1910     Helen    239\n",
       "2    CA   F  1910   Dorothy    220\n",
       "3    CA   F  1910  Margaret    163\n",
       "4    CA   F  1910   Frances    134"
      ]
     },
     "execution_count": 2,
     "metadata": {},
     "output_type": "execute_result"
    }
   ],
   "source": [
    "import urllib.request\n",
    "import os.path\n",
    "import zipfile\n",
    "\n",
    "data_url = \"https://www.ssa.gov/oact/babynames/state/namesbystate.zip\"\n",
    "local_filename = \"babynamesbystate.zip\"\n",
    "if not os.path.exists(local_filename): # If the data exists don't download again\n",
    "    with urllib.request.urlopen(data_url) as resp, open(local_filename, 'wb') as f:\n",
    "        f.write(resp.read())\n",
    "\n",
    "zf = zipfile.ZipFile(local_filename, 'r')\n",
    "\n",
    "ca_name = 'CA.TXT'\n",
    "field_names = ['State', 'Sex', 'Year', 'Name', 'Count']\n",
    "with zf.open(ca_name) as fh:\n",
    "    babynames = pd.read_csv(fh, header=None, names=field_names)\n",
    "\n",
    "babynames.head()"
   ]
  },
  {
   "cell_type": "markdown",
   "metadata": {
    "id": "xnszvDOfikKt"
   },
   "source": [
    "## Case Study: Name \"Popularity\""
   ]
  },
  {
   "cell_type": "markdown",
   "metadata": {
    "id": "tbOi1sfmikKt"
   },
   "source": [
    "#**Case Study Question**\n",
    "**Title**: Identifying the Most Consistently Popular Female Baby Name Over Time\n",
    "\n",
    "Objective:\n",
    "In this exercise, we will analyze the dataset to find the female baby name that has shown the most consistent popularity over the years. This involves filtering the data, calculating the consistency of name counts, and determining the most stable name.\n",
    "\n"
   ]
  },
  {
   "cell_type": "markdown",
   "metadata": {
    "id": "HSFiFDyMM8GG"
   },
   "source": [
    "# Instructions:\n",
    "\n",
    "**Data** Preparation:\n",
    "\n",
    "Filter the dataset to only include entries where the sex is \"F\" (female).\n",
    "Calculate Consistency:\n",
    "\n",
    "For each name, calculate the standard deviation of the counts over the years. A lower standard deviation indicates more consistent popularity.\n",
    "**Identify Most Consistent Name:**\n",
    "\n",
    "Determine the name with the lowest standard deviation in counts, signifying the most consistent popularity.\n"
   ]
  },
  {
   "cell_type": "code",
   "execution_count": 9,
   "metadata": {
    "id": "BIMyQ0W9ikKt"
   },
   "outputs": [
    {
     "name": "stdout",
     "output_type": "stream",
     "text": [
      "\n",
      "Most consistently popular female baby name: Aaleah\n",
      "\n",
      "Standard deviation of counts: 0.0\n",
      "\n",
      " Sorted by consistency (standard deviation): \n",
      "Name\n",
      "Suriah     0.0\n",
      "Lavanya    0.0\n",
      "Alyzza     0.0\n",
      "Lavena     0.0\n",
      "Lavera     0.0\n",
      "          ... \n",
      "Zula       NaN\n",
      "Zuleidy    NaN\n",
      "Zunaira    NaN\n",
      "Zuni       NaN\n",
      "Zuzu       NaN\n",
      "Name: Count, Length: 13930, dtype: float64\n"
     ]
    }
   ],
   "source": [
    "\n",
    "# Filter the dataset to only include female baby names\n",
    "babynames_f = babynames[babynames['Sex'] == 'F']\n",
    "\n",
    "# standard deviation of the counts for each name\n",
    "std_devs = babynames_f.groupby('Name')['Count'].std()\n",
    "\n",
    "# lowest standard deviation\n",
    "most_consistent_name = std_devs.idxmin()\n",
    "lowest_std_dev = std_devs.min()\n",
    "\n",
    "print(\"\\nMost consistently popular female baby name:\", most_consistent_name)\n",
    "print(\"\\nStandard deviation of counts:\", round(lowest_std_dev, 2))\n",
    "\n",
    "# sorted list of names by their consistency\n",
    "sorted_std_devs = std_devs.sort_values()\n",
    "print(\"\\n Sorted by consistency (standard deviation): \")\n",
    "print(sorted_std_devs)"
   ]
  },
  {
   "cell_type": "code",
   "execution_count": null,
   "metadata": {},
   "outputs": [],
   "source": []
  }
 ],
 "metadata": {
  "colab": {
   "provenance": []
  },
  "kernelspec": {
   "display_name": "Python 3 (ipykernel)",
   "language": "python",
   "name": "python3"
  },
  "language_info": {
   "codemirror_mode": {
    "name": "ipython",
    "version": 3
   },
   "file_extension": ".py",
   "mimetype": "text/x-python",
   "name": "python",
   "nbconvert_exporter": "python",
   "pygments_lexer": "ipython3",
   "version": "3.9.7"
  }
 },
 "nbformat": 4,
 "nbformat_minor": 1
}
