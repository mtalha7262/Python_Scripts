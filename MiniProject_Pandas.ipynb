{
  "nbformat": 4,
  "nbformat_minor": 0,
  "metadata": {
    "colab": {
      "provenance": []
    },
    "kernelspec": {
      "name": "python3",
      "display_name": "Python 3"
    },
    "language_info": {
      "name": "python"
    }
  },
  "cells": [
    {
      "cell_type": "markdown",
      "source": [
        "# **PANDAS MINI PROJECT**"
      ],
      "metadata": {
        "id": "7Rb5B_ztRqUQ"
      }
    },
    {
      "cell_type": "markdown",
      "source": [
        "You are a data analyst at a university tasked with analyzing the grades of students in a course. Your goal is to provide insights into the performance of students, identify patterns, and make recommendations for improving student outcomes. You will use Python, Pandas, and Numpy to load, clean, and analyze the data where appropriate"
      ],
      "metadata": {
        "id": "QvYtn25TTZGT"
      }
    },
    {
      "cell_type": "code",
      "execution_count": null,
      "metadata": {
        "id": "Txrd6z3aRpcX"
      },
      "outputs": [],
      "source": [
        "#load the libraries"
      ]
    },
    {
      "cell_type": "code",
      "source": [
        "#load the roster file and display first 5 rows"
      ],
      "metadata": {
        "id": "6kJ4XHjhTqtn"
      },
      "execution_count": null,
      "outputs": []
    },
    {
      "cell_type": "markdown",
      "source": [
        "Eh? This is not the data that we want :( We want to have it more modified."
      ],
      "metadata": {
        "id": "sDjj1i0rTxiP"
      }
    },
    {
      "cell_type": "markdown",
      "source": [
        "  We want the 'roster' to be something else! How though:\n",
        "\n",
        "  We want **NetID**, **Email Address** and **Section** but somehow different:\n",
        "\n",
        "  1. NetID: make the each string in lowercase and have it set as an index.\n",
        "  2. Email Address: have the string in lowercase\n",
        "\n",
        "  and after that, have these 3 columns display in a dataframe."
      ],
      "metadata": {
        "id": "cqytwq_wUKKu"
      }
    },
    {
      "cell_type": "code",
      "source": [
        "#data pre-processing"
      ],
      "metadata": {
        "id": "dPbd8PnIUBM5"
      },
      "execution_count": null,
      "outputs": []
    },
    {
      "cell_type": "markdown",
      "source": [
        "### **Load the homework and exam data**"
      ],
      "metadata": {
        "id": "HO9-PRr3Xbdu"
      }
    },
    {
      "cell_type": "code",
      "source": [
        "#load the hw_exam_grades and display first 5 rows"
      ],
      "metadata": {
        "id": "yeJWNLeVXgIk"
      },
      "execution_count": null,
      "outputs": []
    },
    {
      "cell_type": "markdown",
      "source": [
        "The data is not cleaned. We also want to do something different to it.\n",
        "\n",
        "We want the data to be indexed on the basis of SID and remove all the columns which has the word 'Submission' in it using lambda filter."
      ],
      "metadata": {
        "id": "Er3uzS1FbfAS"
      }
    },
    {
      "cell_type": "code",
      "source": [
        "#if you attempt to remove the submissional columns without lambda filter, points will be deducted accordingly."
      ],
      "metadata": {
        "id": "2J2uaJCibaze"
      },
      "execution_count": null,
      "outputs": []
    },
    {
      "cell_type": "markdown",
      "source": [
        "### **Load the Quiz Files**"
      ],
      "metadata": {
        "id": "8ny2LipqcoOu"
      }
    },
    {
      "cell_type": "markdown",
      "source": [
        "Load quiz grades (quiz_1_grades.csv, ..., quiz_5_grades.csv)"
      ],
      "metadata": {
        "id": "LoZhHyC2cvAs"
      }
    },
    {
      "cell_type": "code",
      "source": [
        "#load all the quizzes now, but i want it the dataframe to be indexed on emails, and return all quizzes corresponding to that email.\n",
        "#for the expected output of this code, refer to the submissional pdf shared with you in whatsapp group."
      ],
      "metadata": {
        "id": "LmL7KFRjcr8C"
      },
      "execution_count": null,
      "outputs": []
    },
    {
      "cell_type": "markdown",
      "source": [
        "Now, join the roster and the hw_exam_grades and store it in a df named '**final_df**' display first 5 rows."
      ],
      "metadata": {
        "id": "9VYRivVXebm5"
      }
    },
    {
      "cell_type": "code",
      "source": [],
      "metadata": {
        "id": "L1mhihOjejPg"
      },
      "execution_count": null,
      "outputs": []
    },
    {
      "cell_type": "markdown",
      "source": [
        "Also, display quiz **columns** and **indexes** in two seperate code blocks to make sure you get the sense of the data."
      ],
      "metadata": {
        "id": "zhGPTx-Zeo0j"
      }
    },
    {
      "cell_type": "code",
      "source": [],
      "metadata": {
        "id": "VSZYj5LUeuPD"
      },
      "execution_count": null,
      "outputs": []
    },
    {
      "cell_type": "markdown",
      "source": [
        "### **Merging the Grade DataFrame**"
      ],
      "metadata": {
        "id": "F1oFNdSxfJlq"
      }
    },
    {
      "cell_type": "code",
      "source": [
        "#now merge the final_df and quiz grades, on EMAIL ADDRESS and overwrite it in final_df variable\n",
        "\n",
        "#fill empty values with 0 as well"
      ],
      "metadata": {
        "id": "O-F-6taGfNp3"
      },
      "execution_count": null,
      "outputs": []
    },
    {
      "cell_type": "markdown",
      "source": [
        "### **Calculate Grades with Pandas DataFrame**"
      ],
      "metadata": {
        "id": "cUxy41lWfylz"
      }
    },
    {
      "cell_type": "markdown",
      "source": [
        "### Exam Grades"
      ],
      "metadata": {
        "id": "s6fjqhSYgKsw"
      }
    },
    {
      "cell_type": "markdown",
      "source": [
        "Now, I want you to calculate the percentage of all 3 exams and then have it display at the end of the final_df"
      ],
      "metadata": {
        "id": "65cm6tCAg-Mj"
      }
    },
    {
      "cell_type": "code",
      "source": [
        "#to find the percentage:   Exam 1 / Exam 1 max points.\n",
        "#Hint: you can use fstrings and loops for it"
      ],
      "metadata": {
        "id": "Im-sIQKUf3fw"
      },
      "execution_count": null,
      "outputs": []
    },
    {
      "cell_type": "markdown",
      "source": [
        "### Homework Grades"
      ],
      "metadata": {
        "id": "FMw9WUNnhhkU"
      }
    },
    {
      "cell_type": "markdown",
      "source": [
        "**Question 1: Identifying Homework Columns**"
      ],
      "metadata": {
        "id": "qFnuzQdPjztb"
      }
    },
    {
      "cell_type": "code",
      "source": [
        "#Identify and separate the columns representing homework scores and their respective maximum points."
      ],
      "metadata": {
        "id": "yqIsl6Bdhvy0"
      },
      "execution_count": null,
      "outputs": []
    },
    {
      "cell_type": "markdown",
      "source": [
        "**Question 2: Calculating Homework Score by Total Method**"
      ],
      "metadata": {
        "id": "UCMQC1e5j4Uq"
      }
    },
    {
      "cell_type": "code",
      "source": [
        "#Calculate the homework scores by summing the actual scores and dividing by the total possible points."
      ],
      "metadata": {
        "id": "D797ktx-j4A5"
      },
      "execution_count": null,
      "outputs": []
    },
    {
      "cell_type": "markdown",
      "source": [
        "**Question 3: Storing Homework Score by Total Method**"
      ],
      "metadata": {
        "id": "Ok_dUXo7j9uB"
      }
    },
    {
      "cell_type": "code",
      "source": [
        "#Add the calculated total homework scores to the DataFrame."
      ],
      "metadata": {
        "id": "tGZJ4M5TkA83"
      },
      "execution_count": null,
      "outputs": []
    },
    {
      "cell_type": "markdown",
      "source": [
        "**Question 4: Preparing Data for Average Calculation**"
      ],
      "metadata": {
        "id": "y_5mU07qkDCZ"
      }
    },
    {
      "cell_type": "code",
      "source": [
        "#Prepare the maximum points data to align with the actual scores for element-wise division."
      ],
      "metadata": {
        "id": "9oXgN6qEkFYb"
      },
      "execution_count": null,
      "outputs": []
    },
    {
      "cell_type": "markdown",
      "source": [
        "**Question 5: Calculating Homework Score by Average Method**"
      ],
      "metadata": {
        "id": "KG8IM7sPkItf"
      }
    },
    {
      "cell_type": "code",
      "source": [
        "#Calculate the average homework scores by dividing each actual score by its corresponding maximum points, summing these ratios, and then dividing by the number of assignments."
      ],
      "metadata": {
        "id": "TPreeOdPkKuP"
      },
      "execution_count": null,
      "outputs": []
    },
    {
      "cell_type": "markdown",
      "source": [
        "**Question 6: Storing Homework Score by Average Method**"
      ],
      "metadata": {
        "id": "9lDQhVUjkOzM"
      }
    },
    {
      "cell_type": "code",
      "source": [
        "#Add the calculated average homework scores to the DataFrame."
      ],
      "metadata": {
        "id": "JPSYWf-PkRAf"
      },
      "execution_count": null,
      "outputs": []
    },
    {
      "cell_type": "markdown",
      "source": [
        "**Question 7: Determining the Final Homework Score**"
      ],
      "metadata": {
        "id": "LKUlQuDxkXKn"
      }
    },
    {
      "cell_type": "code",
      "source": [
        "#Determine the final homework score for each student by taking the maximum value between the total and average methods."
      ],
      "metadata": {
        "id": "ZmzfR4g5kX22"
      },
      "execution_count": null,
      "outputs": []
    },
    {
      "cell_type": "markdown",
      "source": [
        "For the output, you may refer to the output refered in the Submission Book."
      ],
      "metadata": {
        "id": "BfOWBOockaPd"
      }
    },
    {
      "cell_type": "markdown",
      "source": [
        "## Quiz Grades\n",
        "\n",
        "If you used any other method instead of regex to filter the columns, it will result in appropriate points deduction."
      ],
      "metadata": {
        "id": "wukcjmJLkmnX"
      }
    },
    {
      "cell_type": "code",
      "source": [
        "#Filter the columns representing quiz scores using regex."
      ],
      "metadata": {
        "id": "R7IifY7Ykroe"
      },
      "execution_count": null,
      "outputs": []
    },
    {
      "cell_type": "markdown",
      "source": [
        "1. Count the number of quizzes.\n",
        "2. Define the maximum possible points for each quiz.\n",
        "3. Compute the quiz score using the total method.\n",
        "4. Compute the quiz score using the average method.\n",
        "5. Determine the final quiz score by taking the maximum of the two methods.\n",
        "6. Display the DataFrame to check the results"
      ],
      "metadata": {
        "id": "FdOB5AcnnY0q"
      }
    },
    {
      "cell_type": "code",
      "source": [
        "#Expected Output: The DataFrame should contain an additional column 'Quiz Score' showing the final quiz score for each student, calculated as the maximum value between the total and average methods."
      ],
      "metadata": {
        "id": "CkOpXTGxng3W"
      },
      "execution_count": null,
      "outputs": []
    },
    {
      "cell_type": "markdown",
      "source": [
        "## Group the data to calculate final scores!"
      ],
      "metadata": {
        "id": "FmBJIGy_ntjQ"
      }
    },
    {
      "cell_type": "code",
      "source": [
        "weights = pd.Series(\n",
        "    {\n",
        "        \"Exam 1 Score\": 0.05,\n",
        "        \"Exam 2 Score\": 0.10,\n",
        "        \"Exam 3 Score\": 0.15,\n",
        "        \"Quiz Score\": 0.30,\n",
        "        \"Homework Score\": 0.40,\n",
        "    }\n",
        ")"
      ],
      "metadata": {
        "id": "4GgoKOkbnveP"
      },
      "execution_count": null,
      "outputs": []
    },
    {
      "cell_type": "markdown",
      "source": [
        "1. Define the weights for each component.\n",
        "2. Calculate the final score by applying the weights to each component and summing the results.\n",
        "3. Calculate the ceiling score by rounding up the final score multiplied by 100.\n",
        "4. Define a function to convert numeric scores to letter grades based on standard thresholds.\n",
        "5. Map the ceiling scores to letter grades.\n",
        "6. Store the letter grades as a categorical column in the DataFrame.\n",
        "7. Display the final letter grades."
      ],
      "metadata": {
        "id": "wnYfs52Iozs5"
      }
    },
    {
      "cell_type": "code",
      "source": [
        "#For Expected output, refer to the submissional pdf."
      ],
      "metadata": {
        "id": "Lx0dBZaKo4XQ"
      },
      "execution_count": null,
      "outputs": []
    },
    {
      "cell_type": "markdown",
      "source": [
        "### Now, you have to write the data back to CSV."
      ],
      "metadata": {
        "id": "BIzxWfUtpCmE"
      }
    },
    {
      "cell_type": "code",
      "source": [
        "#For the expected output, refer to the submissional pdf."
      ],
      "metadata": {
        "id": "4lMitVGJpGlw"
      },
      "execution_count": null,
      "outputs": []
    }
  ]
}