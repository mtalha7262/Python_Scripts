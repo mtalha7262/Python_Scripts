{
 "cells": [
  {
   "cell_type": "markdown",
   "metadata": {
    "id": "Wid8A25p1gtI"
   },
   "source": [
    "# Text Wrangling and Regex\n",
    "\n",
    "Working with text: applying string methods and regular expressions"
   ]
  },
  {
   "cell_type": "code",
   "execution_count": 1,
   "metadata": {
    "colab": {
     "base_uri": "https://localhost:8080/"
    },
    "id": "9IpmMuA31rxp",
    "outputId": "266cd9d9-31e0-4024-813f-d93e332ca614"
   },
   "outputs": [
    {
     "name": "stdout",
     "output_type": "stream",
     "text": [
      "Mounted at /content/drive\n"
     ]
    }
   ],
   "source": [
    "from google.colab import drive\n",
    "drive.mount('/content/drive')"
   ]
  },
  {
   "cell_type": "code",
   "execution_count": 59,
   "metadata": {
    "ExecuteTime": {
     "end_time": "2018-02-02T15:15:15.363920Z",
     "start_time": "2018-02-02T15:15:14.337886Z"
    },
    "id": "dXZ5X0Yl1gtM"
   },
   "outputs": [],
   "source": [
    "import matplotlib.pyplot as plt\n",
    "import numpy as np\n",
    "import pandas as pd\n",
    "import seaborn as sns\n",
    "import zipfile\n",
    "import pandas as pd"
   ]
  },
  {
   "cell_type": "markdown",
   "metadata": {
    "id": "fa10dkWs1gtO"
   },
   "source": [
    "## Demo 1: Canonicalizing County Names"
   ]
  },
  {
   "cell_type": "markdown",
   "metadata": {
    "id": "tG6DdsuwCT_2"
   },
   "source": [
    "Load both **county_and_state.csv** and **county_and_population.csv**"
   ]
  },
  {
   "cell_type": "code",
   "execution_count": 14,
   "metadata": {
    "colab": {
     "base_uri": "https://localhost:8080/",
     "height": 175
    },
    "id": "fj1lHsMP1gtO",
    "outputId": "8dc32aa3-7d03-481a-8ad3-7c173742c306"
   },
   "outputs": [
    {
     "data": {
      "text/html": [
       "<div>\n",
       "<style scoped>\n",
       "    .dataframe tbody tr th:only-of-type {\n",
       "        vertical-align: middle;\n",
       "    }\n",
       "\n",
       "    .dataframe tbody tr th {\n",
       "        vertical-align: top;\n",
       "    }\n",
       "\n",
       "    .dataframe thead th {\n",
       "        text-align: right;\n",
       "    }\n",
       "</style>\n",
       "<table border=\"1\" class=\"dataframe\">\n",
       "  <thead>\n",
       "    <tr style=\"text-align: right;\">\n",
       "      <th></th>\n",
       "      <th>County</th>\n",
       "      <th>Population</th>\n",
       "    </tr>\n",
       "  </thead>\n",
       "  <tbody>\n",
       "    <tr>\n",
       "      <th>0</th>\n",
       "      <td>DeWitt</td>\n",
       "      <td>16798</td>\n",
       "    </tr>\n",
       "    <tr>\n",
       "      <th>1</th>\n",
       "      <td>Lac Qui Parle</td>\n",
       "      <td>8067</td>\n",
       "    </tr>\n",
       "    <tr>\n",
       "      <th>2</th>\n",
       "      <td>Lewis &amp; Clark</td>\n",
       "      <td>55716</td>\n",
       "    </tr>\n",
       "    <tr>\n",
       "      <th>3</th>\n",
       "      <td>St. John the Baptist</td>\n",
       "      <td>43044</td>\n",
       "    </tr>\n",
       "  </tbody>\n",
       "</table>\n",
       "</div>"
      ],
      "text/plain": [
       "                 County  Population\n",
       "0                DeWitt       16798\n",
       "1         Lac Qui Parle        8067\n",
       "2         Lewis & Clark       55716\n",
       "3  St. John the Baptist       43044"
      ]
     },
     "execution_count": 14,
     "metadata": {},
     "output_type": "execute_result"
    }
   ],
   "source": [
    "# display both frames\n",
    "c_population = pd.read_csv(r'C:\\Users\\Muhammad_Talha\\Downloads\\COHORT 7\\Week 1 + 2\\Data Wrangling\\county_and_population.csv')\n",
    "c_population\n"
   ]
  },
  {
   "cell_type": "code",
   "execution_count": 15,
   "metadata": {
    "colab": {
     "base_uri": "https://localhost:8080/",
     "height": 175
    },
    "id": "x_L-Rn71E24g",
    "outputId": "55b5aa16-9d10-40b1-813b-dbd9bf2f5577"
   },
   "outputs": [
    {
     "data": {
      "text/html": [
       "<div>\n",
       "<style scoped>\n",
       "    .dataframe tbody tr th:only-of-type {\n",
       "        vertical-align: middle;\n",
       "    }\n",
       "\n",
       "    .dataframe tbody tr th {\n",
       "        vertical-align: top;\n",
       "    }\n",
       "\n",
       "    .dataframe thead th {\n",
       "        text-align: right;\n",
       "    }\n",
       "</style>\n",
       "<table border=\"1\" class=\"dataframe\">\n",
       "  <thead>\n",
       "    <tr style=\"text-align: right;\">\n",
       "      <th></th>\n",
       "      <th>County</th>\n",
       "      <th>State</th>\n",
       "    </tr>\n",
       "  </thead>\n",
       "  <tbody>\n",
       "    <tr>\n",
       "      <th>0</th>\n",
       "      <td>De Witt County</td>\n",
       "      <td>IL</td>\n",
       "    </tr>\n",
       "    <tr>\n",
       "      <th>1</th>\n",
       "      <td>Lac qui Parle County</td>\n",
       "      <td>MN</td>\n",
       "    </tr>\n",
       "    <tr>\n",
       "      <th>2</th>\n",
       "      <td>Lewis and Clark County</td>\n",
       "      <td>MT</td>\n",
       "    </tr>\n",
       "    <tr>\n",
       "      <th>3</th>\n",
       "      <td>St John the Baptist Parish</td>\n",
       "      <td>LS</td>\n",
       "    </tr>\n",
       "  </tbody>\n",
       "</table>\n",
       "</div>"
      ],
      "text/plain": [
       "                       County State\n",
       "0              De Witt County    IL\n",
       "1        Lac qui Parle County    MN\n",
       "2      Lewis and Clark County    MT\n",
       "3  St John the Baptist Parish    LS"
      ]
     },
     "execution_count": 15,
     "metadata": {},
     "output_type": "execute_result"
    }
   ],
   "source": [
    "c_state = pd.read_csv(r'C:\\Users\\Muhammad_Talha\\Downloads\\COHORT 7\\Week 1 + 2\\Data Wrangling\\county_and_state.csv')\n",
    "c_state"
   ]
  },
  {
   "cell_type": "markdown",
   "metadata": {
    "id": "tbQUqp5s1gtP"
   },
   "source": [
    "Both of these DataFrames share a \"County\" column. Unfortunately, formatting differences mean that we can't directly merge the two DataFrames using the \"County\"s."
   ]
  },
  {
   "cell_type": "code",
   "execution_count": 16,
   "metadata": {
    "colab": {
     "base_uri": "https://localhost:8080/",
     "height": 89
    },
    "id": "CNITf5LB1gtQ",
    "outputId": "aecc32dd-c68d-4645-c181-090f73cd92f0"
   },
   "outputs": [
    {
     "data": {
      "text/html": [
       "<div>\n",
       "<style scoped>\n",
       "    .dataframe tbody tr th:only-of-type {\n",
       "        vertical-align: middle;\n",
       "    }\n",
       "\n",
       "    .dataframe tbody tr th {\n",
       "        vertical-align: top;\n",
       "    }\n",
       "\n",
       "    .dataframe thead th {\n",
       "        text-align: right;\n",
       "    }\n",
       "</style>\n",
       "<table border=\"1\" class=\"dataframe\">\n",
       "  <thead>\n",
       "    <tr style=\"text-align: right;\">\n",
       "      <th></th>\n",
       "      <th>County</th>\n",
       "      <th>State</th>\n",
       "      <th>Population</th>\n",
       "    </tr>\n",
       "  </thead>\n",
       "  <tbody>\n",
       "  </tbody>\n",
       "</table>\n",
       "</div>"
      ],
      "text/plain": [
       "Empty DataFrame\n",
       "Columns: [County, State, Population]\n",
       "Index: []"
      ]
     },
     "execution_count": 16,
     "metadata": {},
     "output_type": "execute_result"
    }
   ],
   "source": [
    "#merge both frames\n",
    "merged = c_state.merge(right = c_population)\n",
    "merged"
   ]
  },
  {
   "cell_type": "markdown",
   "metadata": {
    "id": "8i5za0cy1gtQ"
   },
   "source": [
    "To address this, we can **canonicalize** the \"County\" string data to apply a common formatting."
   ]
  },
  {
   "cell_type": "code",
   "execution_count": 24,
   "metadata": {
    "id": "q8iN6UIc1gtR"
   },
   "outputs": [],
   "source": [
    "def canonicalize_county(merged):\n",
    "    return (merged.str.lower()\n",
    "                  .str.replace(\" \", \"\")\n",
    "                  .str.replace(\"&\", \"and\")\n",
    "                  .str.replace(\".\", \"\")\n",
    "                  .str.replace(\"county\", \"\")\n",
    "                  .str.replace(\"parish\", \"\")\n",
    "    )\n",
    "\n"
   ]
  },
  {
   "cell_type": "markdown",
   "metadata": {
    "id": "qObObz6_DbOJ"
   },
   "source": [
    "Apply canonicalize_county on 'County' columns in both frames."
   ]
  },
  {
   "cell_type": "code",
   "execution_count": 27,
   "metadata": {
    "id": "uwkLYhdn1gtT"
   },
   "outputs": [
    {
     "name": "stdout",
     "output_type": "stream",
     "text": [
      "             County  Population\n",
      "0            dewitt       16798\n",
      "1       lacquiparle        8067\n",
      "2     lewisandclark       55716\n",
      "3  stjohnthebaptist       43044\n",
      "             County State\n",
      "0            dewitt    IL\n",
      "1       lacquiparle    MN\n",
      "2     lewisandclark    MT\n",
      "3  stjohnthebaptist    LS\n"
     ]
    },
    {
     "name": "stderr",
     "output_type": "stream",
     "text": [
      "C:\\Users\\MUHAMM~1\\AppData\\Local\\Temp/ipykernel_8980/3652328125.py:2: FutureWarning: The default value of regex will change from True to False in a future version. In addition, single character regular expressions will *not* be treated as literal strings when regex=True.\n",
      "  return (merged.str.lower()\n"
     ]
    }
   ],
   "source": [
    "# Code Here\n",
    "c_population['County'] = canonicalize_county(c_population['County'])\n",
    "c_state['County'] = canonicalize_county(c_state['County'])\n",
    "print(c_population)\n",
    "print(c_state)"
   ]
  },
  {
   "cell_type": "markdown",
   "metadata": {
    "id": "_AYrt2mh1gtT"
   },
   "source": [
    "Now, the merge works as expected!"
   ]
  },
  {
   "cell_type": "code",
   "execution_count": 28,
   "metadata": {
    "colab": {
     "base_uri": "https://localhost:8080/",
     "height": 175
    },
    "id": "T0XsMuwK1gtU",
    "outputId": "e1b7460d-8f3c-4b30-b85b-ae7875a73901"
   },
   "outputs": [
    {
     "data": {
      "text/html": [
       "<div>\n",
       "<style scoped>\n",
       "    .dataframe tbody tr th:only-of-type {\n",
       "        vertical-align: middle;\n",
       "    }\n",
       "\n",
       "    .dataframe tbody tr th {\n",
       "        vertical-align: top;\n",
       "    }\n",
       "\n",
       "    .dataframe thead th {\n",
       "        text-align: right;\n",
       "    }\n",
       "</style>\n",
       "<table border=\"1\" class=\"dataframe\">\n",
       "  <thead>\n",
       "    <tr style=\"text-align: right;\">\n",
       "      <th></th>\n",
       "      <th>County</th>\n",
       "      <th>State</th>\n",
       "      <th>Population</th>\n",
       "    </tr>\n",
       "  </thead>\n",
       "  <tbody>\n",
       "    <tr>\n",
       "      <th>0</th>\n",
       "      <td>dewitt</td>\n",
       "      <td>IL</td>\n",
       "      <td>16798</td>\n",
       "    </tr>\n",
       "    <tr>\n",
       "      <th>1</th>\n",
       "      <td>lacquiparle</td>\n",
       "      <td>MN</td>\n",
       "      <td>8067</td>\n",
       "    </tr>\n",
       "    <tr>\n",
       "      <th>2</th>\n",
       "      <td>lewisandclark</td>\n",
       "      <td>MT</td>\n",
       "      <td>55716</td>\n",
       "    </tr>\n",
       "    <tr>\n",
       "      <th>3</th>\n",
       "      <td>stjohnthebaptist</td>\n",
       "      <td>LS</td>\n",
       "      <td>43044</td>\n",
       "    </tr>\n",
       "  </tbody>\n",
       "</table>\n",
       "</div>"
      ],
      "text/plain": [
       "             County State  Population\n",
       "0            dewitt    IL       16798\n",
       "1       lacquiparle    MN        8067\n",
       "2     lewisandclark    MT       55716\n",
       "3  stjohnthebaptist    LS       43044"
      ]
     },
     "execution_count": 28,
     "metadata": {},
     "output_type": "execute_result"
    }
   ],
   "source": [
    "merged = c_state.merge(right = c_population)\n",
    "merged\n"
   ]
  },
  {
   "cell_type": "markdown",
   "metadata": {
    "id": "pbhoiuSU1gtU"
   },
   "source": [
    "## Demo 2: Extracting Log Data"
   ]
  },
  {
   "cell_type": "markdown",
   "metadata": {
    "id": "cVsLg_znDyfi"
   },
   "source": [
    "Load log.txt"
   ]
  },
  {
   "cell_type": "code",
   "execution_count": 119,
   "metadata": {
    "colab": {
     "base_uri": "https://localhost:8080/"
    },
    "id": "OXZiq-xr1gtV",
    "outputId": "e04b186c-bf33-4f62-a81b-97b289f3c716"
   },
   "outputs": [
    {
     "name": "stdout",
     "output_type": "stream",
     "text": [
      "['169.237.46.168', '-', '-', '[26/Jan/2014:10:47:58', '-0800]', '\"GET', '/stat141/Winter04/', 'HTTP/1.1\"', '200', '2585', '\"http://anson.ucdavis.edu/courses/\"']\n",
      "['193.205.203.3', '-', '-', '[2/Feb/2005:17:23:6', '-0800]', '\"GET', '/stat141/Notes/dim.html', 'HTTP/1.0\"', '404', '302', '\"http://eeyore.ucdavis.edu/stat141/Notes/session.html\"']\n",
      "['169.237.46.240', '-', '\"\"', '[3/Feb/2006:10:18:37', '-0800]', '\"GET', '/stat141/homework/Solutions/hw1Sol.pdf', 'HTTP/1.1\"']\n"
     ]
    }
   ],
   "source": [
    "#code Here\n",
    "        # Process each line as needed\n",
    "log_file_path = r'C:\\Users\\Muhammad_Talha\\Downloads\\COHORT 7\\Week 1 + 2\\Data Wrangling\\log.txt'\n",
    "with open(log_file_path, 'r') as file:\n",
    "    for line in file:\n",
    "        line = line.strip()\n",
    "        data = line.split()\n",
    "        print(data)"
   ]
  },
  {
   "cell_type": "markdown",
   "metadata": {
    "id": "fHAf4WxQ1gtV"
   },
   "source": [
    "Suppose we want to extract the day, month, year, hour, minutes, seconds, and timezone. Looking at the data, we see that these items are not in a fixed position relative to the beginning of the string. That is, slicing by some fixed offset isn't going to work."
   ]
  },
  {
   "cell_type": "markdown",
   "metadata": {
    "id": "ozFcMAdw1gtW"
   },
   "source": [
    "Instead, we'll need to use some more sophisticated thinking. Let's focus on only the first line of the file."
   ]
  },
  {
   "cell_type": "code",
   "execution_count": 47,
   "metadata": {
    "colab": {
     "base_uri": "https://localhost:8080/",
     "height": 52
    },
    "id": "atDXatC_1gtW",
    "outputId": "c927ecc3-038b-4d16-8074-35802b6f4896"
   },
   "outputs": [
    {
     "data": {
      "text/plain": [
       "'169.237.46.168 - - [26/Jan/2014:10:47:58 -0800] \"GET /stat141/Winter04/ HTTP/1.1\" 200 2585 \"http://anson.ucdavis.edu/courses/\"'"
      ]
     },
     "execution_count": 47,
     "metadata": {},
     "output_type": "execute_result"
    }
   ],
   "source": [
    "# code here\n",
    "with open(log_file_path, 'r') as file:\n",
    "    first_line = file.readline().strip()\n",
    "first_line"
   ]
  },
  {
   "cell_type": "markdown",
   "metadata": {
    "id": "in8F8eohEYf6"
   },
   "source": [
    "Apply string functions of python to extract date from first entry in log file."
   ]
  },
  {
   "cell_type": "code",
   "execution_count": 50,
   "metadata": {
    "colab": {
     "base_uri": "https://localhost:8080/"
    },
    "id": "1FHZcciJ1gtW",
    "outputId": "d848b92e-3a6e-4968-db63-fc15562b657c",
    "tags": []
   },
   "outputs": [
    {
     "name": "stdout",
     "output_type": "stream",
     "text": [
      "('26', 'Jan', '2014', '10', '47', '58 ')\n"
     ]
    }
   ],
   "source": [
    "                                        # find the text enclosed in square brackets\n",
    "                                        # split up the date/month/year\n",
    "                                        # split up the hour:minute:second\n",
    "                                        # split the timezone after the blank space\n",
    "# Extract the part enclosed in square brackets\n",
    "start_index = first_line.find('[') + 1\n",
    "end_index = first_line.find(']')\n",
    "date_time_str = first_line[start_index:end_index]\n",
    "\n",
    "# Split date and time\n",
    "date_part, time_part = date_time_str.split(':', 1)  # Split only on the first colon\n",
    "\n",
    "# Extract day, month, year from the date part\n",
    "day = date_part.split('/')[0]\n",
    "month = date_part.split('/')[1]\n",
    "year = date_part.split('/')[2]\n",
    "\n",
    "# Extract hour, minute, second from the time part\n",
    "time_parts = time_part.split(':')\n",
    "hour = time_parts[0]\n",
    "minute = time_parts[1]\n",
    "second = time_parts[2].split(' ')[0]  # Split off timezone if present\n",
    "\n",
    "# Print the result\n",
    "print(f\"('{day}', '{month}', '{year}', '{hour}', '{minute}', '{second} ')\")"
   ]
  },
  {
   "cell_type": "markdown",
   "metadata": {
    "id": "zGmUwCfI1gtW"
   },
   "source": [
    "This worked, but felt fairly \"hacky\" – the code above isn't particularly elegant. A much more sophisticated but common approach is to extract the information we need using a *regular expression*."
   ]
  },
  {
   "cell_type": "markdown",
   "metadata": {
    "id": "9rIyB9P01gtX"
   },
   "source": [
    "\n",
    "# Regular Expressions"
   ]
  },
  {
   "cell_type": "markdown",
   "metadata": {
    "id": "5pJq1SPn1gtX",
    "tags": []
   },
   "source": [
    "\n",
    "## String Extraction with Regex\n",
    "\n",
    "Python `re.findall` returns a list of all extracted matches: extract numbers from given string."
   ]
  },
  {
   "cell_type": "code",
   "execution_count": 52,
   "metadata": {
    "id": "VGUYXvzd1gtX"
   },
   "outputs": [
    {
     "data": {
      "text/plain": [
       "['123-45-6789', '321-45-6789']"
      ]
     },
     "execution_count": 52,
     "metadata": {},
     "output_type": "execute_result"
    }
   ],
   "source": [
    "import re\n",
    "\n",
    "text = \"My social security number is 123-45-6789 bro, or actually maybe it’s 321-45-6789.\";\n",
    "reg = r'[0-9]{3}-[0-9]{2}-[0-9]{4}'\n",
    "sec_number = re.findall(reg,text)\n",
    "sec_number"
   ]
  },
  {
   "cell_type": "markdown",
   "metadata": {
    "id": "pTRXy0cD1gtX"
   },
   "source": [
    "<br/>\n",
    "\n",
    "Now, let's see vectorized extraction in `pandas`:"
   ]
  },
  {
   "cell_type": "markdown",
   "metadata": {
    "id": "94nhVmeA1gtX"
   },
   "source": [
    " `.str.findall` returns a `Series` of lists of all matches in each record."
   ]
  },
  {
   "cell_type": "code",
   "execution_count": 81,
   "metadata": {
    "colab": {
     "base_uri": "https://localhost:8080/",
     "height": 175
    },
    "id": "vbW_2pPU1gtY",
    "outputId": "dd5e1f3d-1765-4370-d2a8-2fb1bf71d4a0"
   },
   "outputs": [
    {
     "data": {
      "text/html": [
       "<div>\n",
       "<style scoped>\n",
       "    .dataframe tbody tr th:only-of-type {\n",
       "        vertical-align: middle;\n",
       "    }\n",
       "\n",
       "    .dataframe tbody tr th {\n",
       "        vertical-align: top;\n",
       "    }\n",
       "\n",
       "    .dataframe thead th {\n",
       "        text-align: right;\n",
       "    }\n",
       "</style>\n",
       "<table border=\"1\" class=\"dataframe\">\n",
       "  <thead>\n",
       "    <tr style=\"text-align: right;\">\n",
       "      <th></th>\n",
       "      <th>SNN</th>\n",
       "    </tr>\n",
       "  </thead>\n",
       "  <tbody>\n",
       "    <tr>\n",
       "      <th>0</th>\n",
       "      <td>987-65-4321</td>\n",
       "    </tr>\n",
       "    <tr>\n",
       "      <th>1</th>\n",
       "      <td>forty</td>\n",
       "    </tr>\n",
       "    <tr>\n",
       "      <th>2</th>\n",
       "      <td>123-45-6789 bro or 321-45-6789</td>\n",
       "    </tr>\n",
       "    <tr>\n",
       "      <th>3</th>\n",
       "      <td>999-99-9999</td>\n",
       "    </tr>\n",
       "  </tbody>\n",
       "</table>\n",
       "</div>"
      ],
      "text/plain": [
       "                              SNN\n",
       "0                     987-65-4321\n",
       "1                           forty\n",
       "2  123-45-6789 bro or 321-45-6789\n",
       "3                     999-99-9999"
      ]
     },
     "execution_count": 81,
     "metadata": {},
     "output_type": "execute_result"
    }
   ],
   "source": [
    "\n",
    "data = ['987-65-4321','forty','123-45-6789 bro or 321-45-6789','999-99-9999']\n",
    "df = pd.DataFrame(data,columns = ['SNN'])\n",
    "df"
   ]
  },
  {
   "cell_type": "markdown",
   "metadata": {
    "id": "67gCvGiqFggh"
   },
   "source": [
    "Find all entries containing numbers in dataframe."
   ]
  },
  {
   "cell_type": "code",
   "execution_count": 82,
   "metadata": {
    "id": "ezP71f2w1gtY"
   },
   "outputs": [
    {
     "data": {
      "text/plain": [
       "0                 [987-65-4321]\n",
       "1                            []\n",
       "2    [123-45-6789, 321-45-6789]\n",
       "3                 [999-99-9999]\n",
       "Name: SNN, dtype: object"
      ]
     },
     "execution_count": 82,
     "metadata": {},
     "output_type": "execute_result"
    }
   ],
   "source": [
    "# -> Series of lists\n",
    "reg = r'[0-9]{3}-[0-9]{2}-[0-9]{4}'\n",
    "df_snn = df['SNN'].str.findall(reg)\n",
    "df_snn"
   ]
  },
  {
   "cell_type": "markdown",
   "metadata": {
    "id": "Pcrk9IOJ1gtY"
   },
   "source": [
    "## Extraction Using Regex Capture Groups"
   ]
  },
  {
   "cell_type": "markdown",
   "metadata": {
    "id": "25EEWvE01gtY"
   },
   "source": [
    "The Python function `re.findall`, in combination with parentheses returns specific substrings (i.e., **capture groups**) within each matched string, or **match**."
   ]
  },
  {
   "cell_type": "code",
   "execution_count": 83,
   "metadata": {
    "colab": {
     "base_uri": "https://localhost:8080/"
    },
    "id": "rPObO6d-1gtY",
    "outputId": "27d28627-b9d3-41b9-da45-0efea0ddb6e7"
   },
   "outputs": [
    {
     "data": {
      "text/plain": [
       "[('08', '30', '00')]"
      ]
     },
     "execution_count": 83,
     "metadata": {},
     "output_type": "execute_result"
    }
   ],
   "source": [
    "text = \"\"\"I will meet you at 08:30:00 pm tomorrow\"\"\"\n",
    "\n",
    "reg=\"(\\d\\d):(\\d\\d):(\\d\\d)\"\n",
    "time=re.findall(reg,text)\n",
    "time"
   ]
  },
  {
   "cell_type": "code",
   "execution_count": 84,
   "metadata": {
    "id": "nUASAAT81gtZ"
   },
   "outputs": [
    {
     "data": {
      "text/plain": [
       "('08', '30', '00')"
      ]
     },
     "execution_count": 84,
     "metadata": {},
     "output_type": "execute_result"
    }
   ],
   "source": [
    "# the three capture groups in the first matched string\n",
    "hour, minute, second = time[0]\n",
    "time[0]"
   ]
  },
  {
   "cell_type": "markdown",
   "metadata": {
    "id": "IniHBU1r1gtZ"
   },
   "source": [
    "<br/>\n",
    "\n",
    "In `pandas`, we can use `.str.extract` to extract each capture group of **only the first match** of each record into separate columns."
   ]
  },
  {
   "cell_type": "code",
   "execution_count": 85,
   "metadata": {
    "colab": {
     "base_uri": "https://localhost:8080/",
     "height": 175
    },
    "id": "NlwASaaC1gtZ",
    "outputId": "ac6145ca-ca9d-4d1d-cecd-4813671268b9"
   },
   "outputs": [
    {
     "data": {
      "text/plain": [
       "0                 [987-65-4321]\n",
       "1                            []\n",
       "2    [123-45-6789, 321-45-6789]\n",
       "3                 [999-99-9999]\n",
       "Name: SNN, dtype: object"
      ]
     },
     "execution_count": 85,
     "metadata": {},
     "output_type": "execute_result"
    }
   ],
   "source": [
    "# back to SSNs\n",
    "df_snn"
   ]
  },
  {
   "cell_type": "code",
   "execution_count": 86,
   "metadata": {
    "id": "Xks74iW91gtd",
    "outputId": "b4a26521-be48-44dd-a163-c0da5841535e"
   },
   "outputs": [
    {
     "data": {
      "text/html": [
       "<div>\n",
       "<style scoped>\n",
       "    .dataframe tbody tr th:only-of-type {\n",
       "        vertical-align: middle;\n",
       "    }\n",
       "\n",
       "    .dataframe tbody tr th {\n",
       "        vertical-align: top;\n",
       "    }\n",
       "\n",
       "    .dataframe thead th {\n",
       "        text-align: right;\n",
       "    }\n",
       "</style>\n",
       "<table border=\"1\" class=\"dataframe\">\n",
       "  <thead>\n",
       "    <tr style=\"text-align: right;\">\n",
       "      <th></th>\n",
       "      <th>0</th>\n",
       "      <th>1</th>\n",
       "      <th>2</th>\n",
       "    </tr>\n",
       "  </thead>\n",
       "  <tbody>\n",
       "    <tr>\n",
       "      <th>0</th>\n",
       "      <td>987</td>\n",
       "      <td>65</td>\n",
       "      <td>4321</td>\n",
       "    </tr>\n",
       "    <tr>\n",
       "      <th>1</th>\n",
       "      <td>NaN</td>\n",
       "      <td>NaN</td>\n",
       "      <td>NaN</td>\n",
       "    </tr>\n",
       "    <tr>\n",
       "      <th>2</th>\n",
       "      <td>123</td>\n",
       "      <td>45</td>\n",
       "      <td>6789</td>\n",
       "    </tr>\n",
       "    <tr>\n",
       "      <th>3</th>\n",
       "      <td>999</td>\n",
       "      <td>99</td>\n",
       "      <td>9999</td>\n",
       "    </tr>\n",
       "  </tbody>\n",
       "</table>\n",
       "</div>"
      ],
      "text/plain": [
       "     0    1     2\n",
       "0  987   65  4321\n",
       "1  NaN  NaN   NaN\n",
       "2  123   45  6789\n",
       "3  999   99  9999"
      ]
     },
     "execution_count": 86,
     "metadata": {},
     "output_type": "execute_result"
    }
   ],
   "source": [
    "# Will extract the first match of all groups\n",
    "reg_m = r'([0-9]{3})-([0-9]{2})-([0-9]{4})'\n",
    "extracted = df[\"SNN\"].str.extract(reg_m)\n",
    "extracted"
   ]
  },
  {
   "cell_type": "markdown",
   "metadata": {
    "id": "CPHgEc9u1gte"
   },
   "source": [
    "Alternatively, `.str.extractall` extracts **all matches** of each record into separate columns. Rows are then MultiIndexed by original record index and match index."
   ]
  },
  {
   "cell_type": "code",
   "execution_count": 101,
   "metadata": {
    "id": "_kO-Wx311gte",
    "outputId": "698af099-1e70-4c8f-bd57-5b85348ea5be"
   },
   "outputs": [
    {
     "name": "stdout",
     "output_type": "stream",
     "text": [
      "           0   1     2\n",
      "  match               \n",
      "0 0      987  65  4321\n",
      "2 0      123  45  6789\n",
      "  1      321  45  6789\n",
      "3 0      999  99  9999\n"
     ]
    }
   ],
   "source": [
    "# -> DataFrame, one row per match\n",
    "# df[\"SNN\"].str.extractall(extracted)\n",
    "reg_m = r'([0-9]{3})-([0-9]{2})-([0-9]{4})'\n",
    "\n",
    "# Extract the first match of each group\n",
    "extracted = df[\"SNN\"].str.extractall(reg_m)\n",
    "\n",
    "# Print the result\n",
    "print(extracted)"
   ]
  },
  {
   "cell_type": "markdown",
   "metadata": {
    "id": "-yUtK7Rf1gte"
   },
   "source": [
    "## Canonicalization with Regex"
   ]
  },
  {
   "cell_type": "markdown",
   "metadata": {
    "id": "LCByUzXu1gte"
   },
   "source": [
    "In regular Python, canonicalize with `re.sub` (standing for \"substitute\"):"
   ]
  },
  {
   "cell_type": "code",
   "execution_count": 103,
   "metadata": {
    "id": "Vwf4YcPi1gte"
   },
   "outputs": [
    {
     "data": {
      "text/plain": [
       "'Moo'"
      ]
     },
     "execution_count": 103,
     "metadata": {},
     "output_type": "execute_result"
    }
   ],
   "source": [
    "text = '<div><td valign=\"top\">Moo</td></div>'\n",
    "\n",
    "pattern = r'<[^>]+>'\n",
    "re.sub(pattern,'',text)"
   ]
  },
  {
   "cell_type": "markdown",
   "metadata": {
    "id": "WNGjK8uf1gtk"
   },
   "source": [
    "<br/>\n",
    "\n",
    "In `pandas`, canonicalize with `Series.str.replace`."
   ]
  },
  {
   "cell_type": "code",
   "execution_count": 104,
   "metadata": {
    "id": "wR3usAOX1gtk",
    "outputId": "54f5d110-c7cb-41dd-e28e-af83abc70f28"
   },
   "outputs": [
    {
     "data": {
      "text/html": [
       "<div>\n",
       "<style scoped>\n",
       "    .dataframe tbody tr th:only-of-type {\n",
       "        vertical-align: middle;\n",
       "    }\n",
       "\n",
       "    .dataframe tbody tr th {\n",
       "        vertical-align: top;\n",
       "    }\n",
       "\n",
       "    .dataframe thead th {\n",
       "        text-align: right;\n",
       "    }\n",
       "</style>\n",
       "<table border=\"1\" class=\"dataframe\">\n",
       "  <thead>\n",
       "    <tr style=\"text-align: right;\">\n",
       "      <th></th>\n",
       "      <th>Html</th>\n",
       "    </tr>\n",
       "  </thead>\n",
       "  <tbody>\n",
       "    <tr>\n",
       "      <th>0</th>\n",
       "      <td>&lt;div&gt;&lt;td valign=\"top\"&gt;Moo&lt;/td&gt;&lt;/div&gt;</td>\n",
       "    </tr>\n",
       "    <tr>\n",
       "      <th>1</th>\n",
       "      <td>&lt;a href=\"http://ds100.org\"&gt;Link&lt;/a&gt;</td>\n",
       "    </tr>\n",
       "    <tr>\n",
       "      <th>2</th>\n",
       "      <td>&lt;b&gt;Bold text&lt;/b&gt;</td>\n",
       "    </tr>\n",
       "  </tbody>\n",
       "</table>\n",
       "</div>"
      ],
      "text/plain": [
       "                                   Html\n",
       "0  <div><td valign=\"top\">Moo</td></div>\n",
       "1   <a href=\"http://ds100.org\">Link</a>\n",
       "2                      <b>Bold text</b>"
      ]
     },
     "execution_count": 104,
     "metadata": {},
     "output_type": "execute_result"
    }
   ],
   "source": [
    "# example dataframe of strings, convert in dataframe\n",
    "df_html = ['<div><td valign=\"top\">Moo</td></div>',\n",
    "                   '<a href=\"http://ds100.org\">Link</a>',\n",
    "                   '<b>Bold text</b>']\n",
    "df_html\n",
    "df=pd.DataFrame(df_html,columns=['Html'])\n",
    "df"
   ]
  },
  {
   "cell_type": "code",
   "execution_count": 107,
   "metadata": {
    "id": "MnnCj20a1gtk"
   },
   "outputs": [
    {
     "data": {
      "text/html": [
       "<div>\n",
       "<style scoped>\n",
       "    .dataframe tbody tr th:only-of-type {\n",
       "        vertical-align: middle;\n",
       "    }\n",
       "\n",
       "    .dataframe tbody tr th {\n",
       "        vertical-align: top;\n",
       "    }\n",
       "\n",
       "    .dataframe thead th {\n",
       "        text-align: right;\n",
       "    }\n",
       "</style>\n",
       "<table border=\"1\" class=\"dataframe\">\n",
       "  <thead>\n",
       "    <tr style=\"text-align: right;\">\n",
       "      <th></th>\n",
       "      <th>Html</th>\n",
       "      <th>Words</th>\n",
       "    </tr>\n",
       "  </thead>\n",
       "  <tbody>\n",
       "    <tr>\n",
       "      <th>0</th>\n",
       "      <td>&lt;div&gt;&lt;td valign=\"top\"&gt;Moo&lt;/td&gt;&lt;/div&gt;</td>\n",
       "      <td>[div, td, valign, top, Moo, td, div]</td>\n",
       "    </tr>\n",
       "    <tr>\n",
       "      <th>1</th>\n",
       "      <td>&lt;a href=\"http://ds100.org\"&gt;Link&lt;/a&gt;</td>\n",
       "      <td>[a, href, http, ds100, org, Link, a]</td>\n",
       "    </tr>\n",
       "    <tr>\n",
       "      <th>2</th>\n",
       "      <td>&lt;b&gt;Bold text&lt;/b&gt;</td>\n",
       "      <td>[b, Bold, text, b]</td>\n",
       "    </tr>\n",
       "  </tbody>\n",
       "</table>\n",
       "</div>"
      ],
      "text/plain": [
       "                                   Html                                 Words\n",
       "0  <div><td valign=\"top\">Moo</td></div>  [div, td, valign, top, Moo, td, div]\n",
       "1   <a href=\"http://ds100.org\">Link</a>  [a, href, http, ds100, org, Link, a]\n",
       "2                      <b>Bold text</b>                    [b, Bold, text, b]"
      ]
     },
     "execution_count": 107,
     "metadata": {},
     "output_type": "execute_result"
    }
   ],
   "source": [
    "# Series -> Series\n",
    "#Extract only words\n",
    "pattern = r'\\b\\w+\\b'\n",
    "df['Words'] = df['Html'].str.findall(pattern)\n",
    "df"
   ]
  },
  {
   "cell_type": "markdown",
   "metadata": {
    "id": "Efslx5Ro1gtl"
   },
   "source": [
    "\n",
    "# Revisiting Text Log Processing using Regex"
   ]
  },
  {
   "cell_type": "markdown",
   "metadata": {
    "id": "XW3IgpPe1gtl"
   },
   "source": [
    "### Python `re` version"
   ]
  },
  {
   "cell_type": "code",
   "execution_count": 129,
   "metadata": {
    "id": "8TzW0cJ71gtl",
    "outputId": "6a50141b-bb9c-410b-9065-635c4f61b908"
   },
   "outputs": [
    {
     "name": "stdout",
     "output_type": "stream",
     "text": [
      "169.237.46.168 - - [26/Jan/2014:10:47:58 -0800] \"GET /stat141/Winter04/ HTTP/1.1\" 200 2585 \"http://anson.ucdavis.edu/courses/\"\n",
      "('26', 'Jan', '2014', '10', '47', '58', '-0800')\n"
     ]
    }
   ],
   "source": [
    "import re\n",
    "\n",
    "log_file_path = r'C:\\Users\\Muhammad_Talha\\Downloads\\COHORT 7\\Week 1 + 2\\Data Wrangling\\log.txt'\n",
    "\n",
    "# Read the file and store each line in log_lines\n",
    "with open(log_file_path, 'r') as file:\n",
    "    log_lines = file.readlines()\n",
    "\n",
    "# Display the first line\n",
    "line = log_lines[0].strip()\n",
    "print(line)\n",
    "\n",
    "# Regular expression to extract date and time components\n",
    "pattern = r'\\[(\\d{1,2})/(\\w{3})/(\\d{4}):(\\d{1,2}):(\\d{1,2}):(\\d{1,2}) ([+-]\\d{4})\\]'\n",
    "\n",
    "# Search for the pattern in the line\n",
    "match = re.search(pattern, line)\n",
    "\n",
    "if match:\n",
    "    day, month, year, hour, minute, second, timezone = match.groups()\n",
    "    print((day, month, year, hour, minute, second, timezone))\n",
    "else:\n",
    "    print(\"No match found\")\n"
   ]
  },
  {
   "cell_type": "markdown",
   "metadata": {
    "id": "djnytSWa1gtl"
   },
   "source": [
    "### `pandas` version"
   ]
  },
  {
   "cell_type": "code",
   "execution_count": 140,
   "metadata": {
    "id": "pe0aH8lw1gtl",
    "outputId": "271d0fae-c7a3-4ca7-d2df-ed4e9df5b720"
   },
   "outputs": [
    {
     "name": "stdout",
     "output_type": "stream",
     "text": [
      "                                            log_line  \\\n",
      "0  169.237.46.168 - - [26/Jan/2014:10:47:58 -0800...   \n",
      "\n",
      "                 date_time_components day month  year hour minute second  \\\n",
      "0  (26, Jan, 2014, 10, 47, 58, -0800)  26   Jan  2014   10     47     58   \n",
      "\n",
      "  timezone  \n",
      "0    -0800  \n"
     ]
    }
   ],
   "source": [
    "# code here\n",
    "import pandas as pd\n",
    "import re\n",
    "\n",
    "# Read the log file into a DataFrame\n",
    "log_file_path = r'C:\\Users\\Muhammad_Talha\\Downloads\\COHORT 7\\Week 1 + 2\\Data Wrangling\\log.txt'\n",
    "log_df = pd.read_csv(log_file_path, header=None, names=['log_line'])\n",
    "\n",
    "# Regular expression to extract date and time components\n",
    "pattern = re.compile(r'\\[(\\d{1,2})/(\\w{3})/(\\d{4}):(\\d{1,2}):(\\d{1,2}):(\\d{1,2}) ([+-]\\d{4})\\]')\n",
    "\n",
    "# Function to extract date and time components using regex\n",
    "def extract_date_time(line):\n",
    "    match = pattern.search(line)\n",
    "    if match:\n",
    "        return match.groups()\n",
    "    else:\n",
    "        return (None, None, None, None, None, None, None)\n",
    "\n",
    "# Apply the function to extract date and time components\n",
    "log_df['date_time_components'] = log_df['log_line'].apply(extract_date_time)\n",
    "\n",
    "# Split the extracted components into separate columns\n",
    "date_time_df = pd.DataFrame(log_df['date_time_components'].tolist(), columns=['day', 'month', 'year', 'hour', 'minute', 'second', 'timezone'])\n",
    "\n",
    "# Concatenate the original log lines with the extracted date and time components\n",
    "result_df = pd.concat([log_df, date_time_df], axis=1)\n",
    "\n",
    "# Display the first row with extracted components\n",
    "result_df1= pd.DataFrame(result_df) \n",
    "print(result_df1.head(1))\n",
    "\n"
   ]
  },
  {
   "cell_type": "markdown",
   "metadata": {
    "id": "-bi3DGGr1gtm"
   },
   "source": [
    "Option 1: `Series.str.findall`"
   ]
  },
  {
   "cell_type": "code",
   "execution_count": 142,
   "metadata": {
    "id": "bH_6WvJG1gtm",
    "outputId": "3ae5792b-d50a-4fb9-dffe-c73ffa6209a5"
   },
   "outputs": [
    {
     "name": "stdout",
     "output_type": "stream",
     "text": [
      "0    (26, Jan, 2014, 10, 47, 58, -0800)\n",
      "1      (2, Feb, 2005, 17, 23, 6, -0800)\n",
      "2     (3, Feb, 2006, 10, 18, 37, -0800)\n",
      "Name: DateTimeComponents, dtype: object\n"
     ]
    }
   ],
   "source": [
    "# Function to extract date and time components from a log line\n",
    "df = pd.DataFrame(log_lines, columns=['Log'])\n",
    "\n",
    "# Regular expression to extract date and time components\n",
    "pattern = re.compile(r'\\[(\\d{1,2})/(\\w{3})/(\\d{4}):(\\d{1,2}):(\\d{1,2}):(\\d{1,2}) ([+-]\\d{4})\\]')\n",
    "\n",
    "def extract_datetime_components(log_line):\n",
    "    match = pattern.search(log_line)\n",
    "    if match:\n",
    "        return match.groups()\n",
    "    else:\n",
    "        return (None,) * 7\n",
    "\n",
    "# Apply the function to the DataFrame\n",
    "df['DateTimeComponents'] = df['Log'].apply(extract_datetime_components)\n",
    "\n",
    "# Print the result\n",
    "print(df['DateTimeComponents'])"
   ]
  },
  {
   "cell_type": "markdown",
   "metadata": {
    "id": "tUGEx15V1gtm"
   },
   "source": [
    "<br/>\n",
    "\n",
    "Option 2: `Series.str.extractall`"
   ]
  },
  {
   "cell_type": "code",
   "execution_count": 143,
   "metadata": {
    "id": "t0bgeQbY1gtm",
    "outputId": "1c22ac8c-03fd-4676-a88d-9e03038fd42a"
   },
   "outputs": [],
   "source": [
    "extracted_data = df['Log'].str.extractall(pattern)\n",
    "\n",
    "# Wrangle the extracted data into a nice format\n",
    "extracted_data.columns = ['Day', 'Month', 'Year', 'Hour', 'Minute', 'Second', 'Time Zone']\n",
    "extracted_data = extracted_data.droplevel(1).reset_index(drop=True)\n",
    "\n",
    "# Print the result"
   ]
  },
  {
   "cell_type": "markdown",
   "metadata": {
    "id": "iSlAjOpS1gtm"
   },
   "source": [
    "Wrangling either of these two DataFrames into a nice format (like below) is left as an exercise for you!\n",
    "\n",
    "\n",
    "||Day|Month|Year|Hour|Minute|Second|Time Zone|\n",
    "|---|---|---|---|---|---|---|---|\n",
    "|0|26|Jan|2014|10|47|58|-0800|\n",
    "|1|2|Feb|2005|17|23|6|-0800|\n",
    "|2|3|Feb|2006|10|18|37|-0800|\n"
   ]
  },
  {
   "cell_type": "code",
   "execution_count": null,
   "metadata": {
    "id": "JVbuDswe1gtn"
   },
   "outputs": [],
   "source": [
    "# your code here\n",
    "..."
   ]
  }
 ],
 "metadata": {
  "colab": {
   "provenance": []
  },
  "kernelspec": {
   "display_name": "Python 3 (ipykernel)",
   "language": "python",
   "name": "python3"
  },
  "language_info": {
   "codemirror_mode": {
    "name": "ipython",
    "version": 3
   },
   "file_extension": ".py",
   "mimetype": "text/x-python",
   "name": "python",
   "nbconvert_exporter": "python",
   "pygments_lexer": "ipython3",
   "version": "3.9.7"
  }
 },
 "nbformat": 4,
 "nbformat_minor": 1
}
