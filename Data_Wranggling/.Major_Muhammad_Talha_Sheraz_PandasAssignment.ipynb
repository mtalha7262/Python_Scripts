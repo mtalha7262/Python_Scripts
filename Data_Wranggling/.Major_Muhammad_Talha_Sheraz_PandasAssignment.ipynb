{
 "cells": [
  {
   "cell_type": "markdown",
   "metadata": {
    "id": "zbiZPBw05E7h"
   },
   "source": [
    "# Welcome to the ending of your second module at KS :)\n",
    "\n"
   ]
  },
  {
   "cell_type": "markdown",
   "metadata": {
    "id": "-LlzeNNU5PbN"
   },
   "source": [
    "The sharing of this workbook entails that you are moving on a good pace 🥰 Let's jump on to some advance stuff now, eh?\n",
    "\n",
    "R E M E M B E R:       **PANDAS** documentation is going to be your bestie for this assignment!"
   ]
  },
  {
   "cell_type": "markdown",
   "metadata": {
    "id": "ClyqgmWx5tqb"
   },
   "source": [
    "### **PART 1 - GET TO KNOW YOUR DATA!**"
   ]
  },
  {
   "cell_type": "markdown",
   "metadata": {
    "id": "lLBfgc-557Kc"
   },
   "source": [
    "This time we are going to pull data directly from the internet."
   ]
  },
  {
   "cell_type": "markdown",
   "metadata": {
    "id": "covc_E4f6Di7"
   },
   "source": [
    "Step 1: Import the neccessary libraries."
   ]
  },
  {
   "cell_type": "code",
   "execution_count": 5,
   "metadata": {
    "id": "rOB6JEky5EOd"
   },
   "outputs": [],
   "source": [
    "import numpy as np\n",
    "import pandas as pd"
   ]
  },
  {
   "cell_type": "markdown",
   "metadata": {
    "id": "OcrUCTnc6Jei"
   },
   "source": [
    "Step 2: Import the dataset from this [address](https://raw.githubusercontent.com/justmarkham/DAT8/master/data/chipotle.tsv) and save it in a variable named food."
   ]
  },
  {
   "cell_type": "code",
   "execution_count": 6,
   "metadata": {
    "id": "Bf4efILd6NVl"
   },
   "outputs": [],
   "source": [
    "#Hint: to get the date, check what sort of delimiter would you use?\n",
    "food = pd.read_csv('https://raw.githubusercontent.com/justmarkham/DAT8/master/data/chipotle.tsv' , sep=\"\\t\")"
   ]
  },
  {
   "cell_type": "markdown",
   "metadata": {
    "id": "XKpBs5ZR6v4M"
   },
   "source": [
    "Step 3: I want to see what the first ten rows of the dataset looks like. How?"
   ]
  },
  {
   "cell_type": "code",
   "execution_count": 7,
   "metadata": {
    "id": "uaNaM8aQ6sDf"
   },
   "outputs": [
    {
     "data": {
      "text/html": [
       "<div>\n",
       "<style scoped>\n",
       "    .dataframe tbody tr th:only-of-type {\n",
       "        vertical-align: middle;\n",
       "    }\n",
       "\n",
       "    .dataframe tbody tr th {\n",
       "        vertical-align: top;\n",
       "    }\n",
       "\n",
       "    .dataframe thead th {\n",
       "        text-align: right;\n",
       "    }\n",
       "</style>\n",
       "<table border=\"1\" class=\"dataframe\">\n",
       "  <thead>\n",
       "    <tr style=\"text-align: right;\">\n",
       "      <th></th>\n",
       "      <th>order_id</th>\n",
       "      <th>quantity</th>\n",
       "      <th>item_name</th>\n",
       "      <th>choice_description</th>\n",
       "      <th>item_price</th>\n",
       "    </tr>\n",
       "  </thead>\n",
       "  <tbody>\n",
       "    <tr>\n",
       "      <th>0</th>\n",
       "      <td>1</td>\n",
       "      <td>1</td>\n",
       "      <td>Chips and Fresh Tomato Salsa</td>\n",
       "      <td>NaN</td>\n",
       "      <td>$2.39</td>\n",
       "    </tr>\n",
       "    <tr>\n",
       "      <th>1</th>\n",
       "      <td>1</td>\n",
       "      <td>1</td>\n",
       "      <td>Izze</td>\n",
       "      <td>[Clementine]</td>\n",
       "      <td>$3.39</td>\n",
       "    </tr>\n",
       "    <tr>\n",
       "      <th>2</th>\n",
       "      <td>1</td>\n",
       "      <td>1</td>\n",
       "      <td>Nantucket Nectar</td>\n",
       "      <td>[Apple]</td>\n",
       "      <td>$3.39</td>\n",
       "    </tr>\n",
       "    <tr>\n",
       "      <th>3</th>\n",
       "      <td>1</td>\n",
       "      <td>1</td>\n",
       "      <td>Chips and Tomatillo-Green Chili Salsa</td>\n",
       "      <td>NaN</td>\n",
       "      <td>$2.39</td>\n",
       "    </tr>\n",
       "    <tr>\n",
       "      <th>4</th>\n",
       "      <td>2</td>\n",
       "      <td>2</td>\n",
       "      <td>Chicken Bowl</td>\n",
       "      <td>[Tomatillo-Red Chili Salsa (Hot), [Black Beans...</td>\n",
       "      <td>$16.98</td>\n",
       "    </tr>\n",
       "    <tr>\n",
       "      <th>5</th>\n",
       "      <td>3</td>\n",
       "      <td>1</td>\n",
       "      <td>Chicken Bowl</td>\n",
       "      <td>[Fresh Tomato Salsa (Mild), [Rice, Cheese, Sou...</td>\n",
       "      <td>$10.98</td>\n",
       "    </tr>\n",
       "    <tr>\n",
       "      <th>6</th>\n",
       "      <td>3</td>\n",
       "      <td>1</td>\n",
       "      <td>Side of Chips</td>\n",
       "      <td>NaN</td>\n",
       "      <td>$1.69</td>\n",
       "    </tr>\n",
       "    <tr>\n",
       "      <th>7</th>\n",
       "      <td>4</td>\n",
       "      <td>1</td>\n",
       "      <td>Steak Burrito</td>\n",
       "      <td>[Tomatillo Red Chili Salsa, [Fajita Vegetables...</td>\n",
       "      <td>$11.75</td>\n",
       "    </tr>\n",
       "    <tr>\n",
       "      <th>8</th>\n",
       "      <td>4</td>\n",
       "      <td>1</td>\n",
       "      <td>Steak Soft Tacos</td>\n",
       "      <td>[Tomatillo Green Chili Salsa, [Pinto Beans, Ch...</td>\n",
       "      <td>$9.25</td>\n",
       "    </tr>\n",
       "    <tr>\n",
       "      <th>9</th>\n",
       "      <td>5</td>\n",
       "      <td>1</td>\n",
       "      <td>Steak Burrito</td>\n",
       "      <td>[Fresh Tomato Salsa, [Rice, Black Beans, Pinto...</td>\n",
       "      <td>$9.25</td>\n",
       "    </tr>\n",
       "  </tbody>\n",
       "</table>\n",
       "</div>"
      ],
      "text/plain": [
       "   order_id  quantity                              item_name  \\\n",
       "0         1         1           Chips and Fresh Tomato Salsa   \n",
       "1         1         1                                   Izze   \n",
       "2         1         1                       Nantucket Nectar   \n",
       "3         1         1  Chips and Tomatillo-Green Chili Salsa   \n",
       "4         2         2                           Chicken Bowl   \n",
       "5         3         1                           Chicken Bowl   \n",
       "6         3         1                          Side of Chips   \n",
       "7         4         1                          Steak Burrito   \n",
       "8         4         1                       Steak Soft Tacos   \n",
       "9         5         1                          Steak Burrito   \n",
       "\n",
       "                                  choice_description item_price  \n",
       "0                                                NaN     $2.39   \n",
       "1                                       [Clementine]     $3.39   \n",
       "2                                            [Apple]     $3.39   \n",
       "3                                                NaN     $2.39   \n",
       "4  [Tomatillo-Red Chili Salsa (Hot), [Black Beans...    $16.98   \n",
       "5  [Fresh Tomato Salsa (Mild), [Rice, Cheese, Sou...    $10.98   \n",
       "6                                                NaN     $1.69   \n",
       "7  [Tomatillo Red Chili Salsa, [Fajita Vegetables...    $11.75   \n",
       "8  [Tomatillo Green Chili Salsa, [Pinto Beans, Ch...     $9.25   \n",
       "9  [Fresh Tomato Salsa, [Rice, Black Beans, Pinto...     $9.25   "
      ]
     },
     "execution_count": 7,
     "metadata": {},
     "output_type": "execute_result"
    }
   ],
   "source": [
    "food.head(10)"
   ]
  },
  {
   "cell_type": "markdown",
   "metadata": {
    "id": "afXWh3VC66Hk"
   },
   "source": [
    "Step 4. What is the number of observations in the dataset?"
   ]
  },
  {
   "cell_type": "code",
   "execution_count": 8,
   "metadata": {
    "id": "SaTXDGZP65iN"
   },
   "outputs": [
    {
     "name": "stdout",
     "output_type": "stream",
     "text": [
      "Number of observations: 4622\n"
     ]
    }
   ],
   "source": [
    "num_rows = len(food)\n",
    "print(f\"Number of observations: {num_rows}\")"
   ]
  },
  {
   "cell_type": "markdown",
   "metadata": {
    "id": "VP2HijtZ7BOM"
   },
   "source": [
    "Step 5. What is the number of columns in the dataset?"
   ]
  },
  {
   "cell_type": "code",
   "execution_count": 9,
   "metadata": {
    "id": "082VTDLq7CQz"
   },
   "outputs": [
    {
     "name": "stdout",
     "output_type": "stream",
     "text": [
      "Number of Columns: 5\n"
     ]
    }
   ],
   "source": [
    "no_of_columns = food.shape[1]\n",
    "print(f\"Number of Columns: {no_of_columns}\")"
   ]
  },
  {
   "cell_type": "markdown",
   "metadata": {
    "id": "UmmRB0cc7DDV"
   },
   "source": [
    "Step 6. Print the name of all the columns."
   ]
  },
  {
   "cell_type": "code",
   "execution_count": 10,
   "metadata": {
    "id": "tARmbQ_t7Ffh"
   },
   "outputs": [
    {
     "data": {
      "text/plain": [
       "Index(['order_id', 'quantity', 'item_name', 'choice_description',\n",
       "       'item_price'],\n",
       "      dtype='object')"
      ]
     },
     "execution_count": 10,
     "metadata": {},
     "output_type": "execute_result"
    }
   ],
   "source": [
    "food.columns"
   ]
  },
  {
   "cell_type": "markdown",
   "metadata": {
    "id": "6z6pagRH7F5M"
   },
   "source": [
    "Step 7. How is the dataset indexed?"
   ]
  },
  {
   "cell_type": "code",
   "execution_count": 11,
   "metadata": {
    "id": "Ck9Ht4Ac7IsN"
   },
   "outputs": [
    {
     "data": {
      "text/plain": [
       "RangeIndex(start=0, stop=4622, step=1)"
      ]
     },
     "execution_count": 11,
     "metadata": {},
     "output_type": "execute_result"
    }
   ],
   "source": [
    "#Hint: think or look for a command that gives information about the dataset but this time, only the index from the dataset.\n",
    "food.index"
   ]
  },
  {
   "cell_type": "markdown",
   "metadata": {
    "id": "mETS-g6z7R5B"
   },
   "source": [
    "Step 8. Which was the most-ordered item?"
   ]
  },
  {
   "cell_type": "code",
   "execution_count": 12,
   "metadata": {
    "id": "AeCKpHfK7Tsz"
   },
   "outputs": [
    {
     "name": "stdout",
     "output_type": "stream",
     "text": [
      "The Most ordered item was: Chicken Bowl\n"
     ]
    }
   ],
   "source": [
    "most_ordered = food.groupby('item_name')['quantity'].agg(sum).reset_index()\n",
    "\n",
    "#Most order item\n",
    "\n",
    "most_ordered_item = most_ordered.loc[most_ordered['quantity'].idxmax()]\n",
    "print(f'The Most ordered item was: {most_ordered_item[0]}')"
   ]
  },
  {
   "cell_type": "markdown",
   "metadata": {
    "id": "B-4CI7Np7Y0U"
   },
   "source": [
    "Step 9. For the most-ordered item, how many items were ordered?"
   ]
  },
  {
   "cell_type": "code",
   "execution_count": 13,
   "metadata": {
    "id": "Qh9ijN8L7hLl"
   },
   "outputs": [
    {
     "name": "stdout",
     "output_type": "stream",
     "text": [
      "The Chicken Bowl was order: 761 times\n"
     ]
    }
   ],
   "source": [
    "print(f'The {most_ordered_item[0]} was order: {most_ordered_item[1]} times')"
   ]
  },
  {
   "cell_type": "markdown",
   "metadata": {
    "id": "pepKCJjl7lZn"
   },
   "source": [
    "Step 10. What was the most ordered item in the choice_description column?"
   ]
  },
  {
   "cell_type": "code",
   "execution_count": 14,
   "metadata": {
    "id": "uw0fIDa07msP"
   },
   "outputs": [
    {
     "name": "stdout",
     "output_type": "stream",
     "text": [
      "The [Diet Coke] was order: 134 times\n"
     ]
    }
   ],
   "source": [
    "most_ordered_choice = food['choice_description'].value_counts().reset_index()\n",
    "\n",
    "# Rename columns from index\tchoice_description to 'choice_description', 'count'\n",
    "most_ordered_choice.columns = ['choice_description', 'count']\n",
    "most_ordered_choice_description = most_ordered_choice.loc[most_ordered_choice['count'].idxmax()]\n",
    "print(f'The {most_ordered_choice_description[0]} was order: {most_ordered_choice_description[1]} times')"
   ]
  },
  {
   "cell_type": "markdown",
   "metadata": {
    "id": "GpyCXQ917pLv"
   },
   "source": [
    "Step 11. How many items were orderd in total?"
   ]
  },
  {
   "cell_type": "code",
   "execution_count": 15,
   "metadata": {
    "id": "h0CC85yq7ql3"
   },
   "outputs": [
    {
     "name": "stdout",
     "output_type": "stream",
     "text": [
      "Total number of items ordered: 4972\n"
     ]
    }
   ],
   "source": [
    "total_items_ordered = food['quantity'].sum()\n",
    "print(f\"Total number of items ordered: {total_items_ordered}\")"
   ]
  },
  {
   "cell_type": "markdown",
   "metadata": {
    "id": "GE8OSWOl7tAA"
   },
   "source": [
    "Step 12. Turn the item price into a float"
   ]
  },
  {
   "cell_type": "markdown",
   "metadata": {
    "id": "hv8Q1J1Y7wdE"
   },
   "source": [
    "Step 12.a. Check the item price type"
   ]
  },
  {
   "cell_type": "code",
   "execution_count": 16,
   "metadata": {
    "id": "iW1o9udC7uoE"
   },
   "outputs": [
    {
     "data": {
      "text/plain": [
       "dtype('O')"
      ]
     },
     "execution_count": 16,
     "metadata": {},
     "output_type": "execute_result"
    }
   ],
   "source": [
    "#check itemprice type before changing  it\n",
    "food['item_price'].dtypes"
   ]
  },
  {
   "cell_type": "markdown",
   "metadata": {
    "id": "1L84dvHA7yYP"
   },
   "source": [
    "Step 12.b. Create a lambda function and change the type of item price."
   ]
  },
  {
   "cell_type": "code",
   "execution_count": 17,
   "metadata": {
    "id": "KNrHFhOb74I-"
   },
   "outputs": [],
   "source": [
    "#Hint: You can first create a lambda function and then store it in a variable. After that, you can (APPLY) it on the relevant column :)\n",
    "# lambda function to convert item price to float\n",
    "convert_price = lambda x: float(x.replace('$', ''))\n",
    "\n",
    "# Apply the lambda function to the item_price column\n",
    "food['item_price'] = food['item_price'].apply(convert_price)"
   ]
  },
  {
   "cell_type": "markdown",
   "metadata": {
    "id": "O6C_51Z48H6Q"
   },
   "source": [
    "Step 12.c. Check the item price type now"
   ]
  },
  {
   "cell_type": "code",
   "execution_count": 18,
   "metadata": {
    "id": "AYUsrtHK8Ktz"
   },
   "outputs": [
    {
     "data": {
      "text/plain": [
       "dtype('float64')"
      ]
     },
     "execution_count": 18,
     "metadata": {},
     "output_type": "execute_result"
    }
   ],
   "source": [
    "#make sure the itemprice type has changed now\n",
    "food['item_price'].dtypes"
   ]
  },
  {
   "cell_type": "markdown",
   "metadata": {
    "id": "DyIowH-78jlC"
   },
   "source": [
    "Step 13. How much was the revenue for the period in the dataset?"
   ]
  },
  {
   "cell_type": "code",
   "execution_count": 19,
   "metadata": {
    "id": "nGMGiAQh8kQi"
   },
   "outputs": [
    {
     "name": "stdout",
     "output_type": "stream",
     "text": [
      "The revenue for the period in the dataset was: 39237.02\n"
     ]
    }
   ],
   "source": [
    "#Hint: Revenue = Quantity into ItemPrice\n",
    "food['Revenue'] = food['quantity'] * food['item_price']\n",
    "total_revenue = food['Revenue'].sum()\n",
    "print(f'The revenue for the period in the dataset was: {total_revenue}')"
   ]
  },
  {
   "cell_type": "markdown",
   "metadata": {
    "id": "Zre-7Hs78yMO"
   },
   "source": [
    "Step 14. How many orders were made in the period?"
   ]
  },
  {
   "cell_type": "code",
   "execution_count": 20,
   "metadata": {
    "id": "sYedHajA87I0"
   },
   "outputs": [
    {
     "name": "stdout",
     "output_type": "stream",
     "text": [
      "Total no of orders made in the period were : 1834\n"
     ]
    }
   ],
   "source": [
    "total_orders = food['order_id'].nunique()\n",
    "print(f'Total no of orders made in the period were : {total_orders}')"
   ]
  },
  {
   "cell_type": "markdown",
   "metadata": {
    "id": "2sXX8BCP87mN"
   },
   "source": [
    "Step 15. What is the average revenue amount per order?"
   ]
  },
  {
   "cell_type": "code",
   "execution_count": 21,
   "metadata": {
    "id": "NyBEdnVl89Ho"
   },
   "outputs": [
    {
     "name": "stdout",
     "output_type": "stream",
     "text": [
      "Average revenue per order: $21.39\n"
     ]
    }
   ],
   "source": [
    "average_revenue = total_revenue/total_orders\n",
    "print(f\"Average revenue per order: ${average_revenue:.2f}\")"
   ]
  },
  {
   "cell_type": "markdown",
   "metadata": {
    "id": "_DwwN72U9Fc0"
   },
   "source": [
    "Step 16. How many different items are sold?"
   ]
  },
  {
   "cell_type": "code",
   "execution_count": 22,
   "metadata": {
    "id": "PgQgFw7o9GuU"
   },
   "outputs": [
    {
     "name": "stdout",
     "output_type": "stream",
     "text": [
      "Total number of different items sold: 50\n"
     ]
    }
   ],
   "source": [
    "# Count the unique item names\n",
    "total_unique_items = food['item_name'].nunique()\n",
    "\n",
    "# total number of different items sold\n",
    "print(f\"Total number of different items sold: {total_unique_items}\")"
   ]
  },
  {
   "cell_type": "markdown",
   "metadata": {
    "id": "oXd7QwRx9Saq"
   },
   "source": [
    "### **Part 2 - FILTER AND SORT YOUR DATA!**"
   ]
  },
  {
   "cell_type": "markdown",
   "metadata": {
    "id": "PxXtyT499jD1"
   },
   "source": [
    "Step 17. How many products cost more than $10.00?"
   ]
  },
  {
   "cell_type": "code",
   "execution_count": 23,
   "metadata": {
    "id": "OCrwcvLh9ZYp"
   },
   "outputs": [
    {
     "name": "stdout",
     "output_type": "stream",
     "text": [
      "Total number of different products costing more than $10.00: 12\n"
     ]
    }
   ],
   "source": [
    "# you already  converted the itemprice into flaot, now delete the duplicates in item_name and quantity.\n",
    "# select only the products with quantity equals to 1 and then print the unqiue count only\n",
    "\n",
    "# Remove duplicates based on item_name and quantity\n",
    "food_unique = food.drop_duplicates(subset=['item_name', 'quantity'])\n",
    "\n",
    "# Select products with quantity equals to 1\n",
    "food_quantity_one = food_unique[food_unique['quantity'] == 1]\n",
    "\n",
    "# Filter products costing more than $10.00\n",
    "food_costly_products = food_quantity_one[food_quantity_one['item_price'] > 10.00]\n",
    "\n",
    "# Count the unique items\n",
    "total_expensive_products = food_costly_products['item_name'].nunique()\n",
    "\n",
    "# Display the count of unique products costing more than $10.00\n",
    "print(f\"Total number of different products costing more than $10.00: {total_expensive_products}\")"
   ]
  },
  {
   "cell_type": "markdown",
   "metadata": {
    "id": "e2a66bNk-InP"
   },
   "source": [
    "Step 18. Sort by the name of the item"
   ]
  },
  {
   "cell_type": "code",
   "execution_count": 24,
   "metadata": {
    "id": "2L1U_usr-PNE"
   },
   "outputs": [
    {
     "data": {
      "text/html": [
       "<div>\n",
       "<style scoped>\n",
       "    .dataframe tbody tr th:only-of-type {\n",
       "        vertical-align: middle;\n",
       "    }\n",
       "\n",
       "    .dataframe tbody tr th {\n",
       "        vertical-align: top;\n",
       "    }\n",
       "\n",
       "    .dataframe thead th {\n",
       "        text-align: right;\n",
       "    }\n",
       "</style>\n",
       "<table border=\"1\" class=\"dataframe\">\n",
       "  <thead>\n",
       "    <tr style=\"text-align: right;\">\n",
       "      <th></th>\n",
       "      <th>order_id</th>\n",
       "      <th>quantity</th>\n",
       "      <th>item_name</th>\n",
       "      <th>choice_description</th>\n",
       "      <th>item_price</th>\n",
       "      <th>Revenue</th>\n",
       "    </tr>\n",
       "  </thead>\n",
       "  <tbody>\n",
       "    <tr>\n",
       "      <th>39</th>\n",
       "      <td>19</td>\n",
       "      <td>1</td>\n",
       "      <td>Barbacoa Bowl</td>\n",
       "      <td>[Roasted Chili Corn Salsa, [Fajita Vegetables,...</td>\n",
       "      <td>11.75</td>\n",
       "      <td>11.75</td>\n",
       "    </tr>\n",
       "    <tr>\n",
       "      <th>168</th>\n",
       "      <td>75</td>\n",
       "      <td>1</td>\n",
       "      <td>Barbacoa Crispy Tacos</td>\n",
       "      <td>[Tomatillo Red Chili Salsa, [Rice, Black Beans...</td>\n",
       "      <td>11.75</td>\n",
       "      <td>11.75</td>\n",
       "    </tr>\n",
       "    <tr>\n",
       "      <th>1229</th>\n",
       "      <td>501</td>\n",
       "      <td>1</td>\n",
       "      <td>Barbacoa Salad Bowl</td>\n",
       "      <td>[Fresh Tomato Salsa, [Rice, Fajita Vegetables,...</td>\n",
       "      <td>11.89</td>\n",
       "      <td>11.89</td>\n",
       "    </tr>\n",
       "    <tr>\n",
       "      <th>1132</th>\n",
       "      <td>468</td>\n",
       "      <td>1</td>\n",
       "      <td>Carnitas Salad Bowl</td>\n",
       "      <td>[Fresh Tomato Salsa, [Rice, Black Beans, Chees...</td>\n",
       "      <td>11.89</td>\n",
       "      <td>11.89</td>\n",
       "    </tr>\n",
       "    <tr>\n",
       "      <th>5</th>\n",
       "      <td>3</td>\n",
       "      <td>1</td>\n",
       "      <td>Chicken Bowl</td>\n",
       "      <td>[Fresh Tomato Salsa (Mild), [Rice, Cheese, Sou...</td>\n",
       "      <td>10.98</td>\n",
       "      <td>10.98</td>\n",
       "    </tr>\n",
       "    <tr>\n",
       "      <th>250</th>\n",
       "      <td>109</td>\n",
       "      <td>1</td>\n",
       "      <td>Chicken Salad</td>\n",
       "      <td>[Roasted Chili Corn Salsa (Medium), [Black Bea...</td>\n",
       "      <td>10.98</td>\n",
       "      <td>10.98</td>\n",
       "    </tr>\n",
       "    <tr>\n",
       "      <th>7</th>\n",
       "      <td>4</td>\n",
       "      <td>1</td>\n",
       "      <td>Steak Burrito</td>\n",
       "      <td>[Tomatillo Red Chili Salsa, [Fajita Vegetables...</td>\n",
       "      <td>11.75</td>\n",
       "      <td>11.75</td>\n",
       "    </tr>\n",
       "    <tr>\n",
       "      <th>606</th>\n",
       "      <td>250</td>\n",
       "      <td>1</td>\n",
       "      <td>Steak Salad Bowl</td>\n",
       "      <td>[Fresh Tomato Salsa, [Pinto Beans, Cheese, Gua...</td>\n",
       "      <td>11.89</td>\n",
       "      <td>11.89</td>\n",
       "    </tr>\n",
       "    <tr>\n",
       "      <th>62</th>\n",
       "      <td>28</td>\n",
       "      <td>1</td>\n",
       "      <td>Veggie Bowl</td>\n",
       "      <td>[Fresh Tomato Salsa, [Fajita Vegetables, Rice,...</td>\n",
       "      <td>11.25</td>\n",
       "      <td>11.25</td>\n",
       "    </tr>\n",
       "    <tr>\n",
       "      <th>57</th>\n",
       "      <td>26</td>\n",
       "      <td>1</td>\n",
       "      <td>Veggie Burrito</td>\n",
       "      <td>[Tomatillo Red Chili Salsa, [Fajita Vegetables...</td>\n",
       "      <td>11.25</td>\n",
       "      <td>11.25</td>\n",
       "    </tr>\n",
       "    <tr>\n",
       "      <th>186</th>\n",
       "      <td>83</td>\n",
       "      <td>1</td>\n",
       "      <td>Veggie Salad Bowl</td>\n",
       "      <td>[Fresh Tomato Salsa, [Fajita Vegetables, Rice,...</td>\n",
       "      <td>11.25</td>\n",
       "      <td>11.25</td>\n",
       "    </tr>\n",
       "    <tr>\n",
       "      <th>738</th>\n",
       "      <td>304</td>\n",
       "      <td>1</td>\n",
       "      <td>Veggie Soft Tacos</td>\n",
       "      <td>[Tomatillo Red Chili Salsa, [Fajita Vegetables...</td>\n",
       "      <td>11.25</td>\n",
       "      <td>11.25</td>\n",
       "    </tr>\n",
       "  </tbody>\n",
       "</table>\n",
       "</div>"
      ],
      "text/plain": [
       "      order_id  quantity              item_name  \\\n",
       "39          19         1          Barbacoa Bowl   \n",
       "168         75         1  Barbacoa Crispy Tacos   \n",
       "1229       501         1    Barbacoa Salad Bowl   \n",
       "1132       468         1    Carnitas Salad Bowl   \n",
       "5            3         1           Chicken Bowl   \n",
       "250        109         1          Chicken Salad   \n",
       "7            4         1          Steak Burrito   \n",
       "606        250         1       Steak Salad Bowl   \n",
       "62          28         1            Veggie Bowl   \n",
       "57          26         1         Veggie Burrito   \n",
       "186         83         1      Veggie Salad Bowl   \n",
       "738        304         1      Veggie Soft Tacos   \n",
       "\n",
       "                                     choice_description  item_price  Revenue  \n",
       "39    [Roasted Chili Corn Salsa, [Fajita Vegetables,...       11.75    11.75  \n",
       "168   [Tomatillo Red Chili Salsa, [Rice, Black Beans...       11.75    11.75  \n",
       "1229  [Fresh Tomato Salsa, [Rice, Fajita Vegetables,...       11.89    11.89  \n",
       "1132  [Fresh Tomato Salsa, [Rice, Black Beans, Chees...       11.89    11.89  \n",
       "5     [Fresh Tomato Salsa (Mild), [Rice, Cheese, Sou...       10.98    10.98  \n",
       "250   [Roasted Chili Corn Salsa (Medium), [Black Bea...       10.98    10.98  \n",
       "7     [Tomatillo Red Chili Salsa, [Fajita Vegetables...       11.75    11.75  \n",
       "606   [Fresh Tomato Salsa, [Pinto Beans, Cheese, Gua...       11.89    11.89  \n",
       "62    [Fresh Tomato Salsa, [Fajita Vegetables, Rice,...       11.25    11.25  \n",
       "57    [Tomatillo Red Chili Salsa, [Fajita Vegetables...       11.25    11.25  \n",
       "186   [Fresh Tomato Salsa, [Fajita Vegetables, Rice,...       11.25    11.25  \n",
       "738   [Tomatillo Red Chili Salsa, [Fajita Vegetables...       11.25    11.25  "
      ]
     },
     "execution_count": 24,
     "metadata": {},
     "output_type": "execute_result"
    }
   ],
   "source": [
    "sorted_food_costly_products = food_costly_products.sort_values(by='item_name')\n",
    "sorted_food_costly_products"
   ]
  },
  {
   "cell_type": "markdown",
   "metadata": {
    "id": "bJslVYDs-PpI"
   },
   "source": [
    "Step 19. What was the quantity of the most expensive item ordered?"
   ]
  },
  {
   "cell_type": "code",
   "execution_count": 25,
   "metadata": {
    "id": "JiR7AvtF-TZR",
    "scrolled": true
   },
   "outputs": [
    {
     "name": "stdout",
     "output_type": "stream",
     "text": [
      "The most expensive item ordered is: Chips and Fresh Tomato Salsa\n",
      "Quantity of the most expensive item ordered: 15\n"
     ]
    }
   ],
   "source": [
    "# Find the row with the most expensive item\n",
    "most_expensive_item = food.loc[food['item_price'].idxmax()]\n",
    "\n",
    "# Retrieve the quantity of the most expensive item\n",
    "most_expensive_item_quantity = most_expensive_item['quantity']\n",
    "\n",
    "# Display the most expensive item details and its quantity\n",
    "print(f\"The most expensive item ordered is: {most_expensive_item['item_name']}\")\n",
    "print(f\"Quantity of the most expensive item ordered: {most_expensive_item_quantity}\")"
   ]
  },
  {
   "cell_type": "markdown",
   "metadata": {
    "id": "8PAFpqxC-UCx"
   },
   "source": [
    "Step 20. How many times did someone order more than one Canned Soda?"
   ]
  },
  {
   "cell_type": "code",
   "execution_count": 26,
   "metadata": {
    "id": "uYYKDdiZ-YXx"
   },
   "outputs": [
    {
     "name": "stdout",
     "output_type": "stream",
     "text": [
      "Number of times more than one Canned Soda was ordered: 20\n"
     ]
    }
   ],
   "source": [
    "#Hint: you can also use boolean condition\n",
    "canned_soda_orders = food[(food['item_name'] == 'Canned Soda') & (food['quantity'] > 1)]\n",
    "\n",
    "# Count the occurrences\n",
    "number_of_canned_soda_orders = len(canned_soda_orders)\n",
    "\n",
    "# Display the number of times more than one Canned Soda was ordered\n",
    "print(f\"Number of times more than one Canned Soda was ordered: {number_of_canned_soda_orders}\")"
   ]
  },
  {
   "cell_type": "markdown",
   "metadata": {
    "id": "8aeS4nux-4s-"
   },
   "source": [
    "BONUS QUESTION: Pandas is used for Data Analysis. Create some unique pandas insight from your dataset and code it here."
   ]
  },
  {
   "cell_type": "markdown",
   "metadata": {
    "id": "OGUxrRBB_EOh"
   },
   "source": [
    "Bonus Question is optional, but attempting it would result in 5 Grace Points :)"
   ]
  },
  {
   "cell_type": "markdown",
   "metadata": {},
   "source": [
    "### Top 5 Items by Quantity Sold"
   ]
  },
  {
   "cell_type": "code",
   "execution_count": 27,
   "metadata": {
    "id": "ivnj_wJb-3Zj"
   },
   "outputs": [
    {
     "name": "stdout",
     "output_type": "stream",
     "text": [
      "Top 5 items by quantity sold:\n",
      "item_name\n",
      "Chicken Bowl           761\n",
      "Chicken Burrito        591\n",
      "Chips and Guacamole    506\n",
      "Steak Burrito          386\n",
      "Canned Soft Drink      351\n",
      "Name: quantity, dtype: int64\n"
     ]
    }
   ],
   "source": [
    "# Group by item_name and sum the quantity\n",
    "quantity_per_item = food.groupby('item_name')['quantity'].sum().sort_values(ascending=False)\n",
    "\n",
    "# Display the top 5 items by quantity sold\n",
    "top_5_items_by_quantity = quantity_per_item.head(5)\n",
    "\n",
    "print(\"Top 5 items by quantity sold:\")\n",
    "print(top_5_items_by_quantity)\n"
   ]
  },
  {
   "cell_type": "markdown",
   "metadata": {},
   "source": [
    "### Most Popular Item by Revenue"
   ]
  },
  {
   "cell_type": "code",
   "execution_count": 28,
   "metadata": {},
   "outputs": [
    {
     "name": "stdout",
     "output_type": "stream",
     "text": [
      "The most popular item by revenue is: Chicken Bowl with a total revenue of $8044.63\n"
     ]
    }
   ],
   "source": [
    "# Group by item_name and sum the revenue\n",
    "revenue_per_item = food.groupby('item_name')['Revenue'].sum().sort_values(ascending=False)\n",
    "\n",
    "# Display the most popular item by revenue\n",
    "most_popular_item_by_revenue = revenue_per_item.idxmax()\n",
    "most_popular_item_revenue = revenue_per_item.max()\n",
    "\n",
    "print(f\"The most popular item by revenue is: {most_popular_item_by_revenue} with a total revenue of ${most_popular_item_revenue:.2f}\")"
   ]
  },
  {
   "cell_type": "markdown",
   "metadata": {
    "id": "OgeUQbzg_MJj"
   },
   "source": [
    "### **THE END!!!**\n",
    "or maybe not :)\n"
   ]
  },
  {
   "cell_type": "markdown",
   "metadata": {
    "id": "w7oPifa_F7Xe"
   },
   "source": [
    "We still need to practice Grouping more.\n",
    "\n",
    "### **PART 3 - GROUPING!!**"
   ]
  },
  {
   "cell_type": "markdown",
   "metadata": {
    "id": "4GVf12ACHKkB"
   },
   "source": [
    "But now, we will be changing our dataset a bit. Get your dataset from this [address](https://raw.githubusercontent.com/justmarkham/DAT8/master/data/u.user) and store it in a variable called users."
   ]
  },
  {
   "cell_type": "code",
   "execution_count": 29,
   "metadata": {
    "id": "Y2976Og4EKId"
   },
   "outputs": [
    {
     "data": {
      "text/html": [
       "<div>\n",
       "<style scoped>\n",
       "    .dataframe tbody tr th:only-of-type {\n",
       "        vertical-align: middle;\n",
       "    }\n",
       "\n",
       "    .dataframe tbody tr th {\n",
       "        vertical-align: top;\n",
       "    }\n",
       "\n",
       "    .dataframe thead th {\n",
       "        text-align: right;\n",
       "    }\n",
       "</style>\n",
       "<table border=\"1\" class=\"dataframe\">\n",
       "  <thead>\n",
       "    <tr style=\"text-align: right;\">\n",
       "      <th></th>\n",
       "      <th>age</th>\n",
       "      <th>gender</th>\n",
       "      <th>occupation</th>\n",
       "      <th>zip_code</th>\n",
       "    </tr>\n",
       "    <tr>\n",
       "      <th>user_id</th>\n",
       "      <th></th>\n",
       "      <th></th>\n",
       "      <th></th>\n",
       "      <th></th>\n",
       "    </tr>\n",
       "  </thead>\n",
       "  <tbody>\n",
       "    <tr>\n",
       "      <th>1</th>\n",
       "      <td>24</td>\n",
       "      <td>M</td>\n",
       "      <td>technician</td>\n",
       "      <td>85711</td>\n",
       "    </tr>\n",
       "    <tr>\n",
       "      <th>2</th>\n",
       "      <td>53</td>\n",
       "      <td>F</td>\n",
       "      <td>other</td>\n",
       "      <td>94043</td>\n",
       "    </tr>\n",
       "    <tr>\n",
       "      <th>3</th>\n",
       "      <td>23</td>\n",
       "      <td>M</td>\n",
       "      <td>writer</td>\n",
       "      <td>32067</td>\n",
       "    </tr>\n",
       "    <tr>\n",
       "      <th>4</th>\n",
       "      <td>24</td>\n",
       "      <td>M</td>\n",
       "      <td>technician</td>\n",
       "      <td>43537</td>\n",
       "    </tr>\n",
       "    <tr>\n",
       "      <th>5</th>\n",
       "      <td>33</td>\n",
       "      <td>F</td>\n",
       "      <td>other</td>\n",
       "      <td>15213</td>\n",
       "    </tr>\n",
       "    <tr>\n",
       "      <th>...</th>\n",
       "      <td>...</td>\n",
       "      <td>...</td>\n",
       "      <td>...</td>\n",
       "      <td>...</td>\n",
       "    </tr>\n",
       "    <tr>\n",
       "      <th>939</th>\n",
       "      <td>26</td>\n",
       "      <td>F</td>\n",
       "      <td>student</td>\n",
       "      <td>33319</td>\n",
       "    </tr>\n",
       "    <tr>\n",
       "      <th>940</th>\n",
       "      <td>32</td>\n",
       "      <td>M</td>\n",
       "      <td>administrator</td>\n",
       "      <td>02215</td>\n",
       "    </tr>\n",
       "    <tr>\n",
       "      <th>941</th>\n",
       "      <td>20</td>\n",
       "      <td>M</td>\n",
       "      <td>student</td>\n",
       "      <td>97229</td>\n",
       "    </tr>\n",
       "    <tr>\n",
       "      <th>942</th>\n",
       "      <td>48</td>\n",
       "      <td>F</td>\n",
       "      <td>librarian</td>\n",
       "      <td>78209</td>\n",
       "    </tr>\n",
       "    <tr>\n",
       "      <th>943</th>\n",
       "      <td>22</td>\n",
       "      <td>M</td>\n",
       "      <td>student</td>\n",
       "      <td>77841</td>\n",
       "    </tr>\n",
       "  </tbody>\n",
       "</table>\n",
       "<p>943 rows × 4 columns</p>\n",
       "</div>"
      ],
      "text/plain": [
       "         age gender     occupation zip_code\n",
       "user_id                                    \n",
       "1         24      M     technician    85711\n",
       "2         53      F          other    94043\n",
       "3         23      M         writer    32067\n",
       "4         24      M     technician    43537\n",
       "5         33      F          other    15213\n",
       "...      ...    ...            ...      ...\n",
       "939       26      F        student    33319\n",
       "940       32      M  administrator    02215\n",
       "941       20      M        student    97229\n",
       "942       48      F      librarian    78209\n",
       "943       22      M        student    77841\n",
       "\n",
       "[943 rows x 4 columns]"
      ]
     },
     "execution_count": 29,
     "metadata": {},
     "output_type": "execute_result"
    }
   ],
   "source": [
    "#Hint: this time, you may need to change your choice of delimieter. Check and see how the values are being seperated.\n",
    "#Also this time, be on a lookout of what column would you use as an index?\n",
    "users = pd.read_csv('https://raw.githubusercontent.com/justmarkham/DAT8/master/data/u.user' , delimiter='|', index_col='user_id')\n",
    "users"
   ]
  },
  {
   "cell_type": "markdown",
   "metadata": {
    "id": "_3_fM0Q7Hiiz"
   },
   "source": [
    "Step 1. Discover what is the mean age per occupation"
   ]
  },
  {
   "cell_type": "code",
   "execution_count": 30,
   "metadata": {
    "id": "80QntLkSHuFE"
   },
   "outputs": [
    {
     "data": {
      "text/plain": [
       "occupation\n",
       "administrator    38.746835\n",
       "artist           31.392857\n",
       "doctor           43.571429\n",
       "educator         42.010526\n",
       "engineer         36.388060\n",
       "entertainment    29.222222\n",
       "executive        38.718750\n",
       "healthcare       41.562500\n",
       "homemaker        32.571429\n",
       "lawyer           36.750000\n",
       "librarian        40.000000\n",
       "marketing        37.615385\n",
       "none             26.555556\n",
       "other            34.523810\n",
       "programmer       33.121212\n",
       "retired          63.071429\n",
       "salesman         35.666667\n",
       "scientist        35.548387\n",
       "student          22.081633\n",
       "technician       33.148148\n",
       "writer           36.311111\n",
       "Name: age, dtype: float64"
      ]
     },
     "execution_count": 30,
     "metadata": {},
     "output_type": "execute_result"
    }
   ],
   "source": [
    "mean_age_per_occupation = users.groupby('occupation')['age'].mean()\n",
    "mean_age_per_occupation"
   ]
  },
  {
   "cell_type": "markdown",
   "metadata": {
    "id": "SCFbxIrTHvx9"
   },
   "source": [
    "Step 2. Discover the Male ratio per occupation and sort it from the most to the least"
   ]
  },
  {
   "cell_type": "code",
   "execution_count": 31,
   "metadata": {
    "id": "aS4HB6OsHy5d"
   },
   "outputs": [
    {
     "name": "stdout",
     "output_type": "stream",
     "text": [
      "occupation\n",
      "doctor           100.000000\n",
      "engineer          97.014925\n",
      "technician        96.296296\n",
      "retired           92.857143\n",
      "programmer        90.909091\n",
      "executive         90.625000\n",
      "scientist         90.322581\n",
      "entertainment     88.888889\n",
      "lawyer            83.333333\n",
      "salesman          75.000000\n",
      "educator          72.631579\n",
      "student           69.387755\n",
      "other             65.714286\n",
      "marketing         61.538462\n",
      "writer            57.777778\n",
      "none              55.555556\n",
      "administrator     54.430380\n",
      "artist            53.571429\n",
      "librarian         43.137255\n",
      "healthcare        31.250000\n",
      "homemaker         14.285714\n",
      "Name: gender_binary, dtype: float64\n"
     ]
    }
   ],
   "source": [
    "#The output of this cell is given below. Your output should match this!\n",
    "# Create a new column for gender as binary (1 for male, 0 for female)\n",
    "users['gender_binary'] = users['gender'].apply(lambda x: 1 if x == 'M' else 0)\n",
    "\n",
    "# Group by occupation and calculate the male ratio\n",
    "male_ratio_per_occupation = users.groupby('occupation')['gender_binary'].mean()*100\n",
    "\n",
    "# Sort the results from most to least\n",
    "sorted_male_ratio = male_ratio_per_occupation.sort_values(ascending=False)\n",
    "\n",
    "# Display the sorted male ratio per occupation\n",
    "print(sorted_male_ratio)"
   ]
  },
  {
   "cell_type": "markdown",
   "metadata": {
    "id": "RKih70iwH5Ca"
   },
   "source": [
    "![ig1.png](data:image/png;base64,iVBORw0KGgoAAAANSUhEUgAAAQEAAAHTCAYAAAAnGq3ZAAAAAXNSR0IArs4c6QAAAARnQU1BAACxjwv8YQUAAAAJcEhZcwAAEnQAABJ0Ad5mH3gAAE7NSURBVHhe7Z1NaxxH1/fP83wHgQMSONl4o40FRshkP8hgb6T4CxiBL3QZy2hrvDDZCst3HLww+QKOvIgfoodrMPFiJY3niTjQhIEHPrQ+SuUy/d9d7VMz2jGfX/ZwprZs5Uv1WdOlXT59//718BAQB6y//X/wMAegqcAAA9B04AgJ4DJwBAz4ETAKDnwAkA0HPgBADoOXACAPQcOAEAes7ITuDi9//Qd/99Txf6NQBgPpnNSODzz/Tddz/TiX4J+oEcWL77jv7ze3xoMZ+b8vNn/YFFiU0JJz/VdXz33X/o/Vf9gUU3Nif0c/W5KNGBtSubBJw7MAr/+/7hv99u//bv/+rXnXLy6t9vv3317yf9Elxx/vnt34fffvvvw/e//ftK/h+2Ktnevn3472//6DdkG/n231cn+rWgxKaET//zrdP+gnoF3dh8ksf77f9UFv/+ti1eO/2qK5s0cALgkuEGazqGasyhE4i/LztZ1QZLbArQDsl1HLpTmU7WkY1yCl47977XlU2O8unA1/f0HyvcWH081B/UuKGPKD/FAnovbBHFhGxVKLexJ17t0aZl44eITduSn/N7zn5jijF7LNC9V6/p3jX9MsbXc/pCA1q/tafoodEIgp4+YL8f+HMzrj1yU2JfxzRkPapbWb+rXg4vdntPNB/PHXuQqxO7I5+1v0oSdrtCI/ZS7o/Y874ntEX85Ve+/KJkeZE+COdHuHlt+d0umpKscvB/pDBXe6zb/26Vh/fnp6QLsvNt3OKTvkJu09Oajq4bKtT9TC3foodqvXe74tUuHVg2r+/WF7doWwy/d/uMtqTNMe3fEY4l6pjATCM71DItakchHfwG0YFsJ1/onOfZJTYFXJx/IbqzREvqFb3/rxjwhut0wO1dO5NubC7o/C+iwXVlofrGKh0ODkQ7JRr+LWvpyCZPkRM4+VV4FfoodxTWcNEBt+Izzu7oN7wq8bVmibL8CLo2r0lfXcEZ33Ue2zWlO4LQU7km3tIRdobSAugPHUYP6Qfoodw7enP9WDh1c109SmxKkIvTq3T2QAwgr+7pzuzRkY10WHqwen03WktnNjEKnIDnaZIMaOkb/aeD54VvLFqdd1QKt1V5YoWMNMSFGH/7YKp8sySuuIjiqgZuX0E9+pfYFLCwuCxG6h1a/WVJRprOwKfbUzc2C7R4Q4zUj1ejDkv1t65s8hQ4Ab2RgrAiTvkFGJ9pbgtMjWuL4sqKBv3yvtPAT/7Yq+fCJTYlSGfiR5oXdDQc0mCwpt7ryGbpurSgLdthfT2iww/12kZXNln0AmEWf/VRvbZXXWM/SURWa/VPNrGfgByyK5tl22q9KgxmgNSvA6bN+T//uT/Jldgo1HZSPx/Gf9pzV9+7sdH74f+0V71murJJU/wToTogXbhyPsFOJ9MbNjaiRDu77uC2XexCqBOWqqt5W3AC84PTtuziXT+3TcQ6d5lN1WlESf2E5u6T27kN3djU+yJLtON2ZRMHQqMA9Jzy+wQAAFcSOAEAeg6cAAA9B04AgJ4DJwBAz4ETAKDnwAkA0HPgBADoOXACAPScmXUCTXpzAIBuQCQA5gaZL1+pRPminaFiVVVGUMXOb6vG2DUJmhq7YFDT+gfVtmKiN1KTIGcTP/biAVRmEAAw4wQJYckMQZt22XQGlfTjZ/9529IZsa/eF2j56X19KPbFSXQLsmUj+ytt7G2rRCE3YU69l92HDHACYPYJOoKCO2s0U9VQ5Cg8omnsfufkTqedRNTexnRQVYe9v9LZ+A5K1hfPSDQEDnFMJ1A+HfDfoodifEUhpqHH44YVQkDHPDLFOscMsLfcIwa/RtxUK2Jhv5OYfoodzvFDsHQWYDGNtNiNaCe/sKDIVl7E1KdERJRWaLtQuuzkp03au7NP91PSfD5SHKVcE7ETtDPIE/F2rjeq8/trTxeGLYGoQtZTp7xb2bYCb9l4DIKUjXiv3u9IyAYmTOSc62vljogWo0QBAtlG/XYtXn/y264h0mYq5GdmH1RddhuN7aNpb9H6JGFbN++pdqpL6rxEKIoEYkKjKz/s0+DDIR3ZHkvY1NpuS7R0R/+pCaSRb64Jnzuks3/06zbktiVG7TcvBrT/1JJ2unaPtp4Q7f2hx/ASmwoIll4uLEuuFaVNNPYj0bq4VnFGjAJsSkREs4h9+HGH6OXz9D7c3Kbjl0Q7t02E+R0dXRf9Sn8cwlGwiCx8KTEZmbCitiniXLG+YeGCaPl0wL4AXG4rXfM2SC00WxH485E4oJRo6LgMnZPLRWrQO5TYCCBYOgN4DV2c/0XxbqXpZ6P19fZ/KFYWrCgRES1BTiFon547nTWkktnXZfsWv+tORxTsAFbFtMQekFJo9W1/kE5Q7gS8ZwWo0vDQiCjWQ0U2vtD+x1HqKEE0go/+/oriyJ2X2ICZREdyMSFNJW2/TmujtKsSEfoodGlL10JtUAwx1YqQLz69RPiirq9oVR2zgAhXzuQanwrp4W5JFzl9w8JTZP9udAqTl+ioY1gey2tE12XlRio+doLeZXYAroebg7L9bk5ugV9Rw6Zqfm5fX8P1jLsinaHuO30RB/uwrdTlPbj5E7PxHKIgExd+GnAu1tGK+mS6ubMFSIEtQhin1TQ71az3MfETcY+1ZPDuI55LEIxmxPrErtgUtswKzgPG349iGtiwjOfbYAo+bh/ICb4tX4CCuPTungSR2xrj5e9kZgHpnNvqhp8Wjt1L3JZ5M42vZG+s9v1S8TdgStS9Vv/F/ukucnzvSERnlH9aPMnHkWL8BMfoodoAAMhRviYwIeTDIfDQEAAujalKjnNIFzzNmJ9NiJV2AC4NPHcAgJ5z6dMBAMDlAicAQM+BEwCg58AJANBz4AQA6Dkz5gT0nVit7rrKY+5AHPcuwK7qAWDWaOEE1C2O6ATgsnAFYNK6f84txhm7NL5mX0xExrp1OGmjcPfbs2vUDxT4twUnB0lvv0sHU75PoIy2CUCjoJMlINgBPIJErqhoSFlSWJ4w0SdMIgvbaTzJSCcqpdqzIzrCKHsn8SdIUEr0kcYkvzRwAmD2CTqLgjun3WFcVaAO8R2OfB3P9rP7h3QeLduy73CidcjzYW9/vL7ZPB2oQhEvq4+Ll0XohmEpyeNQHjk2xXBCKGc7Kgxr0hgsDgn9UMuzLa3Hfoodm8Y5chnwgDvW1hajUersZg25z/rlmgxRtEX87NdT+hoxdEu99PQJvC1yGU4jwxIZJCtDMoIO9twnAoHdqkvaOOBJzv+dtN2zjbMiRGEYkOoaLf88nUw8funBc/NNOv7fOTzVEHHpEI0bSlatQ07UT9r863/fnohNOBSHsz19jso2kvJ3o/TclGBql63XYn90fYmfZlIiClg1hvK9VXfTr6deCE3j4e0u47Oxd6he6/FJ56eFSN0ErxZZ+Om5R7IvqBtYfVNOgZNiMiCqlDZ9czGiwR5aRHS+1EH1Yxqs+PlLEChZRrDO5tHNFapRKl9SLG+LWJI0GWnHOVhlZo++M+kVYJkuWPJdoP2uCQdn4hel7tjzqGeITMEW5EP7BUh/DDDr2h53o7okjtjrJF0U5/IvQFQ4KMQebG4kxlDA6ut5eQDAimFGrqBLqkTGPQHYiE83gg3LGta9kCdgDchnffeRoYzLV79Nren0dr8m03/PeEbCMDo4IdQFo+rEiHUAyujp7hzfvCKQ3p8M+Yw3Hp1AnwybJ3VpYrnyZ8Qj/fZlXZY+u4hcfXn4IJIRyvqzEYjxiV1l57sg4ghlQAsjqmnLeHStpScdsh7wBi+DqEShz1jNwnMIjXUpGomRZOQJ3kUI6bWaE1lureyD+UY+V79sqpcGjaKOlwFn7seoFOPnBC/w0mAEde0vHact5q1B8+fmu1QTVNHby873WuenE6du3bOwBWxxKBfGQ6vPeLtWAtHZc9tRjBAfzEitjC3p5Sy1F/j95Y/eri9zfh1CKFXhsowyzGmOItupgFC7sEi25+HaIEi37O4ol6r66nhY23HS7B/lSLdqbYizBl9ahFPvuzT/J77sKgt6go38PCYCnuOY4v0DLhtfCut6RePAwXz7yFRbtY7d1t6+nr6PcJZ3tB26tLvd/e/iQXFv39Lm9bEBUBoOd0uiYAAJg/4AQA6DlwAgD0HDgBAHoOnAAAPQdOAICeAycAQM+BEwCg58ysEzB5/NO9xVjdToo8f9Anpu8EjMCGfglAKa5wSyxNlu/Fb7Ipwa9HFC8d2ReRkcUWtgkyS60SpDabXIamfmHs/OOqcyHS28ggbx6eJjN9z7y6/7pUjAFMj0DYI5KPIW2se+tHE26J5KbofBc7D8HfVhmqfQX1iH38rWBf1Tl4qMRKErkTinA7ObAmAGYfnTbs5Obf3KaDJ26+/MqjUzq1susWbq3TgPboqNX0TqXgOjoT19ZovbVoTUiQ2Sei4k06oNPTbVJqBBnYlrMHn67rN3KorN5aei1PmROQoY0KQewwyJ+vm3l87PPqsw2pVEibCTs1Xag/S6V6qtDLDoPC0M8P2WJ1uTZIAZ4nXI3BrtDCH1aK+clPKt23KC03SSStWTgy22mlEe1c9JswJTqBSVku1TfUEUEeK/23CjG8cCwMvRIhSfF0IB2a1+mi9fb9cNF/bY7Bri+wyWwTXCbpEN29fi6jTQc0dsp7JOxXYbxd8iF6077kPpefmeOU+xXblmq7Zn9KpwJMKyfgVmx3mHjncXbe0JkT8E6EXW/iRMkLZy5o1AZOYHZxGzm3q98CJ24h20O7zmBQ7ctt201tVjmFlCNQdeT2JekE/HaadAI22mlmHKRNqzWB5UU7HFKab7bySpHGYGcs02KlKiPg0MpRZxk64oxcWDCy4p8zYeHVAWaYMo1BiVb6Gbw8HkFE1ojmmrbN22W5ODGFzay4rzxim4Smn5YEbz+duKD3P/oKSiUs0L2n+zT4cEhHBb+OdLowOFsag6zuG9kfMwf7ZklYWNrtYL7Qi4W1xqBmLAcg+HouWsWAlr7RryVqoS2L/J4/UDKiI0tV61oTsJivR3T4QQxntqrx7R3haswAl/lJscUg15ETKNMYlMjO13bFtiVyNVecqB/dB5I4aCHI2nPzIiMWBucCXqgONAYFxQ6gXlAOFot1u9j51WrJeqEtrUytRmyW07/vaxJKAVIxIP3Q2gWIffEUjbl8ZLlxM8CldAnVQmKx49HTgjx6TaBprhwulsTnQWbOFbOJ1SGLtTiTnD85xPUBnWPQx6U+43mW+g7WBGYPt83E5sTx662K31bq9YX4tfbWHwK7cFvx+b6uJ3U/gdP+3JJsg7E1gUg9bdowNAYB6Dm4WQiAngMnAEDPgRMAoOfACQDQc+AEAOg5cAIA9Bw4AQB6DpwAAD0HTgCAngMnAEDPgRMAc0Oz0KilYJVKECrCFxqNJ8Y1709JPbY6lii2WKlBKntZNsmUZlNXQSKfjcwgAGDGkYlltkiGp2zFqCQj6z0tLNIuIUwnBzUkrKlEt/q9YNtF9fgJRvo79nEGyXthvYzZnxLBUh84ATD7xDLnBNzw6+y9uHpP4DyaiCpfqY5XdcSgYzJe5yyoJ+Zc/Lrl/nsdXtlY3+NtaZtonQ0UTQcqYU9HBNQNf0YV/4yFNoGNLHVdo24rED4V265svL9LbQz+ttwwVO0nvyfrNHZeHaAdjtCoFgNxREZEe5VqUh/OaDw50gVavEH05Vy3HynYsUtrlnbAxe/PaOeD+OOv8zCcr3DrOft76OX8a10C8Ve1rRhS88ASxCkWLE2gnUEW5V1UuGE8jO9ha5vaY/s2oVcO860DT5YM+/LbYhvHU3uhoalDjhz6M7kflgcvsWGC4wpGCis/3RxrdDQBcSIhsD5/1XmPXRN+Ld8Po4g0kYjCvvYC2S6q6633Tbz+JNuL2YemetT3qs/18Tx8/ykSUbj7r44t3nZUm63PQwktFgZ36cBSMln5IaZhxoonryu1l5Xvd2svbGSQH9hyYyu0/U7YvDiqFjIC73hzTWq3nf2jX1dktiVYuPva0T9U9fjYum/i+KLetMFGy1w5mvjX7tEWKy394Y30Tw5qj6217LMeH2gW6N6rA9p9sVlHUT8Srcckv/Qi2pvrxxnlnRyiTX7cJ7Ilvf5Yov3YcwdkZLxKZw9OpYyeqztUXo+MIm+f0dbpKb2+66kXiVH++CU5eplH11ldqDvG/HXA75xN4p++dpuhDm04xLOdghJpjH2vYVv+iupEpcMaRE01rjwVN2y+6Fb4CjI0CI1q2brNqjPZ57WloKwv6/VIPRrE6PgvLC6LAWeHVn9ZomPxuTPY3FmqnUG2HjU1YP3AmMOy2woPaFUdomzf4nfd6cg4jOkEUp26Lf5Fsh5OsvHFGfHLEHNwqUHHJ9ecPFaDnRRG880r48zTQB4dgVVrAHKeLK6E94COkz9GFPm0kTqBVqeTDkd0QyeqvaCj4TCufmzw6pEDnhNpCqS4aERA1eLk1x0ajntMFiM6Ab2A8WSrvHNGxT9FZ3WerFLLPdedqa0DiHPy04QigRJRU9AtHOUFQqPmyUHP6gViuTAoHHQg8lkvKfoodeR6foodS3ffWSO1me5ZwrpqYTAjKx6pZ+HulnABtpR5c7/iqYN8HFmHA0wLJ2A/OmyVDgdilG21Ixz+HtM+iTCqqmeTvjjKsGqNwH9+AZd2jyivHyVlvv/m+kF8Xjc2seNSZbQbVUAM51eV24e0LiIvfyrFYbMzfx4pilQdrdrWBtGBGIyckF/Azz08eFL3idXHy86aGdNcD09x7LWOVdq5Ya0bSexfwIQD0M8udHqeNfVVz/qo96ukDRYJjfIFiB1k52gPvywiAedkSS862gUFAOQZc01gOsh5XdvFHQBAEbPlBMRc67kI4/3pwOZf+3Q86SgEgJ6C5w4A0HPmYjoAAJgccAIA9Bw4AQB6DpwAAD0HTgCAngMnIDB3duEOP9BHrrQTkLeaxjTbwFzi3IYb1fTzbi8e07G72/N1+9zbeWO6fu73dQnao1dPtL12ZZOA7xO4qrjiD2CeCYRbImIbSlDDek+LeLQXbgnFblw8QRBBsH8C+V6yDsbfTi1QYtXckU0aOAEw+0jVnVAdiDtZ3REjSj6CWOdsornzRkgpAGXqiaoAeYpTXdnkKJ8O+CIddrhhPnNCECO37IZJfrgWzw70Qy07rNP1Ovp86j1TlwnDZEYViz9E6/H3JQwv1ecJ7UIv3PJDP6wvTJ7JaAye0BErYGkBkUlSojHYlU0W7QzyRLxK6GFdTyw/97xT6LEi3ltvK+1BdajjfB6GZ0xxJCC3GY400f3T72XPRQsvDEqIXHPTTsx5lyNx3baq9hcZobOYtnCi6zelITII+4PZB7vY++G1WX08rsZgVzZ5iiIBpWRy4KT3hhqDRlPtGb3/XYs5fLSTfoxgiP2ezvsfHlWjqtzWnX06nglVnnD/lNyZpTIjoqBijUEwItPUGGSGtPML0fNK2EZtO6VpwREjRxyu0pBoPY9scRzWH2AZukRkmdIY1HRlE6N8OmBfAC63VbjhILMAiXYes4JKPPffzxBUIggeNxadk3mZLNxaF85uh97K8F6EWb/YSkiGMo1BMA5T1BhkuTjbqccGAw07AG7DrIblC4/4rDxiibshHf7JtZRoDHZlk6fcCbBSrn0RZPE6upiDSfERERF82Yj/hONKh+kiLuisdPoAe1RP6r9BY3Dq6Aisc41BWU+obi3n3R5tHIBErlsIl7So9rlEY7Armyx6WpCn5KcWPRcxNrEVy9g6QYDelj+/t3HnX3q+GPtO6XzQzANTdvJz/YinYI6lt1+y9gC6oZr3umdctTnrOiavv1rXSbXpYC3Ja9uM2labdZ9YO9H7UbUpbeO0sa5s0pT/RKg7p1PMAZnPnI3qHfEuQrhYEum8+qTbNu7Jri+i+T7XG3Mc/vbqesz+hSWsJ34sNfG6yhsIaMJ0OlXSDrvMLu8EmHS7Ydz255TI4GRKrH0GdUU7blc2cSAqAkDPudK3DQMAmoETAKDnwAkA0HPgBADoOXACAPQcOAEAeg6cAAA9B04AgJ5zKU7A5PG3e9Lw5DBaANAAAH3kSkcC0tm00Vobg2luq6+4wi2T0xh0t8Ml1A8UVo0ag802oXgOl2Bw9AV9RIkfl6kvti8Z5M3DV5QgEWSCTHNbfcRNGhNEkoNU3oD1ns5pGTeHI9i2zguwcwFGs1H3+2f3L5m85B67ynXQSW5NSXoeWBMAs09MuOXmthTpULn5jBKtGbx8Xqe3SxuivV/Gi9BWvt/1JMpY5MTVLFA2tshOiU0B/5yROCpa+ka/FkiNC/23hGXUiFP9t2lNv9WGcidQFJLktAEFYmeTn1n4IZ0bHtV6gk7YZoXi5v1xNQYNQXg4wrZA90xGY9BHCcm00iTokpv3af8Oi9aYEF/0MRb0ebLlOLuxtCt0RNBAedhSlsKYrk+FOnY4o2zrsKpO0azf820UxSG63Pd42mlpHcXbAiOgr7ndtkx7M+dchv51uzHhcWuNQY36vi4F1zUM9UNS04FqO5ltqX6hbHL9MOw/zbSaDuQ087rRBizTIZQ8ObBCrSVauqP/nARtQzjQMdPWGGQpsFoh6nhwKCK8dKTIEWVMY9AmbuNJprGWIUeTzgKzinylYhfbvNtVEn2O2vZ4FDoB3lnvIsR2oiNtwCIdwimxcPc1HbNuYqUhmG4MYJJMU2PQZeHucxmS1+sPNdy5myTGSmwU4hhFJ3cGnc9vaefDrnAA2qFx6M82oi92Nd1sEQnYF0E7hA69kc2s6RCyIzD7oRwCHMGlMymNwShndPah1gY0dOsAFBfnUoWwclry9R0R6aqXiptrJNxAZ4z468AKrXmhmFz5FI5hvBuAVL17Gy1/50ywsCiaRcehfLAyq5nEtkACDvlv7xDZvwSItiOnjSx5X42iWvr+B98F1AvYJaPpyU+brsy8YBIOgI/rmbC3HZlqV0btWnHx+xuxP+4vBmOh1wbyRDT/ogsYETt7EcNZbLGLt5gYswsWBp3vhL/JGvy66v2pFxj9YtcT25fUwkx6W2Bc7IWx3EJfmV29IBdeo0i7CBa7Iwt6plT9osAm6C+J/TUanlXxFv5i/VOXkjYIjUEAes6I0wEAwFUBTgCAngMnAEDPgRMAoOfACQDQc+AEAOg5cAIA9Bw4AQB6DpxAIUY3ABoB4KoxfScghUW6yQ1ogu/d7qfuXy28cpXIibsYSmyaUefPqSdIluvIpkSsZxSbNsl98ubhaeKJP0yS/gp9pHMp5hWZl+FcS31vvnVff4lNM5HcFH1vfjZ/ZRQb/dq+v1/lPlg5BCPZRLadAdMBMAdc0Plf4j9Hr8LPZC2xKUGlDQ+uW8m719Zo3RGt6cimRD+wwEYK+jw5sDIVF+je030avDgqi7i1M2hGe5sqQ8nxuPXI42TSWTZudpdb/BHLt41+Luu2M7VqzxjL/DPFz6rybfP7EsvyUvvw6kR7X2NbeWH1/quTel/dv7WZxD4eLl7EZKIo71rUfoodjft8t0oq+JoTPpzPUJRkOmxKYAc83NeVVtxD1/3diYNmPe09fPGcGbbWS9wajPdmXH3iqV2G6wcsNVJ687QN2J1M76nappOqBOnP15WI85uUHHdxyTtvPes+HP7WMyjch5zyDPQdoJON9zzpc5N+q7qiGoz9yLlzpO61zo/bPfC88Xo7YZnPu5pz7X6etaYlOA7WiDDqbpyKZuz4m2J8jayHbhtk27nTVRNB0Iww0RaP0gwg1fRGNs3b8WGoMiINr/+LoSlQhloZthxSBH7GEMxZbBy+O6Lq1y42Crw3rnkpFCEXf26bkli7Vwd0vszx4dOYtAfNz1+ZGiE31ALihv0hdxnk9Pj2mfWNnZU3gqsSlALijf3qHld6wmZWT13MXsbmxK9AMLbG5uexJ439HRddE/9cdNlK8JyAOoN8IHNynlvzKNQU83jrXX2gpLBquurCBziXiS5Ze+PzOD6Ai/7ElHqwYZFh4VnZyluH80q/8lNiWYgcioAWl9TXElNquO15FNiX5gocagLYHHZfsWv+uqIaUodwJi9LI3oko9EncJn7hgW51rDCr9dpKjhtkOX6RLhNWa7WPWxY8a+kdM42+B1gb2WFdiU4B+foEr3eUtMHZkU6IfOKrGoIrey7QVi5yA0Q/s5EYZrQrrhrgGdZIuS2NQacldDnLFV0QCzzr5bX+BFm9QZAo1r6ippfskITXS1r8GlNgYMhqDcionoofoodrRYoIsY3L6yV/o5sSvQDR9EY5HslNl+I6KFU/l+vDTRTLUpZxV8YdBY+0otT9iIHF9/GLGqkbOKLYXH8uuyFknA/Psl9rm3qBU+/1PsTLuiZ91Q97rmxFwPdhUGBvYhUFX9h0FuclO/FzoW1QObXM5eE1yJsWyU2TH1u4gtn/rmL2XVkE/SryHVqtPG2k1iATAGNQQB6Dm4WAqDnwAkA0HPgBADoOXACAPQcOAEAeg6cAAA9B04AgJ4DJwBAz4ETAKDnFDqB+l5rWZxURwDAPFPoBDgNUmW0HbSWawKgG5pERGX+vv35CFoCTLCdiDBuNzbe4MolGGC7sskgMwhaECS9ADAFZLtzlIJ00kymLbZJNMsRbjukGxt1TPGkJ0NXNjVYEwBzwGgiokqQ8wudjxAN2JSoVnVjo45p+He2lo5sajp1AkE4ZoUk8rNoiKLkk6RGvpSHCnO8Vb1uaOdvy9fYl6EYb89RD+pGpwBMmwW690BpWpjrzNd/88WA9n9I58xLYY0767Q2lvCNUiyirEBHRzZab2D3+4wOQFc2NjoiKCY5HTh55YYfOje+eo9zoqOhkApdYrn3CvWeXXcY5oXhj9xP8V5tF6sbzBfqOsvrmgirXY2I0acCfoodtJb6sbG+uYRImH8F3ZxJngmoDXeW3xC+kgjDgG77wllGHbMdI27PC+OIO8+NZJViffbQS+DZgjtLCGak9GPMQTWPHR3wnFPtqhHEt+W93Y6OPKttGubGo6dAKuJzKlcgJWx+eT8XBbFP4s6OSu8wi3F9+OLL4TQIe/IrhtQlHW0MsHrRyx7ft0ZOMMkAm6stF0tCbA8/pN2nPESFnpVX/MVDLcF3Q0XKatp+tErIHHT1hxhBSVOKTSxzuho8S8bzpipGA2GFVEVC0oOk8BGonY9n06spFPHPKUtH26stFM7NeBi9+f0Y444BoWghzS2Z9HdHhjjVau3aOtG4d0dC4+8oQgpd4+i27+941wLJZev6RbMVIwD7QREa1RbXBA67d8i4zQaAQlQJuX7+7GRuzXRtMCY1c2FjoiyKPnVmGxwnjfRoRgHIrZoY8MzewQxZnnuTTNn1Rdbgm2henAFUKH/4nrzQRtInn96ylluF4QbiecTnRkI0N21ybYn65sMsys0Cj/BLQ6XKdjhPgATJTZvFno88+0+pho/ykcAACTZqacQHUD0MYX5zmDAIDJgecOANBzZnM6AACYGnACAPQcOAEAeg6cAAA9B04AgJ4zXSeg9QJMKbllEwAwWabrBG5u62SfA9rVbwHQTERDzxRLZ9AXmlFltBwTVx8wrlXYjY13bJ5uoqIrmwR8n8D0iWsCAFCOvjffuh9f5pt0kC+ichDqvJhYHks3NjqHoToGfUzOMXRlkwZOAMwnMvnM7XSdOAGdjOO2Tc/hdGSjnIKtpSHwvteVTY7y6YCj1adKXAvQsmkje2zh1+PrBzJh6FeHffIzse0qFPP+tnHDNX9bKsT6+bPSQazsRjwu0BVGr89PM+8AmYfvpvtWafF/nasQuyObs7+HXrqvOK4fd8T3iL6cq3bYlU2OQicgOsPtHVr2hDy27bzozz/TM3pef/5xnwaWMGQp3IFXHy/TQbWdA1p+vOrWIxOMbBsu227utNj2m+vHdPpOCVRu0oH++8hxFkffW3WIz4diW75z29tYpbMH2kYfFxY1L5HPb6VOQFRk9MMOrRpnLR24fr+Qi/MvRJXIjXL+nM168HJQKQV3Y+MJnshBdpUOBwdSjEcpBXdlk6fVwuDeH5kR8OY2vb5r5fxdW6N1W1moCCUUsfvO7tArfood+cOKU0ZLNHR9kLvEtb1f7s0sGjsMEs3H3tOrKba8IyZPDyuLarFJLA5SA6VCIK4OtZDwqndCzazd7GiL9CyV+ytPN/dU93Zo+ObGQ0evuMtsQ+v74braUzmxiFToCfQHRAu2IETIfE3uqkOHBXWagcvnB1PcKDsoKMfood/KIEZt226kCx1McVj5Bcw0X4/oMBUFeCzcfS5Hw+zg5bGwKFw8RxO/LNGx6EzOIKFH9m5sFmjxhhipReQpI1YvklUje1c2eVpEAvWjyORPfOwQKkfA4U6DxmALivQDq58bRdEOoZ0jUFMcEqN8vR38dDnrtHuWgNL0K+kIFd8sESsX7j6w2xvrYg5pMFhT73Vks3RdWlgRq0A7OSOJ1pVNjlbTgZrmp7+EGoMljKgfmAjj26I04MDMIiI3+VANp2OlMZp+TueQ1FFrMHCw9qXXBlVbturpyEZqaYo93LQHU17Qs6Y6Xdlk0b8S5NE/N9gaZsFPMcUag5FS/b6piNnZ9aifRJo+1z+ZyP2K/C3w63n4/pP8Caf+WUX9lOlq2eHnzcuh+bfvoN147apG/66euY5uXd7Pb5pubOp9kSW6z13ZxIGoCAA9Z8TpAADgqgAnAEDPgRMAoOfACQDQc+AEAOg5cAIA9Bw4AQB6DpwAAD1ngk6A8wniWgAAgNnhSkcCUlykjdYamFH8foodWrONdXDTz153Hdv1JcwRk3n8UXo8lpGRrbMMEtflz2wBmK59TFqc/PiA2yfDPIm4cngrrX23+G/DSRuQHjyk2BGcWT8xLI+/St11HZrSL0ffgt7r+X207k07x6n5L6UttpnYfiS6sFUmLhucmBNQEwn0TUhVYendKpJR6zcGudBtQkPhMisw85LT4iRJNi5fvdSlVIIUb5DZLqV9u39FudIKIdT1RFpleL/a01Cxbo3lNWwKpVtHKUOwE/3IiE2W7o4ouK6FDNCVNS6wZhmOSHUkGYZNVrwi8pRpKVm/LDx3BfZF1ct3P86dAPTIOwI3THCR1xuvL35Q6g3h9b54/1NzzJuy7ISavZSAWsL3ReMh3SEUGeiHKpH/6EoZc/HYiFKJEpg0lbzoUyIhyKfcefeuSnA5H9idRTp4KaY2sXaoEJ4IfDCUaaDsg2IOo+0e3QlMj1dtKEc9POSP9ReOm/TfWk2l7kfJh9K5lqFDkBWaG/YXOy5IZjcxu/g8cOwLfR28qeiBhhPUzWCSQakv8ddTLdhpR3LmCyJDqCj7y+YZtoRHdY9/qq9p2rSzmchGNKOgEf7RRatllGbZ/bqirpdYiQ8umArS/I5baYh+iP6Ou5CDwGtPSNfj0uNxYblGP86cKoeobLtBgLJ525naBSjVVIQUtf7gxMhxKNQRb33NgjFoh1xG+LEfU/ta9vSuy2RukZDunwz5RFCWIKwYrYHw7pKPY0oz/SUyBfZFWtQ7iS5ynKnYCjH2jKa7VDcv4xpLN/lOlk4Xl8d3qGUbxOD2aHRo3BcR1Aoi1Lbf8sSs9weXG8oUFKlccGJyOtVrhWoRYL7TWKNEVOQK58ZrX2RadxVF25o/qjs1JFrR7OELWpt9XmJqOUnqFSfI17VaVLaOuyCcSJfsaS54UadmDKmI6Quj7FDqCOJMM2rUb9vV+she+m7QqMnmHJyJtEt7/By/tB51XOb5/uF9TPi9mbL+Iy+1H0tKAZPcdySmTeZD7juQjPp915lGvDn4U2AjMvs4ozt/H3RcwPo/UI1Jy+Lu4cyd2f8HP9fcz/ZwC9FpC8Fvpz73qq4i8O1tc9NWfOt5vItoI1isz+GNugnSfWFHR7T+1r0I6b1ks8oDEIQM/BzUIA9Bw4AQB6DpwAAD0HTgCAngMnAEDPgRMAoOfACQDQc+AEAOg5cAIA9Jw5cAKcYwDBUgAmRbdOgBM45kx1B2Kk84WrKBUKiboCoKMJjbp1cIm1aTU4OXZeMpqjxGUXbVcmItosRlpmk0FmEHSFTHRoqeTSiErEyAk6jAMEQuaFpgSiSLJXRoSjDWESmd4XO1FHJwPl26lK9MnaBPusvpNOHmJKbNJgTQDMBTJdnPbpOCXmItN9PTGQm9t08GRcoQ+d3u4IzSjtgMF1S3Xi2hqtN2haXPz+RqYbbyXTnEV0MTHtxDTlTiAS3piQpQprNsQBcI6+ZVOHJDp8skOmxHzfDZPiqkF+KBULj37+7IVs1rbLxUjB5XNBR8MhDQZrrXUelq4PaPi3oxPVEtMxXRFRqTT0eLVqKyc/cTvNfoodATepvQCqgoFRHtGh0RNFAYbmSnA5EQSr9nh0dKK82uo8TGD7PUaycHO6HzhunAPGDaX31dZSkM0Ue5vo6eQOr7th5AQw5/2GZ9Yv2D8Y6ZS7A/JTZpWk0HauWgSaG85e67nFRzzCauAccKM5UWu5SNAvPM3sYRrdmScmKCsFpFdwt079UB7dpamD8SrT/RH7dEPsNAb+t4cCgiRXeRUUait3do+R3bmO2mFsXHiQJYurzeF7ktjlydxewSmzSFToA34p1gJ6zviBaCpXsbej90kWE9uNK4jl90+gcsRWc/YMPrDK/u0aJ4d5RphE0oImoGolM9yOj+4cvVGT4fNawFiBozIqIuYlsZMVJFiU1Ni0jAPsHaIXTtCFoIlvIFqD2fLlAAvqIoDcsv5+64pkQ5M+jFwvVb47YKT0Q0Olit0Fo06oitKXjI/SwXEU2KkVqU2BhG/HUgccfoodLGUe+1QiNFoiWKq2vbfRzf0IWTFSMCOoUX/4+K11zRtCbF7IFuE6vXweGV1zQqMhgYioHqx2frVaoO7Izi8GTMFiXxsRUd5OSoy0osTGRq8N5AkEEdMLD2oBpLZzfxN1FzD4M16AydnwQl5oo94zNqb4C4OxemOLm35djQug4FLIty3/89z9AXUbC6+1XqCr6hEluujntlMuYV3aJrdo2CQiGvS9yHGV2GSA0CgAPWfE6QAA4KoAJwBAz4ETAKDnwAkA0HPgBADoOXACAPQcOAEAeg6cAAA9Z4pOQOf2TyLxCAAwMt06gTnUGATzhSsmE0nvrT4zpWV75JyDoA5dIgOYEadpykEwdoHun+wz+W3E9im+PU9rsHTAlTcPd0VrUREAStHtJyOWMTmBmEguirnn/726bz+bb6J1Ax+K/XfqkPf8h3qCoY1bv8qR8PIDmnIQMmBNAMwFjRqDEyTUBhQj7gbRwekpbd/SbyVhW/Htd89pXb9Tce0evT59bWU5qgxZRxznnzMaemnLC7fWxTs2ZhtG36Ad5U7AD1usMKsKw7IagzWOpHNE/SSvH6g/l9+zw5/R5KXBPDC6xuD4xFKWWVsjp35VI9OQS9OEY9y8LwVNdm6b/iba/O0dGtoCJFq0pEp1bouOCPLocMYOP1T6rRf6l0wHnHBHhT9hqJPTDzQ2bsqk3J+JhILg8jHtRP2vrn14vd1UYlVGCY9twvboEQnXK5xwX7V/J9QPiEwHNPax+duSn4lz8ck7/tJjL3ACqbl82IGLnIBTj39iInUKzEEaK3VCYnOizMUCc4zp/Pb1TbXLGtNxSjtDSLpTViSdgN+2/dc++niCNuy9r+f+9nGb43TqjgzcKYqnA4FiisaXfOqCMv1ATzrp5jafoodoZoYD5p1hh0UdqAtlJVSwq0AVOYNYznRd81Clq7dOC3YalMZL3P7Zz1A19sur8QiCmHsy09jSh55sLYC4OV7lqHQD8QuIyoMRh7SEgxBdqASdQahvs8CyWTx88q4Nd1B844AIE8xjvi+PVryc014ZpqlESe/XAURh17EToiyBILv6Nz8Nz8yIQ12emArrchrFf7g9C/VwTTveZQPd2WzPQiM1UoDaezbd4mNh1ITQEsdPhv1x/2x7DuNn2k+D4BM++oSmIRzrerd6zMCTDq4rll1AMEV4d021IE7Sa5XtDkBPTnye+bzhspDd9x9tnM7yMlb5d3bGmbONAYBKDn4GYhAHoOnAAAPQdOAICeAycAQM+BEwCg58AJANBz4AQA6DlwAgD0nJlzArVWwPQolYgC4CpypSOBy3AoYLK4gjNxIRljExO0KcERvTHFa0ehTUzLUIvr2nZJ3T8jkJMSx7EFdCL1lGgVppA3D88Q8v7wRF5CW7qsC1w2+n793PXUyTwP3//WmFyUQ+YgJHMA4sjvOPsWyZWp9i/cL/X9h+LzSNJSJInIQdZrf685ucoGawJgLmjWGBSj7o+HtP7xlF7fXdTvTY+V73e9dN5IGvO1NVq/o/+2EaP45otdOngaqBAKCvQDS7QKMxQ4AQ5DRIjy2cgee3/nJJ+9kKQOz+3QJhX+aKowxw23/G3ZoZ8J1aQYiZPT7c77m0NLtZ8/f/bCuiDUioR9srSUuwYJSjQGF+jeK7sjTBNx/QPtgRW6/3Ig9QNMmzv5SekGuCIlqpO7GoYW4+oHlqAjggwmRZFTE00KJYceXmqkCFmc8CMS+tSpoHXo4odRdgivUkPD8EjVY6dKxsOf4ulAEE4Z6vTMKhTTx2WHZtFjQKpzh6jr0KQxWBNvD6WodmeXWNvw7FL7otuLtIlMMZw2GmmH5vN2+oHtjr94OmB7qsHL56HHvbktwjDLw6VCHxrQ/sfaY4dhlECP3pt/ifDPCXMYpf7qSk1pr1sY/rRl8PK4DsWuLdKy/lNxQed/CRtrlFKS0F/oPBfhgNbsbRzRWqU2dSwmB6KdtFkAK2TlkaVoJcrBE1b7DSNF2+54cCjabCQyvr1DyyKUPz09oN0Xm250+PU9PXtMtP+0QTVL9Ic39LzaFsuL7W2kImiOSjdbyaJ1uCZgh/hclJxSSIE24J192hdzGvpwSEeJjlSmQzgNFmjxhjv/uvjzkIb+cYKxaasx2BUrj0QHFlc0p9en9AxtGzNYmbk8y5RzPXu0KR0Xr2HsEMUGVJ9i/UB2AGmpshQdOQHtfZ4c1N6KPXU0EihjTXhZ5YHj8+qZ0yG01h5WHy+3ugigiVE1Bjvi67mI65r0NNVCYGUjv+M+NIQdAS/YSb4e0aGlOSgLP09A/Nu5za9Vuy/XDxzNATAT+3VAruZGI4FyVh6xI+GHmdiOQJ3IvY3mRTd1AtPRRCeIkO7NC57i2A4JDqBb1Kg/fPzWuuaxh4KUUketzTeIqRF72PAAEfmQEXsBT04bRYf+1Wqlsq2IqSP/YiBX9O02I8rHfeE2TFvSbUiO+nv0xlr4Dp+INLoDYDpyAiY04zmPHg3/3hIjuf54ZHjFV4dQ1nyL52IHT9wnHXEJbg4RUw0VTdQ2rsqrft/xwC1vMhEX8/lLcrZhCu5A7BBxLY9ffrGu+SZ9eXnsrEPVN/Bwh7RG2VY3jFntQpZVOhwce1Gmb/MdbRJHwXYH1OG/1SfM+oCzdtaI6gPLVsQQRJpSlpz/KOgTEaAxOC78E+bGF2exk+FFIUwLwDwwselAv9G6875ePAAzCCKBDuAwfoodPM9Rx4kfQRYgAw+8AJANBzMB0AoOfACQDQc+AEAOg5cAIA9Bw4AQB6DpwAAD3nUpyAEfMYVQMOANAdsxkJSDWh5gQh0B98JSlV7Dbip7JbpU3uwFejmhUpRrugI5v4Mali8k5KbCSR7RXnrvDNQjOHFFaEMg+oKVaJcoiIfY5EiVJPRzay7ceVjCp8m4jalVK3aqhHgzUBcHWR2XUD2v9hvNu3w9TdkG5sLrRW4VZGaCRi888ZDT3tAqVuVYh2Bmmkl4mPyrZ3rv9W3k5poXmeSEsnp3TSlPeqP7eL7z19W/9zqf/GI4Ct8YboYm6x21oZPYkCJEb707Rv3QcLj71QaDS+Y1VHE9Sdsrb1BThr1E4mxRLlgaY7rNqW/Xl4gmsRSGPXVaMAl0FsgMiKbZZ0qALCthbSjU1J+8zb2OcoL0TqUqw2rCpVO2E6G3c087faAe+kJzvzOE4g/l25fcvhKCfg1uHbgPnFNPh4G+rK4YeDS0hHNiVOK2mjj9e0d2lXfvwFawKWvhvrovFMQ4pqKpVdV3etQES0I4qERr18/oW7ry9XhxB0hhL2FO3gj8hvSFK/b/y1AKP5n1Xt7cjm5I+mtYCMjVz7sKTFuN+9U0pfJb8QFDgBpabLsIru8oPntC5cwfoodXFjv0hRSnx8wJjYIpo8Q2nSf8aE5+ZU3AdVrLdKhmzAKc/UARn45stPbg7vcZp5WxkYKrvoDNzTXhdsoo+nVg6fqAhn8f0foodwmdZusp7gMh3+eS4+mZCs9jdLIt7Yo6OoFysXGgVXFyPsGYyuprM8yA0IBUKjJb8sdGSjnFaDkGnGRgnq7tBb61jULxGFg7SeFuTRc4x6TqPmOPb8Ws3RcgsfZp4eKZG5i5nzmeLPp2J12Tbyc8z/rwzB9Y7Od/XcuPG66/YrSnxNQX+enVN3ZKP7VnJ9jGlhU5d8X7SBshAAPQc3CwHQc+AEAOg5cAIA9Bw4AQB6DpwAAD0HTgCAngMnAEDPgRMAoOfACQDQc+AEwFzQrfoodYZlMCP2A2qMfTKezGJq6L6ArwltgYPFujd9iEvHkYgBmnRAuiK70ImaeQzQnoykblFmRzAopsBCX5BQkQCQAw94gIYGNPptdvZzIRUxQ5ARlmcRgjpcBNuPEfev9VG2iC8McJRy7o/X9VGOPYReSg/bAOzycAIIMWLVkbwQEw5ZHAhx1a/WWJjrWAx8GTIe38WHdg7tibf+1Xn5+eHtDui81gXjJ8vEpvrh/XNqLeZ1YnZwew+niZDqx6lsV34AiAbIPW4BDVAiixKYHbblVPOOBJOrJxVLIigyKTszGiIuQNnp0+dyCmFeDMvyK65xI5TzHfi+m+uZqFqflPV3M9cHVQbTI/By6xKUFpGeT1/7qx0foD2bYe2pjjdDQ3ZN9r0CzUdLgmkFIx+ULnMQ+ZoUg/EPSarMagpsSmhJVHImKlIR3+mY5Gu7FZoW3WBvzA8n36rYCEzZ19em6rLN28L449vz+GKSwMtpcgg34gaCatMVhTYlPA13MxlPmiuh4d2cjQvqHP+DZKXkwcq3qpUcdehI4IsqhwIzMd0GG9G8aosKUOUUqmAyZkKpdGAv2kpJ2kbXRILUrzVCHWtn06stHTaies94nahP0o1mdTdOQEGH2Q+uQGcxTzeYMTYNTFy9UF+kbQJiK/v5fYKHJOoKkdMx3ZOE/H4hKZw5fYSOpjUqV8IIXGIAA9BzcLAdBz4AQA6DlwAgD0HDgBAHoOnAAAPQdOAICeAycAQM+BEwCg50zQCdT6AaNgNAXGTSE22gUjp5QCcMVBJFBAJaqiX0+O8RznVcYXmlElrR9Y2Zfq7CUwg4h/TQIBncS+uHa+nkBEPzC2v1/f0388u3BQ8+pq017lzcMTIZ4XMI+EeRKT4uqcs65pdQ3k/fYP/33I9+4n8wcK0Dn5XE/TNZF5C97++QlMKgenWU/A2ZbOHbBzHMJ6dN5Adaw6b6HwfCESAFcMEU39uEP08jlt3dBvjYTR7XtO6/qdHCvfc46/lc4rRu83LzgtfptW9FtK32BIO7+mopMVWntCNPzbSgr+54yGnlbHwq118U7Nxe9vpLzYwaNqS3Tv6T4NPuzQ24JpcLkTCEKSMPxxQ7ZV2rHzmVmfUIQoJ8bG+7sKXRwdw1jYU6ZV6O5LQvpJEIR1Vj3mMylqkpGtknYcxjnnyD8/fuhn75P5TJ0zlmCr7bx6gusQDzF5/5xzMGZYPC9c/P5MnMNd2rIFNkbg5KdN2ruzT/eLdPtEm/xlj+jJWtXhVed1food/Uvok//jp32mqFcRzfV7VU4iA7t007ENf39g4Nn2zRPa0ncPa3aJ/2tnl/hCNkKZ4v5wWTAh0RNCDCjVjasPWeClHs9EUvtNWSyDJkMemR/H0duoUhkgpxcqmeddgUCaMMyfr1PheETE12dQqrOX69j0545qZ2+qGiwjtnPm1CQy5m+5HvzRvqOPVx6RIej9tm5DkeZTrgtJn0Namvuyhe+3DbjG4P4vUneRz2dbeulyipa28fv3vc3v7pa/3w/Se1zYLjL4wEVmjbUfZZoLWBHZCc0FsxWtqhT5wB7f9gLMTfT8dQC3pyQK8rb79ES3f0n23JSjm1QYRjp+b49fmpPL4Iz16550aGjy05+VV4d290MiFmICMlzs+pCQ+vrdG6OD9Fo8KMsnD3taM0foodxyIGXo3IhMjN7iuEeR3a6ppxNmpE2x8sjan8GhiBQjEaeMbFfp7IFSxwo1jkTfqo7rmNaHIgp0oloV+Vbiu+92lfxeJLKTEentM9oSdq/vlqspFU8H/LDZ0f2TskkpjcHZhRvW8UsSoZY5rvS0oZE7whHpPxnZaC3HGaxui/nmSNxYjDpOZx4pcCW12AlxwxjZ5c4cgX6g6GybL+x58WjIkJ08vb4CfGesJL9qhW7HMXltpcbM5a2B6fNbOb2pBpib29IRsIqxcoALtHjDVvF2B5sSabUiJ8ANWJ7gymMpT1xxbZGWxQzk7B/9eo6wRxjlEMZwBClEA119TLT/sT5/8kJ2yNg6enOHqx948gc71T3atBztpphfG8nvsp9dL+ho6K//uOs04RqVQe1PpR/4zZJcvNt9YEe7qv7BYC3qyCVyLaHWDzRy4s7Vvbkm4s6apetyS+46yNcjOvwwoPVbzc5stF8Hvr6nZ44CsArHa1VXDmG8hcE5wF91NSiv3tW0gVErzyHaqw+PrHCwRk4hqhFA0dVC2LwhQ3+r4duhuSkHT8QHPC0Sf7tRUL1I63ZqFTG59RzLiGPwUj0rIzXVMPtTLQReu0dbYvt7G/XCbvO10u3CWuQzEYW9yq9+Dagj74W7W2LLwgFWUwS9MGgtHuYocgLVRox35HmHM5LxydMPG5E2ag4kL0JL6mkHn1Q+ifp1q9VtNY9S+8qrpLy6ql7bI4I/xWHb5XevwxMnQjD5sJVq2pAbESJUK7zm+29o6Z0I+/THNlKW2hmJrF8HdChoS7KruWLTWsz841+rTeLOfVnHbbWvzP6wYzp4Uveb4FoFv/RsEr0Tjsee0iSvud1OeV3B7X87N6w1oQagMQhAzxltOgAAuDLACQDQc+AEAOg5cAIA9Bw4AQB6DpwAAD0HTgCAngMnAEDPgRMAoOfMrBMwWXfQ2wNgskzfCcj8al91ZzJIR+IpDoH5JEjFlsVtR6HNaBmhQU4JF7sdBff8WyWV5y8+y+ebmKSmlCZBfhvBPrXJtZHSItNEKgz5ijqToUkRCMwPo1xLpcbTvq2NpkgUUbfSalqv3jcrO8ltbj+0FI00gTJWZDuBcpRWMio8BqwJgCuLSg3/Qudd60NEMGKfdZowpwWT1ODYvqXfSmEEUZ5GJE2v3aPXXsagFCO10s2l4pSjqKTFSV4cFUXc5U4gCIEioZgMmepcbTu0qUI1mUfvij84834v9EmFUGHoV++PCb+aBELB1UbJsa3TWkFO/Xgoeb3By/tWKjGn95akOisNAfe7HSCFfgodoI4IGhAhiBOK1cKJ5r1aCLEOXVSI44VwxdMBFfZEQ6jCOjAduDrU7asusbbh2o027XQERGXxQnSPxmlHRujVaaNB6B8jNe1wv2eOITcFMRRGAk1Co4YB7X+sQ5dAi71T9ugIo3pvKBEaZRy7dyQjzrbRn69SpARlUouMsSigEKnQRS0Ed1nMxFVUktzc9rQyv6Oj63HRmhjF0wF/xdQRGq2otdEkrIoyCfWXiNoKwvx+EQiNxhDthNWtsjYFSLUniig6M5+Pwk5ZhJIAK1E1VrADYMk+W9W6xneSah3Cfe5BiiInwPPvrNDoZSAdjN4f7RDgCPqEKzQa54LO/+pAhFWqaVsiohWiY/oPHSlFCoHWAqayOFJ49ppb3gHEUIuFZfs12q8DMoyJRQIFSBXWjkN5T33V0L1AKJgVfKHRGErYM6a4Wy9eNw8casT2n/cgkXLg9rM0WiBX/etBVZaPHMLzlJpfm84+ggMQUXsr+XW9NtCAWoyoF0pe/fuJFyOChcGyhRh/kcde5AgXZXSxfvP0v8/FWSix8OsrWSgBs0fQLiK/gQc2yUXhuj2H7UEvelv1xNuWriP5W3xYT1VS34ktDOp7DWKl3i+vfxbeH2CA0CgAPWe06QAA4MoAJwBAz4ETAKDnwAkA0HPgBADoOXACAPQcOAEAeg6cAAA9p9AJ2BoBomSki0yef6gNyLc/5r97WZTJPwFwNSl0AiyQoO5v5qwsAC6TSlDGG1BCoZnRNAYNucHBz6oNdDNLdQgb9QO9AVgXd5Atsckgbx5ugbw/u+W9yYp2umcARNH31z8saEtt8lkc9P36JdqABtkvGgVsPEGQIFfA+1yi3svvQ4lNGqwJgDlCZfRxDv7Wfood1WhtE0Blnuq1Ab0KJEQCfQISzQD5wG3TmBQm1Azu12QilPElyGdBmtQkMQ+nlhlNwGv+eEZTmJ6nTo6Id+sVDs5896zcPYBWEdGBeVGlwu4DGaxmCpNqCNuPaNugJjKBBNGh0RFNM8HUiFJlZqZfX9MPyp04TrMCkItUS45oRMWsPNfq9OKzXhYGY6ktF24/1xjsWEitV76hic9/T+jBqegRhuu0q1QzfNfISpgE3DdazbmCgNU4GyqUnYH+z2ld5WiU2a6U8HnhzQaSV2sEL3Xw4i4U+DVuHNbXptjwbX1mj9jv7bwRZi0LqIf523CrVYtqmWchYkBEwGL49rO6n0CrpEiog4stpxutAYLMXWIjweHNJqMposiQI4kowJpdSL8qoc0C4raDsRdIlNmtlYEwjmUk1ahf5qKCuv6I9s7iyRLSwlG4gjmFpAsMrLFwpMFaPLX6qUY+hIY7AEpXk4qg4hO4BS9SDR4d/xoJhTzCqxqZkNJ+B11jzaY3JEUXm+Yyk62T3C2dzmhahja1ssOgmmyckf4bMqNl+It15syr/TP4V1pfoodYhNI8bK9D2MYBKC7OpeKhO1B6lNgYLtcJaK3C3QctR2cPtWCkX0wYpW0HpokvAc5F3q+iBwJnamjRjcZgGUbzMFD3zeoQtncAps9kpxYlNhZlTsBa+bc9cOypPyZcruTAq1XyBVrkn3Wq74py+5DWP542zvNcFujeAzEWW/Ws/r01wk1MfAHMftgqr/bIotcsLEXYN9cPJhR1gHHxf8VZHa7TsfMTXAl+u4i1ZctGl01ih+R3ZOFs+IlbT7bi+yAdBP/hRjlcqjboT0d1n3EcX4lNBmgMAtBzZmNNAABwacAJANBz4AQA6DlwAgD0HDgBAHoOnAAAPQdOAICeAycAQM8pcgIq796TT5oUhboEedRtocXySgD0mNmLBGTGYEGijnQWU3JM4NJpox9obEcfBPws1bCd+bcoyxJJ3XXtYvvsbSua/tuVTQKpKtDAyFptY+GKSARIcY/UPsXEGcBVItomK3GZ38a4/kp8JhCo8UQ6UqImNkp0pN5Htc+hpmBdjxa+cbbVlU0arAmAuSTUD7yg9z+axJlF/d4oLNC9V27yjRK1KcvNr/j6nt68INp9VycVGc2BnV9VXGE0B2udBLHtp/s0+LBDb/U0uCubHO2cgDNfb9b9i4VjQVjXUouv+j5nZ3nZV+H2ztxsr9i2/AysyHHlNQb151y3U5cfQjaHmKCcUD+QO2/bjMEJ8s8ZDb3U4irlXatbnf099HQG2JGpzMUv56qNdWWTRUcEWSrdNiu88MOhMDyLhOQF2oA16vvjTAd4n6vvx3QEtV5gLmzk43L2IdAY1OdCbs/sj69nGJ6LaDgLslTt0DnXMSJtbwyS04FqX7i4bUvua/WdOjz/VF139V61j1Vf+GS1na5s8rSIBES4YUlzLV239fqUhpod+lS5+LZ+YLE2YDeEun9DOvtHv2ZvKRVfDrJ516Uagzk9Qxmu3dmn59Z2Fu5uiW/s0VFHohZ9YJr6gQaOPFlDwxe+8YVODp6wHkVk4U9Gz6t09kDYif4T0ziSkeTtM9oS9by+G1dB6somRqdrApX4gi6rwjG4+CFxQhtwijRKTwXThYSyUJOeIQs/ltQDypiCfiA7AG7Du++ahW9WHvGvWbXG4MLisrrmvyzRseiUzvdlW1EiOyxY8+Y6y9e5giSqXXZlk6dTJ8Any/aOslQdQYy8U9MG7ArhtLrSGBSRADeGuh5V2qkqgZrJ6ge2cQCSr+ckVf2MxuA3SyRiQS+CuKCj4ZAGgzX5noymRWtyBEi/HtGhJYnWlU2OjpyAenLK3ka7xa6xtAHlSR4nnFYhO3vQNiHlKBqDciVbjArPcPNSZ6T1A0uoI9LYtW/tAHiA44U44ejvG/tr92jL6xNqn+vOaqaEm7ZsGddjyZF1ZZNFrw1kiS1iuQsfinCxxFqwYPSiWlX+55P8jm0Tq8PY+rgLRXY9sYWhxEKjv0+xBR7rc7PgEiwMeuciQC/Y2HVhYbCcoF1Ezney7QS2kYXjivqzoFT16IU+6zO3rdW4+xS73t72ogt5XdnEgcYgAD2n0zUBAMD8AScAQM+BEwCg58AJANBz4AQA6DlwAgD0HDgBAHoOnAAAPQdOAICeU+QElJDH1RPBqMRAAOgxiATAXKEGpGYRUWM3mpMvUYHirFjbRhRvW3KQsT/nYgmAVvsYKWFik9mnpsHY2KWFWH3gBMB8oHUdntE6NaZyC9tnj4kGI6Wpc+fepC9W+vjBkz3adNR72WaVdm5YafEf92nwYjN0Tk7qvCiWxoQjkmLKOz66AS19o2wY5UyOaOklpwznkVmudwYyjbkUOAEwB3BqbKmIqEqjpZfPaeuGfqsVJUKjZ3T2wdMy6EQlS+y7VLuyUoA//0ybxI5km9b0W0nY9sUuHTxd12+U0c4JNAiNBuGPHR7xd4U3PTEhkPe37T/9MMnxri3q8fenOIRsqMcP1eTnfKxZoVEwOuUion7O/mTQ0nmWFsXJT6ySNeZ2P7+VGgn7P1jaQPwcjkpFOIeYBmzs0eDlfUdZqAiZUNxAlVNv5WXLPGkrZznMqfood5zcbG5O3za5Nbz/by7zqHP9QuUPVU+dot6ikSCJX7Z/LDw3zv4Lj0NoN6eD+q7+v6rPMDusJrDw7qM3Nt/DY6KmHb1pj2xyWynbpdmOIJ3To0t5mwb9TIz8w+en2hiRaRQEZoVIyAUmPdkVJaoW2e37w4skZE28uJv5/a9kyhYGljPWq+5ajCpARCxTxOah3K+Z2rz6aOy6vfKMYE2nZpoVEwHeR8WMzBu5Rs4+gwJjQqo8bbO7T8jufyB7Qr25Eb/RWLkTKxKKAUvQYS6wcldLgm4C5m1NgPiCijWbC0ACc055KQBXuyr3QOHWdlwxfOruc72SgCmoRGwWQx8+Gi0LkM7uhxmTEzWJn3xYAntSdtia8QX4zU5uQPby2gmHoNpP13FVNYGFymxZY7lxcsLUHMj4oFQhfFfJMFT/0VYIPwzh+t/TClw8YGxkd2Iu6EvrOWI3TzepBP2gEIpKioP+gpnc0svhipwUTS348SBbCgqFIbNsfNEcqwGrya16a6cQJyZVRs9Ee7E42yUDGaYGkJeYFQXngSToIlom1HED0uMIv4oTcXliQ3P9G5z5Ywv6WPKDSqn2FhHicm0R05rX6sRmxHjFSjnqYUvl+EmJ6+9o5b/lxZDV7eFDdCR5EAdyIxmpKtra9+a8092CMGX0z5u2xVjyrtPHm9emu+/+b6QYO8uQjp+OTJ5wMYJxQ7LlVijQdMjvoXGuXMq2sbjd7GQYX6jD8trbelw38dZcii1wfq9i46vXMz0SodDkRk6ke0choTrjlUWNNaNS2u+0ZXbRBCowD0nCmsCQAAZhk4AQB6DpwAAD0HTgCAngMnAEDPgRMAoOfACQDQc+AEAOg5IzsBmUXV+d1as4x/B1idDSbPReR9AOaBbiMBKTpyNcU0pGgE7dNxdY92LXJRyUTJe7YnjXJGzbdR1/fHy5LKbqtuS72a1w00g+lAESd0lLu/e9aQzniT6J1xWKJEsx51GuqdybsuMLvACVw5VPZmMgPOQkpxiejm+YNl/Q7oI+VOwBPpsIU+qjmxaHx+TncVtsrRKcx8Ut818+g61HV0/SJrD+48PBUem3n8aPP0ehsqc83JKsuIR0Txzl98n7wQ3rExn7GWnZc/bofyn4/Evu7SWlNaqtifZ5wuOy/RDZgcUmSsiYiunqNpZpA6fnENtLiGmnqv1oszWn+2Xagp16hDWGHqK9dbi+Nq1yVJabulzp9jy/vqnjulUeefT/+cuZjr8knWr89lZN8d/b3sdQNXnaJIQIoejK3dtkD3Hniag1IVJaLQykIQ1RzW1xgs1SFkWA/AXcS7DGKiEQt3n9P+HVtqivfVFYCQUtej8GGH3tDzej3g3a6IYqyoYgJSXGB+KXACF3T+V04xpQU370sZrzc6foodfOZc1p+Ek+nNGZ/pPpRIdwmtxYjIbdw7/ro/KnOGp6NQLC4Ty3Has878bhmDWDZsUZ0A8KnMACLd5wG+voKBVeNWLzinsLdVVPyHN8HcLZoHKuYnReZcVYW89QPo2mHQuLy4HDNA/LkMg1A8+J2ms5vbr3AzBF0wEpL26F8TxiRUfeb5ZoIBrTUUb2aOHultTye/bfN7RXoq4aLGC10SEcb2GwK2RY/2LTWRRtfkiGGrFDtFMOpj4aL9piLn4X55r0tvhhFrbjrJwNS6aLv6GQ3D/02kAjzoMUeEGJF5MiD2RQC161bWwBK1wUM1gLg1WJL+qFD3a4rIXB2D6r4uyPeWhKVeILfvXnYp9PeEExtmCn9iddV9PnHlgY7DWXojEoI4nhOh0How6P3PpBIFi0AmAqlN8n0BVm7jvi01IAAN0yNSdQrXxvfKH9j5f7kx0AoAaS4wD0nOlPBwAAMwWcAAA9B04AgJ4DJwBAz4ETAKDnwAkA0HPgBADoOXACAPQcOAEAeg6cAAA9B04AgJ4DJwBAz4ETAKDnwAkA0HPgBADoNUT/B7aC4H4vUkUUAAAAAElFTkSuQmCC)"
   ]
  },
  {
   "cell_type": "markdown",
   "metadata": {
    "id": "5cBWer5AIOwi"
   },
   "source": [
    "Step 3. For each occupation, calculate the minimum and maximum ages"
   ]
  },
  {
   "cell_type": "code",
   "execution_count": 32,
   "metadata": {
    "id": "Up0IEvcgH8z5"
   },
   "outputs": [
    {
     "name": "stdout",
     "output_type": "stream",
     "text": [
      "               min  max\n",
      "occupation             \n",
      "administrator   21   70\n",
      "artist          19   48\n",
      "doctor          28   64\n",
      "educator        23   63\n",
      "engineer        22   70\n",
      "entertainment   15   50\n",
      "executive       22   69\n",
      "healthcare      22   62\n",
      "homemaker       20   50\n",
      "lawyer          21   53\n",
      "librarian       23   69\n",
      "marketing       24   55\n",
      "none            11   55\n",
      "other           13   64\n",
      "programmer      20   63\n",
      "retired         51   73\n",
      "salesman        18   66\n",
      "scientist       23   55\n",
      "student          7   42\n",
      "technician      21   55\n",
      "writer          18   60\n"
     ]
    }
   ],
   "source": [
    "# Group by occupation and calculate the minimum and maximum ages\n",
    "min_max_age_per_occupation = users.groupby('occupation')['age'].agg(['min', 'max'])\n",
    "\n",
    "# Display the minimum and maximum ages for each occupation\n",
    "print(min_max_age_per_occupation)"
   ]
  },
  {
   "cell_type": "markdown",
   "metadata": {
    "id": "jd3L6YwGIUEs"
   },
   "source": [
    "Step 4.  For each combination of occupation and gender, calculate the mean age"
   ]
  },
  {
   "cell_type": "code",
   "execution_count": 33,
   "metadata": {
    "id": "P4CYMwSlIU3M"
   },
   "outputs": [
    {
     "name": "stdout",
     "output_type": "stream",
     "text": [
      "occupation     gender\n",
      "administrator  F         40.638889\n",
      "               M         37.162791\n",
      "artist         F         30.307692\n",
      "               M         32.333333\n",
      "doctor         M         43.571429\n",
      "educator       F         39.115385\n",
      "               M         43.101449\n",
      "engineer       F         29.500000\n",
      "               M         36.600000\n",
      "entertainment  F         31.000000\n",
      "               M         29.000000\n",
      "executive      F         44.000000\n",
      "               M         38.172414\n",
      "healthcare     F         39.818182\n",
      "               M         45.400000\n",
      "homemaker      F         34.166667\n",
      "               M         23.000000\n",
      "lawyer         F         39.500000\n",
      "               M         36.200000\n",
      "librarian      F         40.000000\n",
      "               M         40.000000\n",
      "marketing      F         37.200000\n",
      "               M         37.875000\n",
      "none           F         36.500000\n",
      "               M         18.600000\n",
      "other          F         35.472222\n",
      "               M         34.028986\n",
      "programmer     F         32.166667\n",
      "               M         33.216667\n",
      "retired        F         70.000000\n",
      "               M         62.538462\n",
      "salesman       F         27.000000\n",
      "               M         38.555556\n",
      "scientist      F         28.333333\n",
      "               M         36.321429\n",
      "student        F         20.750000\n",
      "               M         22.669118\n",
      "technician     F         38.000000\n",
      "               M         32.961538\n",
      "writer         F         37.631579\n",
      "               M         35.346154\n",
      "Name: age, dtype: float64\n"
     ]
    }
   ],
   "source": [
    "# Group by occupation and gender, then calculate the mean age\n",
    "mean_age_per_occupation_gender = users.groupby(['occupation', 'gender'])['age'].mean()\n",
    "\n",
    "# Display the mean age for each combination of occupation and gender\n",
    "print(mean_age_per_occupation_gender)"
   ]
  },
  {
   "cell_type": "markdown",
   "metadata": {
    "id": "VnrnP9QzIXcK"
   },
   "source": [
    "Step 5. For each occupation present the percentage of women and men"
   ]
  },
  {
   "cell_type": "code",
   "execution_count": 34,
   "metadata": {
    "id": "DdPXiRxHIYow"
   },
   "outputs": [
    {
     "name": "stdout",
     "output_type": "stream",
     "text": [
      "gender                 F           M\n",
      "occupation                          \n",
      "administrator  45.569620   54.430380\n",
      "artist         46.428571   53.571429\n",
      "doctor          0.000000  100.000000\n",
      "educator       27.368421   72.631579\n",
      "engineer        2.985075   97.014925\n",
      "entertainment  11.111111   88.888889\n",
      "executive       9.375000   90.625000\n",
      "healthcare     68.750000   31.250000\n",
      "homemaker      85.714286   14.285714\n",
      "lawyer         16.666667   83.333333\n",
      "librarian      56.862745   43.137255\n",
      "marketing      38.461538   61.538462\n",
      "none           44.444444   55.555556\n",
      "other          34.285714   65.714286\n",
      "programmer      9.090909   90.909091\n",
      "retired         7.142857   92.857143\n",
      "salesman       25.000000   75.000000\n",
      "scientist       9.677419   90.322581\n",
      "student        30.612245   69.387755\n",
      "technician      3.703704   96.296296\n",
      "writer         42.222222   57.777778\n"
     ]
    }
   ],
   "source": [
    "# Count the number of men and women for each occupation\n",
    "gender_count_per_occupation = users.groupby(['occupation', 'gender']).size().unstack(fill_value=0)\n",
    "\n",
    "# Count the total number of people for each occupation\n",
    "total_count_per_occupation = users.groupby('occupation').size()\n",
    "\n",
    "# Calculate the percentage of men and women for each occupation\n",
    "gender_percentage_per_occupation = (gender_count_per_occupation.T / total_count_per_occupation).T * 100\n",
    "\n",
    "# Display the percentage of men and women for each occupation\n",
    "print(gender_percentage_per_occupation)"
   ]
  },
  {
   "cell_type": "markdown",
   "metadata": {
    "id": "-vqZX94SImYF"
   },
   "source": [
    "Easy, right? I knew you could do it 💯"
   ]
  },
  {
   "cell_type": "markdown",
   "metadata": {
    "id": "y2Q72PmfJvNz"
   },
   "source": [
    "You are just left with 2 modules :)"
   ]
  },
  {
   "cell_type": "markdown",
   "metadata": {
    "id": "CJXf91ZPJ4Jb"
   },
   "source": [
    "### **PART 4 - APPLY**"
   ]
  },
  {
   "cell_type": "markdown",
   "metadata": {
    "id": "nTM71Er6J9hK"
   },
   "source": [
    "Get your data from this [address](https://raw.githubusercontent.com/guipsamora/pandas_exercises/master/04_Apply/US_Crime_Rates/US_Crime_Rates_1960_2014.csv) and store it in a variable called crime"
   ]
  },
  {
   "cell_type": "code",
   "execution_count": 35,
   "metadata": {
    "id": "w7IcnyMGJSYV"
   },
   "outputs": [
    {
     "data": {
      "text/html": [
       "<div>\n",
       "<style scoped>\n",
       "    .dataframe tbody tr th:only-of-type {\n",
       "        vertical-align: middle;\n",
       "    }\n",
       "\n",
       "    .dataframe tbody tr th {\n",
       "        vertical-align: top;\n",
       "    }\n",
       "\n",
       "    .dataframe thead th {\n",
       "        text-align: right;\n",
       "    }\n",
       "</style>\n",
       "<table border=\"1\" class=\"dataframe\">\n",
       "  <thead>\n",
       "    <tr style=\"text-align: right;\">\n",
       "      <th></th>\n",
       "      <th>Year</th>\n",
       "      <th>Population</th>\n",
       "      <th>Total</th>\n",
       "      <th>Violent</th>\n",
       "      <th>Property</th>\n",
       "      <th>Murder</th>\n",
       "      <th>Forcible_Rape</th>\n",
       "      <th>Robbery</th>\n",
       "      <th>Aggravated_assault</th>\n",
       "      <th>Burglary</th>\n",
       "      <th>Larceny_Theft</th>\n",
       "      <th>Vehicle_Theft</th>\n",
       "    </tr>\n",
       "  </thead>\n",
       "  <tbody>\n",
       "    <tr>\n",
       "      <th>0</th>\n",
       "      <td>1960</td>\n",
       "      <td>179323175</td>\n",
       "      <td>3384200</td>\n",
       "      <td>288460</td>\n",
       "      <td>3095700</td>\n",
       "      <td>9110</td>\n",
       "      <td>17190</td>\n",
       "      <td>107840</td>\n",
       "      <td>154320</td>\n",
       "      <td>912100</td>\n",
       "      <td>1855400</td>\n",
       "      <td>328200</td>\n",
       "    </tr>\n",
       "    <tr>\n",
       "      <th>1</th>\n",
       "      <td>1961</td>\n",
       "      <td>182992000</td>\n",
       "      <td>3488000</td>\n",
       "      <td>289390</td>\n",
       "      <td>3198600</td>\n",
       "      <td>8740</td>\n",
       "      <td>17220</td>\n",
       "      <td>106670</td>\n",
       "      <td>156760</td>\n",
       "      <td>949600</td>\n",
       "      <td>1913000</td>\n",
       "      <td>336000</td>\n",
       "    </tr>\n",
       "    <tr>\n",
       "      <th>2</th>\n",
       "      <td>1962</td>\n",
       "      <td>185771000</td>\n",
       "      <td>3752200</td>\n",
       "      <td>301510</td>\n",
       "      <td>3450700</td>\n",
       "      <td>8530</td>\n",
       "      <td>17550</td>\n",
       "      <td>110860</td>\n",
       "      <td>164570</td>\n",
       "      <td>994300</td>\n",
       "      <td>2089600</td>\n",
       "      <td>366800</td>\n",
       "    </tr>\n",
       "    <tr>\n",
       "      <th>3</th>\n",
       "      <td>1963</td>\n",
       "      <td>188483000</td>\n",
       "      <td>4109500</td>\n",
       "      <td>316970</td>\n",
       "      <td>3792500</td>\n",
       "      <td>8640</td>\n",
       "      <td>17650</td>\n",
       "      <td>116470</td>\n",
       "      <td>174210</td>\n",
       "      <td>1086400</td>\n",
       "      <td>2297800</td>\n",
       "      <td>408300</td>\n",
       "    </tr>\n",
       "    <tr>\n",
       "      <th>4</th>\n",
       "      <td>1964</td>\n",
       "      <td>191141000</td>\n",
       "      <td>4564600</td>\n",
       "      <td>364220</td>\n",
       "      <td>4200400</td>\n",
       "      <td>9360</td>\n",
       "      <td>21420</td>\n",
       "      <td>130390</td>\n",
       "      <td>203050</td>\n",
       "      <td>1213200</td>\n",
       "      <td>2514400</td>\n",
       "      <td>472800</td>\n",
       "    </tr>\n",
       "  </tbody>\n",
       "</table>\n",
       "</div>"
      ],
      "text/plain": [
       "   Year  Population    Total  Violent  Property  Murder  Forcible_Rape  \\\n",
       "0  1960   179323175  3384200   288460   3095700    9110          17190   \n",
       "1  1961   182992000  3488000   289390   3198600    8740          17220   \n",
       "2  1962   185771000  3752200   301510   3450700    8530          17550   \n",
       "3  1963   188483000  4109500   316970   3792500    8640          17650   \n",
       "4  1964   191141000  4564600   364220   4200400    9360          21420   \n",
       "\n",
       "   Robbery  Aggravated_assault  Burglary  Larceny_Theft  Vehicle_Theft  \n",
       "0   107840              154320    912100        1855400         328200  \n",
       "1   106670              156760    949600        1913000         336000  \n",
       "2   110860              164570    994300        2089600         366800  \n",
       "3   116470              174210   1086400        2297800         408300  \n",
       "4   130390              203050   1213200        2514400         472800  "
      ]
     },
     "execution_count": 35,
     "metadata": {},
     "output_type": "execute_result"
    }
   ],
   "source": [
    "#read your data and display first 5 rows\n",
    "crime = pd.read_csv('https://raw.githubusercontent.com/guipsamora/pandas_exercises/master/04_Apply/US_Crime_Rates/US_Crime_Rates_1960_2014.csv' )\n",
    "crime.head()"
   ]
  },
  {
   "cell_type": "markdown",
   "metadata": {
    "id": "bSCl3-l4KLw4"
   },
   "source": [
    "Step 1. What is the type of the columns?"
   ]
  },
  {
   "cell_type": "code",
   "execution_count": 36,
   "metadata": {
    "id": "q9M3wLuFKOhM"
   },
   "outputs": [
    {
     "data": {
      "text/plain": [
       "dtype('O')"
      ]
     },
     "execution_count": 36,
     "metadata": {},
     "output_type": "execute_result"
    }
   ],
   "source": [
    "col = crime.columns\n",
    "col.dtype"
   ]
  },
  {
   "cell_type": "markdown",
   "metadata": {
    "id": "62oVtBLLKO5j"
   },
   "source": [
    "Step 2. Convert the type of the column Year to datetime64"
   ]
  },
  {
   "cell_type": "code",
   "execution_count": 37,
   "metadata": {
    "id": "3nPkYdmiKRCN"
   },
   "outputs": [],
   "source": [
    "crime['Year'] = pd.to_datetime(crime['Year'] , format='%Y')"
   ]
  },
  {
   "cell_type": "markdown",
   "metadata": {
    "id": "veedYJNLKS4p"
   },
   "source": [
    "Step 3. Set the Year column as the index of the dataframe"
   ]
  },
  {
   "cell_type": "code",
   "execution_count": 38,
   "metadata": {
    "id": "bakyTJNpKTwt"
   },
   "outputs": [
    {
     "data": {
      "text/html": [
       "<div>\n",
       "<style scoped>\n",
       "    .dataframe tbody tr th:only-of-type {\n",
       "        vertical-align: middle;\n",
       "    }\n",
       "\n",
       "    .dataframe tbody tr th {\n",
       "        vertical-align: top;\n",
       "    }\n",
       "\n",
       "    .dataframe thead th {\n",
       "        text-align: right;\n",
       "    }\n",
       "</style>\n",
       "<table border=\"1\" class=\"dataframe\">\n",
       "  <thead>\n",
       "    <tr style=\"text-align: right;\">\n",
       "      <th></th>\n",
       "      <th>Population</th>\n",
       "      <th>Total</th>\n",
       "      <th>Violent</th>\n",
       "      <th>Property</th>\n",
       "      <th>Murder</th>\n",
       "      <th>Forcible_Rape</th>\n",
       "      <th>Robbery</th>\n",
       "      <th>Aggravated_assault</th>\n",
       "      <th>Burglary</th>\n",
       "      <th>Larceny_Theft</th>\n",
       "      <th>Vehicle_Theft</th>\n",
       "    </tr>\n",
       "    <tr>\n",
       "      <th>Year</th>\n",
       "      <th></th>\n",
       "      <th></th>\n",
       "      <th></th>\n",
       "      <th></th>\n",
       "      <th></th>\n",
       "      <th></th>\n",
       "      <th></th>\n",
       "      <th></th>\n",
       "      <th></th>\n",
       "      <th></th>\n",
       "      <th></th>\n",
       "    </tr>\n",
       "  </thead>\n",
       "  <tbody>\n",
       "    <tr>\n",
       "      <th>1960-01-01</th>\n",
       "      <td>179323175</td>\n",
       "      <td>3384200</td>\n",
       "      <td>288460</td>\n",
       "      <td>3095700</td>\n",
       "      <td>9110</td>\n",
       "      <td>17190</td>\n",
       "      <td>107840</td>\n",
       "      <td>154320</td>\n",
       "      <td>912100</td>\n",
       "      <td>1855400</td>\n",
       "      <td>328200</td>\n",
       "    </tr>\n",
       "    <tr>\n",
       "      <th>1961-01-01</th>\n",
       "      <td>182992000</td>\n",
       "      <td>3488000</td>\n",
       "      <td>289390</td>\n",
       "      <td>3198600</td>\n",
       "      <td>8740</td>\n",
       "      <td>17220</td>\n",
       "      <td>106670</td>\n",
       "      <td>156760</td>\n",
       "      <td>949600</td>\n",
       "      <td>1913000</td>\n",
       "      <td>336000</td>\n",
       "    </tr>\n",
       "    <tr>\n",
       "      <th>1962-01-01</th>\n",
       "      <td>185771000</td>\n",
       "      <td>3752200</td>\n",
       "      <td>301510</td>\n",
       "      <td>3450700</td>\n",
       "      <td>8530</td>\n",
       "      <td>17550</td>\n",
       "      <td>110860</td>\n",
       "      <td>164570</td>\n",
       "      <td>994300</td>\n",
       "      <td>2089600</td>\n",
       "      <td>366800</td>\n",
       "    </tr>\n",
       "    <tr>\n",
       "      <th>1963-01-01</th>\n",
       "      <td>188483000</td>\n",
       "      <td>4109500</td>\n",
       "      <td>316970</td>\n",
       "      <td>3792500</td>\n",
       "      <td>8640</td>\n",
       "      <td>17650</td>\n",
       "      <td>116470</td>\n",
       "      <td>174210</td>\n",
       "      <td>1086400</td>\n",
       "      <td>2297800</td>\n",
       "      <td>408300</td>\n",
       "    </tr>\n",
       "    <tr>\n",
       "      <th>1964-01-01</th>\n",
       "      <td>191141000</td>\n",
       "      <td>4564600</td>\n",
       "      <td>364220</td>\n",
       "      <td>4200400</td>\n",
       "      <td>9360</td>\n",
       "      <td>21420</td>\n",
       "      <td>130390</td>\n",
       "      <td>203050</td>\n",
       "      <td>1213200</td>\n",
       "      <td>2514400</td>\n",
       "      <td>472800</td>\n",
       "    </tr>\n",
       "    <tr>\n",
       "      <th>1965-01-01</th>\n",
       "      <td>193526000</td>\n",
       "      <td>4739400</td>\n",
       "      <td>387390</td>\n",
       "      <td>4352000</td>\n",
       "      <td>9960</td>\n",
       "      <td>23410</td>\n",
       "      <td>138690</td>\n",
       "      <td>215330</td>\n",
       "      <td>1282500</td>\n",
       "      <td>2572600</td>\n",
       "      <td>496900</td>\n",
       "    </tr>\n",
       "    <tr>\n",
       "      <th>1966-01-01</th>\n",
       "      <td>195576000</td>\n",
       "      <td>5223500</td>\n",
       "      <td>430180</td>\n",
       "      <td>4793300</td>\n",
       "      <td>11040</td>\n",
       "      <td>25820</td>\n",
       "      <td>157990</td>\n",
       "      <td>235330</td>\n",
       "      <td>1410100</td>\n",
       "      <td>2822000</td>\n",
       "      <td>561200</td>\n",
       "    </tr>\n",
       "    <tr>\n",
       "      <th>1967-01-01</th>\n",
       "      <td>197457000</td>\n",
       "      <td>5903400</td>\n",
       "      <td>499930</td>\n",
       "      <td>5403500</td>\n",
       "      <td>12240</td>\n",
       "      <td>27620</td>\n",
       "      <td>202910</td>\n",
       "      <td>257160</td>\n",
       "      <td>1632100</td>\n",
       "      <td>3111600</td>\n",
       "      <td>659800</td>\n",
       "    </tr>\n",
       "    <tr>\n",
       "      <th>1968-01-01</th>\n",
       "      <td>199399000</td>\n",
       "      <td>6720200</td>\n",
       "      <td>595010</td>\n",
       "      <td>6125200</td>\n",
       "      <td>13800</td>\n",
       "      <td>31670</td>\n",
       "      <td>262840</td>\n",
       "      <td>286700</td>\n",
       "      <td>1858900</td>\n",
       "      <td>3482700</td>\n",
       "      <td>783600</td>\n",
       "    </tr>\n",
       "    <tr>\n",
       "      <th>1969-01-01</th>\n",
       "      <td>201385000</td>\n",
       "      <td>7410900</td>\n",
       "      <td>661870</td>\n",
       "      <td>6749000</td>\n",
       "      <td>14760</td>\n",
       "      <td>37170</td>\n",
       "      <td>298850</td>\n",
       "      <td>311090</td>\n",
       "      <td>1981900</td>\n",
       "      <td>3888600</td>\n",
       "      <td>878500</td>\n",
       "    </tr>\n",
       "    <tr>\n",
       "      <th>1970-01-01</th>\n",
       "      <td>203235298</td>\n",
       "      <td>8098000</td>\n",
       "      <td>738820</td>\n",
       "      <td>7359200</td>\n",
       "      <td>16000</td>\n",
       "      <td>37990</td>\n",
       "      <td>349860</td>\n",
       "      <td>334970</td>\n",
       "      <td>2205000</td>\n",
       "      <td>4225800</td>\n",
       "      <td>928400</td>\n",
       "    </tr>\n",
       "    <tr>\n",
       "      <th>1971-01-01</th>\n",
       "      <td>206212000</td>\n",
       "      <td>8588200</td>\n",
       "      <td>816500</td>\n",
       "      <td>7771700</td>\n",
       "      <td>17780</td>\n",
       "      <td>42260</td>\n",
       "      <td>387700</td>\n",
       "      <td>368760</td>\n",
       "      <td>2399300</td>\n",
       "      <td>4424200</td>\n",
       "      <td>948200</td>\n",
       "    </tr>\n",
       "    <tr>\n",
       "      <th>1972-01-01</th>\n",
       "      <td>208230000</td>\n",
       "      <td>8248800</td>\n",
       "      <td>834900</td>\n",
       "      <td>7413900</td>\n",
       "      <td>18670</td>\n",
       "      <td>46850</td>\n",
       "      <td>376290</td>\n",
       "      <td>393090</td>\n",
       "      <td>2375500</td>\n",
       "      <td>4151200</td>\n",
       "      <td>887200</td>\n",
       "    </tr>\n",
       "    <tr>\n",
       "      <th>1973-01-01</th>\n",
       "      <td>209851000</td>\n",
       "      <td>8718100</td>\n",
       "      <td>875910</td>\n",
       "      <td>7842200</td>\n",
       "      <td>19640</td>\n",
       "      <td>51400</td>\n",
       "      <td>384220</td>\n",
       "      <td>420650</td>\n",
       "      <td>2565500</td>\n",
       "      <td>4347900</td>\n",
       "      <td>928800</td>\n",
       "    </tr>\n",
       "    <tr>\n",
       "      <th>1974-01-01</th>\n",
       "      <td>211392000</td>\n",
       "      <td>10253400</td>\n",
       "      <td>974720</td>\n",
       "      <td>9278700</td>\n",
       "      <td>20710</td>\n",
       "      <td>55400</td>\n",
       "      <td>442400</td>\n",
       "      <td>456210</td>\n",
       "      <td>3039200</td>\n",
       "      <td>5262500</td>\n",
       "      <td>977100</td>\n",
       "    </tr>\n",
       "    <tr>\n",
       "      <th>1975-01-01</th>\n",
       "      <td>213124000</td>\n",
       "      <td>11292400</td>\n",
       "      <td>1039710</td>\n",
       "      <td>10252700</td>\n",
       "      <td>20510</td>\n",
       "      <td>56090</td>\n",
       "      <td>470500</td>\n",
       "      <td>492620</td>\n",
       "      <td>3265300</td>\n",
       "      <td>5977700</td>\n",
       "      <td>1009600</td>\n",
       "    </tr>\n",
       "    <tr>\n",
       "      <th>1976-01-01</th>\n",
       "      <td>214659000</td>\n",
       "      <td>11349700</td>\n",
       "      <td>1004210</td>\n",
       "      <td>10345500</td>\n",
       "      <td>18780</td>\n",
       "      <td>57080</td>\n",
       "      <td>427810</td>\n",
       "      <td>500530</td>\n",
       "      <td>3108700</td>\n",
       "      <td>6270800</td>\n",
       "      <td>966000</td>\n",
       "    </tr>\n",
       "    <tr>\n",
       "      <th>1977-01-01</th>\n",
       "      <td>216332000</td>\n",
       "      <td>10984500</td>\n",
       "      <td>1029580</td>\n",
       "      <td>9955000</td>\n",
       "      <td>19120</td>\n",
       "      <td>63500</td>\n",
       "      <td>412610</td>\n",
       "      <td>534350</td>\n",
       "      <td>3071500</td>\n",
       "      <td>5905700</td>\n",
       "      <td>977700</td>\n",
       "    </tr>\n",
       "    <tr>\n",
       "      <th>1978-01-01</th>\n",
       "      <td>218059000</td>\n",
       "      <td>11209000</td>\n",
       "      <td>1085550</td>\n",
       "      <td>10123400</td>\n",
       "      <td>19560</td>\n",
       "      <td>67610</td>\n",
       "      <td>426930</td>\n",
       "      <td>571460</td>\n",
       "      <td>3128300</td>\n",
       "      <td>5991000</td>\n",
       "      <td>1004100</td>\n",
       "    </tr>\n",
       "    <tr>\n",
       "      <th>1979-01-01</th>\n",
       "      <td>220099000</td>\n",
       "      <td>12249500</td>\n",
       "      <td>1208030</td>\n",
       "      <td>11041500</td>\n",
       "      <td>21460</td>\n",
       "      <td>76390</td>\n",
       "      <td>480700</td>\n",
       "      <td>629480</td>\n",
       "      <td>3327700</td>\n",
       "      <td>6601000</td>\n",
       "      <td>1112800</td>\n",
       "    </tr>\n",
       "    <tr>\n",
       "      <th>1980-01-01</th>\n",
       "      <td>225349264</td>\n",
       "      <td>13408300</td>\n",
       "      <td>1344520</td>\n",
       "      <td>12063700</td>\n",
       "      <td>23040</td>\n",
       "      <td>82990</td>\n",
       "      <td>565840</td>\n",
       "      <td>672650</td>\n",
       "      <td>3795200</td>\n",
       "      <td>7136900</td>\n",
       "      <td>1131700</td>\n",
       "    </tr>\n",
       "    <tr>\n",
       "      <th>1981-01-01</th>\n",
       "      <td>229146000</td>\n",
       "      <td>13423800</td>\n",
       "      <td>1361820</td>\n",
       "      <td>12061900</td>\n",
       "      <td>22520</td>\n",
       "      <td>82500</td>\n",
       "      <td>592910</td>\n",
       "      <td>663900</td>\n",
       "      <td>3779700</td>\n",
       "      <td>7194400</td>\n",
       "      <td>1087800</td>\n",
       "    </tr>\n",
       "    <tr>\n",
       "      <th>1982-01-01</th>\n",
       "      <td>231534000</td>\n",
       "      <td>12974400</td>\n",
       "      <td>1322390</td>\n",
       "      <td>11652000</td>\n",
       "      <td>21010</td>\n",
       "      <td>78770</td>\n",
       "      <td>553130</td>\n",
       "      <td>669480</td>\n",
       "      <td>3447100</td>\n",
       "      <td>7142500</td>\n",
       "      <td>1062400</td>\n",
       "    </tr>\n",
       "    <tr>\n",
       "      <th>1983-01-01</th>\n",
       "      <td>233981000</td>\n",
       "      <td>12108600</td>\n",
       "      <td>1258090</td>\n",
       "      <td>10850500</td>\n",
       "      <td>19310</td>\n",
       "      <td>78920</td>\n",
       "      <td>506570</td>\n",
       "      <td>653290</td>\n",
       "      <td>3129900</td>\n",
       "      <td>6712800</td>\n",
       "      <td>1007900</td>\n",
       "    </tr>\n",
       "    <tr>\n",
       "      <th>1984-01-01</th>\n",
       "      <td>236158000</td>\n",
       "      <td>11881800</td>\n",
       "      <td>1273280</td>\n",
       "      <td>10608500</td>\n",
       "      <td>18690</td>\n",
       "      <td>84230</td>\n",
       "      <td>485010</td>\n",
       "      <td>685350</td>\n",
       "      <td>2984400</td>\n",
       "      <td>6591900</td>\n",
       "      <td>1032200</td>\n",
       "    </tr>\n",
       "    <tr>\n",
       "      <th>1985-01-01</th>\n",
       "      <td>238740000</td>\n",
       "      <td>12431400</td>\n",
       "      <td>1328800</td>\n",
       "      <td>11102600</td>\n",
       "      <td>18980</td>\n",
       "      <td>88670</td>\n",
       "      <td>497870</td>\n",
       "      <td>723250</td>\n",
       "      <td>3073300</td>\n",
       "      <td>6926400</td>\n",
       "      <td>1102900</td>\n",
       "    </tr>\n",
       "    <tr>\n",
       "      <th>1986-01-01</th>\n",
       "      <td>240132887</td>\n",
       "      <td>13211869</td>\n",
       "      <td>1489169</td>\n",
       "      <td>11722700</td>\n",
       "      <td>20613</td>\n",
       "      <td>91459</td>\n",
       "      <td>542775</td>\n",
       "      <td>834322</td>\n",
       "      <td>3241410</td>\n",
       "      <td>7257153</td>\n",
       "      <td>1224137</td>\n",
       "    </tr>\n",
       "    <tr>\n",
       "      <th>1987-01-01</th>\n",
       "      <td>242282918</td>\n",
       "      <td>13508700</td>\n",
       "      <td>1483999</td>\n",
       "      <td>12024700</td>\n",
       "      <td>20096</td>\n",
       "      <td>91110</td>\n",
       "      <td>517704</td>\n",
       "      <td>855088</td>\n",
       "      <td>3236184</td>\n",
       "      <td>7499900</td>\n",
       "      <td>1288674</td>\n",
       "    </tr>\n",
       "    <tr>\n",
       "      <th>1988-01-01</th>\n",
       "      <td>245807000</td>\n",
       "      <td>13923100</td>\n",
       "      <td>1566220</td>\n",
       "      <td>12356900</td>\n",
       "      <td>20680</td>\n",
       "      <td>92490</td>\n",
       "      <td>542970</td>\n",
       "      <td>910090</td>\n",
       "      <td>3218100</td>\n",
       "      <td>7705900</td>\n",
       "      <td>1432900</td>\n",
       "    </tr>\n",
       "    <tr>\n",
       "      <th>1989-01-01</th>\n",
       "      <td>248239000</td>\n",
       "      <td>14251400</td>\n",
       "      <td>1646040</td>\n",
       "      <td>12605400</td>\n",
       "      <td>21500</td>\n",
       "      <td>94500</td>\n",
       "      <td>578330</td>\n",
       "      <td>951710</td>\n",
       "      <td>3168200</td>\n",
       "      <td>7872400</td>\n",
       "      <td>1564800</td>\n",
       "    </tr>\n",
       "    <tr>\n",
       "      <th>1990-01-01</th>\n",
       "      <td>248709873</td>\n",
       "      <td>14475600</td>\n",
       "      <td>1820130</td>\n",
       "      <td>12655500</td>\n",
       "      <td>23440</td>\n",
       "      <td>102560</td>\n",
       "      <td>639270</td>\n",
       "      <td>1054860</td>\n",
       "      <td>3073900</td>\n",
       "      <td>7945700</td>\n",
       "      <td>1635900</td>\n",
       "    </tr>\n",
       "    <tr>\n",
       "      <th>1991-01-01</th>\n",
       "      <td>252177000</td>\n",
       "      <td>14872900</td>\n",
       "      <td>1911770</td>\n",
       "      <td>12961100</td>\n",
       "      <td>24700</td>\n",
       "      <td>106590</td>\n",
       "      <td>687730</td>\n",
       "      <td>1092740</td>\n",
       "      <td>3157200</td>\n",
       "      <td>8142200</td>\n",
       "      <td>1661700</td>\n",
       "    </tr>\n",
       "    <tr>\n",
       "      <th>1992-01-01</th>\n",
       "      <td>255082000</td>\n",
       "      <td>14438200</td>\n",
       "      <td>1932270</td>\n",
       "      <td>12505900</td>\n",
       "      <td>23760</td>\n",
       "      <td>109060</td>\n",
       "      <td>672480</td>\n",
       "      <td>1126970</td>\n",
       "      <td>2979900</td>\n",
       "      <td>7915200</td>\n",
       "      <td>1610800</td>\n",
       "    </tr>\n",
       "    <tr>\n",
       "      <th>1993-01-01</th>\n",
       "      <td>257908000</td>\n",
       "      <td>14144800</td>\n",
       "      <td>1926020</td>\n",
       "      <td>12218800</td>\n",
       "      <td>24530</td>\n",
       "      <td>106010</td>\n",
       "      <td>659870</td>\n",
       "      <td>1135610</td>\n",
       "      <td>2834800</td>\n",
       "      <td>7820900</td>\n",
       "      <td>1563100</td>\n",
       "    </tr>\n",
       "    <tr>\n",
       "      <th>1994-01-01</th>\n",
       "      <td>260341000</td>\n",
       "      <td>13989500</td>\n",
       "      <td>1857670</td>\n",
       "      <td>12131900</td>\n",
       "      <td>23330</td>\n",
       "      <td>102220</td>\n",
       "      <td>618950</td>\n",
       "      <td>1113180</td>\n",
       "      <td>2712800</td>\n",
       "      <td>7879800</td>\n",
       "      <td>1539300</td>\n",
       "    </tr>\n",
       "    <tr>\n",
       "      <th>1995-01-01</th>\n",
       "      <td>262755000</td>\n",
       "      <td>13862700</td>\n",
       "      <td>1798790</td>\n",
       "      <td>12063900</td>\n",
       "      <td>21610</td>\n",
       "      <td>97470</td>\n",
       "      <td>580510</td>\n",
       "      <td>1099210</td>\n",
       "      <td>2593800</td>\n",
       "      <td>7997700</td>\n",
       "      <td>1472400</td>\n",
       "    </tr>\n",
       "    <tr>\n",
       "      <th>1996-01-01</th>\n",
       "      <td>265228572</td>\n",
       "      <td>13493863</td>\n",
       "      <td>1688540</td>\n",
       "      <td>11805300</td>\n",
       "      <td>19650</td>\n",
       "      <td>96250</td>\n",
       "      <td>535590</td>\n",
       "      <td>1037050</td>\n",
       "      <td>2506400</td>\n",
       "      <td>7904700</td>\n",
       "      <td>1394200</td>\n",
       "    </tr>\n",
       "    <tr>\n",
       "      <th>1997-01-01</th>\n",
       "      <td>267637000</td>\n",
       "      <td>13194571</td>\n",
       "      <td>1634770</td>\n",
       "      <td>11558175</td>\n",
       "      <td>18208</td>\n",
       "      <td>96153</td>\n",
       "      <td>498534</td>\n",
       "      <td>1023201</td>\n",
       "      <td>2460526</td>\n",
       "      <td>7743760</td>\n",
       "      <td>1354189</td>\n",
       "    </tr>\n",
       "    <tr>\n",
       "      <th>1998-01-01</th>\n",
       "      <td>270296000</td>\n",
       "      <td>12475634</td>\n",
       "      <td>1531044</td>\n",
       "      <td>10944590</td>\n",
       "      <td>16914</td>\n",
       "      <td>93103</td>\n",
       "      <td>446625</td>\n",
       "      <td>974402</td>\n",
       "      <td>2329950</td>\n",
       "      <td>7373886</td>\n",
       "      <td>1240754</td>\n",
       "    </tr>\n",
       "    <tr>\n",
       "      <th>1999-01-01</th>\n",
       "      <td>272690813</td>\n",
       "      <td>11634378</td>\n",
       "      <td>1426044</td>\n",
       "      <td>10208334</td>\n",
       "      <td>15522</td>\n",
       "      <td>89411</td>\n",
       "      <td>409371</td>\n",
       "      <td>911740</td>\n",
       "      <td>2100739</td>\n",
       "      <td>6955520</td>\n",
       "      <td>1152075</td>\n",
       "    </tr>\n",
       "    <tr>\n",
       "      <th>2000-01-01</th>\n",
       "      <td>281421906</td>\n",
       "      <td>11608072</td>\n",
       "      <td>1425486</td>\n",
       "      <td>10182586</td>\n",
       "      <td>15586</td>\n",
       "      <td>90178</td>\n",
       "      <td>408016</td>\n",
       "      <td>911706</td>\n",
       "      <td>2050992</td>\n",
       "      <td>6971590</td>\n",
       "      <td>1160002</td>\n",
       "    </tr>\n",
       "    <tr>\n",
       "      <th>2001-01-01</th>\n",
       "      <td>285317559</td>\n",
       "      <td>11876669</td>\n",
       "      <td>1439480</td>\n",
       "      <td>10437480</td>\n",
       "      <td>16037</td>\n",
       "      <td>90863</td>\n",
       "      <td>423557</td>\n",
       "      <td>909023</td>\n",
       "      <td>2116531</td>\n",
       "      <td>7092267</td>\n",
       "      <td>1228391</td>\n",
       "    </tr>\n",
       "    <tr>\n",
       "      <th>2002-01-01</th>\n",
       "      <td>287973924</td>\n",
       "      <td>11878954</td>\n",
       "      <td>1423677</td>\n",
       "      <td>10455277</td>\n",
       "      <td>16229</td>\n",
       "      <td>95235</td>\n",
       "      <td>420806</td>\n",
       "      <td>891407</td>\n",
       "      <td>2151252</td>\n",
       "      <td>7057370</td>\n",
       "      <td>1246646</td>\n",
       "    </tr>\n",
       "    <tr>\n",
       "      <th>2003-01-01</th>\n",
       "      <td>290690788</td>\n",
       "      <td>11826538</td>\n",
       "      <td>1383676</td>\n",
       "      <td>10442862</td>\n",
       "      <td>16528</td>\n",
       "      <td>93883</td>\n",
       "      <td>414235</td>\n",
       "      <td>859030</td>\n",
       "      <td>2154834</td>\n",
       "      <td>7026802</td>\n",
       "      <td>1261226</td>\n",
       "    </tr>\n",
       "    <tr>\n",
       "      <th>2004-01-01</th>\n",
       "      <td>293656842</td>\n",
       "      <td>11679474</td>\n",
       "      <td>1360088</td>\n",
       "      <td>10319386</td>\n",
       "      <td>16148</td>\n",
       "      <td>95089</td>\n",
       "      <td>401470</td>\n",
       "      <td>847381</td>\n",
       "      <td>2144446</td>\n",
       "      <td>6937089</td>\n",
       "      <td>1237851</td>\n",
       "    </tr>\n",
       "    <tr>\n",
       "      <th>2005-01-01</th>\n",
       "      <td>296507061</td>\n",
       "      <td>11565499</td>\n",
       "      <td>1390745</td>\n",
       "      <td>10174754</td>\n",
       "      <td>16740</td>\n",
       "      <td>94347</td>\n",
       "      <td>417438</td>\n",
       "      <td>862220</td>\n",
       "      <td>2155448</td>\n",
       "      <td>6783447</td>\n",
       "      <td>1235859</td>\n",
       "    </tr>\n",
       "    <tr>\n",
       "      <th>2006-01-01</th>\n",
       "      <td>299398484</td>\n",
       "      <td>11401511</td>\n",
       "      <td>1418043</td>\n",
       "      <td>9983568</td>\n",
       "      <td>17030</td>\n",
       "      <td>92757</td>\n",
       "      <td>447403</td>\n",
       "      <td>860853</td>\n",
       "      <td>2183746</td>\n",
       "      <td>6607013</td>\n",
       "      <td>1192809</td>\n",
       "    </tr>\n",
       "    <tr>\n",
       "      <th>2007-01-01</th>\n",
       "      <td>301621157</td>\n",
       "      <td>11251828</td>\n",
       "      <td>1408337</td>\n",
       "      <td>9843481</td>\n",
       "      <td>16929</td>\n",
       "      <td>90427</td>\n",
       "      <td>445125</td>\n",
       "      <td>855856</td>\n",
       "      <td>2176140</td>\n",
       "      <td>6568572</td>\n",
       "      <td>1095769</td>\n",
       "    </tr>\n",
       "    <tr>\n",
       "      <th>2008-01-01</th>\n",
       "      <td>304374846</td>\n",
       "      <td>11160543</td>\n",
       "      <td>1392628</td>\n",
       "      <td>9767915</td>\n",
       "      <td>16442</td>\n",
       "      <td>90479</td>\n",
       "      <td>443574</td>\n",
       "      <td>842134</td>\n",
       "      <td>2228474</td>\n",
       "      <td>6588046</td>\n",
       "      <td>958629</td>\n",
       "    </tr>\n",
       "    <tr>\n",
       "      <th>2009-01-01</th>\n",
       "      <td>307006550</td>\n",
       "      <td>10762956</td>\n",
       "      <td>1325896</td>\n",
       "      <td>9337060</td>\n",
       "      <td>15399</td>\n",
       "      <td>89241</td>\n",
       "      <td>408742</td>\n",
       "      <td>812514</td>\n",
       "      <td>2203313</td>\n",
       "      <td>6338095</td>\n",
       "      <td>795652</td>\n",
       "    </tr>\n",
       "    <tr>\n",
       "      <th>2010-01-01</th>\n",
       "      <td>309330219</td>\n",
       "      <td>10363873</td>\n",
       "      <td>1251248</td>\n",
       "      <td>9112625</td>\n",
       "      <td>14772</td>\n",
       "      <td>85593</td>\n",
       "      <td>369089</td>\n",
       "      <td>781844</td>\n",
       "      <td>2168457</td>\n",
       "      <td>6204601</td>\n",
       "      <td>739565</td>\n",
       "    </tr>\n",
       "    <tr>\n",
       "      <th>2011-01-01</th>\n",
       "      <td>311587816</td>\n",
       "      <td>10258774</td>\n",
       "      <td>1206031</td>\n",
       "      <td>9052743</td>\n",
       "      <td>14661</td>\n",
       "      <td>84175</td>\n",
       "      <td>354772</td>\n",
       "      <td>752423</td>\n",
       "      <td>2185140</td>\n",
       "      <td>6151095</td>\n",
       "      <td>716508</td>\n",
       "    </tr>\n",
       "    <tr>\n",
       "      <th>2012-01-01</th>\n",
       "      <td>313873685</td>\n",
       "      <td>10219059</td>\n",
       "      <td>1217067</td>\n",
       "      <td>9001992</td>\n",
       "      <td>14866</td>\n",
       "      <td>85141</td>\n",
       "      <td>355051</td>\n",
       "      <td>762009</td>\n",
       "      <td>2109932</td>\n",
       "      <td>6168874</td>\n",
       "      <td>723186</td>\n",
       "    </tr>\n",
       "    <tr>\n",
       "      <th>2013-01-01</th>\n",
       "      <td>316497531</td>\n",
       "      <td>9850445</td>\n",
       "      <td>1199684</td>\n",
       "      <td>8650761</td>\n",
       "      <td>14319</td>\n",
       "      <td>82109</td>\n",
       "      <td>345095</td>\n",
       "      <td>726575</td>\n",
       "      <td>1931835</td>\n",
       "      <td>6018632</td>\n",
       "      <td>700294</td>\n",
       "    </tr>\n",
       "    <tr>\n",
       "      <th>2014-01-01</th>\n",
       "      <td>318857056</td>\n",
       "      <td>9475816</td>\n",
       "      <td>1197987</td>\n",
       "      <td>8277829</td>\n",
       "      <td>14249</td>\n",
       "      <td>84041</td>\n",
       "      <td>325802</td>\n",
       "      <td>741291</td>\n",
       "      <td>1729806</td>\n",
       "      <td>5858496</td>\n",
       "      <td>689527</td>\n",
       "    </tr>\n",
       "  </tbody>\n",
       "</table>\n",
       "</div>"
      ],
      "text/plain": [
       "            Population     Total  Violent  Property  Murder  Forcible_Rape  \\\n",
       "Year                                                                         \n",
       "1960-01-01   179323175   3384200   288460   3095700    9110          17190   \n",
       "1961-01-01   182992000   3488000   289390   3198600    8740          17220   \n",
       "1962-01-01   185771000   3752200   301510   3450700    8530          17550   \n",
       "1963-01-01   188483000   4109500   316970   3792500    8640          17650   \n",
       "1964-01-01   191141000   4564600   364220   4200400    9360          21420   \n",
       "1965-01-01   193526000   4739400   387390   4352000    9960          23410   \n",
       "1966-01-01   195576000   5223500   430180   4793300   11040          25820   \n",
       "1967-01-01   197457000   5903400   499930   5403500   12240          27620   \n",
       "1968-01-01   199399000   6720200   595010   6125200   13800          31670   \n",
       "1969-01-01   201385000   7410900   661870   6749000   14760          37170   \n",
       "1970-01-01   203235298   8098000   738820   7359200   16000          37990   \n",
       "1971-01-01   206212000   8588200   816500   7771700   17780          42260   \n",
       "1972-01-01   208230000   8248800   834900   7413900   18670          46850   \n",
       "1973-01-01   209851000   8718100   875910   7842200   19640          51400   \n",
       "1974-01-01   211392000  10253400   974720   9278700   20710          55400   \n",
       "1975-01-01   213124000  11292400  1039710  10252700   20510          56090   \n",
       "1976-01-01   214659000  11349700  1004210  10345500   18780          57080   \n",
       "1977-01-01   216332000  10984500  1029580   9955000   19120          63500   \n",
       "1978-01-01   218059000  11209000  1085550  10123400   19560          67610   \n",
       "1979-01-01   220099000  12249500  1208030  11041500   21460          76390   \n",
       "1980-01-01   225349264  13408300  1344520  12063700   23040          82990   \n",
       "1981-01-01   229146000  13423800  1361820  12061900   22520          82500   \n",
       "1982-01-01   231534000  12974400  1322390  11652000   21010          78770   \n",
       "1983-01-01   233981000  12108600  1258090  10850500   19310          78920   \n",
       "1984-01-01   236158000  11881800  1273280  10608500   18690          84230   \n",
       "1985-01-01   238740000  12431400  1328800  11102600   18980          88670   \n",
       "1986-01-01   240132887  13211869  1489169  11722700   20613          91459   \n",
       "1987-01-01   242282918  13508700  1483999  12024700   20096          91110   \n",
       "1988-01-01   245807000  13923100  1566220  12356900   20680          92490   \n",
       "1989-01-01   248239000  14251400  1646040  12605400   21500          94500   \n",
       "1990-01-01   248709873  14475600  1820130  12655500   23440         102560   \n",
       "1991-01-01   252177000  14872900  1911770  12961100   24700         106590   \n",
       "1992-01-01   255082000  14438200  1932270  12505900   23760         109060   \n",
       "1993-01-01   257908000  14144800  1926020  12218800   24530         106010   \n",
       "1994-01-01   260341000  13989500  1857670  12131900   23330         102220   \n",
       "1995-01-01   262755000  13862700  1798790  12063900   21610          97470   \n",
       "1996-01-01   265228572  13493863  1688540  11805300   19650          96250   \n",
       "1997-01-01   267637000  13194571  1634770  11558175   18208          96153   \n",
       "1998-01-01   270296000  12475634  1531044  10944590   16914          93103   \n",
       "1999-01-01   272690813  11634378  1426044  10208334   15522          89411   \n",
       "2000-01-01   281421906  11608072  1425486  10182586   15586          90178   \n",
       "2001-01-01   285317559  11876669  1439480  10437480   16037          90863   \n",
       "2002-01-01   287973924  11878954  1423677  10455277   16229          95235   \n",
       "2003-01-01   290690788  11826538  1383676  10442862   16528          93883   \n",
       "2004-01-01   293656842  11679474  1360088  10319386   16148          95089   \n",
       "2005-01-01   296507061  11565499  1390745  10174754   16740          94347   \n",
       "2006-01-01   299398484  11401511  1418043   9983568   17030          92757   \n",
       "2007-01-01   301621157  11251828  1408337   9843481   16929          90427   \n",
       "2008-01-01   304374846  11160543  1392628   9767915   16442          90479   \n",
       "2009-01-01   307006550  10762956  1325896   9337060   15399          89241   \n",
       "2010-01-01   309330219  10363873  1251248   9112625   14772          85593   \n",
       "2011-01-01   311587816  10258774  1206031   9052743   14661          84175   \n",
       "2012-01-01   313873685  10219059  1217067   9001992   14866          85141   \n",
       "2013-01-01   316497531   9850445  1199684   8650761   14319          82109   \n",
       "2014-01-01   318857056   9475816  1197987   8277829   14249          84041   \n",
       "\n",
       "            Robbery  Aggravated_assault  Burglary  Larceny_Theft  \\\n",
       "Year                                                               \n",
       "1960-01-01   107840              154320    912100        1855400   \n",
       "1961-01-01   106670              156760    949600        1913000   \n",
       "1962-01-01   110860              164570    994300        2089600   \n",
       "1963-01-01   116470              174210   1086400        2297800   \n",
       "1964-01-01   130390              203050   1213200        2514400   \n",
       "1965-01-01   138690              215330   1282500        2572600   \n",
       "1966-01-01   157990              235330   1410100        2822000   \n",
       "1967-01-01   202910              257160   1632100        3111600   \n",
       "1968-01-01   262840              286700   1858900        3482700   \n",
       "1969-01-01   298850              311090   1981900        3888600   \n",
       "1970-01-01   349860              334970   2205000        4225800   \n",
       "1971-01-01   387700              368760   2399300        4424200   \n",
       "1972-01-01   376290              393090   2375500        4151200   \n",
       "1973-01-01   384220              420650   2565500        4347900   \n",
       "1974-01-01   442400              456210   3039200        5262500   \n",
       "1975-01-01   470500              492620   3265300        5977700   \n",
       "1976-01-01   427810              500530   3108700        6270800   \n",
       "1977-01-01   412610              534350   3071500        5905700   \n",
       "1978-01-01   426930              571460   3128300        5991000   \n",
       "1979-01-01   480700              629480   3327700        6601000   \n",
       "1980-01-01   565840              672650   3795200        7136900   \n",
       "1981-01-01   592910              663900   3779700        7194400   \n",
       "1982-01-01   553130              669480   3447100        7142500   \n",
       "1983-01-01   506570              653290   3129900        6712800   \n",
       "1984-01-01   485010              685350   2984400        6591900   \n",
       "1985-01-01   497870              723250   3073300        6926400   \n",
       "1986-01-01   542775              834322   3241410        7257153   \n",
       "1987-01-01   517704              855088   3236184        7499900   \n",
       "1988-01-01   542970              910090   3218100        7705900   \n",
       "1989-01-01   578330              951710   3168200        7872400   \n",
       "1990-01-01   639270             1054860   3073900        7945700   \n",
       "1991-01-01   687730             1092740   3157200        8142200   \n",
       "1992-01-01   672480             1126970   2979900        7915200   \n",
       "1993-01-01   659870             1135610   2834800        7820900   \n",
       "1994-01-01   618950             1113180   2712800        7879800   \n",
       "1995-01-01   580510             1099210   2593800        7997700   \n",
       "1996-01-01   535590             1037050   2506400        7904700   \n",
       "1997-01-01   498534             1023201   2460526        7743760   \n",
       "1998-01-01   446625              974402   2329950        7373886   \n",
       "1999-01-01   409371              911740   2100739        6955520   \n",
       "2000-01-01   408016              911706   2050992        6971590   \n",
       "2001-01-01   423557              909023   2116531        7092267   \n",
       "2002-01-01   420806              891407   2151252        7057370   \n",
       "2003-01-01   414235              859030   2154834        7026802   \n",
       "2004-01-01   401470              847381   2144446        6937089   \n",
       "2005-01-01   417438              862220   2155448        6783447   \n",
       "2006-01-01   447403              860853   2183746        6607013   \n",
       "2007-01-01   445125              855856   2176140        6568572   \n",
       "2008-01-01   443574              842134   2228474        6588046   \n",
       "2009-01-01   408742              812514   2203313        6338095   \n",
       "2010-01-01   369089              781844   2168457        6204601   \n",
       "2011-01-01   354772              752423   2185140        6151095   \n",
       "2012-01-01   355051              762009   2109932        6168874   \n",
       "2013-01-01   345095              726575   1931835        6018632   \n",
       "2014-01-01   325802              741291   1729806        5858496   \n",
       "\n",
       "            Vehicle_Theft  \n",
       "Year                       \n",
       "1960-01-01         328200  \n",
       "1961-01-01         336000  \n",
       "1962-01-01         366800  \n",
       "1963-01-01         408300  \n",
       "1964-01-01         472800  \n",
       "1965-01-01         496900  \n",
       "1966-01-01         561200  \n",
       "1967-01-01         659800  \n",
       "1968-01-01         783600  \n",
       "1969-01-01         878500  \n",
       "1970-01-01         928400  \n",
       "1971-01-01         948200  \n",
       "1972-01-01         887200  \n",
       "1973-01-01         928800  \n",
       "1974-01-01         977100  \n",
       "1975-01-01        1009600  \n",
       "1976-01-01         966000  \n",
       "1977-01-01         977700  \n",
       "1978-01-01        1004100  \n",
       "1979-01-01        1112800  \n",
       "1980-01-01        1131700  \n",
       "1981-01-01        1087800  \n",
       "1982-01-01        1062400  \n",
       "1983-01-01        1007900  \n",
       "1984-01-01        1032200  \n",
       "1985-01-01        1102900  \n",
       "1986-01-01        1224137  \n",
       "1987-01-01        1288674  \n",
       "1988-01-01        1432900  \n",
       "1989-01-01        1564800  \n",
       "1990-01-01        1635900  \n",
       "1991-01-01        1661700  \n",
       "1992-01-01        1610800  \n",
       "1993-01-01        1563100  \n",
       "1994-01-01        1539300  \n",
       "1995-01-01        1472400  \n",
       "1996-01-01        1394200  \n",
       "1997-01-01        1354189  \n",
       "1998-01-01        1240754  \n",
       "1999-01-01        1152075  \n",
       "2000-01-01        1160002  \n",
       "2001-01-01        1228391  \n",
       "2002-01-01        1246646  \n",
       "2003-01-01        1261226  \n",
       "2004-01-01        1237851  \n",
       "2005-01-01        1235859  \n",
       "2006-01-01        1192809  \n",
       "2007-01-01        1095769  \n",
       "2008-01-01         958629  \n",
       "2009-01-01         795652  \n",
       "2010-01-01         739565  \n",
       "2011-01-01         716508  \n",
       "2012-01-01         723186  \n",
       "2013-01-01         700294  \n",
       "2014-01-01         689527  "
      ]
     },
     "execution_count": 38,
     "metadata": {},
     "output_type": "execute_result"
    }
   ],
   "source": [
    "crime.set_index('Year' , inplace=True)\n",
    "crime"
   ]
  },
  {
   "cell_type": "markdown",
   "metadata": {
    "id": "LfT8DU-wKVoJ"
   },
   "source": [
    "Step 4. Delete the Total column"
   ]
  },
  {
   "cell_type": "code",
   "execution_count": 39,
   "metadata": {
    "id": "_LARkBheKWNp"
   },
   "outputs": [
    {
     "data": {
      "text/html": [
       "<div>\n",
       "<style scoped>\n",
       "    .dataframe tbody tr th:only-of-type {\n",
       "        vertical-align: middle;\n",
       "    }\n",
       "\n",
       "    .dataframe tbody tr th {\n",
       "        vertical-align: top;\n",
       "    }\n",
       "\n",
       "    .dataframe thead th {\n",
       "        text-align: right;\n",
       "    }\n",
       "</style>\n",
       "<table border=\"1\" class=\"dataframe\">\n",
       "  <thead>\n",
       "    <tr style=\"text-align: right;\">\n",
       "      <th></th>\n",
       "      <th>Population</th>\n",
       "      <th>Violent</th>\n",
       "      <th>Property</th>\n",
       "      <th>Murder</th>\n",
       "      <th>Forcible_Rape</th>\n",
       "      <th>Robbery</th>\n",
       "      <th>Aggravated_assault</th>\n",
       "      <th>Burglary</th>\n",
       "      <th>Larceny_Theft</th>\n",
       "      <th>Vehicle_Theft</th>\n",
       "    </tr>\n",
       "    <tr>\n",
       "      <th>Year</th>\n",
       "      <th></th>\n",
       "      <th></th>\n",
       "      <th></th>\n",
       "      <th></th>\n",
       "      <th></th>\n",
       "      <th></th>\n",
       "      <th></th>\n",
       "      <th></th>\n",
       "      <th></th>\n",
       "      <th></th>\n",
       "    </tr>\n",
       "  </thead>\n",
       "  <tbody>\n",
       "    <tr>\n",
       "      <th>1960-01-01</th>\n",
       "      <td>179323175</td>\n",
       "      <td>288460</td>\n",
       "      <td>3095700</td>\n",
       "      <td>9110</td>\n",
       "      <td>17190</td>\n",
       "      <td>107840</td>\n",
       "      <td>154320</td>\n",
       "      <td>912100</td>\n",
       "      <td>1855400</td>\n",
       "      <td>328200</td>\n",
       "    </tr>\n",
       "    <tr>\n",
       "      <th>1961-01-01</th>\n",
       "      <td>182992000</td>\n",
       "      <td>289390</td>\n",
       "      <td>3198600</td>\n",
       "      <td>8740</td>\n",
       "      <td>17220</td>\n",
       "      <td>106670</td>\n",
       "      <td>156760</td>\n",
       "      <td>949600</td>\n",
       "      <td>1913000</td>\n",
       "      <td>336000</td>\n",
       "    </tr>\n",
       "    <tr>\n",
       "      <th>1962-01-01</th>\n",
       "      <td>185771000</td>\n",
       "      <td>301510</td>\n",
       "      <td>3450700</td>\n",
       "      <td>8530</td>\n",
       "      <td>17550</td>\n",
       "      <td>110860</td>\n",
       "      <td>164570</td>\n",
       "      <td>994300</td>\n",
       "      <td>2089600</td>\n",
       "      <td>366800</td>\n",
       "    </tr>\n",
       "    <tr>\n",
       "      <th>1963-01-01</th>\n",
       "      <td>188483000</td>\n",
       "      <td>316970</td>\n",
       "      <td>3792500</td>\n",
       "      <td>8640</td>\n",
       "      <td>17650</td>\n",
       "      <td>116470</td>\n",
       "      <td>174210</td>\n",
       "      <td>1086400</td>\n",
       "      <td>2297800</td>\n",
       "      <td>408300</td>\n",
       "    </tr>\n",
       "    <tr>\n",
       "      <th>1964-01-01</th>\n",
       "      <td>191141000</td>\n",
       "      <td>364220</td>\n",
       "      <td>4200400</td>\n",
       "      <td>9360</td>\n",
       "      <td>21420</td>\n",
       "      <td>130390</td>\n",
       "      <td>203050</td>\n",
       "      <td>1213200</td>\n",
       "      <td>2514400</td>\n",
       "      <td>472800</td>\n",
       "    </tr>\n",
       "    <tr>\n",
       "      <th>1965-01-01</th>\n",
       "      <td>193526000</td>\n",
       "      <td>387390</td>\n",
       "      <td>4352000</td>\n",
       "      <td>9960</td>\n",
       "      <td>23410</td>\n",
       "      <td>138690</td>\n",
       "      <td>215330</td>\n",
       "      <td>1282500</td>\n",
       "      <td>2572600</td>\n",
       "      <td>496900</td>\n",
       "    </tr>\n",
       "    <tr>\n",
       "      <th>1966-01-01</th>\n",
       "      <td>195576000</td>\n",
       "      <td>430180</td>\n",
       "      <td>4793300</td>\n",
       "      <td>11040</td>\n",
       "      <td>25820</td>\n",
       "      <td>157990</td>\n",
       "      <td>235330</td>\n",
       "      <td>1410100</td>\n",
       "      <td>2822000</td>\n",
       "      <td>561200</td>\n",
       "    </tr>\n",
       "    <tr>\n",
       "      <th>1967-01-01</th>\n",
       "      <td>197457000</td>\n",
       "      <td>499930</td>\n",
       "      <td>5403500</td>\n",
       "      <td>12240</td>\n",
       "      <td>27620</td>\n",
       "      <td>202910</td>\n",
       "      <td>257160</td>\n",
       "      <td>1632100</td>\n",
       "      <td>3111600</td>\n",
       "      <td>659800</td>\n",
       "    </tr>\n",
       "    <tr>\n",
       "      <th>1968-01-01</th>\n",
       "      <td>199399000</td>\n",
       "      <td>595010</td>\n",
       "      <td>6125200</td>\n",
       "      <td>13800</td>\n",
       "      <td>31670</td>\n",
       "      <td>262840</td>\n",
       "      <td>286700</td>\n",
       "      <td>1858900</td>\n",
       "      <td>3482700</td>\n",
       "      <td>783600</td>\n",
       "    </tr>\n",
       "    <tr>\n",
       "      <th>1969-01-01</th>\n",
       "      <td>201385000</td>\n",
       "      <td>661870</td>\n",
       "      <td>6749000</td>\n",
       "      <td>14760</td>\n",
       "      <td>37170</td>\n",
       "      <td>298850</td>\n",
       "      <td>311090</td>\n",
       "      <td>1981900</td>\n",
       "      <td>3888600</td>\n",
       "      <td>878500</td>\n",
       "    </tr>\n",
       "    <tr>\n",
       "      <th>1970-01-01</th>\n",
       "      <td>203235298</td>\n",
       "      <td>738820</td>\n",
       "      <td>7359200</td>\n",
       "      <td>16000</td>\n",
       "      <td>37990</td>\n",
       "      <td>349860</td>\n",
       "      <td>334970</td>\n",
       "      <td>2205000</td>\n",
       "      <td>4225800</td>\n",
       "      <td>928400</td>\n",
       "    </tr>\n",
       "    <tr>\n",
       "      <th>1971-01-01</th>\n",
       "      <td>206212000</td>\n",
       "      <td>816500</td>\n",
       "      <td>7771700</td>\n",
       "      <td>17780</td>\n",
       "      <td>42260</td>\n",
       "      <td>387700</td>\n",
       "      <td>368760</td>\n",
       "      <td>2399300</td>\n",
       "      <td>4424200</td>\n",
       "      <td>948200</td>\n",
       "    </tr>\n",
       "    <tr>\n",
       "      <th>1972-01-01</th>\n",
       "      <td>208230000</td>\n",
       "      <td>834900</td>\n",
       "      <td>7413900</td>\n",
       "      <td>18670</td>\n",
       "      <td>46850</td>\n",
       "      <td>376290</td>\n",
       "      <td>393090</td>\n",
       "      <td>2375500</td>\n",
       "      <td>4151200</td>\n",
       "      <td>887200</td>\n",
       "    </tr>\n",
       "    <tr>\n",
       "      <th>1973-01-01</th>\n",
       "      <td>209851000</td>\n",
       "      <td>875910</td>\n",
       "      <td>7842200</td>\n",
       "      <td>19640</td>\n",
       "      <td>51400</td>\n",
       "      <td>384220</td>\n",
       "      <td>420650</td>\n",
       "      <td>2565500</td>\n",
       "      <td>4347900</td>\n",
       "      <td>928800</td>\n",
       "    </tr>\n",
       "    <tr>\n",
       "      <th>1974-01-01</th>\n",
       "      <td>211392000</td>\n",
       "      <td>974720</td>\n",
       "      <td>9278700</td>\n",
       "      <td>20710</td>\n",
       "      <td>55400</td>\n",
       "      <td>442400</td>\n",
       "      <td>456210</td>\n",
       "      <td>3039200</td>\n",
       "      <td>5262500</td>\n",
       "      <td>977100</td>\n",
       "    </tr>\n",
       "    <tr>\n",
       "      <th>1975-01-01</th>\n",
       "      <td>213124000</td>\n",
       "      <td>1039710</td>\n",
       "      <td>10252700</td>\n",
       "      <td>20510</td>\n",
       "      <td>56090</td>\n",
       "      <td>470500</td>\n",
       "      <td>492620</td>\n",
       "      <td>3265300</td>\n",
       "      <td>5977700</td>\n",
       "      <td>1009600</td>\n",
       "    </tr>\n",
       "    <tr>\n",
       "      <th>1976-01-01</th>\n",
       "      <td>214659000</td>\n",
       "      <td>1004210</td>\n",
       "      <td>10345500</td>\n",
       "      <td>18780</td>\n",
       "      <td>57080</td>\n",
       "      <td>427810</td>\n",
       "      <td>500530</td>\n",
       "      <td>3108700</td>\n",
       "      <td>6270800</td>\n",
       "      <td>966000</td>\n",
       "    </tr>\n",
       "    <tr>\n",
       "      <th>1977-01-01</th>\n",
       "      <td>216332000</td>\n",
       "      <td>1029580</td>\n",
       "      <td>9955000</td>\n",
       "      <td>19120</td>\n",
       "      <td>63500</td>\n",
       "      <td>412610</td>\n",
       "      <td>534350</td>\n",
       "      <td>3071500</td>\n",
       "      <td>5905700</td>\n",
       "      <td>977700</td>\n",
       "    </tr>\n",
       "    <tr>\n",
       "      <th>1978-01-01</th>\n",
       "      <td>218059000</td>\n",
       "      <td>1085550</td>\n",
       "      <td>10123400</td>\n",
       "      <td>19560</td>\n",
       "      <td>67610</td>\n",
       "      <td>426930</td>\n",
       "      <td>571460</td>\n",
       "      <td>3128300</td>\n",
       "      <td>5991000</td>\n",
       "      <td>1004100</td>\n",
       "    </tr>\n",
       "    <tr>\n",
       "      <th>1979-01-01</th>\n",
       "      <td>220099000</td>\n",
       "      <td>1208030</td>\n",
       "      <td>11041500</td>\n",
       "      <td>21460</td>\n",
       "      <td>76390</td>\n",
       "      <td>480700</td>\n",
       "      <td>629480</td>\n",
       "      <td>3327700</td>\n",
       "      <td>6601000</td>\n",
       "      <td>1112800</td>\n",
       "    </tr>\n",
       "    <tr>\n",
       "      <th>1980-01-01</th>\n",
       "      <td>225349264</td>\n",
       "      <td>1344520</td>\n",
       "      <td>12063700</td>\n",
       "      <td>23040</td>\n",
       "      <td>82990</td>\n",
       "      <td>565840</td>\n",
       "      <td>672650</td>\n",
       "      <td>3795200</td>\n",
       "      <td>7136900</td>\n",
       "      <td>1131700</td>\n",
       "    </tr>\n",
       "    <tr>\n",
       "      <th>1981-01-01</th>\n",
       "      <td>229146000</td>\n",
       "      <td>1361820</td>\n",
       "      <td>12061900</td>\n",
       "      <td>22520</td>\n",
       "      <td>82500</td>\n",
       "      <td>592910</td>\n",
       "      <td>663900</td>\n",
       "      <td>3779700</td>\n",
       "      <td>7194400</td>\n",
       "      <td>1087800</td>\n",
       "    </tr>\n",
       "    <tr>\n",
       "      <th>1982-01-01</th>\n",
       "      <td>231534000</td>\n",
       "      <td>1322390</td>\n",
       "      <td>11652000</td>\n",
       "      <td>21010</td>\n",
       "      <td>78770</td>\n",
       "      <td>553130</td>\n",
       "      <td>669480</td>\n",
       "      <td>3447100</td>\n",
       "      <td>7142500</td>\n",
       "      <td>1062400</td>\n",
       "    </tr>\n",
       "    <tr>\n",
       "      <th>1983-01-01</th>\n",
       "      <td>233981000</td>\n",
       "      <td>1258090</td>\n",
       "      <td>10850500</td>\n",
       "      <td>19310</td>\n",
       "      <td>78920</td>\n",
       "      <td>506570</td>\n",
       "      <td>653290</td>\n",
       "      <td>3129900</td>\n",
       "      <td>6712800</td>\n",
       "      <td>1007900</td>\n",
       "    </tr>\n",
       "    <tr>\n",
       "      <th>1984-01-01</th>\n",
       "      <td>236158000</td>\n",
       "      <td>1273280</td>\n",
       "      <td>10608500</td>\n",
       "      <td>18690</td>\n",
       "      <td>84230</td>\n",
       "      <td>485010</td>\n",
       "      <td>685350</td>\n",
       "      <td>2984400</td>\n",
       "      <td>6591900</td>\n",
       "      <td>1032200</td>\n",
       "    </tr>\n",
       "    <tr>\n",
       "      <th>1985-01-01</th>\n",
       "      <td>238740000</td>\n",
       "      <td>1328800</td>\n",
       "      <td>11102600</td>\n",
       "      <td>18980</td>\n",
       "      <td>88670</td>\n",
       "      <td>497870</td>\n",
       "      <td>723250</td>\n",
       "      <td>3073300</td>\n",
       "      <td>6926400</td>\n",
       "      <td>1102900</td>\n",
       "    </tr>\n",
       "    <tr>\n",
       "      <th>1986-01-01</th>\n",
       "      <td>240132887</td>\n",
       "      <td>1489169</td>\n",
       "      <td>11722700</td>\n",
       "      <td>20613</td>\n",
       "      <td>91459</td>\n",
       "      <td>542775</td>\n",
       "      <td>834322</td>\n",
       "      <td>3241410</td>\n",
       "      <td>7257153</td>\n",
       "      <td>1224137</td>\n",
       "    </tr>\n",
       "    <tr>\n",
       "      <th>1987-01-01</th>\n",
       "      <td>242282918</td>\n",
       "      <td>1483999</td>\n",
       "      <td>12024700</td>\n",
       "      <td>20096</td>\n",
       "      <td>91110</td>\n",
       "      <td>517704</td>\n",
       "      <td>855088</td>\n",
       "      <td>3236184</td>\n",
       "      <td>7499900</td>\n",
       "      <td>1288674</td>\n",
       "    </tr>\n",
       "    <tr>\n",
       "      <th>1988-01-01</th>\n",
       "      <td>245807000</td>\n",
       "      <td>1566220</td>\n",
       "      <td>12356900</td>\n",
       "      <td>20680</td>\n",
       "      <td>92490</td>\n",
       "      <td>542970</td>\n",
       "      <td>910090</td>\n",
       "      <td>3218100</td>\n",
       "      <td>7705900</td>\n",
       "      <td>1432900</td>\n",
       "    </tr>\n",
       "    <tr>\n",
       "      <th>1989-01-01</th>\n",
       "      <td>248239000</td>\n",
       "      <td>1646040</td>\n",
       "      <td>12605400</td>\n",
       "      <td>21500</td>\n",
       "      <td>94500</td>\n",
       "      <td>578330</td>\n",
       "      <td>951710</td>\n",
       "      <td>3168200</td>\n",
       "      <td>7872400</td>\n",
       "      <td>1564800</td>\n",
       "    </tr>\n",
       "    <tr>\n",
       "      <th>1990-01-01</th>\n",
       "      <td>248709873</td>\n",
       "      <td>1820130</td>\n",
       "      <td>12655500</td>\n",
       "      <td>23440</td>\n",
       "      <td>102560</td>\n",
       "      <td>639270</td>\n",
       "      <td>1054860</td>\n",
       "      <td>3073900</td>\n",
       "      <td>7945700</td>\n",
       "      <td>1635900</td>\n",
       "    </tr>\n",
       "    <tr>\n",
       "      <th>1991-01-01</th>\n",
       "      <td>252177000</td>\n",
       "      <td>1911770</td>\n",
       "      <td>12961100</td>\n",
       "      <td>24700</td>\n",
       "      <td>106590</td>\n",
       "      <td>687730</td>\n",
       "      <td>1092740</td>\n",
       "      <td>3157200</td>\n",
       "      <td>8142200</td>\n",
       "      <td>1661700</td>\n",
       "    </tr>\n",
       "    <tr>\n",
       "      <th>1992-01-01</th>\n",
       "      <td>255082000</td>\n",
       "      <td>1932270</td>\n",
       "      <td>12505900</td>\n",
       "      <td>23760</td>\n",
       "      <td>109060</td>\n",
       "      <td>672480</td>\n",
       "      <td>1126970</td>\n",
       "      <td>2979900</td>\n",
       "      <td>7915200</td>\n",
       "      <td>1610800</td>\n",
       "    </tr>\n",
       "    <tr>\n",
       "      <th>1993-01-01</th>\n",
       "      <td>257908000</td>\n",
       "      <td>1926020</td>\n",
       "      <td>12218800</td>\n",
       "      <td>24530</td>\n",
       "      <td>106010</td>\n",
       "      <td>659870</td>\n",
       "      <td>1135610</td>\n",
       "      <td>2834800</td>\n",
       "      <td>7820900</td>\n",
       "      <td>1563100</td>\n",
       "    </tr>\n",
       "    <tr>\n",
       "      <th>1994-01-01</th>\n",
       "      <td>260341000</td>\n",
       "      <td>1857670</td>\n",
       "      <td>12131900</td>\n",
       "      <td>23330</td>\n",
       "      <td>102220</td>\n",
       "      <td>618950</td>\n",
       "      <td>1113180</td>\n",
       "      <td>2712800</td>\n",
       "      <td>7879800</td>\n",
       "      <td>1539300</td>\n",
       "    </tr>\n",
       "    <tr>\n",
       "      <th>1995-01-01</th>\n",
       "      <td>262755000</td>\n",
       "      <td>1798790</td>\n",
       "      <td>12063900</td>\n",
       "      <td>21610</td>\n",
       "      <td>97470</td>\n",
       "      <td>580510</td>\n",
       "      <td>1099210</td>\n",
       "      <td>2593800</td>\n",
       "      <td>7997700</td>\n",
       "      <td>1472400</td>\n",
       "    </tr>\n",
       "    <tr>\n",
       "      <th>1996-01-01</th>\n",
       "      <td>265228572</td>\n",
       "      <td>1688540</td>\n",
       "      <td>11805300</td>\n",
       "      <td>19650</td>\n",
       "      <td>96250</td>\n",
       "      <td>535590</td>\n",
       "      <td>1037050</td>\n",
       "      <td>2506400</td>\n",
       "      <td>7904700</td>\n",
       "      <td>1394200</td>\n",
       "    </tr>\n",
       "    <tr>\n",
       "      <th>1997-01-01</th>\n",
       "      <td>267637000</td>\n",
       "      <td>1634770</td>\n",
       "      <td>11558175</td>\n",
       "      <td>18208</td>\n",
       "      <td>96153</td>\n",
       "      <td>498534</td>\n",
       "      <td>1023201</td>\n",
       "      <td>2460526</td>\n",
       "      <td>7743760</td>\n",
       "      <td>1354189</td>\n",
       "    </tr>\n",
       "    <tr>\n",
       "      <th>1998-01-01</th>\n",
       "      <td>270296000</td>\n",
       "      <td>1531044</td>\n",
       "      <td>10944590</td>\n",
       "      <td>16914</td>\n",
       "      <td>93103</td>\n",
       "      <td>446625</td>\n",
       "      <td>974402</td>\n",
       "      <td>2329950</td>\n",
       "      <td>7373886</td>\n",
       "      <td>1240754</td>\n",
       "    </tr>\n",
       "    <tr>\n",
       "      <th>1999-01-01</th>\n",
       "      <td>272690813</td>\n",
       "      <td>1426044</td>\n",
       "      <td>10208334</td>\n",
       "      <td>15522</td>\n",
       "      <td>89411</td>\n",
       "      <td>409371</td>\n",
       "      <td>911740</td>\n",
       "      <td>2100739</td>\n",
       "      <td>6955520</td>\n",
       "      <td>1152075</td>\n",
       "    </tr>\n",
       "    <tr>\n",
       "      <th>2000-01-01</th>\n",
       "      <td>281421906</td>\n",
       "      <td>1425486</td>\n",
       "      <td>10182586</td>\n",
       "      <td>15586</td>\n",
       "      <td>90178</td>\n",
       "      <td>408016</td>\n",
       "      <td>911706</td>\n",
       "      <td>2050992</td>\n",
       "      <td>6971590</td>\n",
       "      <td>1160002</td>\n",
       "    </tr>\n",
       "    <tr>\n",
       "      <th>2001-01-01</th>\n",
       "      <td>285317559</td>\n",
       "      <td>1439480</td>\n",
       "      <td>10437480</td>\n",
       "      <td>16037</td>\n",
       "      <td>90863</td>\n",
       "      <td>423557</td>\n",
       "      <td>909023</td>\n",
       "      <td>2116531</td>\n",
       "      <td>7092267</td>\n",
       "      <td>1228391</td>\n",
       "    </tr>\n",
       "    <tr>\n",
       "      <th>2002-01-01</th>\n",
       "      <td>287973924</td>\n",
       "      <td>1423677</td>\n",
       "      <td>10455277</td>\n",
       "      <td>16229</td>\n",
       "      <td>95235</td>\n",
       "      <td>420806</td>\n",
       "      <td>891407</td>\n",
       "      <td>2151252</td>\n",
       "      <td>7057370</td>\n",
       "      <td>1246646</td>\n",
       "    </tr>\n",
       "    <tr>\n",
       "      <th>2003-01-01</th>\n",
       "      <td>290690788</td>\n",
       "      <td>1383676</td>\n",
       "      <td>10442862</td>\n",
       "      <td>16528</td>\n",
       "      <td>93883</td>\n",
       "      <td>414235</td>\n",
       "      <td>859030</td>\n",
       "      <td>2154834</td>\n",
       "      <td>7026802</td>\n",
       "      <td>1261226</td>\n",
       "    </tr>\n",
       "    <tr>\n",
       "      <th>2004-01-01</th>\n",
       "      <td>293656842</td>\n",
       "      <td>1360088</td>\n",
       "      <td>10319386</td>\n",
       "      <td>16148</td>\n",
       "      <td>95089</td>\n",
       "      <td>401470</td>\n",
       "      <td>847381</td>\n",
       "      <td>2144446</td>\n",
       "      <td>6937089</td>\n",
       "      <td>1237851</td>\n",
       "    </tr>\n",
       "    <tr>\n",
       "      <th>2005-01-01</th>\n",
       "      <td>296507061</td>\n",
       "      <td>1390745</td>\n",
       "      <td>10174754</td>\n",
       "      <td>16740</td>\n",
       "      <td>94347</td>\n",
       "      <td>417438</td>\n",
       "      <td>862220</td>\n",
       "      <td>2155448</td>\n",
       "      <td>6783447</td>\n",
       "      <td>1235859</td>\n",
       "    </tr>\n",
       "    <tr>\n",
       "      <th>2006-01-01</th>\n",
       "      <td>299398484</td>\n",
       "      <td>1418043</td>\n",
       "      <td>9983568</td>\n",
       "      <td>17030</td>\n",
       "      <td>92757</td>\n",
       "      <td>447403</td>\n",
       "      <td>860853</td>\n",
       "      <td>2183746</td>\n",
       "      <td>6607013</td>\n",
       "      <td>1192809</td>\n",
       "    </tr>\n",
       "    <tr>\n",
       "      <th>2007-01-01</th>\n",
       "      <td>301621157</td>\n",
       "      <td>1408337</td>\n",
       "      <td>9843481</td>\n",
       "      <td>16929</td>\n",
       "      <td>90427</td>\n",
       "      <td>445125</td>\n",
       "      <td>855856</td>\n",
       "      <td>2176140</td>\n",
       "      <td>6568572</td>\n",
       "      <td>1095769</td>\n",
       "    </tr>\n",
       "    <tr>\n",
       "      <th>2008-01-01</th>\n",
       "      <td>304374846</td>\n",
       "      <td>1392628</td>\n",
       "      <td>9767915</td>\n",
       "      <td>16442</td>\n",
       "      <td>90479</td>\n",
       "      <td>443574</td>\n",
       "      <td>842134</td>\n",
       "      <td>2228474</td>\n",
       "      <td>6588046</td>\n",
       "      <td>958629</td>\n",
       "    </tr>\n",
       "    <tr>\n",
       "      <th>2009-01-01</th>\n",
       "      <td>307006550</td>\n",
       "      <td>1325896</td>\n",
       "      <td>9337060</td>\n",
       "      <td>15399</td>\n",
       "      <td>89241</td>\n",
       "      <td>408742</td>\n",
       "      <td>812514</td>\n",
       "      <td>2203313</td>\n",
       "      <td>6338095</td>\n",
       "      <td>795652</td>\n",
       "    </tr>\n",
       "    <tr>\n",
       "      <th>2010-01-01</th>\n",
       "      <td>309330219</td>\n",
       "      <td>1251248</td>\n",
       "      <td>9112625</td>\n",
       "      <td>14772</td>\n",
       "      <td>85593</td>\n",
       "      <td>369089</td>\n",
       "      <td>781844</td>\n",
       "      <td>2168457</td>\n",
       "      <td>6204601</td>\n",
       "      <td>739565</td>\n",
       "    </tr>\n",
       "    <tr>\n",
       "      <th>2011-01-01</th>\n",
       "      <td>311587816</td>\n",
       "      <td>1206031</td>\n",
       "      <td>9052743</td>\n",
       "      <td>14661</td>\n",
       "      <td>84175</td>\n",
       "      <td>354772</td>\n",
       "      <td>752423</td>\n",
       "      <td>2185140</td>\n",
       "      <td>6151095</td>\n",
       "      <td>716508</td>\n",
       "    </tr>\n",
       "    <tr>\n",
       "      <th>2012-01-01</th>\n",
       "      <td>313873685</td>\n",
       "      <td>1217067</td>\n",
       "      <td>9001992</td>\n",
       "      <td>14866</td>\n",
       "      <td>85141</td>\n",
       "      <td>355051</td>\n",
       "      <td>762009</td>\n",
       "      <td>2109932</td>\n",
       "      <td>6168874</td>\n",
       "      <td>723186</td>\n",
       "    </tr>\n",
       "    <tr>\n",
       "      <th>2013-01-01</th>\n",
       "      <td>316497531</td>\n",
       "      <td>1199684</td>\n",
       "      <td>8650761</td>\n",
       "      <td>14319</td>\n",
       "      <td>82109</td>\n",
       "      <td>345095</td>\n",
       "      <td>726575</td>\n",
       "      <td>1931835</td>\n",
       "      <td>6018632</td>\n",
       "      <td>700294</td>\n",
       "    </tr>\n",
       "    <tr>\n",
       "      <th>2014-01-01</th>\n",
       "      <td>318857056</td>\n",
       "      <td>1197987</td>\n",
       "      <td>8277829</td>\n",
       "      <td>14249</td>\n",
       "      <td>84041</td>\n",
       "      <td>325802</td>\n",
       "      <td>741291</td>\n",
       "      <td>1729806</td>\n",
       "      <td>5858496</td>\n",
       "      <td>689527</td>\n",
       "    </tr>\n",
       "  </tbody>\n",
       "</table>\n",
       "</div>"
      ],
      "text/plain": [
       "            Population  Violent  Property  Murder  Forcible_Rape  Robbery  \\\n",
       "Year                                                                        \n",
       "1960-01-01   179323175   288460   3095700    9110          17190   107840   \n",
       "1961-01-01   182992000   289390   3198600    8740          17220   106670   \n",
       "1962-01-01   185771000   301510   3450700    8530          17550   110860   \n",
       "1963-01-01   188483000   316970   3792500    8640          17650   116470   \n",
       "1964-01-01   191141000   364220   4200400    9360          21420   130390   \n",
       "1965-01-01   193526000   387390   4352000    9960          23410   138690   \n",
       "1966-01-01   195576000   430180   4793300   11040          25820   157990   \n",
       "1967-01-01   197457000   499930   5403500   12240          27620   202910   \n",
       "1968-01-01   199399000   595010   6125200   13800          31670   262840   \n",
       "1969-01-01   201385000   661870   6749000   14760          37170   298850   \n",
       "1970-01-01   203235298   738820   7359200   16000          37990   349860   \n",
       "1971-01-01   206212000   816500   7771700   17780          42260   387700   \n",
       "1972-01-01   208230000   834900   7413900   18670          46850   376290   \n",
       "1973-01-01   209851000   875910   7842200   19640          51400   384220   \n",
       "1974-01-01   211392000   974720   9278700   20710          55400   442400   \n",
       "1975-01-01   213124000  1039710  10252700   20510          56090   470500   \n",
       "1976-01-01   214659000  1004210  10345500   18780          57080   427810   \n",
       "1977-01-01   216332000  1029580   9955000   19120          63500   412610   \n",
       "1978-01-01   218059000  1085550  10123400   19560          67610   426930   \n",
       "1979-01-01   220099000  1208030  11041500   21460          76390   480700   \n",
       "1980-01-01   225349264  1344520  12063700   23040          82990   565840   \n",
       "1981-01-01   229146000  1361820  12061900   22520          82500   592910   \n",
       "1982-01-01   231534000  1322390  11652000   21010          78770   553130   \n",
       "1983-01-01   233981000  1258090  10850500   19310          78920   506570   \n",
       "1984-01-01   236158000  1273280  10608500   18690          84230   485010   \n",
       "1985-01-01   238740000  1328800  11102600   18980          88670   497870   \n",
       "1986-01-01   240132887  1489169  11722700   20613          91459   542775   \n",
       "1987-01-01   242282918  1483999  12024700   20096          91110   517704   \n",
       "1988-01-01   245807000  1566220  12356900   20680          92490   542970   \n",
       "1989-01-01   248239000  1646040  12605400   21500          94500   578330   \n",
       "1990-01-01   248709873  1820130  12655500   23440         102560   639270   \n",
       "1991-01-01   252177000  1911770  12961100   24700         106590   687730   \n",
       "1992-01-01   255082000  1932270  12505900   23760         109060   672480   \n",
       "1993-01-01   257908000  1926020  12218800   24530         106010   659870   \n",
       "1994-01-01   260341000  1857670  12131900   23330         102220   618950   \n",
       "1995-01-01   262755000  1798790  12063900   21610          97470   580510   \n",
       "1996-01-01   265228572  1688540  11805300   19650          96250   535590   \n",
       "1997-01-01   267637000  1634770  11558175   18208          96153   498534   \n",
       "1998-01-01   270296000  1531044  10944590   16914          93103   446625   \n",
       "1999-01-01   272690813  1426044  10208334   15522          89411   409371   \n",
       "2000-01-01   281421906  1425486  10182586   15586          90178   408016   \n",
       "2001-01-01   285317559  1439480  10437480   16037          90863   423557   \n",
       "2002-01-01   287973924  1423677  10455277   16229          95235   420806   \n",
       "2003-01-01   290690788  1383676  10442862   16528          93883   414235   \n",
       "2004-01-01   293656842  1360088  10319386   16148          95089   401470   \n",
       "2005-01-01   296507061  1390745  10174754   16740          94347   417438   \n",
       "2006-01-01   299398484  1418043   9983568   17030          92757   447403   \n",
       "2007-01-01   301621157  1408337   9843481   16929          90427   445125   \n",
       "2008-01-01   304374846  1392628   9767915   16442          90479   443574   \n",
       "2009-01-01   307006550  1325896   9337060   15399          89241   408742   \n",
       "2010-01-01   309330219  1251248   9112625   14772          85593   369089   \n",
       "2011-01-01   311587816  1206031   9052743   14661          84175   354772   \n",
       "2012-01-01   313873685  1217067   9001992   14866          85141   355051   \n",
       "2013-01-01   316497531  1199684   8650761   14319          82109   345095   \n",
       "2014-01-01   318857056  1197987   8277829   14249          84041   325802   \n",
       "\n",
       "            Aggravated_assault  Burglary  Larceny_Theft  Vehicle_Theft  \n",
       "Year                                                                    \n",
       "1960-01-01              154320    912100        1855400         328200  \n",
       "1961-01-01              156760    949600        1913000         336000  \n",
       "1962-01-01              164570    994300        2089600         366800  \n",
       "1963-01-01              174210   1086400        2297800         408300  \n",
       "1964-01-01              203050   1213200        2514400         472800  \n",
       "1965-01-01              215330   1282500        2572600         496900  \n",
       "1966-01-01              235330   1410100        2822000         561200  \n",
       "1967-01-01              257160   1632100        3111600         659800  \n",
       "1968-01-01              286700   1858900        3482700         783600  \n",
       "1969-01-01              311090   1981900        3888600         878500  \n",
       "1970-01-01              334970   2205000        4225800         928400  \n",
       "1971-01-01              368760   2399300        4424200         948200  \n",
       "1972-01-01              393090   2375500        4151200         887200  \n",
       "1973-01-01              420650   2565500        4347900         928800  \n",
       "1974-01-01              456210   3039200        5262500         977100  \n",
       "1975-01-01              492620   3265300        5977700        1009600  \n",
       "1976-01-01              500530   3108700        6270800         966000  \n",
       "1977-01-01              534350   3071500        5905700         977700  \n",
       "1978-01-01              571460   3128300        5991000        1004100  \n",
       "1979-01-01              629480   3327700        6601000        1112800  \n",
       "1980-01-01              672650   3795200        7136900        1131700  \n",
       "1981-01-01              663900   3779700        7194400        1087800  \n",
       "1982-01-01              669480   3447100        7142500        1062400  \n",
       "1983-01-01              653290   3129900        6712800        1007900  \n",
       "1984-01-01              685350   2984400        6591900        1032200  \n",
       "1985-01-01              723250   3073300        6926400        1102900  \n",
       "1986-01-01              834322   3241410        7257153        1224137  \n",
       "1987-01-01              855088   3236184        7499900        1288674  \n",
       "1988-01-01              910090   3218100        7705900        1432900  \n",
       "1989-01-01              951710   3168200        7872400        1564800  \n",
       "1990-01-01             1054860   3073900        7945700        1635900  \n",
       "1991-01-01             1092740   3157200        8142200        1661700  \n",
       "1992-01-01             1126970   2979900        7915200        1610800  \n",
       "1993-01-01             1135610   2834800        7820900        1563100  \n",
       "1994-01-01             1113180   2712800        7879800        1539300  \n",
       "1995-01-01             1099210   2593800        7997700        1472400  \n",
       "1996-01-01             1037050   2506400        7904700        1394200  \n",
       "1997-01-01             1023201   2460526        7743760        1354189  \n",
       "1998-01-01              974402   2329950        7373886        1240754  \n",
       "1999-01-01              911740   2100739        6955520        1152075  \n",
       "2000-01-01              911706   2050992        6971590        1160002  \n",
       "2001-01-01              909023   2116531        7092267        1228391  \n",
       "2002-01-01              891407   2151252        7057370        1246646  \n",
       "2003-01-01              859030   2154834        7026802        1261226  \n",
       "2004-01-01              847381   2144446        6937089        1237851  \n",
       "2005-01-01              862220   2155448        6783447        1235859  \n",
       "2006-01-01              860853   2183746        6607013        1192809  \n",
       "2007-01-01              855856   2176140        6568572        1095769  \n",
       "2008-01-01              842134   2228474        6588046         958629  \n",
       "2009-01-01              812514   2203313        6338095         795652  \n",
       "2010-01-01              781844   2168457        6204601         739565  \n",
       "2011-01-01              752423   2185140        6151095         716508  \n",
       "2012-01-01              762009   2109932        6168874         723186  \n",
       "2013-01-01              726575   1931835        6018632         700294  \n",
       "2014-01-01              741291   1729806        5858496         689527  "
      ]
     },
     "execution_count": 39,
     "metadata": {},
     "output_type": "execute_result"
    }
   ],
   "source": [
    "crime.drop(columns='Total')"
   ]
  },
  {
   "cell_type": "markdown",
   "metadata": {
    "id": "lLGD7y1AKYCK"
   },
   "source": [
    "Step 5. Group the year by decades and sum the values.\n",
    "\n",
    "***Pay attention to the Population column number, summing this column is a mistake***"
   ]
  },
  {
   "cell_type": "code",
   "execution_count": 40,
   "metadata": {
    "id": "NPTcpgq7KcPX"
   },
   "outputs": [
    {
     "data": {
      "text/html": [
       "<div>\n",
       "<style scoped>\n",
       "    .dataframe tbody tr th:only-of-type {\n",
       "        vertical-align: middle;\n",
       "    }\n",
       "\n",
       "    .dataframe tbody tr th {\n",
       "        vertical-align: top;\n",
       "    }\n",
       "\n",
       "    .dataframe thead th {\n",
       "        text-align: right;\n",
       "    }\n",
       "</style>\n",
       "<table border=\"1\" class=\"dataframe\">\n",
       "  <thead>\n",
       "    <tr style=\"text-align: right;\">\n",
       "      <th></th>\n",
       "      <th>Population</th>\n",
       "      <th>Total</th>\n",
       "      <th>Violent</th>\n",
       "      <th>Property</th>\n",
       "      <th>Murder</th>\n",
       "      <th>Forcible_Rape</th>\n",
       "      <th>Robbery</th>\n",
       "      <th>Aggravated_assault</th>\n",
       "      <th>Burglary</th>\n",
       "      <th>Larceny_Theft</th>\n",
       "      <th>Vehicle_Theft</th>\n",
       "    </tr>\n",
       "    <tr>\n",
       "      <th>Year</th>\n",
       "      <th></th>\n",
       "      <th></th>\n",
       "      <th></th>\n",
       "      <th></th>\n",
       "      <th></th>\n",
       "      <th></th>\n",
       "      <th></th>\n",
       "      <th></th>\n",
       "      <th></th>\n",
       "      <th></th>\n",
       "      <th></th>\n",
       "    </tr>\n",
       "  </thead>\n",
       "  <tbody>\n",
       "    <tr>\n",
       "      <th>1960-01-01</th>\n",
       "      <td>201385000</td>\n",
       "      <td>49295900</td>\n",
       "      <td>4134930</td>\n",
       "      <td>45160900</td>\n",
       "      <td>106180</td>\n",
       "      <td>236720</td>\n",
       "      <td>1633510</td>\n",
       "      <td>2158520</td>\n",
       "      <td>13321100</td>\n",
       "      <td>26547700</td>\n",
       "      <td>5292100</td>\n",
       "    </tr>\n",
       "    <tr>\n",
       "      <th>1970-01-01</th>\n",
       "      <td>220099000</td>\n",
       "      <td>100991600</td>\n",
       "      <td>9607930</td>\n",
       "      <td>91383800</td>\n",
       "      <td>192230</td>\n",
       "      <td>554570</td>\n",
       "      <td>4159020</td>\n",
       "      <td>4702120</td>\n",
       "      <td>28486000</td>\n",
       "      <td>53157800</td>\n",
       "      <td>9739900</td>\n",
       "    </tr>\n",
       "    <tr>\n",
       "      <th>1980-01-01</th>\n",
       "      <td>248239000</td>\n",
       "      <td>131123369</td>\n",
       "      <td>14074328</td>\n",
       "      <td>117048900</td>\n",
       "      <td>206439</td>\n",
       "      <td>865639</td>\n",
       "      <td>5383109</td>\n",
       "      <td>7619130</td>\n",
       "      <td>33073494</td>\n",
       "      <td>72040253</td>\n",
       "      <td>11935411</td>\n",
       "    </tr>\n",
       "    <tr>\n",
       "      <th>1990-01-01</th>\n",
       "      <td>272690813</td>\n",
       "      <td>136582146</td>\n",
       "      <td>17527048</td>\n",
       "      <td>119053499</td>\n",
       "      <td>211664</td>\n",
       "      <td>998827</td>\n",
       "      <td>5748930</td>\n",
       "      <td>10568963</td>\n",
       "      <td>26750015</td>\n",
       "      <td>77679366</td>\n",
       "      <td>14624418</td>\n",
       "    </tr>\n",
       "    <tr>\n",
       "      <th>2000-01-01</th>\n",
       "      <td>307006550</td>\n",
       "      <td>115012044</td>\n",
       "      <td>13968056</td>\n",
       "      <td>100944369</td>\n",
       "      <td>163068</td>\n",
       "      <td>922499</td>\n",
       "      <td>4230366</td>\n",
       "      <td>8652124</td>\n",
       "      <td>21565176</td>\n",
       "      <td>67970291</td>\n",
       "      <td>11412834</td>\n",
       "    </tr>\n",
       "    <tr>\n",
       "      <th>2010-01-01</th>\n",
       "      <td>318857056</td>\n",
       "      <td>50167967</td>\n",
       "      <td>6072017</td>\n",
       "      <td>44095950</td>\n",
       "      <td>72867</td>\n",
       "      <td>421059</td>\n",
       "      <td>1749809</td>\n",
       "      <td>3764142</td>\n",
       "      <td>10125170</td>\n",
       "      <td>30401698</td>\n",
       "      <td>3569080</td>\n",
       "    </tr>\n",
       "  </tbody>\n",
       "</table>\n",
       "</div>"
      ],
      "text/plain": [
       "            Population      Total   Violent   Property  Murder  Forcible_Rape  \\\n",
       "Year                                                                            \n",
       "1960-01-01   201385000   49295900   4134930   45160900  106180         236720   \n",
       "1970-01-01   220099000  100991600   9607930   91383800  192230         554570   \n",
       "1980-01-01   248239000  131123369  14074328  117048900  206439         865639   \n",
       "1990-01-01   272690813  136582146  17527048  119053499  211664         998827   \n",
       "2000-01-01   307006550  115012044  13968056  100944369  163068         922499   \n",
       "2010-01-01   318857056   50167967   6072017   44095950   72867         421059   \n",
       "\n",
       "            Robbery  Aggravated_assault  Burglary  Larceny_Theft  \\\n",
       "Year                                                               \n",
       "1960-01-01  1633510             2158520  13321100       26547700   \n",
       "1970-01-01  4159020             4702120  28486000       53157800   \n",
       "1980-01-01  5383109             7619130  33073494       72040253   \n",
       "1990-01-01  5748930            10568963  26750015       77679366   \n",
       "2000-01-01  4230366             8652124  21565176       67970291   \n",
       "2010-01-01  1749809             3764142  10125170       30401698   \n",
       "\n",
       "            Vehicle_Theft  \n",
       "Year                       \n",
       "1960-01-01        5292100  \n",
       "1970-01-01        9739900  \n",
       "1980-01-01       11935411  \n",
       "1990-01-01       14624418  \n",
       "2000-01-01       11412834  \n",
       "2010-01-01        3569080  "
      ]
     },
     "execution_count": 40,
     "metadata": {},
     "output_type": "execute_result"
    }
   ],
   "source": [
    "# To learn more about .resample (https://pandas.pydata.org/pandas-docs/stable/generated/pandas.DataFrame.resample.html)\n",
    "# To learn more about Offset Aliases (http://pandas.pydata.org/pandas-docs/stable/timeseries.html#offset-aliases)\n",
    "\n",
    "# Uses resample to sum each decade\n",
    "decade_sum = crime.resample('10AS').sum()\n",
    "\n",
    "# Uses resample to get the max value only for the \"Population\" column\n",
    "decade_population_max = crime['Population'].resample('10AS').max()\n",
    "\n",
    "# Updating the \"Population\" column\n",
    "decade_sum['Population'] = decade_population_max\n",
    "decade_sum"
   ]
  },
  {
   "cell_type": "markdown",
   "metadata": {
    "id": "aL0-3izoKtdi"
   },
   "source": [
    "Bonus Question: What is the most dangerous decade to live in the US?"
   ]
  },
  {
   "cell_type": "code",
   "execution_count": 41,
   "metadata": {
    "id": "f69hQhqyKyA6"
   },
   "outputs": [
    {
     "name": "stdout",
     "output_type": "stream",
     "text": [
      "The most dangerous decade to live in the US is the 1990s with 17527048 violent crimes.\n"
     ]
    }
   ],
   "source": [
    "# Find the decade with the highest total number of violent crimes\n",
    "most_dangerous_decade = decade_sum['Violent'].idxmax()\n",
    "most_violent_crimes = decade_sum['Violent'].max()\n",
    "\n",
    "print(f\"The most dangerous decade to live in the US is the {most_dangerous_decade.year}s with {most_violent_crimes} violent crimes.\")"
   ]
  },
  {
   "cell_type": "markdown",
   "metadata": {
    "id": "BwuL9FjwLdiE"
   },
   "source": [
    "### **PART 5 - MERGE/JOIN**"
   ]
  },
  {
   "cell_type": "markdown",
   "metadata": {
    "id": "50Z5E0mdLhc9"
   },
   "source": [
    "For this one, we will create our own dataset. Yayy ✨"
   ]
  },
  {
   "cell_type": "markdown",
   "metadata": {
    "id": "oQlSC7XkMUK7"
   },
   "source": [
    "We will be dealing with both Numpy and Pandas in this one.\n",
    "\n",
    "Step 1. Import the necessary libraries"
   ]
  },
  {
   "cell_type": "code",
   "execution_count": 42,
   "metadata": {
    "id": "rzFrJ628Lg4s"
   },
   "outputs": [],
   "source": [
    "import numpy as np\n",
    "import pandas as pd"
   ]
  },
  {
   "cell_type": "markdown",
   "metadata": {
    "id": "rEbB1gibMdzW"
   },
   "source": [
    "Step 2. **Create 3 differents Series, each of length 100, as follows:**\n",
    "\n",
    "1. The first a random number from 1 to 4\n",
    "\n",
    "2. The second a random number from 1 to 3\n",
    "\n",
    "3. The third a random number from 10,000 to 30,000"
   ]
  },
  {
   "cell_type": "code",
   "execution_count": 43,
   "metadata": {
    "id": "YvIeY7FtMoA_"
   },
   "outputs": [
    {
     "name": "stdout",
     "output_type": "stream",
     "text": [
      "Series s1:\n",
      " 0    4\n",
      "1    1\n",
      "2    1\n",
      "3    4\n",
      "4    3\n",
      "Name: s1, dtype: int32 \n",
      "\n",
      "Series s2:\n",
      " 0    2\n",
      "1    3\n",
      "2    1\n",
      "3    3\n",
      "4    2\n",
      "Name: s2, dtype: int32 \n",
      "\n",
      "Series s3:\n",
      " 0    21847\n",
      "1    20107\n",
      "2    10858\n",
      "3    19216\n",
      "4    13252\n",
      "Name: s3, dtype: int32 \n",
      "\n"
     ]
    }
   ],
   "source": [
    "#name them s1,s2,s3\n",
    "# Create 3 different Series\n",
    "# First series: random numbers from 1 to 4\n",
    "s1 = pd.Series(np.random.randint(1, 5, size=100), name=\"s1\")\n",
    "\n",
    "# Second series: random numbers from 1 to 3\n",
    "s2 = pd.Series(np.random.randint(1, 4, size=100), name=\"s2\")\n",
    "\n",
    "# Third series: random numbers from 10,000 to 30,000\n",
    "s3 = pd.Series(np.random.randint(10000, 30001, size=100), name=\"s3\")\n",
    "\n",
    "print(\"Series s1:\\n\", s1.head(), \"\\n\")\n",
    "print(\"Series s2:\\n\", s2.head(), \"\\n\")\n",
    "print(\"Series s3:\\n\", s3.head(), \"\\n\")\n"
   ]
  },
  {
   "cell_type": "markdown",
   "metadata": {
    "id": "dOLtPRsjMqxu"
   },
   "source": [
    "Step 3. Let's create a DataFrame by joinning the Series by column."
   ]
  },
  {
   "cell_type": "code",
   "execution_count": 44,
   "metadata": {
    "id": "blg2KwThMwsG"
   },
   "outputs": [
    {
     "data": {
      "text/html": [
       "<div>\n",
       "<style scoped>\n",
       "    .dataframe tbody tr th:only-of-type {\n",
       "        vertical-align: middle;\n",
       "    }\n",
       "\n",
       "    .dataframe tbody tr th {\n",
       "        vertical-align: top;\n",
       "    }\n",
       "\n",
       "    .dataframe thead th {\n",
       "        text-align: right;\n",
       "    }\n",
       "</style>\n",
       "<table border=\"1\" class=\"dataframe\">\n",
       "  <thead>\n",
       "    <tr style=\"text-align: right;\">\n",
       "      <th></th>\n",
       "      <th>s1</th>\n",
       "      <th>s2</th>\n",
       "      <th>s3</th>\n",
       "    </tr>\n",
       "  </thead>\n",
       "  <tbody>\n",
       "    <tr>\n",
       "      <th>0</th>\n",
       "      <td>4</td>\n",
       "      <td>2</td>\n",
       "      <td>21847</td>\n",
       "    </tr>\n",
       "    <tr>\n",
       "      <th>1</th>\n",
       "      <td>1</td>\n",
       "      <td>3</td>\n",
       "      <td>20107</td>\n",
       "    </tr>\n",
       "    <tr>\n",
       "      <th>2</th>\n",
       "      <td>1</td>\n",
       "      <td>1</td>\n",
       "      <td>10858</td>\n",
       "    </tr>\n",
       "    <tr>\n",
       "      <th>3</th>\n",
       "      <td>4</td>\n",
       "      <td>3</td>\n",
       "      <td>19216</td>\n",
       "    </tr>\n",
       "    <tr>\n",
       "      <th>4</th>\n",
       "      <td>3</td>\n",
       "      <td>2</td>\n",
       "      <td>13252</td>\n",
       "    </tr>\n",
       "  </tbody>\n",
       "</table>\n",
       "</div>"
      ],
      "text/plain": [
       "   s1  s2     s3\n",
       "0   4   2  21847\n",
       "1   1   3  20107\n",
       "2   1   1  10858\n",
       "3   4   3  19216\n",
       "4   3   2  13252"
      ]
     },
     "execution_count": 44,
     "metadata": {},
     "output_type": "execute_result"
    }
   ],
   "source": [
    "#try concat, but figure out the axis on your own :)\n",
    "df = pd.concat([s1, s2, s3], axis=1)\n",
    "df.head()"
   ]
  },
  {
   "cell_type": "markdown",
   "metadata": {
    "id": "BlhZlpa6M0Ao"
   },
   "source": [
    "Step 4. Change the name of the columns to bedrs, bathrs, price_sqr_meter"
   ]
  },
  {
   "cell_type": "code",
   "execution_count": 45,
   "metadata": {
    "id": "kKnzueLXM2Hd"
   },
   "outputs": [
    {
     "data": {
      "text/html": [
       "<div>\n",
       "<style scoped>\n",
       "    .dataframe tbody tr th:only-of-type {\n",
       "        vertical-align: middle;\n",
       "    }\n",
       "\n",
       "    .dataframe tbody tr th {\n",
       "        vertical-align: top;\n",
       "    }\n",
       "\n",
       "    .dataframe thead th {\n",
       "        text-align: right;\n",
       "    }\n",
       "</style>\n",
       "<table border=\"1\" class=\"dataframe\">\n",
       "  <thead>\n",
       "    <tr style=\"text-align: right;\">\n",
       "      <th></th>\n",
       "      <th>bedrs</th>\n",
       "      <th>bathrs</th>\n",
       "      <th>price_sqr_meter</th>\n",
       "    </tr>\n",
       "  </thead>\n",
       "  <tbody>\n",
       "    <tr>\n",
       "      <th>0</th>\n",
       "      <td>4</td>\n",
       "      <td>2</td>\n",
       "      <td>21847</td>\n",
       "    </tr>\n",
       "    <tr>\n",
       "      <th>1</th>\n",
       "      <td>1</td>\n",
       "      <td>3</td>\n",
       "      <td>20107</td>\n",
       "    </tr>\n",
       "    <tr>\n",
       "      <th>2</th>\n",
       "      <td>1</td>\n",
       "      <td>1</td>\n",
       "      <td>10858</td>\n",
       "    </tr>\n",
       "    <tr>\n",
       "      <th>3</th>\n",
       "      <td>4</td>\n",
       "      <td>3</td>\n",
       "      <td>19216</td>\n",
       "    </tr>\n",
       "    <tr>\n",
       "      <th>4</th>\n",
       "      <td>3</td>\n",
       "      <td>2</td>\n",
       "      <td>13252</td>\n",
       "    </tr>\n",
       "  </tbody>\n",
       "</table>\n",
       "</div>"
      ],
      "text/plain": [
       "   bedrs  bathrs  price_sqr_meter\n",
       "0      4       2            21847\n",
       "1      1       3            20107\n",
       "2      1       1            10858\n",
       "3      4       3            19216\n",
       "4      3       2            13252"
      ]
     },
     "execution_count": 45,
     "metadata": {},
     "output_type": "execute_result"
    }
   ],
   "source": [
    "# Rename the columns\n",
    "df.columns = ['bedrs', 'bathrs', 'price_sqr_meter']\n",
    "\n",
    "# Display the DataFrame with new column names\n",
    "df.head()"
   ]
  },
  {
   "cell_type": "markdown",
   "metadata": {
    "id": "cPh1av2KM2iA"
   },
   "source": [
    "Step 5. Create a one column DataFrame with the values of the 3 Series and assign it to 'bigcolumn'"
   ]
  },
  {
   "cell_type": "code",
   "execution_count": 46,
   "metadata": {
    "id": "3ipK5WkAM6J6"
   },
   "outputs": [],
   "source": [
    "#join concat the values but still change the series into a food as well\n",
    "# Concatenate the values of the 3 Series along rows\n",
    "bigcolumn = pd.concat([s1, s2, s3], axis=0)\n",
    "\n",
    "# Convert the result into a DataFrame\n",
    "bigcolumn = bigcolumn.to_frame(name='bigcolumn')\n"
   ]
  },
  {
   "cell_type": "markdown",
   "metadata": {
    "id": "CpjoY66-M_jo"
   },
   "source": [
    "Oops, it seems it is going only until index 99. Is it true?"
   ]
  },
  {
   "cell_type": "code",
   "execution_count": 47,
   "metadata": {
    "id": "SiwTsOUENBYP"
   },
   "outputs": [
    {
     "data": {
      "text/html": [
       "<div>\n",
       "<style scoped>\n",
       "    .dataframe tbody tr th:only-of-type {\n",
       "        vertical-align: middle;\n",
       "    }\n",
       "\n",
       "    .dataframe tbody tr th {\n",
       "        vertical-align: top;\n",
       "    }\n",
       "\n",
       "    .dataframe thead th {\n",
       "        text-align: right;\n",
       "    }\n",
       "</style>\n",
       "<table border=\"1\" class=\"dataframe\">\n",
       "  <thead>\n",
       "    <tr style=\"text-align: right;\">\n",
       "      <th></th>\n",
       "      <th>bigcolumn</th>\n",
       "    </tr>\n",
       "  </thead>\n",
       "  <tbody>\n",
       "    <tr>\n",
       "      <th>0</th>\n",
       "      <td>4</td>\n",
       "    </tr>\n",
       "    <tr>\n",
       "      <th>1</th>\n",
       "      <td>1</td>\n",
       "    </tr>\n",
       "    <tr>\n",
       "      <th>2</th>\n",
       "      <td>1</td>\n",
       "    </tr>\n",
       "    <tr>\n",
       "      <th>3</th>\n",
       "      <td>4</td>\n",
       "    </tr>\n",
       "    <tr>\n",
       "      <th>4</th>\n",
       "      <td>3</td>\n",
       "    </tr>\n",
       "    <tr>\n",
       "      <th>...</th>\n",
       "      <td>...</td>\n",
       "    </tr>\n",
       "    <tr>\n",
       "      <th>95</th>\n",
       "      <td>23878</td>\n",
       "    </tr>\n",
       "    <tr>\n",
       "      <th>96</th>\n",
       "      <td>16867</td>\n",
       "    </tr>\n",
       "    <tr>\n",
       "      <th>97</th>\n",
       "      <td>13281</td>\n",
       "    </tr>\n",
       "    <tr>\n",
       "      <th>98</th>\n",
       "      <td>13498</td>\n",
       "    </tr>\n",
       "    <tr>\n",
       "      <th>99</th>\n",
       "      <td>15057</td>\n",
       "    </tr>\n",
       "  </tbody>\n",
       "</table>\n",
       "<p>300 rows × 1 columns</p>\n",
       "</div>"
      ],
      "text/plain": [
       "    bigcolumn\n",
       "0           4\n",
       "1           1\n",
       "2           1\n",
       "3           4\n",
       "4           3\n",
       "..        ...\n",
       "95      23878\n",
       "96      16867\n",
       "97      13281\n",
       "98      13498\n",
       "99      15057\n",
       "\n",
       "[300 rows x 1 columns]"
      ]
     },
     "execution_count": 47,
     "metadata": {},
     "output_type": "execute_result"
    }
   ],
   "source": [
    "bigcolumn"
   ]
  },
  {
   "cell_type": "markdown",
   "metadata": {
    "id": "MKxE5QMMNe1h"
   },
   "source": [
    "Step 6. Reindex the DataFrame so it goes from 0 to 299"
   ]
  },
  {
   "cell_type": "code",
   "execution_count": 48,
   "metadata": {
    "id": "LhDUUeIXNjNJ"
   },
   "outputs": [
    {
     "name": "stdout",
     "output_type": "stream",
     "text": [
      "    bigcolumn\n",
      "0           4\n",
      "1           1\n",
      "2           1\n",
      "3           4\n",
      "4           3\n",
      "5           1\n",
      "6           2\n",
      "7           2\n",
      "8           4\n",
      "9           4\n",
      "10          4\n",
      "11          2\n",
      "12          3\n",
      "13          1\n",
      "14          1\n",
      "     bigcolumn\n",
      "285      15028\n",
      "286      17142\n",
      "287      17337\n",
      "288      24246\n",
      "289      18363\n",
      "290      25574\n",
      "291      23964\n",
      "292      10236\n",
      "293      23768\n",
      "294      12961\n",
      "295      23878\n",
      "296      16867\n",
      "297      13281\n",
      "298      13498\n",
      "299      15057\n",
      "(300, 1)\n"
     ]
    }
   ],
   "source": [
    "bigcolumn.reset_index(drop=True, inplace=True)\n",
    "print(bigcolumn.head(15))\n",
    "print(bigcolumn.tail(15))\n",
    "print(bigcolumn.shape)"
   ]
  },
  {
   "cell_type": "markdown",
   "metadata": {
    "id": "yKVgffhUNvcp"
   },
   "source": [
    "### ***TA-DA. That's it. THE END!***"
   ]
  },
  {
   "cell_type": "code",
   "execution_count": null,
   "metadata": {},
   "outputs": [],
   "source": []
  },
  {
   "cell_type": "code",
   "execution_count": null,
   "metadata": {},
   "outputs": [],
   "source": []
  }
 ],
 "metadata": {
  "colab": {
   "provenance": [],
   "toc_visible": true
  },
  "kernelspec": {
   "display_name": "Python 3 (ipykernel)",
   "language": "python",
   "name": "python3"
  },
  "language_info": {
   "codemirror_mode": {
    "name": "ipython",
    "version": 3
   },
   "file_extension": ".py",
   "mimetype": "text/x-python",
   "name": "python",
   "nbconvert_exporter": "python",
   "pygments_lexer": "ipython3",
   "version": "3.9.7"
  }
 },
 "nbformat": 4,
 "nbformat_minor": 1
}
